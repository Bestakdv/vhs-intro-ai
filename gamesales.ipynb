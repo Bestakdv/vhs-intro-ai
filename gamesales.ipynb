{
 "cells": [
  {
   "cell_type": "code",
   "execution_count": 1,
   "id": "01eaed56",
   "metadata": {
    "_cell_guid": "b1076dfc-b9ad-4769-8c92-a6c4dae69d19",
    "_uuid": "8f2839f25d086af736a60e9eeb907d3b93b6e0e5",
    "execution": {
     "iopub.execute_input": "2024-11-13T19:06:05.253280Z",
     "iopub.status.busy": "2024-11-13T19:06:05.252882Z",
     "iopub.status.idle": "2024-11-13T19:06:05.983647Z",
     "shell.execute_reply": "2024-11-13T19:06:05.982168Z"
    },
    "papermill": {
     "duration": 0.740975,
     "end_time": "2024-11-13T19:06:05.986834",
     "exception": false,
     "start_time": "2024-11-13T19:06:05.245859",
     "status": "completed"
    },
    "tags": []
   },
   "outputs": [
    {
     "name": "stdout",
     "output_type": "stream",
     "text": [
      "/kaggle/input/videogamesales/vgsales.csv\n"
     ]
    }
   ],
   "source": [
    "# This Python 3 environment comes with many helpful analytics libraries installed\n",
    "# It is defined by the kaggle/python Docker image: https://github.com/kaggle/docker-python\n",
    "# For example, here's several helpful packages to load\n",
    "\n",
    "import numpy as np # linear algebra\n",
    "import pandas as pd # data processing, CSV file I/O (e.g. pd.read_csv)\n",
    "\n",
    "# Input data files are available in the read-only \"../input/\" directory\n",
    "# For example, running this (by clicking run or pressing Shift+Enter) will list all files under the input directory\n",
    "\n",
    "import os\n",
    "for dirname, _, filenames in os.walk('/kaggle/input'):\n",
    "    for filename in filenames:\n",
    "        print(os.path.join(dirname, filename))\n",
    "\n",
    "# You can write up to 20GB to the current directory (/kaggle/working/) that gets preserved as output when you create a version using \"Save & Run All\" \n",
    "# You can also write temporary files to /kaggle/temp/, but they won't be saved outside of the current session"
   ]
  },
  {
   "cell_type": "code",
   "execution_count": 2,
   "id": "dc1aa7c6",
   "metadata": {
    "execution": {
     "iopub.execute_input": "2024-11-13T19:06:06.001575Z",
     "iopub.status.busy": "2024-11-13T19:06:06.000531Z",
     "iopub.status.idle": "2024-11-13T19:06:06.077251Z",
     "shell.execute_reply": "2024-11-13T19:06:06.075931Z"
    },
    "papermill": {
     "duration": 0.086945,
     "end_time": "2024-11-13T19:06:06.079788",
     "exception": false,
     "start_time": "2024-11-13T19:06:05.992843",
     "status": "completed"
    },
    "tags": []
   },
   "outputs": [
    {
     "data": {
      "text/plain": [
       "Index(['Name', 'Platform', 'Year', 'Genre', 'Publisher', 'NA_Sales',\n",
       "       'EU_Sales', 'JP_Sales', 'Other_Sales', 'Global_Sales'],\n",
       "      dtype='object')"
      ]
     },
     "execution_count": 2,
     "metadata": {},
     "output_type": "execute_result"
    }
   ],
   "source": [
    "game_file_path = '/kaggle/input/videogamesales/vgsales.csv'\n",
    "features_data = pd.read_csv(game_file_path, index_col='Rank')\n",
    "features_data.columns"
   ]
  },
  {
   "cell_type": "code",
   "execution_count": 3,
   "id": "796b33be",
   "metadata": {
    "execution": {
     "iopub.execute_input": "2024-11-13T19:06:06.092502Z",
     "iopub.status.busy": "2024-11-13T19:06:06.092065Z",
     "iopub.status.idle": "2024-11-13T19:06:06.099376Z",
     "shell.execute_reply": "2024-11-13T19:06:06.098380Z"
    },
    "papermill": {
     "duration": 0.01612,
     "end_time": "2024-11-13T19:06:06.101582",
     "exception": false,
     "start_time": "2024-11-13T19:06:06.085462",
     "status": "completed"
    },
    "tags": []
   },
   "outputs": [
    {
     "data": {
      "text/plain": [
       "(16598, 10)"
      ]
     },
     "execution_count": 3,
     "metadata": {},
     "output_type": "execute_result"
    }
   ],
   "source": [
    "features_data.shape"
   ]
  },
  {
   "cell_type": "code",
   "execution_count": 4,
   "id": "3ad9a61c",
   "metadata": {
    "execution": {
     "iopub.execute_input": "2024-11-13T19:06:06.114726Z",
     "iopub.status.busy": "2024-11-13T19:06:06.114091Z",
     "iopub.status.idle": "2024-11-13T19:06:06.135048Z",
     "shell.execute_reply": "2024-11-13T19:06:06.133839Z"
    },
    "papermill": {
     "duration": 0.030525,
     "end_time": "2024-11-13T19:06:06.137585",
     "exception": false,
     "start_time": "2024-11-13T19:06:06.107060",
     "status": "completed"
    },
    "tags": []
   },
   "outputs": [
    {
     "data": {
      "text/html": [
       "<div>\n",
       "<style scoped>\n",
       "    .dataframe tbody tr th:only-of-type {\n",
       "        vertical-align: middle;\n",
       "    }\n",
       "\n",
       "    .dataframe tbody tr th {\n",
       "        vertical-align: top;\n",
       "    }\n",
       "\n",
       "    .dataframe thead th {\n",
       "        text-align: right;\n",
       "    }\n",
       "</style>\n",
       "<table border=\"1\" class=\"dataframe\">\n",
       "  <thead>\n",
       "    <tr style=\"text-align: right;\">\n",
       "      <th></th>\n",
       "      <th>Name</th>\n",
       "      <th>Platform</th>\n",
       "      <th>Year</th>\n",
       "      <th>Genre</th>\n",
       "      <th>Publisher</th>\n",
       "      <th>NA_Sales</th>\n",
       "      <th>EU_Sales</th>\n",
       "      <th>JP_Sales</th>\n",
       "      <th>Other_Sales</th>\n",
       "      <th>Global_Sales</th>\n",
       "    </tr>\n",
       "    <tr>\n",
       "      <th>Rank</th>\n",
       "      <th></th>\n",
       "      <th></th>\n",
       "      <th></th>\n",
       "      <th></th>\n",
       "      <th></th>\n",
       "      <th></th>\n",
       "      <th></th>\n",
       "      <th></th>\n",
       "      <th></th>\n",
       "      <th></th>\n",
       "    </tr>\n",
       "  </thead>\n",
       "  <tbody>\n",
       "    <tr>\n",
       "      <th>1</th>\n",
       "      <td>Wii Sports</td>\n",
       "      <td>Wii</td>\n",
       "      <td>2006.0</td>\n",
       "      <td>Sports</td>\n",
       "      <td>Nintendo</td>\n",
       "      <td>41.49</td>\n",
       "      <td>29.02</td>\n",
       "      <td>3.77</td>\n",
       "      <td>8.46</td>\n",
       "      <td>82.74</td>\n",
       "    </tr>\n",
       "    <tr>\n",
       "      <th>2</th>\n",
       "      <td>Super Mario Bros.</td>\n",
       "      <td>NES</td>\n",
       "      <td>1985.0</td>\n",
       "      <td>Platform</td>\n",
       "      <td>Nintendo</td>\n",
       "      <td>29.08</td>\n",
       "      <td>3.58</td>\n",
       "      <td>6.81</td>\n",
       "      <td>0.77</td>\n",
       "      <td>40.24</td>\n",
       "    </tr>\n",
       "    <tr>\n",
       "      <th>3</th>\n",
       "      <td>Mario Kart Wii</td>\n",
       "      <td>Wii</td>\n",
       "      <td>2008.0</td>\n",
       "      <td>Racing</td>\n",
       "      <td>Nintendo</td>\n",
       "      <td>15.85</td>\n",
       "      <td>12.88</td>\n",
       "      <td>3.79</td>\n",
       "      <td>3.31</td>\n",
       "      <td>35.82</td>\n",
       "    </tr>\n",
       "    <tr>\n",
       "      <th>4</th>\n",
       "      <td>Wii Sports Resort</td>\n",
       "      <td>Wii</td>\n",
       "      <td>2009.0</td>\n",
       "      <td>Sports</td>\n",
       "      <td>Nintendo</td>\n",
       "      <td>15.75</td>\n",
       "      <td>11.01</td>\n",
       "      <td>3.28</td>\n",
       "      <td>2.96</td>\n",
       "      <td>33.00</td>\n",
       "    </tr>\n",
       "    <tr>\n",
       "      <th>5</th>\n",
       "      <td>Pokemon Red/Pokemon Blue</td>\n",
       "      <td>GB</td>\n",
       "      <td>1996.0</td>\n",
       "      <td>Role-Playing</td>\n",
       "      <td>Nintendo</td>\n",
       "      <td>11.27</td>\n",
       "      <td>8.89</td>\n",
       "      <td>10.22</td>\n",
       "      <td>1.00</td>\n",
       "      <td>31.37</td>\n",
       "    </tr>\n",
       "  </tbody>\n",
       "</table>\n",
       "</div>"
      ],
      "text/plain": [
       "                          Name Platform    Year         Genre Publisher  \\\n",
       "Rank                                                                      \n",
       "1                   Wii Sports      Wii  2006.0        Sports  Nintendo   \n",
       "2            Super Mario Bros.      NES  1985.0      Platform  Nintendo   \n",
       "3               Mario Kart Wii      Wii  2008.0        Racing  Nintendo   \n",
       "4            Wii Sports Resort      Wii  2009.0        Sports  Nintendo   \n",
       "5     Pokemon Red/Pokemon Blue       GB  1996.0  Role-Playing  Nintendo   \n",
       "\n",
       "      NA_Sales  EU_Sales  JP_Sales  Other_Sales  Global_Sales  \n",
       "Rank                                                           \n",
       "1        41.49     29.02      3.77         8.46         82.74  \n",
       "2        29.08      3.58      6.81         0.77         40.24  \n",
       "3        15.85     12.88      3.79         3.31         35.82  \n",
       "4        15.75     11.01      3.28         2.96         33.00  \n",
       "5        11.27      8.89     10.22         1.00         31.37  "
      ]
     },
     "execution_count": 4,
     "metadata": {},
     "output_type": "execute_result"
    }
   ],
   "source": [
    "features_data.head()"
   ]
  },
  {
   "cell_type": "code",
   "execution_count": 5,
   "id": "321581fb",
   "metadata": {
    "execution": {
     "iopub.execute_input": "2024-11-13T19:06:06.150829Z",
     "iopub.status.busy": "2024-11-13T19:06:06.150454Z",
     "iopub.status.idle": "2024-11-13T19:06:06.155242Z",
     "shell.execute_reply": "2024-11-13T19:06:06.154209Z"
    },
    "papermill": {
     "duration": 0.014142,
     "end_time": "2024-11-13T19:06:06.157558",
     "exception": false,
     "start_time": "2024-11-13T19:06:06.143416",
     "status": "completed"
    },
    "tags": []
   },
   "outputs": [],
   "source": [
    "y = features_data.Global_Sales"
   ]
  },
  {
   "cell_type": "code",
   "execution_count": 6,
   "id": "766b5c35",
   "metadata": {
    "execution": {
     "iopub.execute_input": "2024-11-13T19:06:06.171518Z",
     "iopub.status.busy": "2024-11-13T19:06:06.171172Z",
     "iopub.status.idle": "2024-11-13T19:06:06.179124Z",
     "shell.execute_reply": "2024-11-13T19:06:06.178050Z"
    },
    "papermill": {
     "duration": 0.018144,
     "end_time": "2024-11-13T19:06:06.181423",
     "exception": false,
     "start_time": "2024-11-13T19:06:06.163279",
     "status": "completed"
    },
    "tags": []
   },
   "outputs": [],
   "source": [
    "features_data.drop('Name', axis=1, inplace=True)"
   ]
  },
  {
   "cell_type": "code",
   "execution_count": 7,
   "id": "46197dcb",
   "metadata": {
    "execution": {
     "iopub.execute_input": "2024-11-13T19:06:06.194573Z",
     "iopub.status.busy": "2024-11-13T19:06:06.194210Z",
     "iopub.status.idle": "2024-11-13T19:06:06.204684Z",
     "shell.execute_reply": "2024-11-13T19:06:06.203601Z"
    },
    "papermill": {
     "duration": 0.019719,
     "end_time": "2024-11-13T19:06:06.206937",
     "exception": false,
     "start_time": "2024-11-13T19:06:06.187218",
     "status": "completed"
    },
    "tags": []
   },
   "outputs": [
    {
     "name": "stdout",
     "output_type": "stream",
     "text": [
      "(16598, 9)\n",
      "Platform          0\n",
      "Year            271\n",
      "Genre             0\n",
      "Publisher        58\n",
      "NA_Sales          0\n",
      "EU_Sales          0\n",
      "JP_Sales          0\n",
      "Other_Sales       0\n",
      "Global_Sales      0\n",
      "dtype: int64\n",
      "Platform        0.000000\n",
      "Year            1.632727\n",
      "Genre           0.000000\n",
      "Publisher       0.349440\n",
      "NA_Sales        0.000000\n",
      "EU_Sales        0.000000\n",
      "JP_Sales        0.000000\n",
      "Other_Sales     0.000000\n",
      "Global_Sales    0.000000\n",
      "dtype: float64\n"
     ]
    }
   ],
   "source": [
    "## Shape of training data (num_rows, num_columns)\n",
    "print(features_data.shape)\n",
    "\n",
    "# Number of missing values in each column of training data\n",
    "missing_val_count_by_column = (features_data.isnull().sum())\n",
    "print(missing_val_count_by_column)\n",
    "print(100 * missing_val_count_by_column/features_data.shape[0])"
   ]
  },
  {
   "cell_type": "code",
   "execution_count": 8,
   "id": "6d69b4ac",
   "metadata": {
    "execution": {
     "iopub.execute_input": "2024-11-13T19:06:06.220234Z",
     "iopub.status.busy": "2024-11-13T19:06:06.219540Z",
     "iopub.status.idle": "2024-11-13T19:06:06.233529Z",
     "shell.execute_reply": "2024-11-13T19:06:06.232541Z"
    },
    "papermill": {
     "duration": 0.023117,
     "end_time": "2024-11-13T19:06:06.235824",
     "exception": false,
     "start_time": "2024-11-13T19:06:06.212707",
     "status": "completed"
    },
    "tags": []
   },
   "outputs": [],
   "source": [
    "features_data.dropna(subset=['Year'], inplace=True)\n",
    "features_data.dropna(subset=['Publisher'], inplace=True)"
   ]
  },
  {
   "cell_type": "code",
   "execution_count": 9,
   "id": "9fa94a6b",
   "metadata": {
    "execution": {
     "iopub.execute_input": "2024-11-13T19:06:06.249783Z",
     "iopub.status.busy": "2024-11-13T19:06:06.249311Z",
     "iopub.status.idle": "2024-11-13T19:06:06.255765Z",
     "shell.execute_reply": "2024-11-13T19:06:06.254711Z"
    },
    "papermill": {
     "duration": 0.016282,
     "end_time": "2024-11-13T19:06:06.258191",
     "exception": false,
     "start_time": "2024-11-13T19:06:06.241909",
     "status": "completed"
    },
    "tags": []
   },
   "outputs": [
    {
     "name": "stdout",
     "output_type": "stream",
     "text": [
      "Categorical variables:\n",
      "['Platform', 'Genre', 'Publisher']\n"
     ]
    }
   ],
   "source": [
    "# Get list of categorical variables\n",
    "s = (features_data.dtypes == 'object')\n",
    "object_cols = list(s[s].index)\n",
    "\n",
    "print(\"Categorical variables:\")\n",
    "print(object_cols)"
   ]
  },
  {
   "cell_type": "code",
   "execution_count": 10,
   "id": "a3f4d355",
   "metadata": {
    "execution": {
     "iopub.execute_input": "2024-11-13T19:06:06.271543Z",
     "iopub.status.busy": "2024-11-13T19:06:06.271121Z",
     "iopub.status.idle": "2024-11-13T19:06:06.284448Z",
     "shell.execute_reply": "2024-11-13T19:06:06.283248Z"
    },
    "papermill": {
     "duration": 0.02358,
     "end_time": "2024-11-13T19:06:06.287525",
     "exception": false,
     "start_time": "2024-11-13T19:06:06.263945",
     "status": "completed"
    },
    "tags": []
   },
   "outputs": [
    {
     "name": "stdout",
     "output_type": "stream",
     "text": [
      "['Wii' 'NES' 'GB' 'DS' 'X360' 'PS3' 'PS2' 'SNES' 'GBA' '3DS' 'PS4' 'N64'\n",
      " 'PS' 'XB' 'PC' '2600' 'PSP' 'XOne' 'GC' 'WiiU' 'GEN' 'DC' 'PSV' 'SAT'\n",
      " 'SCD' 'WS' 'NG' 'TG16' '3DO' 'GG' 'PCFX']\n",
      "\n",
      "['Sports' 'Platform' 'Racing' 'Role-Playing' 'Puzzle' 'Misc' 'Shooter'\n",
      " 'Simulation' 'Action' 'Fighting' 'Adventure' 'Strategy']\n",
      "\n",
      "['Nintendo' 'Microsoft Game Studios' 'Take-Two Interactive'\n",
      " 'Sony Computer Entertainment' 'Activision' 'Ubisoft' 'Bethesda Softworks'\n",
      " 'Electronic Arts' 'Sega' 'SquareSoft' 'Atari' '505 Games' 'Capcom'\n",
      " 'GT Interactive' 'Konami Digital Entertainment'\n",
      " 'Sony Computer Entertainment Europe' 'Square Enix' 'LucasArts'\n",
      " 'Virgin Interactive' 'Warner Bros. Interactive Entertainment'\n",
      " 'Universal Interactive' 'Eidos Interactive' 'RedOctane' 'Vivendi Games'\n",
      " 'Enix Corporation' 'Namco Bandai Games' 'Palcom' 'Hasbro Interactive'\n",
      " 'THQ' 'Fox Interactive' 'Acclaim Entertainment' 'MTV Games'\n",
      " 'Disney Interactive Studios' 'Majesco Entertainment' 'Codemasters'\n",
      " 'Red Orb' 'Level 5' 'Arena Entertainment' 'Midway Games' 'JVC'\n",
      " 'Deep Silver' '989 Studios' 'NCSoft' 'UEP Systems' 'Parker Bros.' 'Maxis'\n",
      " 'Imagic' 'Tecmo Koei' 'Valve Software' 'ASCII Entertainment' 'Mindscape'\n",
      " 'Infogrames' 'Unknown' 'Square' 'Valve' 'Activision Value' 'Banpresto'\n",
      " 'D3Publisher' 'Oxygen Interactive' 'Red Storm Entertainment'\n",
      " 'Video System' 'Hello Games' 'Global Star' 'Gotham Games'\n",
      " 'Westwood Studios' 'GungHo' 'Crave Entertainment' 'Hudson Soft' 'Coleco'\n",
      " 'Rising Star Games' 'Atlus' 'TDK Mediactive' 'ASC Games' 'Zoo Games'\n",
      " 'Accolade' 'Sony Online Entertainment' '3DO' 'RTL' 'Natsume'\n",
      " 'Focus Home Interactive' 'Alchemist' 'Black Label Games'\n",
      " 'SouthPeak Games' 'Mastertronic' 'Ocean' 'Zoo Digital Publishing'\n",
      " 'Psygnosis' 'City Interactive' 'Empire Interactive' 'Success' 'Compile'\n",
      " 'Russel' 'Taito' 'Agetec' 'GSP' 'Microprose' 'Play It'\n",
      " 'Slightly Mad Studios' 'Tomy Corporation' 'Sammy Corporation'\n",
      " 'Koch Media' 'Game Factory' 'Titus' 'Marvelous Entertainment' 'Genki'\n",
      " 'Mojang' 'Pinnacle' 'CTO SpA' 'TalonSoft' 'Crystal Dynamics' 'SCi'\n",
      " 'Quelle' 'mixi, Inc' 'Rage Software' 'Ubisoft Annecy' 'Scholastic Inc.'\n",
      " 'Interplay' 'Mystique' 'ChunSoft' 'Square EA'\n",
      " '20th Century Fox Video Games' 'Avanquest Software'\n",
      " 'Hudson Entertainment' 'Nordic Games' 'Men-A-Vision' 'Nobilis'\n",
      " 'Big Ben Interactive' 'Touchstone' 'Spike' 'Jester Interactive'\n",
      " 'Nippon Ichi Software' 'LEGO Media' 'Quest' 'Illusion Softworks'\n",
      " 'Tigervision' 'Funbox Media' 'Rocket Company' 'Metro 3D'\n",
      " 'Mattel Interactive' 'IE Institute' 'Rondomedia'\n",
      " 'Sony Computer Entertainment America' 'Universal Gamex' 'Ghostlight'\n",
      " 'Wizard Video Games' 'BMG Interactive Entertainment' 'PQube'\n",
      " 'Trion Worlds' 'Laguna' 'Ignition Entertainment' 'Takara'\n",
      " 'Kadokawa Shoten' 'Destineer' 'Enterbrain' 'Xseed Games' 'Imagineer'\n",
      " 'System 3 Arcade Software' 'CPG Products' 'Aruze Corp' 'Gamebridge'\n",
      " 'Midas Interactive Entertainment' 'Jaleco' 'Answer Software' 'XS Games'\n",
      " 'Activision Blizzard' 'Pack In Soft' 'Rebellion' 'Xplosiv'\n",
      " 'GameMill Entertainment' 'Wanadoo' 'NovaLogic' 'Telltale Games' 'Epoch'\n",
      " 'BAM! Entertainment' 'Knowledge Adventure' 'Mastiff' 'Tetris Online'\n",
      " 'Harmonix Music Systems' 'ESP' 'TYO' 'Telegames' 'Mud Duck Productions'\n",
      " 'Screenlife' 'Pioneer LDC' 'Magical Company' 'Mentor Interactive' 'Kemco'\n",
      " 'Human Entertainment' 'Avanquest' 'Data Age' 'Electronic Arts Victor'\n",
      " 'Black Bean Games' 'Jack of All Games' '989 Sports' 'Takara Tomy'\n",
      " 'Media Rings' 'Elf' 'Starfish' 'Zushi Games' 'Jorudan'\n",
      " 'Destination Software, Inc' 'New' 'Brash Entertainment'\n",
      " 'ITT Family Games' 'PopCap Games' 'Home Entertainment Suppliers'\n",
      " 'Ackkstudios' 'Starpath Corp.' 'P2 Games' 'BPS' 'Gathering of Developers'\n",
      " 'NewKidCo' 'Storm City Games' 'CokeM Interactive' 'CBS Electronics'\n",
      " 'Magix' 'Marvelous Interactive' 'Kalypso Media'\n",
      " 'Nihon Falcom Corporation' 'Wargaming.net' 'Angel Studios'\n",
      " 'Arc System Works' 'Playmates' 'SNK Playmore' 'Hamster Corporation'\n",
      " 'From Software' 'Nippon Columbia' 'Nichibutsu' 'Little Orbit'\n",
      " 'Conspiracy Entertainment' 'DTP Entertainment' 'Hect' 'Mumbo Jumbo'\n",
      " 'Pacific Century Cyber Works' 'Indie Games' 'Liquid Games' 'NEC' 'Axela'\n",
      " 'ArtDink' 'Sunsoft' 'Gust' 'SNK' 'NEC Interchannel' 'FuRyu'\n",
      " 'Xing Entertainment' 'ValuSoft' 'Victor Interactive' 'Detn8 Games'\n",
      " 'American Softworks' 'Nordcurrent' 'Bomb' 'Falcom Corporation'\n",
      " 'AQ Interactive' 'CCP' 'Milestone S.r.l.' 'JoWood Productions'\n",
      " 'Seta Corporation' 'On Demand' 'NCS' 'Aspyr' 'Gremlin Interactive Ltd'\n",
      " 'Agatsuma Entertainment' 'Compile Heart' 'Culture Brain' 'Mad Catz'\n",
      " 'Shogakukan' 'Merscom LLC' 'Rebellion Developments' 'Nippon Telenet'\n",
      " 'TDK Core' 'bitComposer Games' 'Foreign Media Games' 'Astragon' 'SSI'\n",
      " 'Kadokawa Games' 'Idea Factory' 'Performance Designed Products'\n",
      " 'Asylum Entertainment' 'Core Design Ltd.' 'PlayV' 'UFO Interactive'\n",
      " 'Idea Factory International' 'Playlogic Game Factory' 'Essential Games'\n",
      " 'Adeline Software' 'Funcom' 'Panther Software' 'Blast! Entertainment Ltd'\n",
      " 'Game Life' 'DSI Games' 'Avalon Interactive' 'Popcorn Arcade'\n",
      " 'Neko Entertainment' 'Vir2L Studios' 'Aques' 'Syscom'\n",
      " 'White Park Bay Software' 'System 3' 'Vatical Entertainment' 'Daedalic'\n",
      " 'EA Games' 'Media Factory' 'Vic Tokai' 'The Adventure Company'\n",
      " 'Game Arts' 'Broccoli' 'Acquire' 'General Entertainment'\n",
      " 'Excalibur Publishing' 'Imadio' 'Swing! Entertainment'\n",
      " 'Sony Music Entertainment' 'Aqua Plus' 'Paradox Interactive'\n",
      " 'Hip Interactive' 'DreamCatcher Interactive' 'Tripwire Interactive'\n",
      " 'Sting' 'Yacht Club Games' 'SCS Software' 'Bigben Interactive'\n",
      " 'Havas Interactive' 'Slitherine Software' 'Graffiti' 'Funsta' 'Telstar'\n",
      " 'U.S. Gold' 'DreamWorks Interactive' 'Data Design Interactive' 'MTO'\n",
      " 'DHM Interactive' 'FunSoft' 'SPS' 'Bohemia Interactive'\n",
      " 'Reef Entertainment' 'Tru Blu Entertainment' 'Moss' 'T&E Soft' 'O-Games'\n",
      " 'Aksys Games' 'NDA Productions' 'Data East' 'Time Warner Interactive'\n",
      " 'Gainax Network Systems' 'Daito' 'O3 Entertainment' 'Gameloft'\n",
      " 'Xicat Interactive' 'Simon & Schuster Interactive' 'Valcon Games'\n",
      " 'PopTop Software' 'TOHO' 'HMH Interactive' '5pb' 'Cave'\n",
      " 'CDV Software Entertainment' 'Microids' 'PM Studios' 'Paon' 'Micro Cabin'\n",
      " 'GameTek' 'Benesse' 'Type-Moon' 'Enjoy Gaming ltd.' 'Asmik Corp'\n",
      " 'Interplay Productions' 'Asmik Ace Entertainment' 'inXile Entertainment'\n",
      " 'Image Epoch' 'Phantom EFX' 'Evolved Games' 'responDESIGN'\n",
      " 'Culture Publishers' 'Griffin International' 'Hackberry' 'Hearty Robin'\n",
      " 'Nippon Amuse' 'Origin Systems' 'Seventh Chord' 'Mitsui' 'Milestone'\n",
      " 'Abylight' 'Flight-Plan' 'Glams' 'Locus' 'Warp' 'Daedalic Entertainment'\n",
      " 'Alternative Software' 'Myelin Media' 'Mercury Games'\n",
      " 'Irem Software Engineering' 'Sunrise Interactive' 'Elite'\n",
      " 'Evolution Games' 'Tivola' 'Global A Entertainment' 'Edia' 'Athena'\n",
      " 'Aria' 'Gamecock' 'Tommo' 'Altron' 'Happinet' 'iWin' 'Media Works'\n",
      " 'Fortyfive' 'Revolution Software' 'Imax' 'Crimson Cow' '10TACLE Studios'\n",
      " 'Groove Games' 'Pack-In-Video' 'Insomniac Games'\n",
      " 'Ascaron Entertainment GmbH' 'Asgard' 'Ecole' 'Yumedia' 'Phenomedia'\n",
      " 'HAL Laboratory' 'Grand Prix Games' 'DigiCube' 'Creative Core'\n",
      " 'Kaga Create' 'WayForward Technologies' 'LSP Games' 'ASCII Media Works'\n",
      " 'Coconuts Japan' 'Arika' 'Ertain' 'Marvel Entertainment' 'Prototype'\n",
      " 'Phantagram' '1C Company' 'The Learning Company' 'TechnoSoft' 'Vap'\n",
      " 'Misawa' 'Tradewest' 'Team17 Software' 'Yeti' 'Pow' 'Navarre Corp'\n",
      " 'MediaQuest' 'Max Five' 'Comfort' 'Monte Christo Multimedia'\n",
      " 'Pony Canyon' 'Riverhillsoft' 'Summitsoft' 'Milestone S.r.l' 'Playmore'\n",
      " 'MLB.com' 'Kool Kizz' 'Flashpoint Games' '49Games' 'Legacy Interactive'\n",
      " 'Alawar Entertainment' 'CyberFront' 'Cloud Imperium Games Corporation'\n",
      " 'Societa' 'Virtual Play Games' 'Interchannel' 'Sonnet' 'Experience Inc.'\n",
      " 'Zenrin' 'Iceberg Interactive' 'Ivolgamus' '2D Boy' 'MC2 Entertainment'\n",
      " 'Kando Games' 'Just Flight' 'Office Create' 'Mamba Games' 'Fields'\n",
      " 'Princess Soft' 'Maximum Family Games' 'Berkeley' 'Fuji'\n",
      " 'Dusenberry Martin Racing' 'imageepoch Inc.' 'Big Fish Games'\n",
      " 'Her Interactive' 'Kamui' 'ASK' 'TopWare Interactive' 'Headup Games'\n",
      " 'KSS' 'Cygames' 'KID' 'Quinrose' 'Sunflowers' 'dramatic create' 'TGL'\n",
      " 'Encore' 'Extreme Entertainment Group' 'Intergrow' 'G.Rev' 'Sweets'\n",
      " 'Kokopeli Digital Studios' 'Number None' 'Nexon' 'id Software'\n",
      " 'BushiRoad' 'Tryfirst' 'Strategy First' '7G//AMES' 'GN Software' \"Yuke's\"\n",
      " 'Easy Interactive' 'Licensed 4U' 'FuRyu Corporation'\n",
      " 'Lexicon Entertainment' 'Paon Corporation' 'Kids Station' 'GOA'\n",
      " 'Graphsim Entertainment' 'King Records' 'Introversion Software'\n",
      " 'Minato Station' 'Devolver Digital' 'Blue Byte' 'Gaga'\n",
      " 'Yamasa Entertainment' 'Plenty' 'Views' 'fonfun' 'NetRevo'\n",
      " 'Codemasters Online' 'Quintet' 'Phoenix Games' 'Dorart' 'Marvelous Games'\n",
      " 'Focus Multimedia' 'Imageworks' 'Karin Entertainment' 'Aerosoft'\n",
      " 'Technos Japan Corporation' 'Gakken' 'Mirai Shounen' 'Datam Polystar'\n",
      " 'Saurus' 'HuneX' 'Revolution (Japan)' 'Giza10' 'Visco' 'Alvion' 'Mycom'\n",
      " 'Giga' 'Warashi' 'System Soft' 'Sold Out' 'Lighthouse Interactive'\n",
      " 'Masque Publishing' 'RED Entertainment' 'Michaelsoft'\n",
      " 'Media Entertainment' 'New World Computing' 'Genterprise'\n",
      " 'Interworks Unlimited, Inc.' 'Boost On' 'Stainless Games'\n",
      " 'EON Digital Entertainment' 'Epic Games' 'Naxat Soft'\n",
      " 'Ascaron Entertainment' 'Piacci' 'Nitroplus' 'Paradox Development'\n",
      " 'Otomate' 'Ongakukan' 'Commseed' 'Inti Creates' 'Takuyo'\n",
      " 'Interchannel-Holon' 'Rain Games' 'UIG Entertainment']\n"
     ]
    }
   ],
   "source": [
    "print(features_data.Platform.unique())\n",
    "print(\"\")\n",
    "print(features_data.Genre.unique())\n",
    "print(\"\")\n",
    "print(features_data.Publisher.unique())"
   ]
  },
  {
   "cell_type": "code",
   "execution_count": 11,
   "id": "b0641334",
   "metadata": {
    "execution": {
     "iopub.execute_input": "2024-11-13T19:06:06.301797Z",
     "iopub.status.busy": "2024-11-13T19:06:06.301425Z",
     "iopub.status.idle": "2024-11-13T19:06:07.332870Z",
     "shell.execute_reply": "2024-11-13T19:06:07.331992Z"
    },
    "papermill": {
     "duration": 1.041445,
     "end_time": "2024-11-13T19:06:07.335277",
     "exception": false,
     "start_time": "2024-11-13T19:06:06.293832",
     "status": "completed"
    },
    "tags": []
   },
   "outputs": [],
   "source": [
    "from sklearn.preprocessing import OrdinalEncoder\n",
    "\n",
    "# Make copy to avoid changing original data \n",
    "label_features_data = features_data.copy()\n",
    "\n",
    "# Apply ordinal encoder to each column with categorical data\n",
    "ordinal_encoder = OrdinalEncoder()\n",
    "label_features_data[object_cols] = ordinal_encoder.fit_transform(features_data[object_cols])"
   ]
  },
  {
   "cell_type": "code",
   "execution_count": 12,
   "id": "5f6a50c9",
   "metadata": {
    "execution": {
     "iopub.execute_input": "2024-11-13T19:06:07.348981Z",
     "iopub.status.busy": "2024-11-13T19:06:07.348494Z",
     "iopub.status.idle": "2024-11-13T19:06:07.355971Z",
     "shell.execute_reply": "2024-11-13T19:06:07.354702Z"
    },
    "papermill": {
     "duration": 0.018428,
     "end_time": "2024-11-13T19:06:07.359746",
     "exception": false,
     "start_time": "2024-11-13T19:06:07.341318",
     "status": "completed"
    },
    "tags": []
   },
   "outputs": [
    {
     "name": "stdout",
     "output_type": "stream",
     "text": [
      "Category to Label Mapping:\n",
      "[array(['2600', '3DO', '3DS', 'DC', 'DS', 'GB', 'GBA', 'GC', 'GEN', 'GG',\n",
      "       'N64', 'NES', 'NG', 'PC', 'PCFX', 'PS', 'PS2', 'PS3', 'PS4', 'PSP',\n",
      "       'PSV', 'SAT', 'SCD', 'SNES', 'TG16', 'WS', 'Wii', 'WiiU', 'X360',\n",
      "       'XB', 'XOne'], dtype=object), array(['Action', 'Adventure', 'Fighting', 'Misc', 'Platform', 'Puzzle',\n",
      "       'Racing', 'Role-Playing', 'Shooter', 'Simulation', 'Sports',\n",
      "       'Strategy'], dtype=object), array(['10TACLE Studios', '1C Company', '20th Century Fox Video Games',\n",
      "       '2D Boy', '3DO', '49Games', '505 Games', '5pb', '7G//AMES',\n",
      "       '989 Sports', '989 Studios', 'AQ Interactive', 'ASC Games',\n",
      "       'ASCII Entertainment', 'ASCII Media Works', 'ASK', 'Abylight',\n",
      "       'Acclaim Entertainment', 'Accolade', 'Ackkstudios', 'Acquire',\n",
      "       'Activision', 'Activision Blizzard', 'Activision Value',\n",
      "       'Adeline Software', 'Aerosoft', 'Agatsuma Entertainment', 'Agetec',\n",
      "       'Aksys Games', 'Alawar Entertainment', 'Alchemist',\n",
      "       'Alternative Software', 'Altron', 'Alvion', 'American Softworks',\n",
      "       'Angel Studios', 'Answer Software', 'Aqua Plus', 'Aques',\n",
      "       'Arc System Works', 'Arena Entertainment', 'Aria', 'Arika',\n",
      "       'ArtDink', 'Aruze Corp', 'Ascaron Entertainment',\n",
      "       'Ascaron Entertainment GmbH', 'Asgard', 'Asmik Ace Entertainment',\n",
      "       'Asmik Corp', 'Aspyr', 'Astragon', 'Asylum Entertainment', 'Atari',\n",
      "       'Athena', 'Atlus', 'Avalon Interactive', 'Avanquest',\n",
      "       'Avanquest Software', 'Axela', 'BAM! Entertainment',\n",
      "       'BMG Interactive Entertainment', 'BPS', 'Banpresto', 'Benesse',\n",
      "       'Berkeley', 'Bethesda Softworks', 'Big Ben Interactive',\n",
      "       'Big Fish Games', 'Bigben Interactive', 'Black Bean Games',\n",
      "       'Black Label Games', 'Blast! Entertainment Ltd', 'Blue Byte',\n",
      "       'Bohemia Interactive', 'Bomb', 'Boost On', 'Brash Entertainment',\n",
      "       'Broccoli', 'BushiRoad', 'CBS Electronics', 'CCP',\n",
      "       'CDV Software Entertainment', 'CPG Products', 'CTO SpA', 'Capcom',\n",
      "       'Cave', 'ChunSoft', 'City Interactive',\n",
      "       'Cloud Imperium Games Corporation', 'Coconuts Japan',\n",
      "       'Codemasters', 'Codemasters Online', 'CokeM Interactive', 'Coleco',\n",
      "       'Comfort', 'Commseed', 'Compile', 'Compile Heart',\n",
      "       'Conspiracy Entertainment', 'Core Design Ltd.',\n",
      "       'Crave Entertainment', 'Creative Core', 'Crimson Cow',\n",
      "       'Crystal Dynamics', 'Culture Brain', 'Culture Publishers',\n",
      "       'CyberFront', 'Cygames', 'D3Publisher', 'DHM Interactive',\n",
      "       'DSI Games', 'DTP Entertainment', 'Daedalic',\n",
      "       'Daedalic Entertainment', 'Daito', 'Data Age',\n",
      "       'Data Design Interactive', 'Data East', 'Datam Polystar',\n",
      "       'Deep Silver', 'Destination Software, Inc', 'Destineer',\n",
      "       'Detn8 Games', 'Devolver Digital', 'DigiCube',\n",
      "       'Disney Interactive Studios', 'Dorart', 'DreamCatcher Interactive',\n",
      "       'DreamWorks Interactive', 'Dusenberry Martin Racing', 'EA Games',\n",
      "       'EON Digital Entertainment', 'ESP', 'Easy Interactive', 'Ecole',\n",
      "       'Edia', 'Eidos Interactive', 'Electronic Arts',\n",
      "       'Electronic Arts Victor', 'Elf', 'Elite', 'Empire Interactive',\n",
      "       'Encore', 'Enix Corporation', 'Enjoy Gaming ltd.', 'Enterbrain',\n",
      "       'Epic Games', 'Epoch', 'Ertain', 'Essential Games',\n",
      "       'Evolution Games', 'Evolved Games', 'Excalibur Publishing',\n",
      "       'Experience Inc.', 'Extreme Entertainment Group',\n",
      "       'Falcom Corporation', 'Fields', 'Flashpoint Games', 'Flight-Plan',\n",
      "       'Focus Home Interactive', 'Focus Multimedia',\n",
      "       'Foreign Media Games', 'Fortyfive', 'Fox Interactive',\n",
      "       'From Software', 'FuRyu', 'FuRyu Corporation', 'Fuji', 'FunSoft',\n",
      "       'Funbox Media', 'Funcom', 'Funsta', 'G.Rev', 'GN Software', 'GOA',\n",
      "       'GSP', 'GT Interactive', 'Gaga', 'Gainax Network Systems',\n",
      "       'Gakken', 'Game Arts', 'Game Factory', 'Game Life',\n",
      "       'GameMill Entertainment', 'GameTek', 'Gamebridge', 'Gamecock',\n",
      "       'Gameloft', 'Gathering of Developers', 'General Entertainment',\n",
      "       'Genki', 'Genterprise', 'Ghostlight', 'Giga', 'Giza10', 'Glams',\n",
      "       'Global A Entertainment', 'Global Star', 'Gotham Games',\n",
      "       'Graffiti', 'Grand Prix Games', 'Graphsim Entertainment',\n",
      "       'Gremlin Interactive Ltd', 'Griffin International', 'Groove Games',\n",
      "       'GungHo', 'Gust', 'HAL Laboratory', 'HMH Interactive', 'Hackberry',\n",
      "       'Hamster Corporation', 'Happinet', 'Harmonix Music Systems',\n",
      "       'Hasbro Interactive', 'Havas Interactive', 'Headup Games',\n",
      "       'Hearty Robin', 'Hect', 'Hello Games', 'Her Interactive',\n",
      "       'Hip Interactive', 'Home Entertainment Suppliers',\n",
      "       'Hudson Entertainment', 'Hudson Soft', 'Human Entertainment',\n",
      "       'HuneX', 'IE Institute', 'ITT Family Games', 'Iceberg Interactive',\n",
      "       'Idea Factory', 'Idea Factory International',\n",
      "       'Ignition Entertainment', 'Illusion Softworks', 'Imadio',\n",
      "       'Image Epoch', 'Imageworks', 'Imagic', 'Imagineer', 'Imax',\n",
      "       'Indie Games', 'Infogrames', 'Insomniac Games', 'Interchannel',\n",
      "       'Interchannel-Holon', 'Intergrow', 'Interplay',\n",
      "       'Interplay Productions', 'Interworks Unlimited, Inc.',\n",
      "       'Inti Creates', 'Introversion Software',\n",
      "       'Irem Software Engineering', 'Ivolgamus', 'JVC',\n",
      "       'Jack of All Games', 'Jaleco', 'Jester Interactive',\n",
      "       'JoWood Productions', 'Jorudan', 'Just Flight', 'KID', 'KSS',\n",
      "       'Kadokawa Games', 'Kadokawa Shoten', 'Kaga Create',\n",
      "       'Kalypso Media', 'Kamui', 'Kando Games', 'Karin Entertainment',\n",
      "       'Kemco', 'Kids Station', 'King Records', 'Knowledge Adventure',\n",
      "       'Koch Media', 'Kokopeli Digital Studios',\n",
      "       'Konami Digital Entertainment', 'Kool Kizz', 'LEGO Media',\n",
      "       'LSP Games', 'Laguna', 'Legacy Interactive', 'Level 5',\n",
      "       'Lexicon Entertainment', 'Licensed 4U', 'Lighthouse Interactive',\n",
      "       'Liquid Games', 'Little Orbit', 'Locus', 'LucasArts',\n",
      "       'MC2 Entertainment', 'MLB.com', 'MTO', 'MTV Games', 'Mad Catz',\n",
      "       'Magical Company', 'Magix', 'Majesco Entertainment', 'Mamba Games',\n",
      "       'Marvel Entertainment', 'Marvelous Entertainment',\n",
      "       'Marvelous Games', 'Marvelous Interactive', 'Masque Publishing',\n",
      "       'Mastertronic', 'Mastiff', 'Mattel Interactive', 'Max Five',\n",
      "       'Maximum Family Games', 'Maxis', 'Media Entertainment',\n",
      "       'Media Factory', 'Media Rings', 'Media Works', 'MediaQuest',\n",
      "       'Men-A-Vision', 'Mentor Interactive', 'Mercury Games',\n",
      "       'Merscom LLC', 'Metro 3D', 'Michaelsoft', 'Micro Cabin',\n",
      "       'Microids', 'Microprose', 'Microsoft Game Studios',\n",
      "       'Midas Interactive Entertainment', 'Midway Games', 'Milestone',\n",
      "       'Milestone S.r.l', 'Milestone S.r.l.', 'Minato Station',\n",
      "       'Mindscape', 'Mirai Shounen', 'Misawa', 'Mitsui', 'Mojang',\n",
      "       'Monte Christo Multimedia', 'Moss', 'Mud Duck Productions',\n",
      "       'Mumbo Jumbo', 'Mycom', 'Myelin Media', 'Mystique', 'NCS',\n",
      "       'NCSoft', 'NDA Productions', 'NEC', 'NEC Interchannel',\n",
      "       'Namco Bandai Games', 'Natsume', 'Navarre Corp', 'Naxat Soft',\n",
      "       'Neko Entertainment', 'NetRevo', 'New', 'New World Computing',\n",
      "       'NewKidCo', 'Nexon', 'Nichibutsu', 'Nihon Falcom Corporation',\n",
      "       'Nintendo', 'Nippon Amuse', 'Nippon Columbia',\n",
      "       'Nippon Ichi Software', 'Nippon Telenet', 'Nitroplus', 'Nobilis',\n",
      "       'Nordcurrent', 'Nordic Games', 'NovaLogic', 'Number None',\n",
      "       'O-Games', 'O3 Entertainment', 'Ocean', 'Office Create',\n",
      "       'On Demand', 'Ongakukan', 'Origin Systems', 'Otomate',\n",
      "       'Oxygen Interactive', 'P2 Games', 'PM Studios', 'PQube',\n",
      "       'Pacific Century Cyber Works', 'Pack In Soft', 'Pack-In-Video',\n",
      "       'Palcom', 'Panther Software', 'Paon', 'Paon Corporation',\n",
      "       'Paradox Development', 'Paradox Interactive', 'Parker Bros.',\n",
      "       'Performance Designed Products', 'Phantagram', 'Phantom EFX',\n",
      "       'Phenomedia', 'Phoenix Games', 'Piacci', 'Pinnacle', 'Pioneer LDC',\n",
      "       'Play It', 'PlayV', 'Playlogic Game Factory', 'Playmates',\n",
      "       'Playmore', 'Plenty', 'Pony Canyon', 'PopCap Games',\n",
      "       'PopTop Software', 'Popcorn Arcade', 'Pow', 'Princess Soft',\n",
      "       'Prototype', 'Psygnosis', 'Quelle', 'Quest', 'Quinrose', 'Quintet',\n",
      "       'RED Entertainment', 'RTL', 'Rage Software', 'Rain Games',\n",
      "       'Rebellion', 'Rebellion Developments', 'Red Orb',\n",
      "       'Red Storm Entertainment', 'RedOctane', 'Reef Entertainment',\n",
      "       'Revolution (Japan)', 'Revolution Software', 'Rising Star Games',\n",
      "       'Riverhillsoft', 'Rocket Company', 'Rondomedia', 'Russel',\n",
      "       'SCS Software', 'SCi', 'SNK', 'SNK Playmore', 'SPS', 'SSI',\n",
      "       'Sammy Corporation', 'Saurus', 'Scholastic Inc.', 'Screenlife',\n",
      "       'Sega', 'Seta Corporation', 'Seventh Chord', 'Shogakukan',\n",
      "       'Simon & Schuster Interactive', 'Slightly Mad Studios',\n",
      "       'Slitherine Software', 'Societa', 'Sold Out', 'Sonnet',\n",
      "       'Sony Computer Entertainment',\n",
      "       'Sony Computer Entertainment America',\n",
      "       'Sony Computer Entertainment Europe', 'Sony Music Entertainment',\n",
      "       'Sony Online Entertainment', 'SouthPeak Games', 'Spike', 'Square',\n",
      "       'Square EA', 'Square Enix', 'SquareSoft', 'Stainless Games',\n",
      "       'Starfish', 'Starpath Corp.', 'Sting', 'Storm City Games',\n",
      "       'Strategy First', 'Success', 'Summitsoft', 'Sunflowers',\n",
      "       'Sunrise Interactive', 'Sunsoft', 'Sweets', 'Swing! Entertainment',\n",
      "       'Syscom', 'System 3', 'System 3 Arcade Software', 'System Soft',\n",
      "       'T&E Soft', 'TDK Core', 'TDK Mediactive', 'TGL', 'THQ', 'TOHO',\n",
      "       'TYO', 'Taito', 'Takara', 'Takara Tomy', 'Take-Two Interactive',\n",
      "       'Takuyo', 'TalonSoft', 'Team17 Software', 'TechnoSoft',\n",
      "       'Technos Japan Corporation', 'Tecmo Koei', 'Telegames',\n",
      "       'Telltale Games', 'Telstar', 'Tetris Online',\n",
      "       'The Adventure Company', 'The Learning Company', 'Tigervision',\n",
      "       'Time Warner Interactive', 'Titus', 'Tivola', 'Tommo',\n",
      "       'Tomy Corporation', 'TopWare Interactive', 'Touchstone',\n",
      "       'Tradewest', 'Trion Worlds', 'Tripwire Interactive',\n",
      "       'Tru Blu Entertainment', 'Tryfirst', 'Type-Moon', 'U.S. Gold',\n",
      "       'UEP Systems', 'UFO Interactive', 'UIG Entertainment', 'Ubisoft',\n",
      "       'Ubisoft Annecy', 'Universal Gamex', 'Universal Interactive',\n",
      "       'Unknown', 'Valcon Games', 'ValuSoft', 'Valve', 'Valve Software',\n",
      "       'Vap', 'Vatical Entertainment', 'Vic Tokai', 'Victor Interactive',\n",
      "       'Video System', 'Views', 'Vir2L Studios', 'Virgin Interactive',\n",
      "       'Virtual Play Games', 'Visco', 'Vivendi Games', 'Wanadoo',\n",
      "       'Warashi', 'Wargaming.net',\n",
      "       'Warner Bros. Interactive Entertainment', 'Warp',\n",
      "       'WayForward Technologies', 'Westwood Studios',\n",
      "       'White Park Bay Software', 'Wizard Video Games', 'XS Games',\n",
      "       'Xicat Interactive', 'Xing Entertainment', 'Xplosiv',\n",
      "       'Xseed Games', 'Yacht Club Games', 'Yamasa Entertainment', 'Yeti',\n",
      "       \"Yuke's\", 'Yumedia', 'Zenrin', 'Zoo Digital Publishing',\n",
      "       'Zoo Games', 'Zushi Games', 'bitComposer Games', 'dramatic create',\n",
      "       'fonfun', 'iWin', 'id Software', 'imageepoch Inc.',\n",
      "       'inXile Entertainment', 'mixi, Inc', 'responDESIGN'], dtype=object)]\n"
     ]
    }
   ],
   "source": [
    "print(\"Category to Label Mapping:\")\n",
    "print(ordinal_encoder.categories_)"
   ]
  },
  {
   "cell_type": "code",
   "execution_count": 13,
   "id": "d9e67c69",
   "metadata": {
    "execution": {
     "iopub.execute_input": "2024-11-13T19:06:07.374283Z",
     "iopub.status.busy": "2024-11-13T19:06:07.373900Z",
     "iopub.status.idle": "2024-11-13T19:06:07.380439Z",
     "shell.execute_reply": "2024-11-13T19:06:07.379552Z"
    },
    "papermill": {
     "duration": 0.016268,
     "end_time": "2024-11-13T19:06:07.382724",
     "exception": false,
     "start_time": "2024-11-13T19:06:07.366456",
     "status": "completed"
    },
    "tags": []
   },
   "outputs": [
    {
     "data": {
      "text/plain": [
       "(16291, 9)"
      ]
     },
     "execution_count": 13,
     "metadata": {},
     "output_type": "execute_result"
    }
   ],
   "source": [
    "label_features_data.shape"
   ]
  },
  {
   "cell_type": "code",
   "execution_count": 14,
   "id": "1b6eeb41",
   "metadata": {
    "execution": {
     "iopub.execute_input": "2024-11-13T19:06:07.398249Z",
     "iopub.status.busy": "2024-11-13T19:06:07.397463Z",
     "iopub.status.idle": "2024-11-13T19:06:07.404024Z",
     "shell.execute_reply": "2024-11-13T19:06:07.403233Z"
    },
    "papermill": {
     "duration": 0.016878,
     "end_time": "2024-11-13T19:06:07.406396",
     "exception": false,
     "start_time": "2024-11-13T19:06:07.389518",
     "status": "completed"
    },
    "tags": []
   },
   "outputs": [
    {
     "data": {
      "text/plain": [
       "Index(['Platform', 'Year', 'Genre', 'Publisher', 'NA_Sales', 'EU_Sales',\n",
       "       'JP_Sales', 'Other_Sales', 'Global_Sales'],\n",
       "      dtype='object')"
      ]
     },
     "execution_count": 14,
     "metadata": {},
     "output_type": "execute_result"
    }
   ],
   "source": [
    "label_features_data.columns"
   ]
  },
  {
   "cell_type": "code",
   "execution_count": 15,
   "id": "ed0f5429",
   "metadata": {
    "execution": {
     "iopub.execute_input": "2024-11-13T19:06:07.421628Z",
     "iopub.status.busy": "2024-11-13T19:06:07.421266Z",
     "iopub.status.idle": "2024-11-13T19:06:07.435178Z",
     "shell.execute_reply": "2024-11-13T19:06:07.433870Z"
    },
    "papermill": {
     "duration": 0.024999,
     "end_time": "2024-11-13T19:06:07.437879",
     "exception": false,
     "start_time": "2024-11-13T19:06:07.412880",
     "status": "completed"
    },
    "tags": []
   },
   "outputs": [
    {
     "name": "stdout",
     "output_type": "stream",
     "text": [
      "[26. 11.  5.  4. 28. 17. 16. 23.  6.  2. 18. 10. 15. 29. 13.  0. 19. 30.\n",
      "  7. 27.  8.  3. 20. 21. 22. 25. 12. 24.  1.  9. 14.]\n",
      "\n",
      "[10.  4.  6.  7.  5.  3.  8.  9.  0.  2.  1. 11.]\n",
      "\n",
      "[359. 323. 493. 455.  21. 524.  66. 138. 445. 465.  53.   6.  85. 177.\n",
      " 275. 457. 464. 288. 540. 547. 527. 137. 426. 543. 144. 347. 385. 214.\n",
      " 487. 164.  17. 292. 126. 296.  91. 424. 281.  40. 325. 253. 120.  10.\n",
      " 343. 521. 391. 308. 237. 499. 532.  13. 330. 241. 528. 462. 531.  23.\n",
      "  63. 109. 378. 425. 537. 219. 198. 199. 550. 206. 101. 224.  94. 430.\n",
      "  55. 485.  12. 565.  18. 459.   4. 419. 348. 160.  30.  71. 460. 303.\n",
      " 372. 564. 413.  88. 142. 472.  97. 434. 490.  27. 176. 322. 400. 450.\n",
      " 511. 441. 273. 182. 508. 299. 191. 334. 398.  84. 495. 104. 436. 414.\n",
      " 574. 420. 525. 443. 246. 341.  87. 463.   2.  58. 223. 367. 314. 365.\n",
      "  67. 513. 461. 256. 362. 277. 415. 233. 506. 170. 432. 318. 305. 227.\n",
      " 433. 456. 526. 193. 552.  61. 381. 515. 279. 232. 491. 263. 122. 146.\n",
      " 557. 238. 481.  83.  44. 186. 324. 255.  36. 553.  22. 383. 422. 556.\n",
      " 184. 544. 368. 501. 148.  60. 272. 304. 503. 213. 133. 489. 500. 337.\n",
      " 444. 399. 294. 315. 269. 225.  57. 116. 139.  70. 254.   9. 492. 311.\n",
      " 140. 467. 566. 258. 121. 353.  77. 228. 407. 222.  19. 468. 379.  62.\n",
      " 189. 355. 470.  93.  80. 295. 301. 265. 358. 546.  35.  39. 403. 438.\n",
      " 211. 165. 361. 357. 286.  99. 112. 218. 338. 382. 240. 285. 345.  59.\n",
      "  43. 476. 207. 437. 346. 166. 555. 530. 536. 123.  34. 366.  75. 156.\n",
      "  11.  81. 328. 257. 446. 374. 342.  50. 203.  26.  98. 105. 293. 448.\n",
      " 317. 423. 363. 484. 567. 162.  51. 440. 262. 230. 392.  52. 100. 401.\n",
      " 522. 231. 402. 150.  24. 171. 386.  72. 183. 111.  56. 409. 351. 539.\n",
      "  38. 479. 551. 480. 534. 113. 131. 310. 535. 504. 181.  78.  20. 190.\n",
      " 153. 234. 478. 458.  37. 390. 221. 128. 516. 469. 558. 435.  69. 215.\n",
      " 451. 200. 172. 502. 520. 129. 117. 291. 110. 169. 439.  74. 427. 517.\n",
      " 336. 483. 370.  28. 344. 118. 507. 179. 115. 371. 188. 554. 449. 529.\n",
      " 408. 488. 209.   7.  86.  82. 321. 380. 387. 320. 185.  64. 519. 145.\n",
      "  49. 247.  48. 573. 235. 394. 152. 575. 106. 204. 210. 217. 360. 376.\n",
      " 447. 333. 326.  16. 159. 196. 287. 548. 114.  31. 340. 316. 251. 475.\n",
      " 141. 151. 509. 197. 136.  54.  41. 187. 510.  32. 212. 570. 312. 163.\n",
      " 429. 239. 103.   0. 205. 384. 242.  46.  47. 135. 562. 395. 208. 201.\n",
      " 125. 102. 264. 549. 278.  14.  90.  42. 149. 298. 412. 393.   1. 505.\n",
      " 497. 533. 332. 514. 496. 560. 410. 349. 313. 306.  95. 335. 406. 431.\n",
      " 473. 327. 404. 290. 276. 158.   5. 280.  29. 107.  89. 452. 541. 243.\n",
      " 454. 154. 563. 229. 252.   3. 289. 267. 259. 373. 297. 157. 411. 307.\n",
      "  65. 168. 130. 572.  68. 220. 266.  15. 512. 216. 261. 108. 260. 416.\n",
      " 474. 568. 486. 143. 155. 245. 173. 477. 274. 369. 356. 571.  79. 518.\n",
      " 471.   8. 174. 561. 134. 283. 167. 282. 388. 270. 175. 202. 271. 250.\n",
      " 329. 124.  73. 178. 559. 405. 538. 569. 352.  92. 417. 396. 127. 300.\n",
      " 161. 236. 268.  25. 498. 180. 331. 119. 442. 226. 428. 195. 542.  33.\n",
      " 339. 194. 545. 482. 453. 284. 302. 418. 319. 309. 354. 192. 248.  76.\n",
      " 466. 132. 147. 350.  45. 397. 364. 389. 377. 375.  96. 249. 494. 244.\n",
      " 421. 523.]\n"
     ]
    }
   ],
   "source": [
    "print(label_features_data.Platform.unique())\n",
    "print(\"\")\n",
    "print(label_features_data.Genre.unique())\n",
    "print(\"\")\n",
    "print(label_features_data.Publisher.unique())"
   ]
  },
  {
   "cell_type": "code",
   "execution_count": 16,
   "id": "72933a9d",
   "metadata": {
    "execution": {
     "iopub.execute_input": "2024-11-13T19:06:07.453443Z",
     "iopub.status.busy": "2024-11-13T19:06:07.453059Z",
     "iopub.status.idle": "2024-11-13T19:06:07.462619Z",
     "shell.execute_reply": "2024-11-13T19:06:07.461501Z"
    },
    "papermill": {
     "duration": 0.019801,
     "end_time": "2024-11-13T19:06:07.464880",
     "exception": false,
     "start_time": "2024-11-13T19:06:07.445079",
     "status": "completed"
    },
    "tags": []
   },
   "outputs": [
    {
     "data": {
      "text/plain": [
       "Platform        0\n",
       "Year            0\n",
       "Genre           0\n",
       "Publisher       0\n",
       "NA_Sales        0\n",
       "EU_Sales        0\n",
       "JP_Sales        0\n",
       "Other_Sales     0\n",
       "Global_Sales    0\n",
       "dtype: int64"
      ]
     },
     "execution_count": 16,
     "metadata": {},
     "output_type": "execute_result"
    }
   ],
   "source": [
    "label_features_data.isnull().sum()"
   ]
  },
  {
   "cell_type": "code",
   "execution_count": 17,
   "id": "a701e361",
   "metadata": {
    "execution": {
     "iopub.execute_input": "2024-11-13T19:06:07.480473Z",
     "iopub.status.busy": "2024-11-13T19:06:07.480072Z",
     "iopub.status.idle": "2024-11-13T19:06:07.790587Z",
     "shell.execute_reply": "2024-11-13T19:06:07.789219Z"
    },
    "papermill": {
     "duration": 0.321665,
     "end_time": "2024-11-13T19:06:07.793421",
     "exception": false,
     "start_time": "2024-11-13T19:06:07.471756",
     "status": "completed"
    },
    "tags": []
   },
   "outputs": [],
   "source": [
    "from sklearn.impute import SimpleImputer\n",
    "\n",
    "my_imputer = SimpleImputer()\n",
    "imputed_features_data = pd.DataFrame(my_imputer.fit_transform(label_features_data))\n",
    "\n",
    "imputed_features_data.columns = label_features_data.columns"
   ]
  },
  {
   "cell_type": "code",
   "execution_count": 18,
   "id": "fe5bca96",
   "metadata": {
    "execution": {
     "iopub.execute_input": "2024-11-13T19:06:07.809511Z",
     "iopub.status.busy": "2024-11-13T19:06:07.809102Z",
     "iopub.status.idle": "2024-11-13T19:06:07.816660Z",
     "shell.execute_reply": "2024-11-13T19:06:07.815704Z"
    },
    "papermill": {
     "duration": 0.018758,
     "end_time": "2024-11-13T19:06:07.818970",
     "exception": false,
     "start_time": "2024-11-13T19:06:07.800212",
     "status": "completed"
    },
    "tags": []
   },
   "outputs": [
    {
     "data": {
      "text/plain": [
       "Index(['Platform', 'Year', 'Genre', 'Publisher', 'NA_Sales', 'EU_Sales',\n",
       "       'JP_Sales', 'Other_Sales', 'Global_Sales'],\n",
       "      dtype='object')"
      ]
     },
     "execution_count": 18,
     "metadata": {},
     "output_type": "execute_result"
    }
   ],
   "source": [
    "imputed_features_data.columns"
   ]
  },
  {
   "cell_type": "code",
   "execution_count": 19,
   "id": "97ac330c",
   "metadata": {
    "execution": {
     "iopub.execute_input": "2024-11-13T19:06:07.834925Z",
     "iopub.status.busy": "2024-11-13T19:06:07.834256Z",
     "iopub.status.idle": "2024-11-13T19:06:07.841590Z",
     "shell.execute_reply": "2024-11-13T19:06:07.840235Z"
    },
    "papermill": {
     "duration": 0.018169,
     "end_time": "2024-11-13T19:06:07.844048",
     "exception": false,
     "start_time": "2024-11-13T19:06:07.825879",
     "status": "completed"
    },
    "tags": []
   },
   "outputs": [
    {
     "name": "stdout",
     "output_type": "stream",
     "text": [
      "Platform        0\n",
      "Year            0\n",
      "Genre           0\n",
      "Publisher       0\n",
      "NA_Sales        0\n",
      "EU_Sales        0\n",
      "JP_Sales        0\n",
      "Other_Sales     0\n",
      "Global_Sales    0\n",
      "dtype: int64\n"
     ]
    }
   ],
   "source": [
    "missing_val_count_by_column = (imputed_features_data.isnull().sum())\n",
    "print(missing_val_count_by_column)"
   ]
  },
  {
   "cell_type": "code",
   "execution_count": 20,
   "id": "f4952cc1",
   "metadata": {
    "execution": {
     "iopub.execute_input": "2024-11-13T19:06:07.859694Z",
     "iopub.status.busy": "2024-11-13T19:06:07.859271Z",
     "iopub.status.idle": "2024-11-13T19:06:07.874549Z",
     "shell.execute_reply": "2024-11-13T19:06:07.872984Z"
    },
    "papermill": {
     "duration": 0.02593,
     "end_time": "2024-11-13T19:06:07.876865",
     "exception": false,
     "start_time": "2024-11-13T19:06:07.850935",
     "status": "completed"
    },
    "tags": []
   },
   "outputs": [
    {
     "name": "stdout",
     "output_type": "stream",
     "text": [
      "<bound method NDFrame.describe of        Platform    Year  Genre  Publisher  NA_Sales  EU_Sales  JP_Sales  \\\n",
      "0          26.0  2006.0   10.0      359.0     41.49     29.02      3.77   \n",
      "1          11.0  1985.0    4.0      359.0     29.08      3.58      6.81   \n",
      "2          26.0  2008.0    6.0      359.0     15.85     12.88      3.79   \n",
      "3          26.0  2009.0   10.0      359.0     15.75     11.01      3.28   \n",
      "4           5.0  1996.0    7.0      359.0     11.27      8.89     10.22   \n",
      "...         ...     ...    ...        ...       ...       ...       ...   \n",
      "16286       6.0  2002.0    4.0      269.0      0.01      0.00      0.00   \n",
      "16287       7.0  2003.0    8.0      241.0      0.01      0.00      0.00   \n",
      "16288      16.0  2008.0    6.0       21.0      0.00      0.00      0.00   \n",
      "16289       4.0  2010.0    5.0        8.0      0.00      0.01      0.00   \n",
      "16290       6.0  2003.0    4.0      544.0      0.01      0.00      0.00   \n",
      "\n",
      "       Other_Sales  Global_Sales  \n",
      "0             8.46         82.74  \n",
      "1             0.77         40.24  \n",
      "2             3.31         35.82  \n",
      "3             2.96         33.00  \n",
      "4             1.00         31.37  \n",
      "...            ...           ...  \n",
      "16286         0.00          0.01  \n",
      "16287         0.00          0.01  \n",
      "16288         0.00          0.01  \n",
      "16289         0.00          0.01  \n",
      "16290         0.00          0.01  \n",
      "\n",
      "[16291 rows x 9 columns]>\n"
     ]
    }
   ],
   "source": [
    "features = ['Platform', 'Year', 'Genre', 'Publisher', 'NA_Sales', 'EU_Sales', \n",
    "            'JP_Sales', 'Other_Sales']\n",
    "\n",
    "X = imputed_features_data[features]\n",
    "\n",
    "y = imputed_features_data.Global_Sales\n",
    "\n",
    "print(imputed_features_data.describe)"
   ]
  },
  {
   "cell_type": "code",
   "execution_count": 21,
   "id": "10b373c8",
   "metadata": {
    "execution": {
     "iopub.execute_input": "2024-11-13T19:06:07.892993Z",
     "iopub.status.busy": "2024-11-13T19:06:07.892588Z",
     "iopub.status.idle": "2024-11-13T19:06:07.900197Z",
     "shell.execute_reply": "2024-11-13T19:06:07.898887Z"
    },
    "papermill": {
     "duration": 0.018911,
     "end_time": "2024-11-13T19:06:07.902829",
     "exception": false,
     "start_time": "2024-11-13T19:06:07.883918",
     "status": "completed"
    },
    "tags": []
   },
   "outputs": [
    {
     "data": {
      "text/plain": [
       "'\\nfrom sklearn.ensemble import RandomForestClassifier\\nrf_model = RandomForestClassifier(n_estimators=50, max_depth=2, random_state=1)\\nimputed_X_train = fit_transform(X_train)\\nimputed_X_valid = lab.fit_transform(X_valid)\\nrf_model.fit(imputed_X_train, y_train)\\n\\nrf_valid_predictions = rf_model.predict(imputed_X_valid)\\n'"
      ]
     },
     "execution_count": 21,
     "metadata": {},
     "output_type": "execute_result"
    }
   ],
   "source": [
    "\"\"\"\n",
    "from sklearn.ensemble import RandomForestClassifier\n",
    "rf_model = RandomForestClassifier(n_estimators=50, max_depth=2, random_state=1)\n",
    "imputed_X_train = fit_transform(X_train)\n",
    "imputed_X_valid = lab.fit_transform(X_valid)\n",
    "rf_model.fit(imputed_X_train, y_train)\n",
    "\n",
    "rf_valid_predictions = rf_model.predict(imputed_X_valid)\n",
    "\"\"\""
   ]
  },
  {
   "cell_type": "code",
   "execution_count": null,
   "id": "506dffbe",
   "metadata": {
    "papermill": {
     "duration": 0.006939,
     "end_time": "2024-11-13T19:06:07.917033",
     "exception": false,
     "start_time": "2024-11-13T19:06:07.910094",
     "status": "completed"
    },
    "tags": []
   },
   "outputs": [],
   "source": []
  }
 ],
 "metadata": {
  "kaggle": {
   "accelerator": "none",
   "dataSources": [
    {
     "datasetId": 284,
     "sourceId": 618,
     "sourceType": "datasetVersion"
    }
   ],
   "dockerImageVersionId": 30786,
   "isGpuEnabled": false,
   "isInternetEnabled": false,
   "language": "python",
   "sourceType": "notebook"
  },
  "kernelspec": {
   "display_name": "Python 3",
   "language": "python",
   "name": "python3"
  },
  "language_info": {
   "codemirror_mode": {
    "name": "ipython",
    "version": 3
   },
   "file_extension": ".py",
   "mimetype": "text/x-python",
   "name": "python",
   "nbconvert_exporter": "python",
   "pygments_lexer": "ipython3",
   "version": "3.10.14"
  },
  "papermill": {
   "default_parameters": {},
   "duration": 5.779745,
   "end_time": "2024-11-13T19:06:08.444798",
   "environment_variables": {},
   "exception": null,
   "input_path": "__notebook__.ipynb",
   "output_path": "__notebook__.ipynb",
   "parameters": {},
   "start_time": "2024-11-13T19:06:02.665053",
   "version": "2.6.0"
  }
 },
 "nbformat": 4,
 "nbformat_minor": 5
}
