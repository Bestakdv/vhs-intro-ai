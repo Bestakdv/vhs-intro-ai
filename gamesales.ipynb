{
 "cells": [
  {
   "cell_type": "code",
   "execution_count": 1,
   "id": "9d08a076",
   "metadata": {
    "_cell_guid": "b1076dfc-b9ad-4769-8c92-a6c4dae69d19",
    "_uuid": "8f2839f25d086af736a60e9eeb907d3b93b6e0e5",
    "execution": {
     "iopub.execute_input": "2024-11-13T17:33:51.903056Z",
     "iopub.status.busy": "2024-11-13T17:33:51.902591Z",
     "iopub.status.idle": "2024-11-13T17:33:52.851295Z",
     "shell.execute_reply": "2024-11-13T17:33:52.850039Z"
    },
    "papermill": {
     "duration": 0.957571,
     "end_time": "2024-11-13T17:33:52.853876",
     "exception": false,
     "start_time": "2024-11-13T17:33:51.896305",
     "status": "completed"
    },
    "tags": []
   },
   "outputs": [
    {
     "name": "stdout",
     "output_type": "stream",
     "text": [
      "/kaggle/input/videogamesales/vgsales.csv\n"
     ]
    }
   ],
   "source": [
    "# This Python 3 environment comes with many helpful analytics libraries installed\n",
    "# It is defined by the kaggle/python Docker image: https://github.com/kaggle/docker-python\n",
    "# For example, here's several helpful packages to load\n",
    "\n",
    "import numpy as np # linear algebra\n",
    "import pandas as pd # data processing, CSV file I/O (e.g. pd.read_csv)\n",
    "\n",
    "# Input data files are available in the read-only \"../input/\" directory\n",
    "# For example, running this (by clicking run or pressing Shift+Enter) will list all files under the input directory\n",
    "\n",
    "import os\n",
    "for dirname, _, filenames in os.walk('/kaggle/input'):\n",
    "    for filename in filenames:\n",
    "        print(os.path.join(dirname, filename))\n",
    "\n",
    "# You can write up to 20GB to the current directory (/kaggle/working/) that gets preserved as output when you create a version using \"Save & Run All\" \n",
    "# You can also write temporary files to /kaggle/temp/, but they won't be saved outside of the current session"
   ]
  },
  {
   "cell_type": "code",
   "execution_count": 2,
   "id": "b03791e1",
   "metadata": {
    "execution": {
     "iopub.execute_input": "2024-11-13T17:33:52.863219Z",
     "iopub.status.busy": "2024-11-13T17:33:52.862579Z",
     "iopub.status.idle": "2024-11-13T17:33:52.967800Z",
     "shell.execute_reply": "2024-11-13T17:33:52.966499Z"
    },
    "papermill": {
     "duration": 0.112553,
     "end_time": "2024-11-13T17:33:52.970325",
     "exception": false,
     "start_time": "2024-11-13T17:33:52.857772",
     "status": "completed"
    },
    "tags": []
   },
   "outputs": [
    {
     "data": {
      "text/plain": [
       "Index(['Name', 'Platform', 'Year', 'Genre', 'Publisher', 'NA_Sales',\n",
       "       'EU_Sales', 'JP_Sales', 'Other_Sales', 'Global_Sales'],\n",
       "      dtype='object')"
      ]
     },
     "execution_count": 2,
     "metadata": {},
     "output_type": "execute_result"
    }
   ],
   "source": [
    "game_file_path = '/kaggle/input/videogamesales/vgsales.csv'\n",
    "features_data = pd.read_csv(game_file_path, index_col='Rank')\n",
    "features_data.columns"
   ]
  },
  {
   "cell_type": "code",
   "execution_count": 3,
   "id": "75aabfc5",
   "metadata": {
    "execution": {
     "iopub.execute_input": "2024-11-13T17:33:52.980713Z",
     "iopub.status.busy": "2024-11-13T17:33:52.979636Z",
     "iopub.status.idle": "2024-11-13T17:33:52.987039Z",
     "shell.execute_reply": "2024-11-13T17:33:52.985824Z"
    },
    "papermill": {
     "duration": 0.01577,
     "end_time": "2024-11-13T17:33:52.990035",
     "exception": false,
     "start_time": "2024-11-13T17:33:52.974265",
     "status": "completed"
    },
    "tags": []
   },
   "outputs": [
    {
     "data": {
      "text/plain": [
       "(16598, 10)"
      ]
     },
     "execution_count": 3,
     "metadata": {},
     "output_type": "execute_result"
    }
   ],
   "source": [
    "features_data.shape"
   ]
  },
  {
   "cell_type": "code",
   "execution_count": 4,
   "id": "6b78202d",
   "metadata": {
    "execution": {
     "iopub.execute_input": "2024-11-13T17:33:53.001099Z",
     "iopub.status.busy": "2024-11-13T17:33:53.000535Z",
     "iopub.status.idle": "2024-11-13T17:33:53.029955Z",
     "shell.execute_reply": "2024-11-13T17:33:53.028013Z"
    },
    "papermill": {
     "duration": 0.038647,
     "end_time": "2024-11-13T17:33:53.033319",
     "exception": false,
     "start_time": "2024-11-13T17:33:52.994672",
     "status": "completed"
    },
    "tags": []
   },
   "outputs": [
    {
     "data": {
      "text/html": [
       "<div>\n",
       "<style scoped>\n",
       "    .dataframe tbody tr th:only-of-type {\n",
       "        vertical-align: middle;\n",
       "    }\n",
       "\n",
       "    .dataframe tbody tr th {\n",
       "        vertical-align: top;\n",
       "    }\n",
       "\n",
       "    .dataframe thead th {\n",
       "        text-align: right;\n",
       "    }\n",
       "</style>\n",
       "<table border=\"1\" class=\"dataframe\">\n",
       "  <thead>\n",
       "    <tr style=\"text-align: right;\">\n",
       "      <th></th>\n",
       "      <th>Name</th>\n",
       "      <th>Platform</th>\n",
       "      <th>Year</th>\n",
       "      <th>Genre</th>\n",
       "      <th>Publisher</th>\n",
       "      <th>NA_Sales</th>\n",
       "      <th>EU_Sales</th>\n",
       "      <th>JP_Sales</th>\n",
       "      <th>Other_Sales</th>\n",
       "      <th>Global_Sales</th>\n",
       "    </tr>\n",
       "    <tr>\n",
       "      <th>Rank</th>\n",
       "      <th></th>\n",
       "      <th></th>\n",
       "      <th></th>\n",
       "      <th></th>\n",
       "      <th></th>\n",
       "      <th></th>\n",
       "      <th></th>\n",
       "      <th></th>\n",
       "      <th></th>\n",
       "      <th></th>\n",
       "    </tr>\n",
       "  </thead>\n",
       "  <tbody>\n",
       "    <tr>\n",
       "      <th>1</th>\n",
       "      <td>Wii Sports</td>\n",
       "      <td>Wii</td>\n",
       "      <td>2006.0</td>\n",
       "      <td>Sports</td>\n",
       "      <td>Nintendo</td>\n",
       "      <td>41.49</td>\n",
       "      <td>29.02</td>\n",
       "      <td>3.77</td>\n",
       "      <td>8.46</td>\n",
       "      <td>82.74</td>\n",
       "    </tr>\n",
       "    <tr>\n",
       "      <th>2</th>\n",
       "      <td>Super Mario Bros.</td>\n",
       "      <td>NES</td>\n",
       "      <td>1985.0</td>\n",
       "      <td>Platform</td>\n",
       "      <td>Nintendo</td>\n",
       "      <td>29.08</td>\n",
       "      <td>3.58</td>\n",
       "      <td>6.81</td>\n",
       "      <td>0.77</td>\n",
       "      <td>40.24</td>\n",
       "    </tr>\n",
       "    <tr>\n",
       "      <th>3</th>\n",
       "      <td>Mario Kart Wii</td>\n",
       "      <td>Wii</td>\n",
       "      <td>2008.0</td>\n",
       "      <td>Racing</td>\n",
       "      <td>Nintendo</td>\n",
       "      <td>15.85</td>\n",
       "      <td>12.88</td>\n",
       "      <td>3.79</td>\n",
       "      <td>3.31</td>\n",
       "      <td>35.82</td>\n",
       "    </tr>\n",
       "    <tr>\n",
       "      <th>4</th>\n",
       "      <td>Wii Sports Resort</td>\n",
       "      <td>Wii</td>\n",
       "      <td>2009.0</td>\n",
       "      <td>Sports</td>\n",
       "      <td>Nintendo</td>\n",
       "      <td>15.75</td>\n",
       "      <td>11.01</td>\n",
       "      <td>3.28</td>\n",
       "      <td>2.96</td>\n",
       "      <td>33.00</td>\n",
       "    </tr>\n",
       "    <tr>\n",
       "      <th>5</th>\n",
       "      <td>Pokemon Red/Pokemon Blue</td>\n",
       "      <td>GB</td>\n",
       "      <td>1996.0</td>\n",
       "      <td>Role-Playing</td>\n",
       "      <td>Nintendo</td>\n",
       "      <td>11.27</td>\n",
       "      <td>8.89</td>\n",
       "      <td>10.22</td>\n",
       "      <td>1.00</td>\n",
       "      <td>31.37</td>\n",
       "    </tr>\n",
       "  </tbody>\n",
       "</table>\n",
       "</div>"
      ],
      "text/plain": [
       "                          Name Platform    Year         Genre Publisher  \\\n",
       "Rank                                                                      \n",
       "1                   Wii Sports      Wii  2006.0        Sports  Nintendo   \n",
       "2            Super Mario Bros.      NES  1985.0      Platform  Nintendo   \n",
       "3               Mario Kart Wii      Wii  2008.0        Racing  Nintendo   \n",
       "4            Wii Sports Resort      Wii  2009.0        Sports  Nintendo   \n",
       "5     Pokemon Red/Pokemon Blue       GB  1996.0  Role-Playing  Nintendo   \n",
       "\n",
       "      NA_Sales  EU_Sales  JP_Sales  Other_Sales  Global_Sales  \n",
       "Rank                                                           \n",
       "1        41.49     29.02      3.77         8.46         82.74  \n",
       "2        29.08      3.58      6.81         0.77         40.24  \n",
       "3        15.85     12.88      3.79         3.31         35.82  \n",
       "4        15.75     11.01      3.28         2.96         33.00  \n",
       "5        11.27      8.89     10.22         1.00         31.37  "
      ]
     },
     "execution_count": 4,
     "metadata": {},
     "output_type": "execute_result"
    }
   ],
   "source": [
    "features_data.head()"
   ]
  },
  {
   "cell_type": "code",
   "execution_count": 5,
   "id": "151198e1",
   "metadata": {
    "execution": {
     "iopub.execute_input": "2024-11-13T17:33:53.045267Z",
     "iopub.status.busy": "2024-11-13T17:33:53.044760Z",
     "iopub.status.idle": "2024-11-13T17:33:53.050739Z",
     "shell.execute_reply": "2024-11-13T17:33:53.049495Z"
    },
    "papermill": {
     "duration": 0.014709,
     "end_time": "2024-11-13T17:33:53.053150",
     "exception": false,
     "start_time": "2024-11-13T17:33:53.038441",
     "status": "completed"
    },
    "tags": []
   },
   "outputs": [],
   "source": [
    "y = features_data.Global_Sales"
   ]
  },
  {
   "cell_type": "code",
   "execution_count": 6,
   "id": "d52f9363",
   "metadata": {
    "execution": {
     "iopub.execute_input": "2024-11-13T17:33:53.064631Z",
     "iopub.status.busy": "2024-11-13T17:33:53.064128Z",
     "iopub.status.idle": "2024-11-13T17:33:53.074128Z",
     "shell.execute_reply": "2024-11-13T17:33:53.072875Z"
    },
    "papermill": {
     "duration": 0.019094,
     "end_time": "2024-11-13T17:33:53.076836",
     "exception": false,
     "start_time": "2024-11-13T17:33:53.057742",
     "status": "completed"
    },
    "tags": []
   },
   "outputs": [],
   "source": [
    "features_data.drop('Name', axis=1, inplace=True)\n"
   ]
  },
  {
   "cell_type": "code",
   "execution_count": 7,
   "id": "50513c87",
   "metadata": {
    "execution": {
     "iopub.execute_input": "2024-11-13T17:33:53.088056Z",
     "iopub.status.busy": "2024-11-13T17:33:53.087565Z",
     "iopub.status.idle": "2024-11-13T17:33:53.105607Z",
     "shell.execute_reply": "2024-11-13T17:33:53.104323Z"
    },
    "papermill": {
     "duration": 0.026929,
     "end_time": "2024-11-13T17:33:53.108363",
     "exception": false,
     "start_time": "2024-11-13T17:33:53.081434",
     "status": "completed"
    },
    "tags": []
   },
   "outputs": [
    {
     "data": {
      "text/plain": [
       "array([4.149e+01, 2.908e+01, 1.585e+01, 1.575e+01, 1.127e+01, 2.320e+01,\n",
       "       1.138e+01, 1.403e+01, 1.459e+01, 2.693e+01, 9.070e+00, 9.810e+00,\n",
       "       9.000e+00, 8.940e+00, 9.090e+00, 1.497e+01, 7.010e+00, 9.430e+00,\n",
       "       1.278e+01, 4.750e+00, 6.420e+00, 1.083e+01, 9.540e+00, 9.630e+00,\n",
       "       8.410e+00, 6.060e+00, 5.570e+00, 3.440e+00, 6.850e+00, 9.030e+00,\n",
       "       5.890e+00, 9.670e+00, 5.170e+00, 5.770e+00, 4.990e+00, 8.250e+00,\n",
       "       8.520e+00, 5.540e+00, 6.990e+00, 6.750e+00, 5.980e+00, 2.550e+00,\n",
       "       4.740e+00, 7.970e+00, 3.800e+00, 4.400e+00, 6.910e+00, 3.010e+00,\n",
       "       6.160e+00, 4.230e+00, 6.760e+00, 4.020e+00, 4.890e+00, 2.960e+00,\n",
       "       4.760e+00, 5.990e+00, 4.340e+00, 5.080e+00, 6.050e+00, 6.720e+00,\n",
       "       7.030e+00, 5.550e+00, 3.660e+00, 6.630e+00, 4.090e+00, 5.840e+00,\n",
       "       3.880e+00, 5.910e+00, 4.360e+00, 5.580e+00, 2.010e+00, 4.460e+00,\n",
       "       5.030e+00, 3.540e+00, 1.110e+00, 1.790e+00, 6.820e+00, 3.810e+00,\n",
       "       2.910e+00, 1.060e+00, 9.800e-01, 5.800e+00, 2.580e+00, 2.280e+00,\n",
       "       2.820e+00, 7.280e+00, 2.900e+00, 2.930e+00, 2.800e+00, 4.100e+00,\n",
       "       3.780e+00, 5.390e+00, 3.240e+00, 4.790e+00, 3.830e+00, 4.520e+00,\n",
       "       3.510e+00, 2.850e+00, 3.270e+00, 3.680e+00, 4.410e+00, 3.130e+00,\n",
       "       2.470e+00, 4.120e+00, 4.140e+00, 7.800e-01, 2.710e+00, 2.770e+00,\n",
       "       3.230e+00, 3.500e+00, 4.150e+00, 3.100e+00, 8.400e-01, 1.670e+00,\n",
       "       2.790e+00, 7.900e-01, 3.250e+00, 3.740e+00, 2.640e+00, 4.980e+00,\n",
       "       2.570e+00, 3.640e+00, 3.700e+00, 4.010e+00, 7.000e-02, 3.110e+00,\n",
       "       3.920e+00, 4.050e+00, 2.450e+00, 4.470e+00, 2.630e+00, 3.180e+00,\n",
       "       2.410e+00, 1.880e+00, 6.600e-01, 2.260e+00, 2.490e+00, 2.970e+00,\n",
       "       2.540e+00, 2.950e+00, 3.280e+00, 2.700e+00, 2.990e+00, 4.700e-01,\n",
       "       3.140e+00, 2.620e+00, 3.210e+00, 2.720e+00, 2.070e+00, 1.970e+00,\n",
       "       1.740e+00, 2.180e+00, 3.020e+00, 1.620e+00, 1.920e+00, 3.330e+00,\n",
       "       1.220e+00, 2.300e+00, 4.260e+00, 6.500e-01, 2.430e+00, 2.320e+00,\n",
       "       1.080e+00, 1.900e+00, 2.100e+00, 9.600e-01, 1.640e+00, 1.980e+00,\n",
       "       3.590e+00, 3.220e+00, 1.960e+00, 2.660e+00, 1.700e+00, 6.000e-01,\n",
       "       3.400e+00, 2.050e+00, 3.420e+00, 2.590e+00, 3.360e+00, 3.060e+00,\n",
       "       3.490e+00, 3.390e+00, 1.850e+00, 2.310e+00, 3.980e+00, 2.890e+00,\n",
       "       0.000e+00, 2.740e+00, 2.560e+00, 1.910e+00, 5.700e-01, 2.800e-01,\n",
       "       2.360e+00, 1.730e+00, 3.050e+00, 1.870e+00, 1.940e+00, 2.080e+00,\n",
       "       2.290e+00, 2.420e+00, 2.600e+00, 1.890e+00, 1.780e+00, 1.550e+00,\n",
       "       3.190e+00, 4.180e+00, 4.210e+00, 3.630e+00, 2.000e-01, 1.540e+00,\n",
       "       2.670e+00, 1.000e-01, 2.190e+00, 2.030e+00, 3.030e+00, 2.200e+00,\n",
       "       9.200e-01, 2.750e+00, 4.000e+00, 2.510e+00, 2.110e+00, 2.230e+00,\n",
       "       1.410e+00, 3.000e+00, 1.460e+00, 8.800e-01, 1.300e+00, 1.280e+00,\n",
       "       2.250e+00, 2.020e+00, 3.380e+00, 2.040e+00, 3.790e+00, 1.400e+00,\n",
       "       4.030e+00, 1.650e+00, 7.100e-01, 2.140e+00, 1.420e+00, 2.130e+00,\n",
       "       2.650e+00, 2.350e+00, 1.200e-01, 1.680e+00, 1.120e+00, 2.780e+00,\n",
       "       1.380e+00, 2.150e+00, 1.180e+00, 1.330e+00, 6.700e-01, 1.530e+00,\n",
       "       1.150e+00, 9.300e-01, 2.120e+00, 2.480e+00, 1.600e-01, 8.700e-01,\n",
       "       2.210e+00, 1.440e+00, 1.490e+00, 1.140e+00, 2.400e+00, 1.820e+00,\n",
       "       1.370e+00, 1.930e+00, 5.800e-01, 1.590e+00, 2.530e+00, 2.330e+00,\n",
       "       5.000e-02, 1.610e+00, 2.380e+00, 1.570e+00, 1.560e+00, 1.230e+00,\n",
       "       1.660e+00, 1.170e+00, 2.840e+00, 5.900e-01, 2.090e+00, 2.390e+00,\n",
       "       1.340e+00, 1.130e+00, 8.600e-01, 1.750e+00, 4.600e-01, 1.430e+00,\n",
       "       1.630e+00, 1.450e+00, 1.470e+00, 1.990e+00, 1.500e+00, 8.000e-01,\n",
       "       1.360e+00, 5.000e-01, 2.500e-01, 9.500e-01, 1.270e+00, 3.000e-02,\n",
       "       1.720e+00, 7.300e-01, 1.760e+00, 1.350e+00, 1.480e+00, 1.520e+00,\n",
       "       1.860e+00, 2.060e+00, 6.800e-01, 9.100e-01, 1.690e+00, 8.000e-02,\n",
       "       1.290e+00, 2.170e+00, 2.500e+00, 1.010e+00, 1.580e+00, 1.040e+00,\n",
       "       2.220e+00, 1.830e+00, 6.100e-01, 1.840e+00, 9.900e-01, 1.510e+00,\n",
       "       9.000e-02, 4.000e-01, 2.520e+00, 1.320e+00, 2.000e-02, 1.050e+00,\n",
       "       2.900e-01, 1.190e+00, 8.900e-01, 3.000e-01, 1.200e+00, 1.240e+00,\n",
       "       1.250e+00, 1.070e+00, 1.020e+00, 6.900e-01, 1.950e+00, 2.000e+00,\n",
       "       7.600e-01, 6.300e-01, 9.000e-01, 4.800e-01, 6.400e-01, 3.700e-01,\n",
       "       1.310e+00, 1.500e-01, 1.210e+00, 4.900e-01, 1.300e-01, 1.810e+00,\n",
       "       1.260e+00, 8.100e-01, 7.700e-01, 1.000e+00, 1.160e+00, 1.390e+00,\n",
       "       8.500e-01, 5.200e-01, 5.100e-01, 3.800e-01, 6.200e-01, 1.090e+00,\n",
       "       1.710e+00, 1.030e+00, 3.400e-01, 1.600e+00, 5.400e-01, 1.400e-01,\n",
       "       1.000e-02, 8.200e-01, 8.300e-01, 1.100e-01, 9.400e-01, 1.770e+00,\n",
       "       7.000e-01, 9.700e-01, 7.500e-01, 3.500e-01, 7.200e-01, 7.400e-01,\n",
       "       1.800e-01, 1.100e+00, 5.600e-01, 2.600e-01, 2.100e-01, 2.200e-01,\n",
       "       5.300e-01, 5.500e-01, 2.300e-01, 3.900e-01, 3.200e-01, 4.500e-01,\n",
       "       4.100e-01, 3.100e-01, 2.400e-01, 6.000e-02, 4.300e-01, 4.400e-01,\n",
       "       1.900e-01, 4.000e-02, 1.700e-01, 3.600e-01, 3.300e-01, 2.700e-01,\n",
       "       4.200e-01])"
      ]
     },
     "execution_count": 7,
     "metadata": {},
     "output_type": "execute_result"
    }
   ],
   "source": [
    "features_data.NA_Sales.unique()"
   ]
  }
 ],
 "metadata": {
  "kaggle": {
   "accelerator": "none",
   "dataSources": [
    {
     "datasetId": 284,
     "sourceId": 618,
     "sourceType": "datasetVersion"
    }
   ],
   "dockerImageVersionId": 30786,
   "isGpuEnabled": false,
   "isInternetEnabled": false,
   "language": "python",
   "sourceType": "notebook"
  },
  "kernelspec": {
   "display_name": "Python 3",
   "language": "python",
   "name": "python3"
  },
  "language_info": {
   "codemirror_mode": {
    "name": "ipython",
    "version": 3
   },
   "file_extension": ".py",
   "mimetype": "text/x-python",
   "name": "python",
   "nbconvert_exporter": "python",
   "pygments_lexer": "ipython3",
   "version": "3.10.14"
  },
  "papermill": {
   "default_parameters": {},
   "duration": 4.944551,
   "end_time": "2024-11-13T17:33:53.837151",
   "environment_variables": {},
   "exception": null,
   "input_path": "__notebook__.ipynb",
   "output_path": "__notebook__.ipynb",
   "parameters": {},
   "start_time": "2024-11-13T17:33:48.892600",
   "version": "2.6.0"
  }
 },
 "nbformat": 4,
 "nbformat_minor": 5
}
