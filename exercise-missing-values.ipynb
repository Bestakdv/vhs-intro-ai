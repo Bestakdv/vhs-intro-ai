{
 "cells": [
  {
   "cell_type": "markdown",
   "id": "12669ce6",
   "metadata": {
    "papermill": {
     "duration": 0.012566,
     "end_time": "2024-11-09T23:10:05.880169",
     "exception": false,
     "start_time": "2024-11-09T23:10:05.867603",
     "status": "completed"
    },
    "tags": []
   },
   "source": [
    "**This notebook is an exercise in the [Intermediate Machine Learning](https://www.kaggle.com/learn/intermediate-machine-learning) course.  You can reference the tutorial at [this link](https://www.kaggle.com/alexisbcook/missing-values).**\n",
    "\n",
    "---\n"
   ]
  },
  {
   "cell_type": "markdown",
   "id": "c5ee6736",
   "metadata": {
    "papermill": {
     "duration": 0.012064,
     "end_time": "2024-11-09T23:10:05.904209",
     "exception": false,
     "start_time": "2024-11-09T23:10:05.892145",
     "status": "completed"
    },
    "tags": []
   },
   "source": [
    "Now it's your turn to test your new knowledge of **missing values** handling. You'll probably find it makes a big difference.\n",
    "\n",
    "# Setup\n",
    "\n",
    "The questions will give you feedback on your work. Run the following cell to set up the feedback system."
   ]
  },
  {
   "cell_type": "code",
   "execution_count": 1,
   "id": "bdcde952",
   "metadata": {
    "execution": {
     "iopub.execute_input": "2024-11-09T23:10:05.930360Z",
     "iopub.status.busy": "2024-11-09T23:10:05.929800Z",
     "iopub.status.idle": "2024-11-09T23:10:06.980323Z",
     "shell.execute_reply": "2024-11-09T23:10:06.978977Z"
    },
    "papermill": {
     "duration": 1.066714,
     "end_time": "2024-11-09T23:10:06.982999",
     "exception": false,
     "start_time": "2024-11-09T23:10:05.916285",
     "status": "completed"
    },
    "tags": []
   },
   "outputs": [
    {
     "name": "stdout",
     "output_type": "stream",
     "text": [
      "Setup Complete\n"
     ]
    }
   ],
   "source": [
    "# Set up code checking\n",
    "import os\n",
    "if not os.path.exists(\"../input/train.csv\"):\n",
    "    os.symlink(\"../input/home-data-for-ml-course/train.csv\", \"../input/train.csv\")  \n",
    "    os.symlink(\"../input/home-data-for-ml-course/test.csv\", \"../input/test.csv\") \n",
    "from learntools.core import binder\n",
    "binder.bind(globals())\n",
    "from learntools.ml_intermediate.ex2 import *\n",
    "print(\"Setup Complete\")"
   ]
  },
  {
   "cell_type": "markdown",
   "id": "276e116a",
   "metadata": {
    "papermill": {
     "duration": 0.011576,
     "end_time": "2024-11-09T23:10:07.007682",
     "exception": false,
     "start_time": "2024-11-09T23:10:06.996106",
     "status": "completed"
    },
    "tags": []
   },
   "source": [
    "In this exercise, you will work with data from the [Housing Prices Competition for Kaggle Learn Users](https://www.kaggle.com/c/home-data-for-ml-course). \n",
    "\n",
    "![Ames Housing dataset image](https://storage.googleapis.com/kaggle-media/learn/images/lTJVG4e.png)\n",
    "\n",
    "Run the next code cell without changes to load the training and validation sets in `X_train`, `X_valid`, `y_train`, and `y_valid`.  The test set is loaded in `X_test`."
   ]
  },
  {
   "cell_type": "code",
   "execution_count": 2,
   "id": "38421092",
   "metadata": {
    "execution": {
     "iopub.execute_input": "2024-11-09T23:10:07.033881Z",
     "iopub.status.busy": "2024-11-09T23:10:07.033251Z",
     "iopub.status.idle": "2024-11-09T23:10:08.729417Z",
     "shell.execute_reply": "2024-11-09T23:10:08.728074Z"
    },
    "papermill": {
     "duration": 1.71281,
     "end_time": "2024-11-09T23:10:08.732487",
     "exception": false,
     "start_time": "2024-11-09T23:10:07.019677",
     "status": "completed"
    },
    "tags": []
   },
   "outputs": [],
   "source": [
    "import pandas as pd\n",
    "from sklearn.model_selection import train_test_split\n",
    "\n",
    "# Read the data\n",
    "X_full = pd.read_csv('../input/train.csv', index_col='Id')\n",
    "X_test_full = pd.read_csv('../input/test.csv', index_col='Id')\n",
    "\n",
    "# Remove rows with missing target, separate target from predictors\n",
    "X_full.dropna(axis=0, subset=['SalePrice'], inplace=True)\n",
    "y = X_full.SalePrice\n",
    "X_full.drop(['SalePrice'], axis=1, inplace=True)\n",
    "\n",
    "# To keep things simple, we'll use only numerical predictors\n",
    "X = X_full.select_dtypes(exclude=['object'])\n",
    "X_test = X_test_full.select_dtypes(exclude=['object'])\n",
    "\n",
    "# Break off validation set from training data\n",
    "X_train, X_valid, y_train, y_valid = train_test_split(X, y, train_size=0.8, test_size=0.2,\n",
    "                                                      random_state=0)"
   ]
  },
  {
   "cell_type": "markdown",
   "id": "df5160d9",
   "metadata": {
    "papermill": {
     "duration": 0.011676,
     "end_time": "2024-11-09T23:10:08.756398",
     "exception": false,
     "start_time": "2024-11-09T23:10:08.744722",
     "status": "completed"
    },
    "tags": []
   },
   "source": [
    "Use the next code cell to print the first five rows of the data."
   ]
  },
  {
   "cell_type": "code",
   "execution_count": 3,
   "id": "10c1c4a3",
   "metadata": {
    "execution": {
     "iopub.execute_input": "2024-11-09T23:10:08.782143Z",
     "iopub.status.busy": "2024-11-09T23:10:08.781602Z",
     "iopub.status.idle": "2024-11-09T23:10:08.812924Z",
     "shell.execute_reply": "2024-11-09T23:10:08.811692Z"
    },
    "papermill": {
     "duration": 0.04736,
     "end_time": "2024-11-09T23:10:08.815874",
     "exception": false,
     "start_time": "2024-11-09T23:10:08.768514",
     "status": "completed"
    },
    "tags": []
   },
   "outputs": [
    {
     "data": {
      "text/html": [
       "<div>\n",
       "<style scoped>\n",
       "    .dataframe tbody tr th:only-of-type {\n",
       "        vertical-align: middle;\n",
       "    }\n",
       "\n",
       "    .dataframe tbody tr th {\n",
       "        vertical-align: top;\n",
       "    }\n",
       "\n",
       "    .dataframe thead th {\n",
       "        text-align: right;\n",
       "    }\n",
       "</style>\n",
       "<table border=\"1\" class=\"dataframe\">\n",
       "  <thead>\n",
       "    <tr style=\"text-align: right;\">\n",
       "      <th></th>\n",
       "      <th>MSSubClass</th>\n",
       "      <th>LotFrontage</th>\n",
       "      <th>LotArea</th>\n",
       "      <th>OverallQual</th>\n",
       "      <th>OverallCond</th>\n",
       "      <th>YearBuilt</th>\n",
       "      <th>YearRemodAdd</th>\n",
       "      <th>MasVnrArea</th>\n",
       "      <th>BsmtFinSF1</th>\n",
       "      <th>BsmtFinSF2</th>\n",
       "      <th>...</th>\n",
       "      <th>GarageArea</th>\n",
       "      <th>WoodDeckSF</th>\n",
       "      <th>OpenPorchSF</th>\n",
       "      <th>EnclosedPorch</th>\n",
       "      <th>3SsnPorch</th>\n",
       "      <th>ScreenPorch</th>\n",
       "      <th>PoolArea</th>\n",
       "      <th>MiscVal</th>\n",
       "      <th>MoSold</th>\n",
       "      <th>YrSold</th>\n",
       "    </tr>\n",
       "    <tr>\n",
       "      <th>Id</th>\n",
       "      <th></th>\n",
       "      <th></th>\n",
       "      <th></th>\n",
       "      <th></th>\n",
       "      <th></th>\n",
       "      <th></th>\n",
       "      <th></th>\n",
       "      <th></th>\n",
       "      <th></th>\n",
       "      <th></th>\n",
       "      <th></th>\n",
       "      <th></th>\n",
       "      <th></th>\n",
       "      <th></th>\n",
       "      <th></th>\n",
       "      <th></th>\n",
       "      <th></th>\n",
       "      <th></th>\n",
       "      <th></th>\n",
       "      <th></th>\n",
       "      <th></th>\n",
       "    </tr>\n",
       "  </thead>\n",
       "  <tbody>\n",
       "    <tr>\n",
       "      <th>619</th>\n",
       "      <td>20</td>\n",
       "      <td>90.0</td>\n",
       "      <td>11694</td>\n",
       "      <td>9</td>\n",
       "      <td>5</td>\n",
       "      <td>2007</td>\n",
       "      <td>2007</td>\n",
       "      <td>452.0</td>\n",
       "      <td>48</td>\n",
       "      <td>0</td>\n",
       "      <td>...</td>\n",
       "      <td>774</td>\n",
       "      <td>0</td>\n",
       "      <td>108</td>\n",
       "      <td>0</td>\n",
       "      <td>0</td>\n",
       "      <td>260</td>\n",
       "      <td>0</td>\n",
       "      <td>0</td>\n",
       "      <td>7</td>\n",
       "      <td>2007</td>\n",
       "    </tr>\n",
       "    <tr>\n",
       "      <th>871</th>\n",
       "      <td>20</td>\n",
       "      <td>60.0</td>\n",
       "      <td>6600</td>\n",
       "      <td>5</td>\n",
       "      <td>5</td>\n",
       "      <td>1962</td>\n",
       "      <td>1962</td>\n",
       "      <td>0.0</td>\n",
       "      <td>0</td>\n",
       "      <td>0</td>\n",
       "      <td>...</td>\n",
       "      <td>308</td>\n",
       "      <td>0</td>\n",
       "      <td>0</td>\n",
       "      <td>0</td>\n",
       "      <td>0</td>\n",
       "      <td>0</td>\n",
       "      <td>0</td>\n",
       "      <td>0</td>\n",
       "      <td>8</td>\n",
       "      <td>2009</td>\n",
       "    </tr>\n",
       "    <tr>\n",
       "      <th>93</th>\n",
       "      <td>30</td>\n",
       "      <td>80.0</td>\n",
       "      <td>13360</td>\n",
       "      <td>5</td>\n",
       "      <td>7</td>\n",
       "      <td>1921</td>\n",
       "      <td>2006</td>\n",
       "      <td>0.0</td>\n",
       "      <td>713</td>\n",
       "      <td>0</td>\n",
       "      <td>...</td>\n",
       "      <td>432</td>\n",
       "      <td>0</td>\n",
       "      <td>0</td>\n",
       "      <td>44</td>\n",
       "      <td>0</td>\n",
       "      <td>0</td>\n",
       "      <td>0</td>\n",
       "      <td>0</td>\n",
       "      <td>8</td>\n",
       "      <td>2009</td>\n",
       "    </tr>\n",
       "    <tr>\n",
       "      <th>818</th>\n",
       "      <td>20</td>\n",
       "      <td>NaN</td>\n",
       "      <td>13265</td>\n",
       "      <td>8</td>\n",
       "      <td>5</td>\n",
       "      <td>2002</td>\n",
       "      <td>2002</td>\n",
       "      <td>148.0</td>\n",
       "      <td>1218</td>\n",
       "      <td>0</td>\n",
       "      <td>...</td>\n",
       "      <td>857</td>\n",
       "      <td>150</td>\n",
       "      <td>59</td>\n",
       "      <td>0</td>\n",
       "      <td>0</td>\n",
       "      <td>0</td>\n",
       "      <td>0</td>\n",
       "      <td>0</td>\n",
       "      <td>7</td>\n",
       "      <td>2008</td>\n",
       "    </tr>\n",
       "    <tr>\n",
       "      <th>303</th>\n",
       "      <td>20</td>\n",
       "      <td>118.0</td>\n",
       "      <td>13704</td>\n",
       "      <td>7</td>\n",
       "      <td>5</td>\n",
       "      <td>2001</td>\n",
       "      <td>2002</td>\n",
       "      <td>150.0</td>\n",
       "      <td>0</td>\n",
       "      <td>0</td>\n",
       "      <td>...</td>\n",
       "      <td>843</td>\n",
       "      <td>468</td>\n",
       "      <td>81</td>\n",
       "      <td>0</td>\n",
       "      <td>0</td>\n",
       "      <td>0</td>\n",
       "      <td>0</td>\n",
       "      <td>0</td>\n",
       "      <td>1</td>\n",
       "      <td>2006</td>\n",
       "    </tr>\n",
       "  </tbody>\n",
       "</table>\n",
       "<p>5 rows × 36 columns</p>\n",
       "</div>"
      ],
      "text/plain": [
       "     MSSubClass  LotFrontage  LotArea  OverallQual  OverallCond  YearBuilt  \\\n",
       "Id                                                                           \n",
       "619          20         90.0    11694            9            5       2007   \n",
       "871          20         60.0     6600            5            5       1962   \n",
       "93           30         80.0    13360            5            7       1921   \n",
       "818          20          NaN    13265            8            5       2002   \n",
       "303          20        118.0    13704            7            5       2001   \n",
       "\n",
       "     YearRemodAdd  MasVnrArea  BsmtFinSF1  BsmtFinSF2  ...  GarageArea  \\\n",
       "Id                                                     ...               \n",
       "619          2007       452.0          48           0  ...         774   \n",
       "871          1962         0.0           0           0  ...         308   \n",
       "93           2006         0.0         713           0  ...         432   \n",
       "818          2002       148.0        1218           0  ...         857   \n",
       "303          2002       150.0           0           0  ...         843   \n",
       "\n",
       "     WoodDeckSF  OpenPorchSF  EnclosedPorch  3SsnPorch  ScreenPorch  PoolArea  \\\n",
       "Id                                                                              \n",
       "619           0          108              0          0          260         0   \n",
       "871           0            0              0          0            0         0   \n",
       "93            0            0             44          0            0         0   \n",
       "818         150           59              0          0            0         0   \n",
       "303         468           81              0          0            0         0   \n",
       "\n",
       "     MiscVal  MoSold  YrSold  \n",
       "Id                            \n",
       "619        0       7    2007  \n",
       "871        0       8    2009  \n",
       "93         0       8    2009  \n",
       "818        0       7    2008  \n",
       "303        0       1    2006  \n",
       "\n",
       "[5 rows x 36 columns]"
      ]
     },
     "execution_count": 3,
     "metadata": {},
     "output_type": "execute_result"
    }
   ],
   "source": [
    "X_train.head()"
   ]
  },
  {
   "cell_type": "markdown",
   "id": "60e60c96",
   "metadata": {
    "papermill": {
     "duration": 0.012104,
     "end_time": "2024-11-09T23:10:08.840712",
     "exception": false,
     "start_time": "2024-11-09T23:10:08.828608",
     "status": "completed"
    },
    "tags": []
   },
   "source": [
    "You can already see a few missing values in the first several rows.  In the next step, you'll obtain a more comprehensive understanding of the missing values in the dataset.\n",
    "\n",
    "# Step 1: Preliminary investigation\n",
    "\n",
    "Run the code cell below without changes."
   ]
  },
  {
   "cell_type": "code",
   "execution_count": 4,
   "id": "44818062",
   "metadata": {
    "execution": {
     "iopub.execute_input": "2024-11-09T23:10:08.867711Z",
     "iopub.status.busy": "2024-11-09T23:10:08.867271Z",
     "iopub.status.idle": "2024-11-09T23:10:08.876411Z",
     "shell.execute_reply": "2024-11-09T23:10:08.875087Z"
    },
    "papermill": {
     "duration": 0.025775,
     "end_time": "2024-11-09T23:10:08.879209",
     "exception": false,
     "start_time": "2024-11-09T23:10:08.853434",
     "status": "completed"
    },
    "tags": []
   },
   "outputs": [
    {
     "name": "stdout",
     "output_type": "stream",
     "text": [
      "(1168, 36)\n",
      "LotFrontage    212\n",
      "MasVnrArea       6\n",
      "GarageYrBlt     58\n",
      "dtype: int64\n"
     ]
    }
   ],
   "source": [
    "# Shape of training data (num_rows, num_columns)\n",
    "print(X_train.shape)\n",
    "\n",
    "# Number of missing values in each column of training data\n",
    "missing_val_count_by_column = (X_train.isnull().sum())\n",
    "print(missing_val_count_by_column[missing_val_count_by_column > 0])"
   ]
  },
  {
   "cell_type": "markdown",
   "id": "c751930f",
   "metadata": {
    "papermill": {
     "duration": 0.012393,
     "end_time": "2024-11-09T23:10:08.904223",
     "exception": false,
     "start_time": "2024-11-09T23:10:08.891830",
     "status": "completed"
    },
    "tags": []
   },
   "source": [
    "### Part A\n",
    "\n",
    "Use the above output to answer the questions below."
   ]
  },
  {
   "cell_type": "code",
   "execution_count": 5,
   "id": "8be04ad8",
   "metadata": {
    "execution": {
     "iopub.execute_input": "2024-11-09T23:10:08.931143Z",
     "iopub.status.busy": "2024-11-09T23:10:08.930713Z",
     "iopub.status.idle": "2024-11-09T23:10:08.941317Z",
     "shell.execute_reply": "2024-11-09T23:10:08.940233Z"
    },
    "papermill": {
     "duration": 0.027026,
     "end_time": "2024-11-09T23:10:08.943846",
     "exception": false,
     "start_time": "2024-11-09T23:10:08.916820",
     "status": "completed"
    },
    "tags": []
   },
   "outputs": [
    {
     "data": {
      "application/javascript": [
       "parent.postMessage({\"jupyterEvent\": \"custom.exercise_interaction\", \"data\": {\"outcomeType\": 1, \"valueTowardsCompletion\": 1.0, \"interactionType\": 1, \"questionType\": 1, \"questionId\": \"1.1_InvestigateEquality\", \"learnToolsVersion\": \"0.3.4\", \"failureMessage\": \"\", \"exceptionClass\": \"\", \"trace\": \"\"}}, \"*\")"
      ],
      "text/plain": [
       "<IPython.core.display.Javascript object>"
      ]
     },
     "metadata": {},
     "output_type": "display_data"
    },
    {
     "data": {
      "text/markdown": [
       "<span style=\"color:#33cc33\">Correct</span>"
      ],
      "text/plain": [
       "Correct"
      ]
     },
     "metadata": {},
     "output_type": "display_data"
    }
   ],
   "source": [
    "# Fill in the line below: How many rows are in the training data?\n",
    "num_rows = 1168\n",
    "\n",
    "# Fill in the line below: How many columns in the training data\n",
    "# have missing values?\n",
    "num_cols_with_missing = 3\n",
    "\n",
    "# Fill in the line below: How many missing entries are contained in \n",
    "# all of the training data?\n",
    "tot_missing = 276\n",
    "\n",
    "# Check your answers\n",
    "step_1.a.check()"
   ]
  },
  {
   "cell_type": "code",
   "execution_count": 6,
   "id": "b094ba3b",
   "metadata": {
    "execution": {
     "iopub.execute_input": "2024-11-09T23:10:08.973184Z",
     "iopub.status.busy": "2024-11-09T23:10:08.972746Z",
     "iopub.status.idle": "2024-11-09T23:10:08.977202Z",
     "shell.execute_reply": "2024-11-09T23:10:08.976162Z"
    },
    "papermill": {
     "duration": 0.022877,
     "end_time": "2024-11-09T23:10:08.979716",
     "exception": false,
     "start_time": "2024-11-09T23:10:08.956839",
     "status": "completed"
    },
    "tags": []
   },
   "outputs": [],
   "source": [
    "# Lines below will give you a hint or solution code\n",
    "#step_1.a.hint()\n",
    "#step_1.a.solution()"
   ]
  },
  {
   "cell_type": "markdown",
   "id": "19e6634a",
   "metadata": {
    "papermill": {
     "duration": 0.012577,
     "end_time": "2024-11-09T23:10:09.005247",
     "exception": false,
     "start_time": "2024-11-09T23:10:08.992670",
     "status": "completed"
    },
    "tags": []
   },
   "source": [
    "### Part B\n",
    "Considering your answers above, what do you think is likely the best approach to dealing with the missing values?"
   ]
  },
  {
   "cell_type": "code",
   "execution_count": 7,
   "id": "a6a47218",
   "metadata": {
    "execution": {
     "iopub.execute_input": "2024-11-09T23:10:09.033202Z",
     "iopub.status.busy": "2024-11-09T23:10:09.032762Z",
     "iopub.status.idle": "2024-11-09T23:10:09.042503Z",
     "shell.execute_reply": "2024-11-09T23:10:09.041324Z"
    },
    "papermill": {
     "duration": 0.026762,
     "end_time": "2024-11-09T23:10:09.044889",
     "exception": false,
     "start_time": "2024-11-09T23:10:09.018127",
     "status": "completed"
    },
    "tags": []
   },
   "outputs": [
    {
     "data": {
      "application/javascript": [
       "parent.postMessage({\"jupyterEvent\": \"custom.exercise_interaction\", \"data\": {\"outcomeType\": 1, \"valueTowardsCompletion\": 1.0, \"interactionType\": 1, \"questionType\": 4, \"questionId\": \"1.2_InvestigateThought\", \"learnToolsVersion\": \"0.3.4\", \"failureMessage\": \"\", \"exceptionClass\": \"\", \"trace\": \"\"}}, \"*\")"
      ],
      "text/plain": [
       "<IPython.core.display.Javascript object>"
      ]
     },
     "metadata": {},
     "output_type": "display_data"
    },
    {
     "data": {
      "text/markdown": [
       "<span style=\"color:#33cc33\">Correct:</span> \n",
       "\n",
       "Since there are relatively few missing entries in the data (the column with the greatest percentage of missing values is missing less than 20% of its entries), we can expect that dropping columns is unlikely to yield good results.  This is because we'd be throwing away a lot of valuable data, and so imputation will likely perform better."
      ],
      "text/plain": [
       "Correct: \n",
       "\n",
       "Since there are relatively few missing entries in the data (the column with the greatest percentage of missing values is missing less than 20% of its entries), we can expect that dropping columns is unlikely to yield good results.  This is because we'd be throwing away a lot of valuable data, and so imputation will likely perform better."
      ]
     },
     "metadata": {},
     "output_type": "display_data"
    }
   ],
   "source": [
    "# Check your answer (Run this code cell to receive credit!)\n",
    "step_1.b.check()"
   ]
  },
  {
   "cell_type": "code",
   "execution_count": 8,
   "id": "b64d2cd3",
   "metadata": {
    "execution": {
     "iopub.execute_input": "2024-11-09T23:10:09.073486Z",
     "iopub.status.busy": "2024-11-09T23:10:09.072969Z",
     "iopub.status.idle": "2024-11-09T23:10:09.078603Z",
     "shell.execute_reply": "2024-11-09T23:10:09.077334Z"
    },
    "papermill": {
     "duration": 0.023029,
     "end_time": "2024-11-09T23:10:09.081145",
     "exception": false,
     "start_time": "2024-11-09T23:10:09.058116",
     "status": "completed"
    },
    "tags": []
   },
   "outputs": [],
   "source": [
    "#step_1.b.hint()"
   ]
  },
  {
   "cell_type": "markdown",
   "id": "96a1aed5",
   "metadata": {
    "papermill": {
     "duration": 0.012893,
     "end_time": "2024-11-09T23:10:09.107896",
     "exception": false,
     "start_time": "2024-11-09T23:10:09.095003",
     "status": "completed"
    },
    "tags": []
   },
   "source": [
    "To compare different approaches to dealing with missing values, you'll use the same `score_dataset()` function from the tutorial.  This function reports the [mean absolute error](https://en.wikipedia.org/wiki/Mean_absolute_error) (MAE) from a random forest model."
   ]
  },
  {
   "cell_type": "code",
   "execution_count": 9,
   "id": "dee77db0",
   "metadata": {
    "execution": {
     "iopub.execute_input": "2024-11-09T23:10:09.137189Z",
     "iopub.status.busy": "2024-11-09T23:10:09.136763Z",
     "iopub.status.idle": "2024-11-09T23:10:09.509724Z",
     "shell.execute_reply": "2024-11-09T23:10:09.508555Z"
    },
    "papermill": {
     "duration": 0.390819,
     "end_time": "2024-11-09T23:10:09.512574",
     "exception": false,
     "start_time": "2024-11-09T23:10:09.121755",
     "status": "completed"
    },
    "tags": []
   },
   "outputs": [],
   "source": [
    "from sklearn.ensemble import RandomForestRegressor\n",
    "from sklearn.metrics import mean_absolute_error\n",
    "\n",
    "# Function for comparing different approaches\n",
    "def score_dataset(X_train, X_valid, y_train, y_valid):\n",
    "    model = RandomForestRegressor(n_estimators=100, random_state=0)\n",
    "    model.fit(X_train, y_train)\n",
    "    preds = model.predict(X_valid)\n",
    "    return mean_absolute_error(y_valid, preds)"
   ]
  },
  {
   "cell_type": "markdown",
   "id": "1ab8e8ed",
   "metadata": {
    "papermill": {
     "duration": 0.013018,
     "end_time": "2024-11-09T23:10:09.539618",
     "exception": false,
     "start_time": "2024-11-09T23:10:09.526600",
     "status": "completed"
    },
    "tags": []
   },
   "source": [
    "# Step 2: Drop columns with missing values\n",
    "\n",
    "In this step, you'll preprocess the data in `X_train` and `X_valid` to remove columns with missing values.  Set the preprocessed DataFrames to `reduced_X_train` and `reduced_X_valid`, respectively.  "
   ]
  },
  {
   "cell_type": "code",
   "execution_count": 10,
   "id": "ad33c9ed",
   "metadata": {
    "execution": {
     "iopub.execute_input": "2024-11-09T23:10:09.568756Z",
     "iopub.status.busy": "2024-11-09T23:10:09.568311Z",
     "iopub.status.idle": "2024-11-09T23:10:09.598400Z",
     "shell.execute_reply": "2024-11-09T23:10:09.597215Z"
    },
    "papermill": {
     "duration": 0.048076,
     "end_time": "2024-11-09T23:10:09.601285",
     "exception": false,
     "start_time": "2024-11-09T23:10:09.553209",
     "status": "completed"
    },
    "tags": []
   },
   "outputs": [
    {
     "data": {
      "application/javascript": [
       "parent.postMessage({\"jupyterEvent\": \"custom.exercise_interaction\", \"data\": {\"outcomeType\": 1, \"valueTowardsCompletion\": 1.0, \"interactionType\": 1, \"questionType\": 2, \"questionId\": \"2_DropMissing\", \"learnToolsVersion\": \"0.3.4\", \"failureMessage\": \"\", \"exceptionClass\": \"\", \"trace\": \"\"}}, \"*\")"
      ],
      "text/plain": [
       "<IPython.core.display.Javascript object>"
      ]
     },
     "metadata": {},
     "output_type": "display_data"
    },
    {
     "data": {
      "text/markdown": [
       "<span style=\"color:#33cc33\">Correct</span>"
      ],
      "text/plain": [
       "Correct"
      ]
     },
     "metadata": {},
     "output_type": "display_data"
    }
   ],
   "source": [
    "# Your code here\n",
    "# Fill in the line below: get names of columns with missing values\n",
    "missing_cols = [col for col in X_train.columns if X_train[col].isnull().any()]\n",
    "\n",
    "# Drop columns in training and validation data\n",
    "reduced_X_train = X_train.drop(missing_cols, axis=1)\n",
    "reduced_X_valid = X_valid.drop(missing_cols, axis=1)\n",
    "\n",
    "# Check your answers\n",
    "step_2.check()"
   ]
  },
  {
   "cell_type": "code",
   "execution_count": 11,
   "id": "f5842b32",
   "metadata": {
    "execution": {
     "iopub.execute_input": "2024-11-09T23:10:09.631174Z",
     "iopub.status.busy": "2024-11-09T23:10:09.630703Z",
     "iopub.status.idle": "2024-11-09T23:10:09.636116Z",
     "shell.execute_reply": "2024-11-09T23:10:09.634708Z"
    },
    "papermill": {
     "duration": 0.0239,
     "end_time": "2024-11-09T23:10:09.639144",
     "exception": false,
     "start_time": "2024-11-09T23:10:09.615244",
     "status": "completed"
    },
    "tags": []
   },
   "outputs": [],
   "source": [
    "# Lines below will give you a hint or solution code\n",
    "#step_2.hint()\n",
    "#step_2.solution()"
   ]
  },
  {
   "cell_type": "markdown",
   "id": "2ced4297",
   "metadata": {
    "papermill": {
     "duration": 0.013321,
     "end_time": "2024-11-09T23:10:09.666571",
     "exception": false,
     "start_time": "2024-11-09T23:10:09.653250",
     "status": "completed"
    },
    "tags": []
   },
   "source": [
    "Run the next code cell without changes to obtain the MAE for this approach."
   ]
  },
  {
   "cell_type": "code",
   "execution_count": 12,
   "id": "c61ea01e",
   "metadata": {
    "execution": {
     "iopub.execute_input": "2024-11-09T23:10:09.695959Z",
     "iopub.status.busy": "2024-11-09T23:10:09.695490Z",
     "iopub.status.idle": "2024-11-09T23:10:11.044737Z",
     "shell.execute_reply": "2024-11-09T23:10:11.042931Z"
    },
    "papermill": {
     "duration": 1.367426,
     "end_time": "2024-11-09T23:10:11.047622",
     "exception": false,
     "start_time": "2024-11-09T23:10:09.680196",
     "status": "completed"
    },
    "tags": []
   },
   "outputs": [
    {
     "name": "stdout",
     "output_type": "stream",
     "text": [
      "MAE (Drop columns with missing values):\n",
      "17837.82570776256\n"
     ]
    }
   ],
   "source": [
    "print(\"MAE (Drop columns with missing values):\")\n",
    "print(score_dataset(reduced_X_train, reduced_X_valid, y_train, y_valid))"
   ]
  },
  {
   "cell_type": "markdown",
   "id": "fa10cadb",
   "metadata": {
    "papermill": {
     "duration": 0.014657,
     "end_time": "2024-11-09T23:10:11.077578",
     "exception": false,
     "start_time": "2024-11-09T23:10:11.062921",
     "status": "completed"
    },
    "tags": []
   },
   "source": [
    "# Step 3: Imputation\n",
    "\n",
    "### Part A\n",
    "\n",
    "Use the next code cell to impute missing values with the mean value along each column.  Set the preprocessed DataFrames to `imputed_X_train` and `imputed_X_valid`.  Make sure that the column names match those in `X_train` and `X_valid`."
   ]
  },
  {
   "cell_type": "code",
   "execution_count": 13,
   "id": "4560a464",
   "metadata": {
    "execution": {
     "iopub.execute_input": "2024-11-09T23:10:11.117891Z",
     "iopub.status.busy": "2024-11-09T23:10:11.117335Z",
     "iopub.status.idle": "2024-11-09T23:10:11.174580Z",
     "shell.execute_reply": "2024-11-09T23:10:11.172578Z"
    },
    "papermill": {
     "duration": 0.084839,
     "end_time": "2024-11-09T23:10:11.179982",
     "exception": false,
     "start_time": "2024-11-09T23:10:11.095143",
     "status": "completed"
    },
    "tags": []
   },
   "outputs": [
    {
     "data": {
      "application/javascript": [
       "parent.postMessage({\"jupyterEvent\": \"custom.exercise_interaction\", \"data\": {\"outcomeType\": 1, \"valueTowardsCompletion\": 1.0, \"interactionType\": 1, \"questionType\": 2, \"questionId\": \"3.1_ImputeCode\", \"learnToolsVersion\": \"0.3.4\", \"failureMessage\": \"\", \"exceptionClass\": \"\", \"trace\": \"\"}}, \"*\")"
      ],
      "text/plain": [
       "<IPython.core.display.Javascript object>"
      ]
     },
     "metadata": {},
     "output_type": "display_data"
    },
    {
     "data": {
      "text/markdown": [
       "<span style=\"color:#33cc33\">Correct</span>"
      ],
      "text/plain": [
       "Correct"
      ]
     },
     "metadata": {},
     "output_type": "display_data"
    }
   ],
   "source": [
    "from sklearn.impute import SimpleImputer\n",
    "# Your code here\n",
    "# Fill in the lines below: imputation\n",
    "imputer= SimpleImputer()\n",
    "imputed_X_train = pd.DataFrame(imputer.fit_transform(X_train))\n",
    "imputed_X_valid = pd.DataFrame(imputer.transform(X_valid))\n",
    "\n",
    "# Fill in the lines below: imputation removed column names; put them back\n",
    "imputed_X_train.columns = X_train.columns\n",
    "imputed_X_valid.columns = X_valid.columns\n",
    "\n",
    "# Check your answers\n",
    "step_3.a.check()"
   ]
  },
  {
   "cell_type": "code",
   "execution_count": 14,
   "id": "9a783f49",
   "metadata": {
    "execution": {
     "iopub.execute_input": "2024-11-09T23:10:11.224433Z",
     "iopub.status.busy": "2024-11-09T23:10:11.222908Z",
     "iopub.status.idle": "2024-11-09T23:10:11.229579Z",
     "shell.execute_reply": "2024-11-09T23:10:11.228090Z"
    },
    "papermill": {
     "duration": 0.033114,
     "end_time": "2024-11-09T23:10:11.233458",
     "exception": false,
     "start_time": "2024-11-09T23:10:11.200344",
     "status": "completed"
    },
    "tags": []
   },
   "outputs": [],
   "source": [
    "# Lines below will give you a hint or solution code\n",
    "#step_3.a.hint()\n",
    "#step_3.a.solution()"
   ]
  },
  {
   "cell_type": "markdown",
   "id": "276af38f",
   "metadata": {
    "papermill": {
     "duration": 0.013791,
     "end_time": "2024-11-09T23:10:11.262570",
     "exception": false,
     "start_time": "2024-11-09T23:10:11.248779",
     "status": "completed"
    },
    "tags": []
   },
   "source": [
    "Run the next code cell without changes to obtain the MAE for this approach."
   ]
  },
  {
   "cell_type": "code",
   "execution_count": 15,
   "id": "3e66fbf6",
   "metadata": {
    "execution": {
     "iopub.execute_input": "2024-11-09T23:10:11.293420Z",
     "iopub.status.busy": "2024-11-09T23:10:11.292939Z",
     "iopub.status.idle": "2024-11-09T23:10:12.766563Z",
     "shell.execute_reply": "2024-11-09T23:10:12.765117Z"
    },
    "papermill": {
     "duration": 1.491867,
     "end_time": "2024-11-09T23:10:12.769341",
     "exception": false,
     "start_time": "2024-11-09T23:10:11.277474",
     "status": "completed"
    },
    "tags": []
   },
   "outputs": [
    {
     "name": "stdout",
     "output_type": "stream",
     "text": [
      "MAE (Imputation):\n",
      "18062.894611872147\n"
     ]
    }
   ],
   "source": [
    "print(\"MAE (Imputation):\")\n",
    "print(score_dataset(imputed_X_train, imputed_X_valid, y_train, y_valid))"
   ]
  },
  {
   "cell_type": "markdown",
   "id": "8a8c9446",
   "metadata": {
    "papermill": {
     "duration": 0.013915,
     "end_time": "2024-11-09T23:10:12.797520",
     "exception": false,
     "start_time": "2024-11-09T23:10:12.783605",
     "status": "completed"
    },
    "tags": []
   },
   "source": [
    "### Part B\n",
    "\n",
    "Compare the MAE from each approach.  Does anything surprise you about the results?  Why do you think one approach performed better than the other?"
   ]
  },
  {
   "cell_type": "code",
   "execution_count": 16,
   "id": "1a1c6584",
   "metadata": {
    "execution": {
     "iopub.execute_input": "2024-11-09T23:10:12.827908Z",
     "iopub.status.busy": "2024-11-09T23:10:12.827369Z",
     "iopub.status.idle": "2024-11-09T23:10:12.837684Z",
     "shell.execute_reply": "2024-11-09T23:10:12.836330Z"
    },
    "papermill": {
     "duration": 0.028566,
     "end_time": "2024-11-09T23:10:12.840356",
     "exception": false,
     "start_time": "2024-11-09T23:10:12.811790",
     "status": "completed"
    },
    "tags": []
   },
   "outputs": [
    {
     "data": {
      "application/javascript": [
       "parent.postMessage({\"jupyterEvent\": \"custom.exercise_interaction\", \"data\": {\"outcomeType\": 1, \"valueTowardsCompletion\": 1.0, \"interactionType\": 1, \"questionType\": 4, \"questionId\": \"3.2_ImputeThought\", \"learnToolsVersion\": \"0.3.4\", \"failureMessage\": \"\", \"exceptionClass\": \"\", \"trace\": \"\"}}, \"*\")"
      ],
      "text/plain": [
       "<IPython.core.display.Javascript object>"
      ]
     },
     "metadata": {},
     "output_type": "display_data"
    },
    {
     "data": {
      "text/markdown": [
       "<span style=\"color:#33cc33\">Correct:</span> \n",
       "\n",
       "Given that thre are so few missing values in the dataset, we'd expect imputation to perform better than dropping columns entirely.  However, we see that dropping columns performs slightly better!  While this can probably partially be attributed to noise in the dataset, another potential explanation is that the imputation method is not a great match to this dataset.  That is, maybe instead of filling in the mean value, it makes more sense to set every missing value to a value of 0, to fill in the most frequently encountered value, or to use some other method.  For instance, consider the `GarageYrBlt` column (which indicates the year that the garage was built).  It's likely that in some cases, a missing value could indicate a house that does not have a garage.  Does it make more sense to fill in the median value along each column in this case?  Or could we get better results by filling in the minimum value along each column?  It's not quite clear what's best in this case, but perhaps we can rule out some options immediately - for instance, setting missing values in this column to 0 is likely to yield horrible results!"
      ],
      "text/plain": [
       "Correct: \n",
       "\n",
       "Given that thre are so few missing values in the dataset, we'd expect imputation to perform better than dropping columns entirely.  However, we see that dropping columns performs slightly better!  While this can probably partially be attributed to noise in the dataset, another potential explanation is that the imputation method is not a great match to this dataset.  That is, maybe instead of filling in the mean value, it makes more sense to set every missing value to a value of 0, to fill in the most frequently encountered value, or to use some other method.  For instance, consider the `GarageYrBlt` column (which indicates the year that the garage was built).  It's likely that in some cases, a missing value could indicate a house that does not have a garage.  Does it make more sense to fill in the median value along each column in this case?  Or could we get better results by filling in the minimum value along each column?  It's not quite clear what's best in this case, but perhaps we can rule out some options immediately - for instance, setting missing values in this column to 0 is likely to yield horrible results!"
      ]
     },
     "metadata": {},
     "output_type": "display_data"
    }
   ],
   "source": [
    "# Check your answer (Run this code cell to receive credit!)\n",
    "step_3.b.check()"
   ]
  },
  {
   "cell_type": "code",
   "execution_count": 17,
   "id": "a38e239f",
   "metadata": {
    "execution": {
     "iopub.execute_input": "2024-11-09T23:10:12.871956Z",
     "iopub.status.busy": "2024-11-09T23:10:12.871509Z",
     "iopub.status.idle": "2024-11-09T23:10:12.876756Z",
     "shell.execute_reply": "2024-11-09T23:10:12.875470Z"
    },
    "papermill": {
     "duration": 0.024142,
     "end_time": "2024-11-09T23:10:12.879196",
     "exception": false,
     "start_time": "2024-11-09T23:10:12.855054",
     "status": "completed"
    },
    "tags": []
   },
   "outputs": [],
   "source": [
    "#step_3.b.hint()"
   ]
  },
  {
   "cell_type": "markdown",
   "id": "57649ea1",
   "metadata": {
    "papermill": {
     "duration": 0.014126,
     "end_time": "2024-11-09T23:10:12.907906",
     "exception": false,
     "start_time": "2024-11-09T23:10:12.893780",
     "status": "completed"
    },
    "tags": []
   },
   "source": [
    "# Step 4: Generate test predictions\n",
    "\n",
    "In this final step, you'll use any approach of your choosing to deal with missing values.  Once you've preprocessed the training and validation features, you'll train and evaluate a random forest model.  Then, you'll preprocess the test data before generating predictions that can be submitted to the competition!\n",
    "\n",
    "### Part A\n",
    "\n",
    "Use the next code cell to preprocess the training and validation data.  Set the preprocessed DataFrames to `final_X_train` and `final_X_valid`.  **You can use any approach of your choosing here!**  in order for this step to be marked as correct, you need only ensure:\n",
    "- the preprocessed DataFrames have the same number of columns,\n",
    "- the preprocessed DataFrames have no missing values, \n",
    "- `final_X_train` and `y_train` have the same number of rows, and\n",
    "- `final_X_valid` and `y_valid` have the same number of rows."
   ]
  },
  {
   "cell_type": "code",
   "execution_count": 18,
   "id": "64b749de",
   "metadata": {
    "execution": {
     "iopub.execute_input": "2024-11-09T23:10:12.938937Z",
     "iopub.status.busy": "2024-11-09T23:10:12.938496Z",
     "iopub.status.idle": "2024-11-09T23:10:12.968694Z",
     "shell.execute_reply": "2024-11-09T23:10:12.967547Z"
    },
    "papermill": {
     "duration": 0.048583,
     "end_time": "2024-11-09T23:10:12.971174",
     "exception": false,
     "start_time": "2024-11-09T23:10:12.922591",
     "status": "completed"
    },
    "tags": []
   },
   "outputs": [
    {
     "data": {
      "application/javascript": [
       "parent.postMessage({\"jupyterEvent\": \"custom.exercise_interaction\", \"data\": {\"outcomeType\": 1, \"valueTowardsCompletion\": 1.0, \"interactionType\": 1, \"questionType\": 2, \"questionId\": \"4.1_PredsCodeA\", \"learnToolsVersion\": \"0.3.4\", \"failureMessage\": \"\", \"exceptionClass\": \"\", \"trace\": \"\"}}, \"*\")"
      ],
      "text/plain": [
       "<IPython.core.display.Javascript object>"
      ]
     },
     "metadata": {},
     "output_type": "display_data"
    },
    {
     "data": {
      "text/markdown": [
       "<span style=\"color:#33cc33\">Correct</span>"
      ],
      "text/plain": [
       "Correct"
      ]
     },
     "metadata": {},
     "output_type": "display_data"
    }
   ],
   "source": [
    "# Preprocessed training and validation features\n",
    "imputer = SimpleImputer()\n",
    "final_X_train = pd.DataFrame(imputer.fit_transform(X_train))\n",
    "final_X_valid = pd.DataFrame(imputer.transform(X_valid))\n",
    "final_X_train.columns = X_train.columns\n",
    "final_X_valid.columns = X_valid.columns\n",
    "# Check your answers\n",
    "step_4.a.check()"
   ]
  },
  {
   "cell_type": "code",
   "execution_count": 19,
   "id": "cd1751a3",
   "metadata": {
    "execution": {
     "iopub.execute_input": "2024-11-09T23:10:13.006419Z",
     "iopub.status.busy": "2024-11-09T23:10:13.005964Z",
     "iopub.status.idle": "2024-11-09T23:10:13.011160Z",
     "shell.execute_reply": "2024-11-09T23:10:13.010005Z"
    },
    "papermill": {
     "duration": 0.025203,
     "end_time": "2024-11-09T23:10:13.013656",
     "exception": false,
     "start_time": "2024-11-09T23:10:12.988453",
     "status": "completed"
    },
    "tags": []
   },
   "outputs": [],
   "source": [
    "# Lines below will give you a hint or solution code\n",
    "#step_4.a.hint()\n",
    "#step_4.a.solution()"
   ]
  },
  {
   "cell_type": "markdown",
   "id": "694e4f79",
   "metadata": {
    "papermill": {
     "duration": 0.014769,
     "end_time": "2024-11-09T23:10:13.043686",
     "exception": false,
     "start_time": "2024-11-09T23:10:13.028917",
     "status": "completed"
    },
    "tags": []
   },
   "source": [
    "Run the next code cell to train and evaluate a random forest model.  (*Note that we don't use the `score_dataset()` function above, because we will soon use the trained model to generate test predictions!*)"
   ]
  },
  {
   "cell_type": "code",
   "execution_count": 20,
   "id": "18653398",
   "metadata": {
    "execution": {
     "iopub.execute_input": "2024-11-09T23:10:13.076539Z",
     "iopub.status.busy": "2024-11-09T23:10:13.076120Z",
     "iopub.status.idle": "2024-11-09T23:10:14.529222Z",
     "shell.execute_reply": "2024-11-09T23:10:14.527824Z"
    },
    "papermill": {
     "duration": 1.472795,
     "end_time": "2024-11-09T23:10:14.532297",
     "exception": false,
     "start_time": "2024-11-09T23:10:13.059502",
     "status": "completed"
    },
    "tags": []
   },
   "outputs": [
    {
     "name": "stdout",
     "output_type": "stream",
     "text": [
      "MAE (Your approach):\n",
      "18062.894611872147\n"
     ]
    }
   ],
   "source": [
    "# Define and fit model\n",
    "model = RandomForestRegressor(n_estimators=100, random_state=0)\n",
    "model.fit(final_X_train, y_train)\n",
    "\n",
    "# Get validation predictions and MAE\n",
    "preds_valid = model.predict(final_X_valid)\n",
    "print(\"MAE (Your approach):\")\n",
    "print(mean_absolute_error(y_valid, preds_valid))"
   ]
  },
  {
   "cell_type": "markdown",
   "id": "5f3766ea",
   "metadata": {
    "papermill": {
     "duration": 0.014869,
     "end_time": "2024-11-09T23:10:14.562763",
     "exception": false,
     "start_time": "2024-11-09T23:10:14.547894",
     "status": "completed"
    },
    "tags": []
   },
   "source": [
    "### Part B\n",
    "\n",
    "Use the next code cell to preprocess your test data.  Make sure that you use a method that agrees with how you preprocessed the training and validation data, and set the preprocessed test features to `final_X_test`.\n",
    "\n",
    "Then, use the preprocessed test features and the trained model to generate test predictions in `preds_test`.\n",
    "\n",
    "In order for this step to be marked correct, you need only ensure:\n",
    "- the preprocessed test DataFrame has no missing values, and\n",
    "- `final_X_test` has the same number of rows as `X_test`."
   ]
  },
  {
   "cell_type": "code",
   "execution_count": 21,
   "id": "0382829a",
   "metadata": {
    "execution": {
     "iopub.execute_input": "2024-11-09T23:10:14.594826Z",
     "iopub.status.busy": "2024-11-09T23:10:14.594404Z",
     "iopub.status.idle": "2024-11-09T23:10:14.646404Z",
     "shell.execute_reply": "2024-11-09T23:10:14.645249Z"
    },
    "papermill": {
     "duration": 0.072399,
     "end_time": "2024-11-09T23:10:14.650346",
     "exception": false,
     "start_time": "2024-11-09T23:10:14.577947",
     "status": "completed"
    },
    "tags": []
   },
   "outputs": [
    {
     "name": "stderr",
     "output_type": "stream",
     "text": [
      "/opt/conda/lib/python3.10/site-packages/sklearn/base.py:439: UserWarning: X does not have valid feature names, but RandomForestRegressor was fitted with feature names\n",
      "  warnings.warn(\n"
     ]
    },
    {
     "data": {
      "application/javascript": [
       "parent.postMessage({\"jupyterEvent\": \"custom.exercise_interaction\", \"data\": {\"outcomeType\": 1, \"valueTowardsCompletion\": 1.0, \"interactionType\": 1, \"questionType\": 2, \"questionId\": \"4.2_PredsCodeB\", \"learnToolsVersion\": \"0.3.4\", \"failureMessage\": \"\", \"exceptionClass\": \"\", \"trace\": \"\"}}, \"*\")"
      ],
      "text/plain": [
       "<IPython.core.display.Javascript object>"
      ]
     },
     "metadata": {},
     "output_type": "display_data"
    },
    {
     "data": {
      "text/markdown": [
       "<span style=\"color:#33cc33\">Correct</span>"
      ],
      "text/plain": [
       "Correct"
      ]
     },
     "metadata": {},
     "output_type": "display_data"
    }
   ],
   "source": [
    "# Fill in the line below: preprocess test data\n",
    "final_X_test = pd.DataFrame(imputer.transform(X_test))\n",
    "\n",
    "# Fill in the line below: get test predictions\n",
    "preds_test = model.predict(final_X_test)\n",
    "\n",
    "# Check your answers\n",
    "step_4.b.check()"
   ]
  },
  {
   "cell_type": "code",
   "execution_count": 22,
   "id": "c4d42509",
   "metadata": {
    "execution": {
     "iopub.execute_input": "2024-11-09T23:10:14.683931Z",
     "iopub.status.busy": "2024-11-09T23:10:14.683461Z",
     "iopub.status.idle": "2024-11-09T23:10:14.688758Z",
     "shell.execute_reply": "2024-11-09T23:10:14.687561Z"
    },
    "papermill": {
     "duration": 0.025541,
     "end_time": "2024-11-09T23:10:14.691595",
     "exception": false,
     "start_time": "2024-11-09T23:10:14.666054",
     "status": "completed"
    },
    "tags": []
   },
   "outputs": [],
   "source": [
    "# Lines below will give you a hint or solution code\n",
    "#step_4.b.hint()\n",
    "#step_4.b.solution()"
   ]
  },
  {
   "cell_type": "markdown",
   "id": "bd60325d",
   "metadata": {
    "papermill": {
     "duration": 0.015306,
     "end_time": "2024-11-09T23:10:14.722631",
     "exception": false,
     "start_time": "2024-11-09T23:10:14.707325",
     "status": "completed"
    },
    "tags": []
   },
   "source": [
    "Run the next code cell without changes to save your results to a CSV file that can be submitted directly to the competition."
   ]
  },
  {
   "cell_type": "code",
   "execution_count": 23,
   "id": "4d6f4392",
   "metadata": {
    "execution": {
     "iopub.execute_input": "2024-11-09T23:10:14.756114Z",
     "iopub.status.busy": "2024-11-09T23:10:14.755628Z",
     "iopub.status.idle": "2024-11-09T23:10:14.769760Z",
     "shell.execute_reply": "2024-11-09T23:10:14.768479Z"
    },
    "papermill": {
     "duration": 0.034754,
     "end_time": "2024-11-09T23:10:14.773205",
     "exception": false,
     "start_time": "2024-11-09T23:10:14.738451",
     "status": "completed"
    },
    "tags": []
   },
   "outputs": [],
   "source": [
    "# Save test predictions to file\n",
    "output = pd.DataFrame({'Id': X_test.index,\n",
    "                       'SalePrice': preds_test})\n",
    "output.to_csv('submission.csv', index=False)"
   ]
  },
  {
   "cell_type": "markdown",
   "id": "d9f6315d",
   "metadata": {
    "papermill": {
     "duration": 0.016192,
     "end_time": "2024-11-09T23:10:14.805149",
     "exception": false,
     "start_time": "2024-11-09T23:10:14.788957",
     "status": "completed"
    },
    "tags": []
   },
   "source": [
    "# Submit your results\n",
    "\n",
    "Once you have successfully completed Step 4, you're ready to submit your results to the leaderboard!  (_You also learned how to do this in the previous exercise.  If you need a reminder of how to do this, please use the instructions below._)  \n",
    "\n",
    "First, you'll need to join the competition if you haven't already.  So open a new window by clicking on [this link](https://www.kaggle.com/c/home-data-for-ml-course).  Then click on the **Join Competition** button.\n",
    "\n",
    "![join competition image](https://storage.googleapis.com/kaggle-media/learn/images/wLmFtH3.png)\n",
    "\n",
    "Next, follow the instructions below:\n",
    "1. Begin by clicking on the **Save Version** button in the top right corner of the window.  This will generate a pop-up window.  \n",
    "2. Ensure that the **Save and Run All** option is selected, and then click on the **Save** button.\n",
    "3. This generates a window in the bottom left corner of the notebook.  After it has finished running, click on the number to the right of the **Save Version** button.  This pulls up a list of versions on the right of the screen.  Click on the ellipsis **(...)** to the right of the most recent version, and select **Open in Viewer**.  This brings you into view mode of the same page. You will need to scroll down to get back to these instructions.\n",
    "4. Click on the **Data** tab near the top of the screen.  Then, click on the file you would like to submit, and click on the **Submit** button to submit your results to the leaderboard.\n",
    "\n",
    "You have now successfully submitted to the competition!\n",
    "\n",
    "If you want to keep working to improve your performance, select the **Edit** button in the top right of the screen. Then you can change your code and repeat the process. There's a lot of room to improve, and you will climb up the leaderboard as you work.\n",
    "\n",
    "\n",
    "# Keep going\n",
    "\n",
    "Move on to learn what **[categorical variables](https://www.kaggle.com/alexisbcook/categorical-variables)** are, along with how to incorporate them into your machine learning models.  Categorical variables are very common in real-world data, but you'll get an error if you try to plug them into your models without processing them first!"
   ]
  },
  {
   "cell_type": "markdown",
   "id": "41b05888",
   "metadata": {
    "papermill": {
     "duration": 0.015447,
     "end_time": "2024-11-09T23:10:14.836354",
     "exception": false,
     "start_time": "2024-11-09T23:10:14.820907",
     "status": "completed"
    },
    "tags": []
   },
   "source": [
    "---\n",
    "\n",
    "\n",
    "\n",
    "\n",
    "*Have questions or comments? Visit the [course discussion forum](https://www.kaggle.com/learn/intermediate-machine-learning/discussion) to chat with other learners.*"
   ]
  }
 ],
 "metadata": {
  "kaggle": {
   "accelerator": "none",
   "dataSources": [
    {
     "databundleVersionId": 111096,
     "sourceId": 10211,
     "sourceType": "competition"
    }
   ],
   "isGpuEnabled": false,
   "isInternetEnabled": false,
   "language": "python",
   "sourceType": "notebook"
  },
  "kernelspec": {
   "display_name": "Python 3",
   "language": "python",
   "name": "python3"
  },
  "language_info": {
   "codemirror_mode": {
    "name": "ipython",
    "version": 3
   },
   "file_extension": ".py",
   "mimetype": "text/x-python",
   "name": "python",
   "nbconvert_exporter": "python",
   "pygments_lexer": "ipython3",
   "version": "3.10.14"
  },
  "papermill": {
   "default_parameters": {},
   "duration": 12.914521,
   "end_time": "2024-11-09T23:10:15.575841",
   "environment_variables": {},
   "exception": null,
   "input_path": "__notebook__.ipynb",
   "output_path": "__notebook__.ipynb",
   "parameters": {},
   "start_time": "2024-11-09T23:10:02.661320",
   "version": "2.6.0"
  }
 },
 "nbformat": 4,
 "nbformat_minor": 5
}
