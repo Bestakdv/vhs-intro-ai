{
 "cells": [
  {
   "cell_type": "markdown",
   "id": "0351a3d9",
   "metadata": {
    "papermill": {
     "duration": 0.005268,
     "end_time": "2024-10-22T16:13:34.998914",
     "exception": false,
     "start_time": "2024-10-22T16:13:34.993646",
     "status": "completed"
    },
    "tags": []
   },
   "source": [
    "**This notebook is an exercise in the [Introduction to Machine Learning](https://www.kaggle.com/learn/intro-to-machine-learning) course.  You can reference the tutorial at [this link](https://www.kaggle.com/dansbecker/underfitting-and-overfitting).**\n",
    "\n",
    "---\n"
   ]
  },
  {
   "cell_type": "markdown",
   "id": "08c30777",
   "metadata": {
    "papermill": {
     "duration": 0.004202,
     "end_time": "2024-10-22T16:13:35.007950",
     "exception": false,
     "start_time": "2024-10-22T16:13:35.003748",
     "status": "completed"
    },
    "tags": []
   },
   "source": [
    "## Recap\n",
    "You've built your first model, and now it's time to optimize the size of the tree to make better predictions. Run this cell to set up your coding environment where the previous step left off."
   ]
  },
  {
   "cell_type": "code",
   "execution_count": 1,
   "id": "f04fb1ab",
   "metadata": {
    "execution": {
     "iopub.execute_input": "2024-10-22T16:13:35.018700Z",
     "iopub.status.busy": "2024-10-22T16:13:35.018218Z",
     "iopub.status.idle": "2024-10-22T16:13:37.764485Z",
     "shell.execute_reply": "2024-10-22T16:13:37.763149Z"
    },
    "papermill": {
     "duration": 2.754683,
     "end_time": "2024-10-22T16:13:37.767025",
     "exception": false,
     "start_time": "2024-10-22T16:13:35.012342",
     "status": "completed"
    },
    "tags": []
   },
   "outputs": [
    {
     "name": "stdout",
     "output_type": "stream",
     "text": [
      "Validation MAE: 29,653\n",
      "\n",
      "Setup complete\n"
     ]
    }
   ],
   "source": [
    "# Code you have previously used to load data\n",
    "import pandas as pd\n",
    "from sklearn.metrics import mean_absolute_error\n",
    "from sklearn.model_selection import train_test_split\n",
    "from sklearn.tree import DecisionTreeRegressor\n",
    "\n",
    "\n",
    "# Path of the file to read\n",
    "iowa_file_path = '../input/home-data-for-ml-course/train.csv'\n",
    "\n",
    "home_data = pd.read_csv(iowa_file_path)\n",
    "# Create target object and call it y\n",
    "y = home_data.SalePrice\n",
    "# Create X\n",
    "features = ['LotArea', 'YearBuilt', '1stFlrSF', '2ndFlrSF', 'FullBath', 'BedroomAbvGr', 'TotRmsAbvGrd']\n",
    "X = home_data[features]\n",
    "\n",
    "# Split into validation and training data\n",
    "train_X, val_X, train_y, val_y = train_test_split(X, y, random_state=1)\n",
    "\n",
    "# Specify Model\n",
    "iowa_model = DecisionTreeRegressor(random_state=1)\n",
    "# Fit Model\n",
    "iowa_model.fit(train_X, train_y)\n",
    "\n",
    "# Make validation predictions and calculate mean absolute error\n",
    "val_predictions = iowa_model.predict(val_X)\n",
    "val_mae = mean_absolute_error(val_predictions, val_y)\n",
    "print(\"Validation MAE: {:,.0f}\".format(val_mae))\n",
    "\n",
    "# Set up code checking\n",
    "from learntools.core import binder\n",
    "binder.bind(globals())\n",
    "from learntools.machine_learning.ex5 import *\n",
    "print(\"\\nSetup complete\")"
   ]
  },
  {
   "cell_type": "markdown",
   "id": "2f76c9de",
   "metadata": {
    "papermill": {
     "duration": 0.004345,
     "end_time": "2024-10-22T16:13:37.776162",
     "exception": false,
     "start_time": "2024-10-22T16:13:37.771817",
     "status": "completed"
    },
    "tags": []
   },
   "source": [
    "# Exercises\n",
    "You could write the function `get_mae` yourself. For now, we'll supply it. This is the same function you read about in the previous lesson. Just run the cell below."
   ]
  },
  {
   "cell_type": "code",
   "execution_count": 2,
   "id": "eac58ed7",
   "metadata": {
    "execution": {
     "iopub.execute_input": "2024-10-22T16:13:37.787266Z",
     "iopub.status.busy": "2024-10-22T16:13:37.786830Z",
     "iopub.status.idle": "2024-10-22T16:13:37.793267Z",
     "shell.execute_reply": "2024-10-22T16:13:37.792153Z"
    },
    "papermill": {
     "duration": 0.014961,
     "end_time": "2024-10-22T16:13:37.795620",
     "exception": false,
     "start_time": "2024-10-22T16:13:37.780659",
     "status": "completed"
    },
    "tags": []
   },
   "outputs": [],
   "source": [
    "def get_mae(max_leaf_nodes, train_X, val_X, train_y, val_y):\n",
    "    model = DecisionTreeRegressor(max_leaf_nodes=max_leaf_nodes, random_state=0)\n",
    "    model.fit(train_X, train_y)\n",
    "    preds_val = model.predict(val_X)\n",
    "    mae = mean_absolute_error(val_y, preds_val)\n",
    "    return(mae)"
   ]
  },
  {
   "cell_type": "markdown",
   "id": "65edb689",
   "metadata": {
    "papermill": {
     "duration": 0.004442,
     "end_time": "2024-10-22T16:13:37.804791",
     "exception": false,
     "start_time": "2024-10-22T16:13:37.800349",
     "status": "completed"
    },
    "tags": []
   },
   "source": [
    "## Step 1: Compare Different Tree Sizes\n",
    "Write a loop that tries the following values for *max_leaf_nodes* from a set of possible values.\n",
    "\n",
    "Call the *get_mae* function on each value of max_leaf_nodes. Store the output in some way that allows you to select the value of `max_leaf_nodes` that gives the most accurate model on your data."
   ]
  },
  {
   "cell_type": "code",
   "execution_count": 3,
   "id": "9fbd8857",
   "metadata": {
    "execution": {
     "iopub.execute_input": "2024-10-22T16:13:37.815846Z",
     "iopub.status.busy": "2024-10-22T16:13:37.815399Z",
     "iopub.status.idle": "2024-10-22T16:13:37.871520Z",
     "shell.execute_reply": "2024-10-22T16:13:37.870260Z"
    },
    "papermill": {
     "duration": 0.064392,
     "end_time": "2024-10-22T16:13:37.873862",
     "exception": false,
     "start_time": "2024-10-22T16:13:37.809470",
     "status": "completed"
    },
    "tags": []
   },
   "outputs": [
    {
     "name": "stdout",
     "output_type": "stream",
     "text": [
      "Max leaf nodes: 5  \t\t Mean Absolute Error:  35044\n",
      "Max leaf nodes: 25  \t\t Mean Absolute Error:  29016\n",
      "Max leaf nodes: 50  \t\t Mean Absolute Error:  27405\n",
      "Max leaf nodes: 100  \t\t Mean Absolute Error:  27282\n",
      "Max leaf nodes: 250  \t\t Mean Absolute Error:  27893\n",
      "Max leaf nodes: 500  \t\t Mean Absolute Error:  29454\n"
     ]
    },
    {
     "data": {
      "application/javascript": [
       "parent.postMessage({\"jupyterEvent\": \"custom.exercise_interaction\", \"data\": {\"outcomeType\": 1, \"valueTowardsCompletion\": 0.5, \"interactionType\": 1, \"questionType\": 1, \"questionId\": \"1_BestTreeSize\", \"learnToolsVersion\": \"0.3.4\", \"failureMessage\": \"\", \"exceptionClass\": \"\", \"trace\": \"\"}}, \"*\")"
      ],
      "text/plain": [
       "<IPython.core.display.Javascript object>"
      ]
     },
     "metadata": {},
     "output_type": "display_data"
    },
    {
     "data": {
      "text/markdown": [
       "<span style=\"color:#33cc33\">Correct</span>"
      ],
      "text/plain": [
       "Correct"
      ]
     },
     "metadata": {},
     "output_type": "display_data"
    }
   ],
   "source": [
    "candidate_max_leaf_nodes = [5, 25, 50, 100, 250, 500]\n",
    "# Write loop to find the ideal tree size from candidate_max_leaf_nodes\n",
    "for max_leaf_nodes in candidate_max_leaf_nodes:\n",
    "    my_mae = get_mae(max_leaf_nodes, train_X, val_X, train_y, val_y)\n",
    "    print(\"Max leaf nodes: %d  \\t\\t Mean Absolute Error:  %d\" %(max_leaf_nodes, my_mae))\n",
    "\n",
    "# Store the best value of max_leaf_nodes (it will be either 5, 25, 50, 100, 250 or 500)\n",
    "best_tree_size = 100\n",
    "\n",
    "# Check your answer\n",
    "step_1.check()"
   ]
  },
  {
   "cell_type": "code",
   "execution_count": 4,
   "id": "7e703a97",
   "metadata": {
    "execution": {
     "iopub.execute_input": "2024-10-22T16:13:37.886123Z",
     "iopub.status.busy": "2024-10-22T16:13:37.885210Z",
     "iopub.status.idle": "2024-10-22T16:13:37.890323Z",
     "shell.execute_reply": "2024-10-22T16:13:37.889226Z"
    },
    "papermill": {
     "duration": 0.013889,
     "end_time": "2024-10-22T16:13:37.892815",
     "exception": false,
     "start_time": "2024-10-22T16:13:37.878926",
     "status": "completed"
    },
    "tags": []
   },
   "outputs": [],
   "source": [
    "# The lines below will show you a hint or the solution.\n",
    "# step_1.hint() \n",
    "# step_1.solution()"
   ]
  },
  {
   "cell_type": "markdown",
   "id": "b7627d57",
   "metadata": {
    "papermill": {
     "duration": 0.004943,
     "end_time": "2024-10-22T16:13:37.902869",
     "exception": false,
     "start_time": "2024-10-22T16:13:37.897926",
     "status": "completed"
    },
    "tags": []
   },
   "source": [
    "## Step 2: Fit Model Using All Data\n",
    "You know the best tree size. If you were going to deploy this model in practice, you would make it even more accurate by using all of the data and keeping that tree size.  That is, you don't need to hold out the validation data now that you've made all your modeling decisions."
   ]
  },
  {
   "cell_type": "code",
   "execution_count": 5,
   "id": "0872673f",
   "metadata": {
    "execution": {
     "iopub.execute_input": "2024-10-22T16:13:37.914629Z",
     "iopub.status.busy": "2024-10-22T16:13:37.914197Z",
     "iopub.status.idle": "2024-10-22T16:13:37.924040Z",
     "shell.execute_reply": "2024-10-22T16:13:37.922999Z"
    },
    "papermill": {
     "duration": 0.018655,
     "end_time": "2024-10-22T16:13:37.926533",
     "exception": false,
     "start_time": "2024-10-22T16:13:37.907878",
     "status": "completed"
    },
    "tags": []
   },
   "outputs": [
    {
     "data": {
      "application/javascript": [
       "parent.postMessage({\"jupyterEvent\": \"custom.exercise_interaction\", \"data\": {\"outcomeType\": 2, \"failureMessage\": \"You still need to define the following variables: `final_model`\", \"interactionType\": 1, \"questionType\": 2, \"questionId\": \"2_FitModelWithAllData\", \"learnToolsVersion\": \"0.3.4\", \"valueTowardsCompletion\": 0.0, \"exceptionClass\": \"\", \"trace\": \"\"}}, \"*\")"
      ],
      "text/plain": [
       "<IPython.core.display.Javascript object>"
      ]
     },
     "metadata": {},
     "output_type": "display_data"
    },
    {
     "data": {
      "text/markdown": [
       "<span style=\"color:#cc3333\">Incorrect:</span> You still need to define the following variables: `final_model`"
      ],
      "text/plain": [
       "Incorrect: You still need to define the following variables: `final_model`"
      ]
     },
     "metadata": {},
     "output_type": "display_data"
    }
   ],
   "source": [
    "# Fill in argument to make optimal size and uncomment\n",
    "#final_model = DecisionTreeRegressor()\n",
    "\n",
    "# fit the final model and uncomment the next two lines\n",
    "#final_model.fit(trainX, trainY)\n",
    "\n",
    "# Check your answer\n",
    "step_2.check()"
   ]
  },
  {
   "cell_type": "code",
   "execution_count": 6,
   "id": "565b6c4b",
   "metadata": {
    "execution": {
     "iopub.execute_input": "2024-10-22T16:13:37.940079Z",
     "iopub.status.busy": "2024-10-22T16:13:37.938986Z",
     "iopub.status.idle": "2024-10-22T16:13:37.943638Z",
     "shell.execute_reply": "2024-10-22T16:13:37.942700Z"
    },
    "papermill": {
     "duration": 0.013925,
     "end_time": "2024-10-22T16:13:37.945980",
     "exception": false,
     "start_time": "2024-10-22T16:13:37.932055",
     "status": "completed"
    },
    "tags": []
   },
   "outputs": [],
   "source": [
    "# step_2.hint()\n",
    "# step_2.solution()"
   ]
  },
  {
   "cell_type": "markdown",
   "id": "3866ef30",
   "metadata": {
    "papermill": {
     "duration": 0.005315,
     "end_time": "2024-10-22T16:13:37.957867",
     "exception": false,
     "start_time": "2024-10-22T16:13:37.952552",
     "status": "completed"
    },
    "tags": []
   },
   "source": [
    "You've tuned this model and improved your results. But we are still using Decision Tree models, which are not very sophisticated by modern machine learning standards. In the next step you will learn to use Random Forests to improve your models even more.\n",
    "\n",
    "# Keep Going\n",
    "\n",
    "You are ready for **[Random Forests](https://www.kaggle.com/dansbecker/random-forests).**\n"
   ]
  },
  {
   "cell_type": "markdown",
   "id": "b2896b08",
   "metadata": {
    "papermill": {
     "duration": 0.005302,
     "end_time": "2024-10-22T16:13:37.968796",
     "exception": false,
     "start_time": "2024-10-22T16:13:37.963494",
     "status": "completed"
    },
    "tags": []
   },
   "source": [
    "---\n",
    "\n",
    "\n",
    "\n",
    "\n",
    "*Have questions or comments? Visit the [course discussion forum](https://www.kaggle.com/learn/intro-to-machine-learning/discussion) to chat with other learners.*"
   ]
  }
 ],
 "metadata": {
  "kaggle": {
   "accelerator": "none",
   "dataSources": [
    {
     "databundleVersionId": 111096,
     "sourceId": 10211,
     "sourceType": "competition"
    },
    {
     "datasetId": 11167,
     "sourceId": 15520,
     "sourceType": "datasetVersion"
    },
    {
     "datasetId": 2709,
     "sourceId": 38454,
     "sourceType": "datasetVersion"
    }
   ],
   "isGpuEnabled": false,
   "isInternetEnabled": false,
   "language": "python",
   "sourceType": "notebook"
  },
  "kernelspec": {
   "display_name": "Python 3",
   "language": "python",
   "name": "python3"
  },
  "language_info": {
   "codemirror_mode": {
    "name": "ipython",
    "version": 3
   },
   "file_extension": ".py",
   "mimetype": "text/x-python",
   "name": "python",
   "nbconvert_exporter": "python",
   "pygments_lexer": "ipython3",
   "version": "3.10.14"
  },
  "papermill": {
   "default_parameters": {},
   "duration": 6.597561,
   "end_time": "2024-10-22T16:13:38.596178",
   "environment_variables": {},
   "exception": null,
   "input_path": "__notebook__.ipynb",
   "output_path": "__notebook__.ipynb",
   "parameters": {},
   "start_time": "2024-10-22T16:13:31.998617",
   "version": "2.6.0"
  }
 },
 "nbformat": 4,
 "nbformat_minor": 5
}
