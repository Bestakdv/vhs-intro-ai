{
  "nbformat": 4,
  "nbformat_minor": 0,
  "metadata": {
    "colab": {
      "provenance": [],
      "authorship_tag": "ABX9TyNjjHMdz4bylRQvaJJLgytu",
      "include_colab_link": true
    },
    "kernelspec": {
      "name": "python3",
      "display_name": "Python 3"
    },
    "language_info": {
      "name": "python"
    }
  },
  "cells": [
    {
      "cell_type": "markdown",
      "metadata": {
        "id": "view-in-github",
        "colab_type": "text"
      },
      "source": [
        "<a href=\"https://colab.research.google.com/github/Bestakdv/vhs-intro-ai/blob/main/AlexYefimenkopython_ai_part2.ipynb\" target=\"_parent\"><img src=\"https://colab.research.google.com/assets/colab-badge.svg\" alt=\"Open In Colab\"/></a>"
      ]
    },
    {
      "cell_type": "markdown",
      "source": [
        "We will learn:\n",
        "*   Numpy\n",
        "*   matplotlib\n",
        "*   pandas\n",
        "\n",
        "\n",
        "\n"
      ],
      "metadata": {
        "id": "2F48Aq6WFuYo"
      }
    },
    {
      "cell_type": "markdown",
      "source": [
        "# Numpy\n",
        "\n",
        "What is numpy? And what is it used for? How is it different from using a python list?\n",
        "\n",
        "Numpy is a python library and it is used for multi-dimensional array's and matrices. It is different from a python list as numpy array's have fixed sizes, same data types, and they are more efficient"
      ],
      "metadata": {
        "id": "RG3Zk3ZPSapb"
      }
    },
    {
      "cell_type": "code",
      "source": [
        "# Importing Numpy Library\n",
        "import numpy as np"
      ],
      "metadata": {
        "id": "dnRd4rA8ScHF"
      },
      "execution_count": 2,
      "outputs": []
    },
    {
      "cell_type": "markdown",
      "source": [
        "# Arrays\n",
        "\n",
        "What is a numpy array and how is it different from a python list?\n",
        "\n",
        "A numpy array is multi-dimensional and used for storing large data or mathmetical calculations.It is different from a python list as numpy array's have fixed sizes, same data types, and they are more efficient"
      ],
      "metadata": {
        "id": "TYQ8fyivT3z7"
      }
    },
    {
      "cell_type": "code",
      "source": [
        "# Creating numpy array of rank/dimension 1 from a python [1,2,3]\n",
        "pl = [1,2,3]\n",
        "a=np.array(pl)\n",
        "print(pl)\n",
        "print(a)\n",
        "\n",
        "#print type\n",
        "print(type(pl))\n",
        "print(type(a))\n",
        "\n",
        "#print shape\n",
        "print(a.shape)"
      ],
      "metadata": {
        "colab": {
          "base_uri": "https://localhost:8080/"
        },
        "id": "ktYfTogzUTkh",
        "outputId": "00918dd2-f9ad-4a51-a1c1-85dfdd7823c6"
      },
      "execution_count": null,
      "outputs": [
        {
          "output_type": "stream",
          "name": "stdout",
          "text": [
            "[1, 2, 3]\n",
            "[1 2 3]\n",
            "<class 'list'>\n",
            "<class 'numpy.ndarray'>\n",
            "(3,)\n"
          ]
        }
      ]
    },
    {
      "cell_type": "code",
      "source": [
        "# Create and print 3D numpy array [[[1,2,3], [4,5,6]], [[7,8,9], [10,11,12]]]\n",
        "a=np.array([[[1,7], [2,8], [3,9]], [[4,10], [5,11], [6,12]]])\n",
        "\n",
        "print(a)\n",
        "print(a.shape)"
      ],
      "metadata": {
        "colab": {
          "base_uri": "https://localhost:8080/"
        },
        "id": "adVgt6DxVfzA",
        "outputId": "5087052e-8a0e-43f7-c9b5-b9d3811660af"
      },
      "execution_count": null,
      "outputs": [
        {
          "output_type": "stream",
          "name": "stdout",
          "text": [
            "[[[ 1  7]\n",
            "  [ 2  8]\n",
            "  [ 3  9]]\n",
            "\n",
            " [[ 4 10]\n",
            "  [ 5 11]\n",
            "  [ 6 12]]]\n",
            "(2, 3, 2)\n"
          ]
        }
      ]
    },
    {
      "cell_type": "code",
      "source": [
        "# Create a rank 2 array with 2 rows and 3 columns\n",
        "\n",
        "a=np.zeros((2,3))\n",
        "print(a)"
      ],
      "metadata": {
        "colab": {
          "base_uri": "https://localhost:8080/"
        },
        "id": "iAEAbdKvZA2K",
        "outputId": "61cdb872-d71c-4cee-de72-10b0f56612f1"
      },
      "execution_count": null,
      "outputs": [
        {
          "output_type": "stream",
          "name": "stdout",
          "text": [
            "[[0. 0. 0.]\n",
            " [0. 0. 0.]]\n"
          ]
        }
      ]
    },
    {
      "cell_type": "code",
      "source": [
        "# Identify matrix of size 3\n",
        "id = np.eye(3)\n",
        "print(id)"
      ],
      "metadata": {
        "colab": {
          "base_uri": "https://localhost:8080/"
        },
        "id": "jLP8BtbgZXK6",
        "outputId": "0904d803-5ce3-4178-bf65-cf91bb94ad38"
      },
      "execution_count": null,
      "outputs": [
        {
          "output_type": "stream",
          "name": "stdout",
          "text": [
            "[[1. 0. 0.]\n",
            " [0. 1. 0.]\n",
            " [0. 0. 1.]]\n"
          ]
        }
      ]
    },
    {
      "cell_type": "code",
      "source": [
        "# Create an array of all 0's w dimensions (2,3,2)\n",
        "a = np.zeros((2,3,2))\n",
        "print(a)"
      ],
      "metadata": {
        "colab": {
          "base_uri": "https://localhost:8080/"
        },
        "id": "Nlgomi0ZXTn6",
        "outputId": "c2d77ad5-6019-4e17-91b3-3aa552d990af"
      },
      "execution_count": null,
      "outputs": [
        {
          "output_type": "stream",
          "name": "stdout",
          "text": [
            "[[[0. 0.]\n",
            "  [0. 0.]\n",
            "  [0. 0.]]\n",
            "\n",
            " [[0. 0.]\n",
            "  [0. 0.]\n",
            "  [0. 0.]]]\n"
          ]
        }
      ]
    },
    {
      "cell_type": "code",
      "source": [
        "# Create a random array of dimensions (2,3)\n",
        "\n",
        "r= np.random.random((2,3))\n",
        "print(r)"
      ],
      "metadata": {
        "colab": {
          "base_uri": "https://localhost:8080/"
        },
        "id": "C88L-oovXYKd",
        "outputId": "ad6fb2d8-39ab-4956-cf9e-a1b00185f910"
      },
      "execution_count": null,
      "outputs": [
        {
          "output_type": "stream",
          "name": "stdout",
          "text": [
            "[[0.84574141 0.99906882 0.33066432]\n",
            " [0.37260913 0.16080324 0.53028454]]\n"
          ]
        }
      ]
    },
    {
      "cell_type": "markdown",
      "source": [
        "# Array Indexing"
      ],
      "metadata": {
        "id": "Rt2-F1uXqATA"
      }
    },
    {
      "cell_type": "code",
      "source": [
        "# Create 2D array x [1,2,3], [4,5,6]\n",
        "# print 2\n",
        "x=np.array([[1,2,3], [4,5,6]])\n",
        "print(x[0,1])"
      ],
      "metadata": {
        "colab": {
          "base_uri": "https://localhost:8080/"
        },
        "id": "XyyowSd9qINs",
        "outputId": "4f0d1689-2795-4f9b-832e-0d0b49e14faf"
      },
      "execution_count": null,
      "outputs": [
        {
          "output_type": "stream",
          "name": "stdout",
          "text": [
            "2\n"
          ]
        }
      ]
    },
    {
      "cell_type": "code",
      "source": [
        "# Access sub matrix [2,3,5,6]\n",
        "\n",
        "# With slicing\n",
        "x[:, 1:]"
      ],
      "metadata": {
        "colab": {
          "base_uri": "https://localhost:8080/"
        },
        "id": "0K_KDoDlqhQr",
        "outputId": "4caea092-3e0c-4768-9c9e-711045ef34dc"
      },
      "execution_count": null,
      "outputs": [
        {
          "output_type": "execute_result",
          "data": {
            "text/plain": [
              "array([[2, 3],\n",
              "       [5, 6]])"
            ]
          },
          "metadata": {},
          "execution_count": 17
        }
      ]
    },
    {
      "cell_type": "code",
      "source": [
        "# reshape [1 2 3 4 5 6]\n",
        "print(x.reshape(6))\n",
        "print(x.reshape(3,2))"
      ],
      "metadata": {
        "colab": {
          "base_uri": "https://localhost:8080/"
        },
        "id": "YLNSlNtHry9R",
        "outputId": "5d017081-1e85-4e7f-c92d-302c71af09e2"
      },
      "execution_count": null,
      "outputs": [
        {
          "output_type": "stream",
          "name": "stdout",
          "text": [
            "[1 2 3 4 5 6]\n",
            "[[1 2]\n",
            " [3 4]\n",
            " [5 6]]\n"
          ]
        }
      ]
    },
    {
      "cell_type": "code",
      "source": [
        "# slicing\n",
        "y=x[:,1:]\n",
        "print(y, y.shape)"
      ],
      "metadata": {
        "colab": {
          "base_uri": "https://localhost:8080/"
        },
        "id": "UwGiH0zNsRNs",
        "outputId": "0996f82c-a77a-4334-bcce-dec907b1220b"
      },
      "execution_count": null,
      "outputs": [
        {
          "output_type": "stream",
          "name": "stdout",
          "text": [
            "[[2 3]\n",
            " [5 6]] (2, 2)\n"
          ]
        }
      ]
    },
    {
      "cell_type": "code",
      "source": [
        "# slicing doesn't create copy so you are changing coordinate\n",
        "y[0,0] = 10\n",
        "print(y)\n",
        "print(x)"
      ],
      "metadata": {
        "colab": {
          "base_uri": "https://localhost:8080/"
        },
        "id": "lu5KqffTsim3",
        "outputId": "8f5479d1-9543-4238-d5e2-9977ca9f02c3"
      },
      "execution_count": null,
      "outputs": [
        {
          "output_type": "stream",
          "name": "stdout",
          "text": [
            "[[10  3]\n",
            " [ 5  6]]\n",
            "[[ 1 10  3]\n",
            " [ 4  5  6]]\n"
          ]
        }
      ]
    },
    {
      "cell_type": "code",
      "source": [
        "# try slicing with python list and updating\n",
        "# assign your slice to another variable and update new variable\n"
      ],
      "metadata": {
        "id": "-DCwyQibsrDu"
      },
      "execution_count": null,
      "outputs": []
    },
    {
      "cell_type": "markdown",
      "source": [
        "## Integer array indexing"
      ],
      "metadata": {
        "id": "q4fIEtWf4d14"
      }
    },
    {
      "cell_type": "code",
      "source": [
        "a = np.array([1,2,3,4,5])\n",
        "\n",
        "# access 3 and 5\n",
        "indices = [2,4]\n",
        "a[indices]"
      ],
      "metadata": {
        "colab": {
          "base_uri": "https://localhost:8080/"
        },
        "id": "i_HSWhva4cjP",
        "outputId": "84fc5a3c-deac-4a12-c25b-d09bb8f996c6"
      },
      "execution_count": null,
      "outputs": [
        {
          "output_type": "execute_result",
          "data": {
            "text/plain": [
              "array([3, 5])"
            ]
          },
          "metadata": {},
          "execution_count": 35
        }
      ]
    },
    {
      "cell_type": "code",
      "source": [
        "# 2D array\n",
        "x=np.array([[1,2,3], [4,5,6]])\n",
        "\n",
        "# print 2 and 6\n",
        "# 2 -> [0,1]\n",
        "# 6 -> [1,2]\n",
        "# 3 -> [0,2]\n",
        "\n",
        "row_indices = [0,1,0]\n",
        "column_indices=[1,2,2]\n",
        "x[row_indices, column_indices]"
      ],
      "metadata": {
        "colab": {
          "base_uri": "https://localhost:8080/"
        },
        "id": "CKBvloeO5Ji0",
        "outputId": "432bcd6b-175b-48aa-f170-cd18e60f2835"
      },
      "execution_count": null,
      "outputs": [
        {
          "output_type": "execute_result",
          "data": {
            "text/plain": [
              "array([2, 6, 3])"
            ]
          },
          "metadata": {},
          "execution_count": 38
        }
      ]
    },
    {
      "cell_type": "code",
      "source": [
        "# data type of array elements\n",
        "type(x)\n",
        "\n",
        "print(x.dtype)"
      ],
      "metadata": {
        "colab": {
          "base_uri": "https://localhost:8080/"
        },
        "id": "AXQ3lOIe5Qru",
        "outputId": "16302104-46ec-45da-ed8f-55e13f67c8da"
      },
      "execution_count": null,
      "outputs": [
        {
          "output_type": "stream",
          "name": "stdout",
          "text": [
            "int64\n"
          ]
        }
      ]
    },
    {
      "cell_type": "markdown",
      "source": [
        "## Boolean array indexing"
      ],
      "metadata": {
        "id": "x8_uVHEa6TVM"
      }
    },
    {
      "cell_type": "code",
      "source": [
        "x = np.array([[1,2,3], [4,5,6]])\n",
        "\n",
        "bool_indices = (x%2 ==0)\n",
        "print(bool_indices)"
      ],
      "metadata": {
        "colab": {
          "base_uri": "https://localhost:8080/"
        },
        "id": "z-EE4G776WuV",
        "outputId": "8f2fd3bf-f146-4f17-a4f7-27bfae26218e"
      },
      "execution_count": null,
      "outputs": [
        {
          "output_type": "stream",
          "name": "stdout",
          "text": [
            "[[False  True False]\n",
            " [ True False  True]]\n"
          ]
        }
      ]
    },
    {
      "cell_type": "code",
      "source": [
        "x[bool_indices]"
      ],
      "metadata": {
        "colab": {
          "base_uri": "https://localhost:8080/"
        },
        "id": "s_1h_xkd7MK6",
        "outputId": "0c25f446-d50c-4e10-f928-c06724f8322b"
      },
      "execution_count": null,
      "outputs": [
        {
          "output_type": "execute_result",
          "data": {
            "text/plain": [
              "array([2, 4, 6])"
            ]
          },
          "metadata": {},
          "execution_count": 45
        }
      ]
    },
    {
      "cell_type": "code",
      "source": [
        "x[x%2==0]"
      ],
      "metadata": {
        "colab": {
          "base_uri": "https://localhost:8080/"
        },
        "id": "MWReAVtj70nT",
        "outputId": "0dd150ad-f069-45f0-e81b-a34723f1e55b"
      },
      "execution_count": null,
      "outputs": [
        {
          "output_type": "execute_result",
          "data": {
            "text/plain": [
              "array([2, 4, 6])"
            ]
          },
          "metadata": {},
          "execution_count": 46
        }
      ]
    },
    {
      "cell_type": "markdown",
      "source": [
        "## Data type"
      ],
      "metadata": {
        "id": "E2s6RlWE72sW"
      }
    },
    {
      "cell_type": "code",
      "source": [
        "x=np.array([1.0, 2.5], dtype=np.int64)\n",
        "x.dtype"
      ],
      "metadata": {
        "colab": {
          "base_uri": "https://localhost:8080/"
        },
        "id": "NEpqH01c74pY",
        "outputId": "0e7bcc05-c114-4a0b-9fcb-77d826169445"
      },
      "execution_count": null,
      "outputs": [
        {
          "output_type": "execute_result",
          "data": {
            "text/plain": [
              "dtype('int64')"
            ]
          },
          "metadata": {},
          "execution_count": 49
        }
      ]
    },
    {
      "cell_type": "code",
      "source": [
        "print(x)"
      ],
      "metadata": {
        "colab": {
          "base_uri": "https://localhost:8080/"
        },
        "id": "w00H0vgx8QLI",
        "outputId": "cd4141d5-661c-46e5-e196-fdae7e3d195b"
      },
      "execution_count": null,
      "outputs": [
        {
          "output_type": "stream",
          "name": "stdout",
          "text": [
            "[1 2]\n"
          ]
        }
      ]
    },
    {
      "cell_type": "markdown",
      "source": [
        "## Array Math"
      ],
      "metadata": {
        "id": "pgw7-xfO8TXZ"
      }
    },
    {
      "cell_type": "code",
      "source": [
        "x = np.array([[1,2], [3,4]], dtype=np.float64)\n",
        "y = np.array([[5,6], [7,8]], dtype=np.float64)\n",
        "print(x)\n",
        "print(y)"
      ],
      "metadata": {
        "colab": {
          "base_uri": "https://localhost:8080/"
        },
        "id": "K3WjXfo28VG4",
        "outputId": "f1d30611-7b55-465d-e79c-ff948a951109"
      },
      "execution_count": null,
      "outputs": [
        {
          "output_type": "stream",
          "name": "stdout",
          "text": [
            "[[1. 2.]\n",
            " [3. 4.]]\n",
            "[[5. 6.]\n",
            " [7. 8.]]\n"
          ]
        }
      ]
    },
    {
      "cell_type": "code",
      "source": [
        "print(x+y) # elementwise\n",
        "\n",
        "#subtract\n",
        "print(x-y)\n",
        "#multiply\n",
        "print(x*y)\n",
        "#divide\n",
        "print(x/y)"
      ],
      "metadata": {
        "colab": {
          "base_uri": "https://localhost:8080/"
        },
        "id": "eLXO7Fw08sK7",
        "outputId": "e34c175e-1bdc-4ba3-b69e-cee385f10e39"
      },
      "execution_count": null,
      "outputs": [
        {
          "output_type": "stream",
          "name": "stdout",
          "text": [
            "[[ 6.  8.]\n",
            " [10. 12.]]\n",
            "[[-4. -4.]\n",
            " [-4. -4.]]\n",
            "[[ 5. 12.]\n",
            " [21. 32.]]\n",
            "[[0.2        0.33333333]\n",
            " [0.42857143 0.5       ]]\n"
          ]
        }
      ]
    },
    {
      "cell_type": "code",
      "source": [
        "# elementwise functions\n",
        "np.sqrt(x)"
      ],
      "metadata": {
        "colab": {
          "base_uri": "https://localhost:8080/"
        },
        "id": "IGd1GcjH8tNZ",
        "outputId": "ddfa701a-94ba-45f4-80ef-913ac3e73e10"
      },
      "execution_count": null,
      "outputs": [
        {
          "output_type": "execute_result",
          "data": {
            "text/plain": [
              "array([[1.        , 1.41421356],\n",
              "       [1.73205081, 2.        ]])"
            ]
          },
          "metadata": {},
          "execution_count": 59
        }
      ]
    },
    {
      "cell_type": "code",
      "source": [
        "# dot product (just multiply beneath and add it all up)\n",
        "v=np.array([1,2])\n",
        "w=np.array([3,4])\n",
        "\n",
        "print(np.dot(v,w))\n",
        "print(v.dot(w))\n",
        "print(v @ w)\n",
        "print(w @ v)"
      ],
      "metadata": {
        "colab": {
          "base_uri": "https://localhost:8080/"
        },
        "id": "7S0FS8Rt92_r",
        "outputId": "be1b547f-fe33-435a-c082-6c92358b0bab"
      },
      "execution_count": null,
      "outputs": [
        {
          "output_type": "stream",
          "name": "stdout",
          "text": [
            "11\n",
            "11\n",
            "11\n",
            "11\n"
          ]
        }
      ]
    },
    {
      "cell_type": "code",
      "source": [
        "x = np.array([[1,2,3], [4,5,6]])\n",
        "print(np.sum(x, axis=0))\n",
        "print(np.sum(x, axis=1))"
      ],
      "metadata": {
        "colab": {
          "base_uri": "https://localhost:8080/"
        },
        "id": "ApE51M9p-rpX",
        "outputId": "20561a6b-692c-42aa-a89e-2dc516921a8a"
      },
      "execution_count": null,
      "outputs": [
        {
          "output_type": "stream",
          "name": "stdout",
          "text": [
            "[5 7 9]\n",
            "[ 6 15]\n"
          ]
        }
      ]
    },
    {
      "cell_type": "code",
      "source": [
        "#max, row max\n",
        "#min, row min"
      ],
      "metadata": {
        "id": "F2lPGepJ-5Jf"
      },
      "execution_count": null,
      "outputs": []
    },
    {
      "cell_type": "markdown",
      "source": [
        "## Broadcasting"
      ],
      "metadata": {
        "id": "AdqH1DxJ_ZO8"
      }
    },
    {
      "cell_type": "code",
      "source": [
        "x = np.array([[1,2,3], [4,5,6], [7,8,9], [10,11,12]])\n",
        "v = np.array([1,0,1])"
      ],
      "metadata": {
        "id": "Mw3lPH1-_bMd"
      },
      "execution_count": null,
      "outputs": []
    },
    {
      "cell_type": "code",
      "source": [
        "print(x)\n",
        "print(x+v)"
      ],
      "metadata": {
        "colab": {
          "base_uri": "https://localhost:8080/"
        },
        "id": "HP0OLTil_2lz",
        "outputId": "3baf189c-e7e5-444f-c2db-b6d23416c9fa"
      },
      "execution_count": null,
      "outputs": [
        {
          "output_type": "stream",
          "name": "stdout",
          "text": [
            "[[ 1  2  3]\n",
            " [ 4  5  6]\n",
            " [ 7  8  9]\n",
            " [10 11 12]]\n",
            "[[ 2  2  4]\n",
            " [ 5  5  7]\n",
            " [ 8  8 10]\n",
            " [11 11 13]]\n"
          ]
        }
      ]
    },
    {
      "cell_type": "markdown",
      "source": [
        "Use matplotlibrary to plot a sine function"
      ],
      "metadata": {
        "id": "Z6fgIoUQAPmY"
      }
    },
    {
      "cell_type": "code",
      "source": [
        "import matplotlib.pyplot as plt\n",
        "x = np.arange(0, 2*np.pi, 0.1)\n",
        "y = np.sin(x)\n",
        "y2 = np.cos(x)\n",
        "# Plotting Sine Graph\n",
        "plt.subplot(1,2,1) #(row, column, index)\n",
        "plt.plot(x, y, color='cyan')\n",
        "\n",
        "# Plotting Cosine Graph\n",
        "plt.subplot(1,2,2) #(row, column, index)\n",
        "plt.plot(x, y2, color='red')\n",
        "plt.show()"
      ],
      "metadata": {
        "colab": {
          "base_uri": "https://localhost:8080/",
          "height": 430
        },
        "id": "M_luK4ZuASoz",
        "outputId": "094bf381-5553-4c6a-b9cd-444cdc458947"
      },
      "execution_count": 22,
      "outputs": [
        {
          "output_type": "display_data",
          "data": {
            "text/plain": [
              "<Figure size 640x480 with 2 Axes>"
            ],
            "image/png": "[encoded data removed]"
          },
          "metadata": {}
        }
      ]
    }
  ]
}