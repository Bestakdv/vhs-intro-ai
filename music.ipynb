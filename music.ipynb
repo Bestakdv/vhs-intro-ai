{
 "cells": [
  {
   "cell_type": "code",
   "execution_count": 1,
   "id": "c83e189b",
   "metadata": {
    "_cell_guid": "b1076dfc-b9ad-4769-8c92-a6c4dae69d19",
    "_uuid": "8f2839f25d086af736a60e9eeb907d3b93b6e0e5",
    "execution": {
     "iopub.execute_input": "2024-11-15T20:08:32.809995Z",
     "iopub.status.busy": "2024-11-15T20:08:32.809431Z",
     "iopub.status.idle": "2024-11-15T20:08:33.793452Z",
     "shell.execute_reply": "2024-11-15T20:08:33.791568Z"
    },
    "papermill": {
     "duration": 0.996224,
     "end_time": "2024-11-15T20:08:33.796587",
     "exception": false,
     "start_time": "2024-11-15T20:08:32.800363",
     "status": "completed"
    },
    "tags": []
   },
   "outputs": [
    {
     "name": "stdout",
     "output_type": "stream",
     "text": [
      "/kaggle/input/musicfeatures/data.csv\n",
      "/kaggle/input/musicfeatures/data_2genre.csv\n"
     ]
    }
   ],
   "source": [
    "# This Python 3 environment comes with many helpful analytics libraries installed\n",
    "# It is defined by the kaggle/python Docker image: https://github.com/kaggle/docker-python\n",
    "# For example, here's several helpful packages to load\n",
    "\n",
    "import numpy as np # linear algebra\n",
    "import pandas as pd # data processing, CSV file I/O (e.g. pd.read_csv)\n",
    "\n",
    "# Input data files are available in the read-only \"../input/\" directory\n",
    "# For example, running this (by clicking run or pressing Shift+Enter) will list all files under the input directory\n",
    "\n",
    "import os\n",
    "for dirname, _, filenames in os.walk('/kaggle/input'):\n",
    "    for filename in filenames:\n",
    "        print(os.path.join(dirname, filename))\n",
    "\n",
    "# You can write up to 20GB to the current directory (/kaggle/working/) that gets preserved as output when you create a version using \"Save & Run All\" \n",
    "# You can also write temporary files to /kaggle/temp/, but they won't be saved outside of the current session"
   ]
  },
  {
   "cell_type": "code",
   "execution_count": 2,
   "id": "901b0b94",
   "metadata": {
    "execution": {
     "iopub.execute_input": "2024-11-15T20:08:33.812935Z",
     "iopub.status.busy": "2024-11-15T20:08:33.812349Z",
     "iopub.status.idle": "2024-11-15T20:08:33.913812Z",
     "shell.execute_reply": "2024-11-15T20:08:33.912393Z"
    },
    "papermill": {
     "duration": 0.112187,
     "end_time": "2024-11-15T20:08:33.916519",
     "exception": false,
     "start_time": "2024-11-15T20:08:33.804332",
     "status": "completed"
    },
    "tags": []
   },
   "outputs": [
    {
     "data": {
      "text/plain": [
       "Index(['filename', 'tempo', 'beats', 'chroma_stft', 'rmse',\n",
       "       'spectral_centroid', 'spectral_bandwidth', 'rolloff',\n",
       "       'zero_crossing_rate', 'mfcc1', 'mfcc2', 'mfcc3', 'mfcc4', 'mfcc5',\n",
       "       'mfcc6', 'mfcc7', 'mfcc8', 'mfcc9', 'mfcc10', 'mfcc11', 'mfcc12',\n",
       "       'mfcc13', 'mfcc14', 'mfcc15', 'mfcc16', 'mfcc17', 'mfcc18', 'mfcc19',\n",
       "       'mfcc20', 'label'],\n",
       "      dtype='object')"
      ]
     },
     "execution_count": 2,
     "metadata": {},
     "output_type": "execute_result"
    }
   ],
   "source": [
    "music1 = pd.read_csv('/kaggle/input/musicfeatures/data.csv')\n",
    "music2 = pd.read_csv('/kaggle/input/musicfeatures/data_2genre.csv')\n",
    "\n",
    "features_data = pd.concat([music1,music2],ignore_index=True)\n",
    "features_data.columns"
   ]
  },
  {
   "cell_type": "code",
   "execution_count": 3,
   "id": "1858f1cf",
   "metadata": {
    "execution": {
     "iopub.execute_input": "2024-11-15T20:08:33.928980Z",
     "iopub.status.busy": "2024-11-15T20:08:33.928556Z",
     "iopub.status.idle": "2024-11-15T20:08:33.936658Z",
     "shell.execute_reply": "2024-11-15T20:08:33.935326Z"
    },
    "papermill": {
     "duration": 0.017586,
     "end_time": "2024-11-15T20:08:33.939354",
     "exception": false,
     "start_time": "2024-11-15T20:08:33.921768",
     "status": "completed"
    },
    "tags": []
   },
   "outputs": [
    {
     "data": {
      "text/plain": [
       "(1200, 30)"
      ]
     },
     "execution_count": 3,
     "metadata": {},
     "output_type": "execute_result"
    }
   ],
   "source": [
    "features_data.shape"
   ]
  },
  {
   "cell_type": "code",
   "execution_count": 4,
   "id": "6a000e30",
   "metadata": {
    "execution": {
     "iopub.execute_input": "2024-11-15T20:08:33.953124Z",
     "iopub.status.busy": "2024-11-15T20:08:33.952712Z",
     "iopub.status.idle": "2024-11-15T20:08:33.993572Z",
     "shell.execute_reply": "2024-11-15T20:08:33.992332Z"
    },
    "papermill": {
     "duration": 0.050561,
     "end_time": "2024-11-15T20:08:33.996044",
     "exception": false,
     "start_time": "2024-11-15T20:08:33.945483",
     "status": "completed"
    },
    "tags": []
   },
   "outputs": [
    {
     "data": {
      "text/html": [
       "<div>\n",
       "<style scoped>\n",
       "    .dataframe tbody tr th:only-of-type {\n",
       "        vertical-align: middle;\n",
       "    }\n",
       "\n",
       "    .dataframe tbody tr th {\n",
       "        vertical-align: top;\n",
       "    }\n",
       "\n",
       "    .dataframe thead th {\n",
       "        text-align: right;\n",
       "    }\n",
       "</style>\n",
       "<table border=\"1\" class=\"dataframe\">\n",
       "  <thead>\n",
       "    <tr style=\"text-align: right;\">\n",
       "      <th></th>\n",
       "      <th>filename</th>\n",
       "      <th>tempo</th>\n",
       "      <th>beats</th>\n",
       "      <th>chroma_stft</th>\n",
       "      <th>rmse</th>\n",
       "      <th>spectral_centroid</th>\n",
       "      <th>spectral_bandwidth</th>\n",
       "      <th>rolloff</th>\n",
       "      <th>zero_crossing_rate</th>\n",
       "      <th>mfcc1</th>\n",
       "      <th>...</th>\n",
       "      <th>mfcc12</th>\n",
       "      <th>mfcc13</th>\n",
       "      <th>mfcc14</th>\n",
       "      <th>mfcc15</th>\n",
       "      <th>mfcc16</th>\n",
       "      <th>mfcc17</th>\n",
       "      <th>mfcc18</th>\n",
       "      <th>mfcc19</th>\n",
       "      <th>mfcc20</th>\n",
       "      <th>label</th>\n",
       "    </tr>\n",
       "  </thead>\n",
       "  <tbody>\n",
       "    <tr>\n",
       "      <th>0</th>\n",
       "      <td>blues.00081.au</td>\n",
       "      <td>103.359375</td>\n",
       "      <td>50</td>\n",
       "      <td>0.380260</td>\n",
       "      <td>0.248262</td>\n",
       "      <td>2116.942959</td>\n",
       "      <td>1956.611056</td>\n",
       "      <td>4196.107960</td>\n",
       "      <td>0.127272</td>\n",
       "      <td>-26.929785</td>\n",
       "      <td>...</td>\n",
       "      <td>14.336612</td>\n",
       "      <td>-13.821769</td>\n",
       "      <td>7.562789</td>\n",
       "      <td>-6.181372</td>\n",
       "      <td>0.330165</td>\n",
       "      <td>-6.829571</td>\n",
       "      <td>0.965922</td>\n",
       "      <td>-7.570825</td>\n",
       "      <td>2.918987</td>\n",
       "      <td>blues</td>\n",
       "    </tr>\n",
       "    <tr>\n",
       "      <th>1</th>\n",
       "      <td>blues.00022.au</td>\n",
       "      <td>95.703125</td>\n",
       "      <td>44</td>\n",
       "      <td>0.306451</td>\n",
       "      <td>0.113475</td>\n",
       "      <td>1156.070496</td>\n",
       "      <td>1497.668176</td>\n",
       "      <td>2170.053545</td>\n",
       "      <td>0.058613</td>\n",
       "      <td>-233.860772</td>\n",
       "      <td>...</td>\n",
       "      <td>-2.250578</td>\n",
       "      <td>3.959198</td>\n",
       "      <td>5.322555</td>\n",
       "      <td>0.812028</td>\n",
       "      <td>-1.107202</td>\n",
       "      <td>-4.556555</td>\n",
       "      <td>-2.436490</td>\n",
       "      <td>3.316913</td>\n",
       "      <td>-0.608485</td>\n",
       "      <td>blues</td>\n",
       "    </tr>\n",
       "    <tr>\n",
       "      <th>2</th>\n",
       "      <td>blues.00031.au</td>\n",
       "      <td>151.999081</td>\n",
       "      <td>75</td>\n",
       "      <td>0.253487</td>\n",
       "      <td>0.151571</td>\n",
       "      <td>1331.073970</td>\n",
       "      <td>1973.643437</td>\n",
       "      <td>2900.174130</td>\n",
       "      <td>0.042967</td>\n",
       "      <td>-221.802549</td>\n",
       "      <td>...</td>\n",
       "      <td>-13.037723</td>\n",
       "      <td>-12.652228</td>\n",
       "      <td>-1.821905</td>\n",
       "      <td>-7.260097</td>\n",
       "      <td>-6.660252</td>\n",
       "      <td>-14.682694</td>\n",
       "      <td>-11.719264</td>\n",
       "      <td>-11.025216</td>\n",
       "      <td>-13.387260</td>\n",
       "      <td>blues</td>\n",
       "    </tr>\n",
       "    <tr>\n",
       "      <th>3</th>\n",
       "      <td>blues.00012.au</td>\n",
       "      <td>184.570312</td>\n",
       "      <td>91</td>\n",
       "      <td>0.269320</td>\n",
       "      <td>0.119072</td>\n",
       "      <td>1361.045467</td>\n",
       "      <td>1567.804596</td>\n",
       "      <td>2739.625101</td>\n",
       "      <td>0.069124</td>\n",
       "      <td>-207.208080</td>\n",
       "      <td>...</td>\n",
       "      <td>-0.613248</td>\n",
       "      <td>0.384877</td>\n",
       "      <td>2.605128</td>\n",
       "      <td>-5.188924</td>\n",
       "      <td>-9.527455</td>\n",
       "      <td>-9.244394</td>\n",
       "      <td>-2.848274</td>\n",
       "      <td>-1.418707</td>\n",
       "      <td>-5.932607</td>\n",
       "      <td>blues</td>\n",
       "    </tr>\n",
       "    <tr>\n",
       "      <th>4</th>\n",
       "      <td>blues.00056.au</td>\n",
       "      <td>161.499023</td>\n",
       "      <td>74</td>\n",
       "      <td>0.391059</td>\n",
       "      <td>0.137728</td>\n",
       "      <td>1811.076084</td>\n",
       "      <td>2052.332563</td>\n",
       "      <td>3927.809582</td>\n",
       "      <td>0.075480</td>\n",
       "      <td>-145.434568</td>\n",
       "      <td>...</td>\n",
       "      <td>7.457218</td>\n",
       "      <td>-10.470444</td>\n",
       "      <td>-2.360483</td>\n",
       "      <td>-6.783623</td>\n",
       "      <td>2.671134</td>\n",
       "      <td>-4.760879</td>\n",
       "      <td>-0.949005</td>\n",
       "      <td>0.024832</td>\n",
       "      <td>-2.005315</td>\n",
       "      <td>blues</td>\n",
       "    </tr>\n",
       "  </tbody>\n",
       "</table>\n",
       "<p>5 rows × 30 columns</p>\n",
       "</div>"
      ],
      "text/plain": [
       "         filename       tempo  beats  chroma_stft      rmse  \\\n",
       "0  blues.00081.au  103.359375     50     0.380260  0.248262   \n",
       "1  blues.00022.au   95.703125     44     0.306451  0.113475   \n",
       "2  blues.00031.au  151.999081     75     0.253487  0.151571   \n",
       "3  blues.00012.au  184.570312     91     0.269320  0.119072   \n",
       "4  blues.00056.au  161.499023     74     0.391059  0.137728   \n",
       "\n",
       "   spectral_centroid  spectral_bandwidth      rolloff  zero_crossing_rate  \\\n",
       "0        2116.942959         1956.611056  4196.107960            0.127272   \n",
       "1        1156.070496         1497.668176  2170.053545            0.058613   \n",
       "2        1331.073970         1973.643437  2900.174130            0.042967   \n",
       "3        1361.045467         1567.804596  2739.625101            0.069124   \n",
       "4        1811.076084         2052.332563  3927.809582            0.075480   \n",
       "\n",
       "        mfcc1  ...     mfcc12     mfcc13    mfcc14    mfcc15    mfcc16  \\\n",
       "0  -26.929785  ...  14.336612 -13.821769  7.562789 -6.181372  0.330165   \n",
       "1 -233.860772  ...  -2.250578   3.959198  5.322555  0.812028 -1.107202   \n",
       "2 -221.802549  ... -13.037723 -12.652228 -1.821905 -7.260097 -6.660252   \n",
       "3 -207.208080  ...  -0.613248   0.384877  2.605128 -5.188924 -9.527455   \n",
       "4 -145.434568  ...   7.457218 -10.470444 -2.360483 -6.783623  2.671134   \n",
       "\n",
       "      mfcc17     mfcc18     mfcc19     mfcc20  label  \n",
       "0  -6.829571   0.965922  -7.570825   2.918987  blues  \n",
       "1  -4.556555  -2.436490   3.316913  -0.608485  blues  \n",
       "2 -14.682694 -11.719264 -11.025216 -13.387260  blues  \n",
       "3  -9.244394  -2.848274  -1.418707  -5.932607  blues  \n",
       "4  -4.760879  -0.949005   0.024832  -2.005315  blues  \n",
       "\n",
       "[5 rows x 30 columns]"
      ]
     },
     "execution_count": 4,
     "metadata": {},
     "output_type": "execute_result"
    }
   ],
   "source": [
    "features_data.head()"
   ]
  },
  {
   "cell_type": "code",
   "execution_count": 5,
   "id": "0e49b875",
   "metadata": {
    "execution": {
     "iopub.execute_input": "2024-11-15T20:08:34.010147Z",
     "iopub.status.busy": "2024-11-15T20:08:34.009151Z",
     "iopub.status.idle": "2024-11-15T20:08:34.015404Z",
     "shell.execute_reply": "2024-11-15T20:08:34.014219Z"
    },
    "papermill": {
     "duration": 0.016072,
     "end_time": "2024-11-15T20:08:34.017870",
     "exception": false,
     "start_time": "2024-11-15T20:08:34.001798",
     "status": "completed"
    },
    "tags": []
   },
   "outputs": [],
   "source": [
    "y = features_data.label"
   ]
  },
  {
   "cell_type": "code",
   "execution_count": 6,
   "id": "dc509b73",
   "metadata": {
    "execution": {
     "iopub.execute_input": "2024-11-15T20:08:34.030977Z",
     "iopub.status.busy": "2024-11-15T20:08:34.030491Z",
     "iopub.status.idle": "2024-11-15T20:08:34.039947Z",
     "shell.execute_reply": "2024-11-15T20:08:34.038626Z"
    },
    "papermill": {
     "duration": 0.019058,
     "end_time": "2024-11-15T20:08:34.042590",
     "exception": false,
     "start_time": "2024-11-15T20:08:34.023532",
     "status": "completed"
    },
    "tags": []
   },
   "outputs": [],
   "source": [
    "features_data.drop('filename', axis=1, inplace=True)"
   ]
  },
  {
   "cell_type": "code",
   "execution_count": 7,
   "id": "87a370e2",
   "metadata": {
    "execution": {
     "iopub.execute_input": "2024-11-15T20:08:34.056216Z",
     "iopub.status.busy": "2024-11-15T20:08:34.055217Z",
     "iopub.status.idle": "2024-11-15T20:08:34.070877Z",
     "shell.execute_reply": "2024-11-15T20:08:34.069185Z"
    },
    "papermill": {
     "duration": 0.026493,
     "end_time": "2024-11-15T20:08:34.074513",
     "exception": false,
     "start_time": "2024-11-15T20:08:34.048020",
     "status": "completed"
    },
    "tags": []
   },
   "outputs": [
    {
     "name": "stdout",
     "output_type": "stream",
     "text": [
      "(1200, 29)\n",
      "tempo                 0\n",
      "beats                 0\n",
      "chroma_stft           0\n",
      "rmse                  0\n",
      "spectral_centroid     0\n",
      "spectral_bandwidth    0\n",
      "rolloff               0\n",
      "zero_crossing_rate    0\n",
      "mfcc1                 0\n",
      "mfcc2                 0\n",
      "mfcc3                 0\n",
      "mfcc4                 0\n",
      "mfcc5                 0\n",
      "mfcc6                 0\n",
      "mfcc7                 0\n",
      "mfcc8                 0\n",
      "mfcc9                 0\n",
      "mfcc10                0\n",
      "mfcc11                0\n",
      "mfcc12                0\n",
      "mfcc13                0\n",
      "mfcc14                0\n",
      "mfcc15                0\n",
      "mfcc16                0\n",
      "mfcc17                0\n",
      "mfcc18                0\n",
      "mfcc19                0\n",
      "mfcc20                0\n",
      "label                 0\n",
      "dtype: int64\n",
      "tempo                 0.0\n",
      "beats                 0.0\n",
      "chroma_stft           0.0\n",
      "rmse                  0.0\n",
      "spectral_centroid     0.0\n",
      "spectral_bandwidth    0.0\n",
      "rolloff               0.0\n",
      "zero_crossing_rate    0.0\n",
      "mfcc1                 0.0\n",
      "mfcc2                 0.0\n",
      "mfcc3                 0.0\n",
      "mfcc4                 0.0\n",
      "mfcc5                 0.0\n",
      "mfcc6                 0.0\n",
      "mfcc7                 0.0\n",
      "mfcc8                 0.0\n",
      "mfcc9                 0.0\n",
      "mfcc10                0.0\n",
      "mfcc11                0.0\n",
      "mfcc12                0.0\n",
      "mfcc13                0.0\n",
      "mfcc14                0.0\n",
      "mfcc15                0.0\n",
      "mfcc16                0.0\n",
      "mfcc17                0.0\n",
      "mfcc18                0.0\n",
      "mfcc19                0.0\n",
      "mfcc20                0.0\n",
      "label                 0.0\n",
      "dtype: float64\n"
     ]
    }
   ],
   "source": [
    "## Shape of training data (num_rows, num_columns)\n",
    "print(features_data.shape)\n",
    "\n",
    "# Number of missing values in each column of training data\n",
    "missing_val_count_by_column = (features_data.isnull().sum())\n",
    "print(missing_val_count_by_column)\n",
    "print(100 * missing_val_count_by_column/features_data.shape[0])"
   ]
  },
  {
   "cell_type": "code",
   "execution_count": 8,
   "id": "60ef40a0",
   "metadata": {
    "execution": {
     "iopub.execute_input": "2024-11-15T20:08:34.090807Z",
     "iopub.status.busy": "2024-11-15T20:08:34.089596Z",
     "iopub.status.idle": "2024-11-15T20:08:34.099941Z",
     "shell.execute_reply": "2024-11-15T20:08:34.098558Z"
    },
    "papermill": {
     "duration": 0.021123,
     "end_time": "2024-11-15T20:08:34.103264",
     "exception": false,
     "start_time": "2024-11-15T20:08:34.082141",
     "status": "completed"
    },
    "tags": []
   },
   "outputs": [
    {
     "name": "stdout",
     "output_type": "stream",
     "text": [
      "Categorical variables:\n",
      "['label']\n"
     ]
    }
   ],
   "source": [
    "# Get list of categorical variables\n",
    "s = (features_data.dtypes == 'object')\n",
    "object_cols = list(s[s].index)\n",
    "\n",
    "for col in object_cols:\n",
    "    features_data[col] = features_data[col].astype(str)\n",
    "    \n",
    "print(\"Categorical variables:\")\n",
    "print(object_cols)"
   ]
  },
  {
   "cell_type": "code",
   "execution_count": 9,
   "id": "c28849c5",
   "metadata": {
    "execution": {
     "iopub.execute_input": "2024-11-15T20:08:34.117351Z",
     "iopub.status.busy": "2024-11-15T20:08:34.116255Z",
     "iopub.status.idle": "2024-11-15T20:08:34.127699Z",
     "shell.execute_reply": "2024-11-15T20:08:34.126546Z"
    },
    "papermill": {
     "duration": 0.021939,
     "end_time": "2024-11-15T20:08:34.130862",
     "exception": false,
     "start_time": "2024-11-15T20:08:34.108923",
     "status": "completed"
    },
    "tags": []
   },
   "outputs": [
    {
     "name": "stdout",
     "output_type": "stream",
     "text": [
      "['blues' 'classical' 'country' 'disco' 'hiphop' 'jazz' 'metal' 'pop'\n",
      " 'reggae' 'rock' '1' '2']\n"
     ]
    }
   ],
   "source": [
    "print(features_data.label.unique())"
   ]
  },
  {
   "cell_type": "code",
   "execution_count": 10,
   "id": "6340eca1",
   "metadata": {
    "execution": {
     "iopub.execute_input": "2024-11-15T20:08:34.147779Z",
     "iopub.status.busy": "2024-11-15T20:08:34.147169Z",
     "iopub.status.idle": "2024-11-15T20:08:35.523089Z",
     "shell.execute_reply": "2024-11-15T20:08:35.521893Z"
    },
    "papermill": {
     "duration": 1.387204,
     "end_time": "2024-11-15T20:08:35.525989",
     "exception": false,
     "start_time": "2024-11-15T20:08:34.138785",
     "status": "completed"
    },
    "tags": []
   },
   "outputs": [],
   "source": [
    "from sklearn.preprocessing import OrdinalEncoder\n",
    "\n",
    "# Make copy to avoid changing original data \n",
    "label_features_data = features_data.copy()\n",
    "\n",
    "# Apply ordinal encoder to each column with categorical data\n",
    "ordinal_encoder = OrdinalEncoder()\n",
    "label_features_data[object_cols] = ordinal_encoder.fit_transform(features_data[object_cols])"
   ]
  },
  {
   "cell_type": "code",
   "execution_count": 11,
   "id": "6feb48c5",
   "metadata": {
    "execution": {
     "iopub.execute_input": "2024-11-15T20:08:35.540459Z",
     "iopub.status.busy": "2024-11-15T20:08:35.539835Z",
     "iopub.status.idle": "2024-11-15T20:08:35.547321Z",
     "shell.execute_reply": "2024-11-15T20:08:35.545646Z"
    },
    "papermill": {
     "duration": 0.017912,
     "end_time": "2024-11-15T20:08:35.549900",
     "exception": false,
     "start_time": "2024-11-15T20:08:35.531988",
     "status": "completed"
    },
    "tags": []
   },
   "outputs": [
    {
     "name": "stdout",
     "output_type": "stream",
     "text": [
      "Category to Label Mapping:\n",
      "[array(['1', '2', 'blues', 'classical', 'country', 'disco', 'hiphop',\n",
      "       'jazz', 'metal', 'pop', 'reggae', 'rock'], dtype=object)]\n"
     ]
    }
   ],
   "source": [
    "print(\"Category to Label Mapping:\")\n",
    "print(ordinal_encoder.categories_)"
   ]
  },
  {
   "cell_type": "code",
   "execution_count": 12,
   "id": "894ef823",
   "metadata": {
    "execution": {
     "iopub.execute_input": "2024-11-15T20:08:35.564421Z",
     "iopub.status.busy": "2024-11-15T20:08:35.563949Z",
     "iopub.status.idle": "2024-11-15T20:08:35.944693Z",
     "shell.execute_reply": "2024-11-15T20:08:35.943349Z"
    },
    "papermill": {
     "duration": 0.391508,
     "end_time": "2024-11-15T20:08:35.947863",
     "exception": false,
     "start_time": "2024-11-15T20:08:35.556355",
     "status": "completed"
    },
    "tags": []
   },
   "outputs": [],
   "source": [
    "from sklearn.impute import SimpleImputer\n",
    "\n",
    "# Fill in the lines below: imputation\n",
    "my_imputer = SimpleImputer() # Your code here\n",
    "imputed_features_data = pd.DataFrame(my_imputer.fit_transform(label_features_data))\n",
    "\n",
    "# Fill in the lines below: imputation removed column names; put them back\n",
    "imputed_features_data.columns = label_features_data.columns"
   ]
  },
  {
   "cell_type": "code",
   "execution_count": 13,
   "id": "4c30fec7",
   "metadata": {
    "execution": {
     "iopub.execute_input": "2024-11-15T20:08:35.962936Z",
     "iopub.status.busy": "2024-11-15T20:08:35.962458Z",
     "iopub.status.idle": "2024-11-15T20:08:35.971575Z",
     "shell.execute_reply": "2024-11-15T20:08:35.970142Z"
    },
    "papermill": {
     "duration": 0.020563,
     "end_time": "2024-11-15T20:08:35.974636",
     "exception": false,
     "start_time": "2024-11-15T20:08:35.954073",
     "status": "completed"
    },
    "tags": []
   },
   "outputs": [
    {
     "data": {
      "text/plain": [
       "Index(['tempo', 'beats', 'chroma_stft', 'rmse', 'spectral_centroid',\n",
       "       'spectral_bandwidth', 'rolloff', 'zero_crossing_rate', 'mfcc1', 'mfcc2',\n",
       "       'mfcc3', 'mfcc4', 'mfcc5', 'mfcc6', 'mfcc7', 'mfcc8', 'mfcc9', 'mfcc10',\n",
       "       'mfcc11', 'mfcc12', 'mfcc13', 'mfcc14', 'mfcc15', 'mfcc16', 'mfcc17',\n",
       "       'mfcc18', 'mfcc19', 'mfcc20', 'label'],\n",
       "      dtype='object')"
      ]
     },
     "execution_count": 13,
     "metadata": {},
     "output_type": "execute_result"
    }
   ],
   "source": [
    "imputed_features_data.columns"
   ]
  },
  {
   "cell_type": "code",
   "execution_count": 14,
   "id": "f180772c",
   "metadata": {
    "execution": {
     "iopub.execute_input": "2024-11-15T20:08:35.990150Z",
     "iopub.status.busy": "2024-11-15T20:08:35.989124Z",
     "iopub.status.idle": "2024-11-15T20:08:35.997289Z",
     "shell.execute_reply": "2024-11-15T20:08:35.996285Z"
    },
    "papermill": {
     "duration": 0.01883,
     "end_time": "2024-11-15T20:08:36.000248",
     "exception": false,
     "start_time": "2024-11-15T20:08:35.981418",
     "status": "completed"
    },
    "tags": []
   },
   "outputs": [
    {
     "name": "stdout",
     "output_type": "stream",
     "text": [
      "tempo                 0\n",
      "beats                 0\n",
      "chroma_stft           0\n",
      "rmse                  0\n",
      "spectral_centroid     0\n",
      "spectral_bandwidth    0\n",
      "rolloff               0\n",
      "zero_crossing_rate    0\n",
      "mfcc1                 0\n",
      "mfcc2                 0\n",
      "mfcc3                 0\n",
      "mfcc4                 0\n",
      "mfcc5                 0\n",
      "mfcc6                 0\n",
      "mfcc7                 0\n",
      "mfcc8                 0\n",
      "mfcc9                 0\n",
      "mfcc10                0\n",
      "mfcc11                0\n",
      "mfcc12                0\n",
      "mfcc13                0\n",
      "mfcc14                0\n",
      "mfcc15                0\n",
      "mfcc16                0\n",
      "mfcc17                0\n",
      "mfcc18                0\n",
      "mfcc19                0\n",
      "mfcc20                0\n",
      "label                 0\n",
      "dtype: int64\n"
     ]
    }
   ],
   "source": [
    "missing_val_count_by_column = (imputed_features_data.isnull().sum())\n",
    "print(missing_val_count_by_column)"
   ]
  },
  {
   "cell_type": "code",
   "execution_count": 15,
   "id": "744f65c9",
   "metadata": {
    "execution": {
     "iopub.execute_input": "2024-11-15T20:08:36.016401Z",
     "iopub.status.busy": "2024-11-15T20:08:36.015929Z",
     "iopub.status.idle": "2024-11-15T20:08:36.031011Z",
     "shell.execute_reply": "2024-11-15T20:08:36.029884Z"
    },
    "papermill": {
     "duration": 0.026167,
     "end_time": "2024-11-15T20:08:36.033778",
     "exception": false,
     "start_time": "2024-11-15T20:08:36.007611",
     "status": "completed"
    },
    "tags": []
   },
   "outputs": [],
   "source": [
    "features = ['beats','rmse','rolloff','spectral_bandwidth','spectral_centroid','tempo','zero_crossing_rate']\n",
    "X = imputed_features_data[features]\n",
    "\n",
    "y = imputed_features_data.label"
   ]
  },
  {
   "cell_type": "code",
   "execution_count": 16,
   "id": "accfcd50",
   "metadata": {
    "execution": {
     "iopub.execute_input": "2024-11-15T20:08:36.048485Z",
     "iopub.status.busy": "2024-11-15T20:08:36.048026Z",
     "iopub.status.idle": "2024-11-15T20:08:36.059204Z",
     "shell.execute_reply": "2024-11-15T20:08:36.057797Z"
    },
    "papermill": {
     "duration": 0.021803,
     "end_time": "2024-11-15T20:08:36.062016",
     "exception": false,
     "start_time": "2024-11-15T20:08:36.040213",
     "status": "completed"
    },
    "tags": []
   },
   "outputs": [],
   "source": [
    "from sklearn.model_selection import train_test_split\n",
    "\n",
    "# Break off validation set from training data\n",
    "X_train, X_valid, y_train, y_valid = train_test_split(X, y, train_size=0.8, test_size=0.2,\n",
    "                                                      random_state=0)"
   ]
  },
  {
   "cell_type": "code",
   "execution_count": 17,
   "id": "adff45e4",
   "metadata": {
    "execution": {
     "iopub.execute_input": "2024-11-15T20:08:36.076339Z",
     "iopub.status.busy": "2024-11-15T20:08:36.075872Z",
     "iopub.status.idle": "2024-11-15T20:08:36.125494Z",
     "shell.execute_reply": "2024-11-15T20:08:36.124287Z"
    },
    "papermill": {
     "duration": 0.059758,
     "end_time": "2024-11-15T20:08:36.128171",
     "exception": false,
     "start_time": "2024-11-15T20:08:36.068413",
     "status": "completed"
    },
    "tags": []
   },
   "outputs": [],
   "source": [
    "from sklearn.tree import DecisionTreeClassifier\n",
    "\n",
    "dt_model = DecisionTreeClassifier(max_depth=2, random_state=1)\n",
    "dt_model.fit(X_train, y_train)\n",
    "\n",
    "dt_train_predictions = dt_model.predict(X_train)\n",
    "dt_valid_predictions = dt_model.predict(X_valid)"
   ]
  },
  {
   "cell_type": "code",
   "execution_count": null,
   "id": "5f842346",
   "metadata": {
    "papermill": {
     "duration": 0.005652,
     "end_time": "2024-11-15T20:08:36.139796",
     "exception": false,
     "start_time": "2024-11-15T20:08:36.134144",
     "status": "completed"
    },
    "tags": []
   },
   "outputs": [],
   "source": []
  }
 ],
 "metadata": {
  "kaggle": {
   "accelerator": "none",
   "dataSources": [
    {
     "datasetId": 33129,
     "sourceId": 43448,
     "sourceType": "datasetVersion"
    }
   ],
   "dockerImageVersionId": 30786,
   "isGpuEnabled": false,
   "isInternetEnabled": false,
   "language": "python",
   "sourceType": "notebook"
  },
  "kernelspec": {
   "display_name": "Python 3",
   "language": "python",
   "name": "python3"
  },
  "language_info": {
   "codemirror_mode": {
    "name": "ipython",
    "version": 3
   },
   "file_extension": ".py",
   "mimetype": "text/x-python",
   "name": "python",
   "nbconvert_exporter": "python",
   "pygments_lexer": "ipython3",
   "version": "3.10.14"
  },
  "papermill": {
   "default_parameters": {},
   "duration": 7.37753,
   "end_time": "2024-11-15T20:08:37.070424",
   "environment_variables": {},
   "exception": null,
   "input_path": "__notebook__.ipynb",
   "output_path": "__notebook__.ipynb",
   "parameters": {},
   "start_time": "2024-11-15T20:08:29.692894",
   "version": "2.6.0"
  }
 },
 "nbformat": 4,
 "nbformat_minor": 5
}
