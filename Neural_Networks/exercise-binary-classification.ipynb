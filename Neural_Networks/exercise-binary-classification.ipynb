{
 "cells": [
  {
   "cell_type": "markdown",
   "id": "59e8774a",
   "metadata": {
    "papermill": {
     "duration": 0.003781,
     "end_time": "2025-01-15T17:32:56.679319",
     "exception": false,
     "start_time": "2025-01-15T17:32:56.675538",
     "status": "completed"
    },
    "tags": []
   },
   "source": [
    "**This notebook is an exercise in the [Intro to Deep Learning](https://www.kaggle.com/learn/intro-to-deep-learning) course.  You can reference the tutorial at [this link](https://www.kaggle.com/ryanholbrook/binary-classification).**\n",
    "\n",
    "---\n"
   ]
  },
  {
   "cell_type": "markdown",
   "id": "ee131baf",
   "metadata": {
    "papermill": {
     "duration": 0.003034,
     "end_time": "2025-01-15T17:32:56.686005",
     "exception": false,
     "start_time": "2025-01-15T17:32:56.682971",
     "status": "completed"
    },
    "tags": []
   },
   "source": [
    "# Introduction #\n",
    "\n",
    "In this exercise, you'll build a model to predict hotel cancellations with a binary classifier."
   ]
  },
  {
   "cell_type": "code",
   "execution_count": 1,
   "id": "5098dd6a",
   "metadata": {
    "execution": {
     "iopub.execute_input": "2025-01-15T17:32:56.694055Z",
     "iopub.status.busy": "2025-01-15T17:32:56.693693Z",
     "iopub.status.idle": "2025-01-15T17:32:57.948421Z",
     "shell.execute_reply": "2025-01-15T17:32:57.947184Z"
    },
    "lines_to_next_cell": 0,
    "papermill": {
     "duration": 1.261907,
     "end_time": "2025-01-15T17:32:57.951075",
     "exception": false,
     "start_time": "2025-01-15T17:32:56.689168",
     "status": "completed"
    },
    "tags": []
   },
   "outputs": [
    {
     "name": "stderr",
     "output_type": "stream",
     "text": [
      "/tmp/ipykernel_18/3338970720.py:3: MatplotlibDeprecationWarning: The seaborn styles shipped by Matplotlib are deprecated since 3.6, as they no longer correspond to the styles shipped by seaborn. However, they will remain available as 'seaborn-v0_8-<style>'. Alternatively, directly use the seaborn API instead.\n",
      "  plt.style.use('seaborn-whitegrid')\n"
     ]
    }
   ],
   "source": [
    "# Setup plotting\n",
    "import matplotlib.pyplot as plt\n",
    "plt.style.use('seaborn-whitegrid')\n",
    "# Set Matplotlib defaults\n",
    "plt.rc('figure', autolayout=True)\n",
    "plt.rc('axes', labelweight='bold', labelsize='large',\n",
    "       titleweight='bold', titlesize=18, titlepad=10)\n",
    "plt.rc('animation', html='html5')\n",
    "\n",
    "# Setup feedback system\n",
    "from learntools.core import binder\n",
    "binder.bind(globals())\n",
    "from learntools.deep_learning_intro.ex6 import *"
   ]
  },
  {
   "cell_type": "markdown",
   "id": "53606afd",
   "metadata": {
    "papermill": {
     "duration": 0.004315,
     "end_time": "2025-01-15T17:32:57.959858",
     "exception": false,
     "start_time": "2025-01-15T17:32:57.955543",
     "status": "completed"
    },
    "tags": []
   },
   "source": [
    "First, load the *Hotel Cancellations* dataset."
   ]
  },
  {
   "cell_type": "code",
   "execution_count": 2,
   "id": "f02d4ae6",
   "metadata": {
    "execution": {
     "iopub.execute_input": "2025-01-15T17:32:57.969693Z",
     "iopub.status.busy": "2025-01-15T17:32:57.968783Z",
     "iopub.status.idle": "2025-01-15T17:33:01.390040Z",
     "shell.execute_reply": "2025-01-15T17:33:01.389146Z"
    },
    "lines_to_next_cell": 2,
    "papermill": {
     "duration": 3.428446,
     "end_time": "2025-01-15T17:33:01.392400",
     "exception": false,
     "start_time": "2025-01-15T17:32:57.963954",
     "status": "completed"
    },
    "tags": []
   },
   "outputs": [],
   "source": [
    "import pandas as pd\n",
    "\n",
    "from sklearn.model_selection import train_test_split\n",
    "from sklearn.preprocessing import StandardScaler, OneHotEncoder\n",
    "from sklearn.impute import SimpleImputer\n",
    "from sklearn.pipeline import make_pipeline\n",
    "from sklearn.compose import make_column_transformer\n",
    "\n",
    "hotel = pd.read_csv('../input/dl-course-data/hotel.csv')\n",
    "\n",
    "X = hotel.copy()\n",
    "y = X.pop('is_canceled')\n",
    "\n",
    "X['arrival_date_month'] = \\\n",
    "    X['arrival_date_month'].map(\n",
    "        {'January':1, 'February': 2, 'March':3,\n",
    "         'April':4, 'May':5, 'June':6, 'July':7,\n",
    "         'August':8, 'September':9, 'October':10,\n",
    "         'November':11, 'December':12}\n",
    "    )\n",
    "\n",
    "features_num = [\n",
    "    \"lead_time\", \"arrival_date_week_number\",\n",
    "    \"arrival_date_day_of_month\", \"stays_in_weekend_nights\",\n",
    "    \"stays_in_week_nights\", \"adults\", \"children\", \"babies\",\n",
    "    \"is_repeated_guest\", \"previous_cancellations\",\n",
    "    \"previous_bookings_not_canceled\", \"required_car_parking_spaces\",\n",
    "    \"total_of_special_requests\", \"adr\",\n",
    "]\n",
    "features_cat = [\n",
    "    \"hotel\", \"arrival_date_month\", \"meal\",\n",
    "    \"market_segment\", \"distribution_channel\",\n",
    "    \"reserved_room_type\", \"deposit_type\", \"customer_type\",\n",
    "]\n",
    "\n",
    "transformer_num = make_pipeline(\n",
    "    SimpleImputer(strategy=\"constant\"), # there are a few missing values\n",
    "    StandardScaler(),\n",
    ")\n",
    "transformer_cat = make_pipeline(\n",
    "    SimpleImputer(strategy=\"constant\", fill_value=\"NA\"),\n",
    "    OneHotEncoder(handle_unknown='ignore'),\n",
    ")\n",
    "\n",
    "preprocessor = make_column_transformer(\n",
    "    (transformer_num, features_num),\n",
    "    (transformer_cat, features_cat),\n",
    ")\n",
    "\n",
    "# stratify - make sure classes are evenlly represented across splits\n",
    "X_train, X_valid, y_train, y_valid = \\\n",
    "    train_test_split(X, y, stratify=y, train_size=0.75)\n",
    "\n",
    "X_train = preprocessor.fit_transform(X_train)\n",
    "X_valid = preprocessor.transform(X_valid)\n",
    "\n",
    "input_shape = [X_train.shape[1]]"
   ]
  },
  {
   "cell_type": "markdown",
   "id": "a9724bf6",
   "metadata": {
    "papermill": {
     "duration": 0.003446,
     "end_time": "2025-01-15T17:33:01.399440",
     "exception": false,
     "start_time": "2025-01-15T17:33:01.395994",
     "status": "completed"
    },
    "tags": []
   },
   "source": [
    "# 1) Define Model #\n",
    "\n",
    "The model we'll use this time will have both batch normalization and dropout layers. To ease reading we've broken the diagram into blocks, but you can define it layer by layer as usual.\n",
    "\n",
    "Define a model with an architecture given by this diagram:\n",
    "\n",
    "<figure style=\"padding: 1em;\">\n",
    "<img src=\"https://storage.googleapis.com/kaggle-media/learn/images/V04o59Z.png\" width=\"400\" alt=\"Diagram of network architecture: BatchNorm, Dense, BatchNorm, Dropout, Dense, BatchNorm, Dropout, Dense.\">\n",
    "<figcaption style=\"textalign: center; font-style: italic\"><center>Diagram of a binary classifier.</center></figcaption>\n",
    "</figure>\n"
   ]
  },
  {
   "cell_type": "code",
   "execution_count": 3,
   "id": "ab21429b",
   "metadata": {
    "execution": {
     "iopub.execute_input": "2025-01-15T17:33:01.408285Z",
     "iopub.status.busy": "2025-01-15T17:33:01.407382Z",
     "iopub.status.idle": "2025-01-15T17:33:17.899593Z",
     "shell.execute_reply": "2025-01-15T17:33:17.898433Z"
    },
    "lines_to_next_cell": 2,
    "papermill": {
     "duration": 16.499102,
     "end_time": "2025-01-15T17:33:17.901862",
     "exception": false,
     "start_time": "2025-01-15T17:33:01.402760",
     "status": "completed"
    },
    "tags": []
   },
   "outputs": [
    {
     "name": "stderr",
     "output_type": "stream",
     "text": [
      "2025-01-15 17:33:04.272408: E external/local_xla/xla/stream_executor/cuda/cuda_dnn.cc:9261] Unable to register cuDNN factory: Attempting to register factory for plugin cuDNN when one has already been registered\n",
      "2025-01-15 17:33:04.272556: E external/local_xla/xla/stream_executor/cuda/cuda_fft.cc:607] Unable to register cuFFT factory: Attempting to register factory for plugin cuFFT when one has already been registered\n",
      "2025-01-15 17:33:04.493976: E external/local_xla/xla/stream_executor/cuda/cuda_blas.cc:1515] Unable to register cuBLAS factory: Attempting to register factory for plugin cuBLAS when one has already been registered\n"
     ]
    },
    {
     "data": {
      "application/javascript": [
       "parent.postMessage({\"jupyterEvent\": \"custom.exercise_interaction\", \"data\": {\"outcomeType\": 1, \"valueTowardsCompletion\": 0.3333333333333333, \"interactionType\": 1, \"questionType\": 2, \"questionId\": \"1_Q1\", \"learnToolsVersion\": \"0.3.4\", \"failureMessage\": \"\", \"exceptionClass\": \"\", \"trace\": \"\"}}, \"*\")"
      ],
      "text/plain": [
       "<IPython.core.display.Javascript object>"
      ]
     },
     "metadata": {},
     "output_type": "display_data"
    },
    {
     "data": {
      "text/markdown": [
       "<span style=\"color:#33cc33\">Correct</span>"
      ],
      "text/plain": [
       "Correct"
      ]
     },
     "metadata": {},
     "output_type": "display_data"
    }
   ],
   "source": [
    "from tensorflow import keras\n",
    "from tensorflow.keras import layers\n",
    "\n",
    "# YOUR CODE HERE: define the model given in the diagram\n",
    "model = keras.Sequential([\n",
    "    layers.BatchNormalization(),\n",
    "    layers.Dense(256, activation='relu', input_shape=input_shape),\n",
    "    layers.BatchNormalization(),\n",
    "    layers.Dropout(rate=0.3),\n",
    "    layers.Dense(256, activation='relu'),\n",
    "    layers.BatchNormalization(),\n",
    "    layers.Dropout(rate=0.3),\n",
    "    layers.Dense(1, activation='sigmoid'),\n",
    "])\n",
    "\n",
    "# Check your answer\n",
    "q_1.check()"
   ]
  },
  {
   "cell_type": "markdown",
   "id": "2be08a78",
   "metadata": {
    "papermill": {
     "duration": 0.003553,
     "end_time": "2025-01-15T17:33:17.909254",
     "exception": false,
     "start_time": "2025-01-15T17:33:17.905701",
     "status": "completed"
    },
    "tags": []
   },
   "source": [
    "# 2) Add Optimizer, Loss, and Metric #\n",
    "\n",
    "Now compile the model with the Adam optimizer and binary versions of the cross-entropy loss and accuracy metric."
   ]
  },
  {
   "cell_type": "code",
   "execution_count": 4,
   "id": "a16edd11",
   "metadata": {
    "execution": {
     "iopub.execute_input": "2025-01-15T17:33:17.918479Z",
     "iopub.status.busy": "2025-01-15T17:33:17.918097Z",
     "iopub.status.idle": "2025-01-15T17:33:17.948563Z",
     "shell.execute_reply": "2025-01-15T17:33:17.947492Z"
    },
    "lines_to_next_cell": 0,
    "papermill": {
     "duration": 0.037696,
     "end_time": "2025-01-15T17:33:17.950808",
     "exception": false,
     "start_time": "2025-01-15T17:33:17.913112",
     "status": "completed"
    },
    "tags": []
   },
   "outputs": [
    {
     "data": {
      "application/javascript": [
       "parent.postMessage({\"jupyterEvent\": \"custom.exercise_interaction\", \"data\": {\"outcomeType\": 1, \"valueTowardsCompletion\": 0.3333333333333333, \"interactionType\": 1, \"questionType\": 2, \"questionId\": \"2_Q2\", \"learnToolsVersion\": \"0.3.4\", \"failureMessage\": \"\", \"exceptionClass\": \"\", \"trace\": \"\"}}, \"*\")"
      ],
      "text/plain": [
       "<IPython.core.display.Javascript object>"
      ]
     },
     "metadata": {},
     "output_type": "display_data"
    },
    {
     "data": {
      "text/markdown": [
       "<span style=\"color:#33cc33\">Correct</span>"
      ],
      "text/plain": [
       "Correct"
      ]
     },
     "metadata": {},
     "output_type": "display_data"
    }
   ],
   "source": [
    "# YOUR CODE HERE\n",
    "model.compile(\n",
    "    optimizer='adam',\n",
    "    loss='binary_crossentropy',\n",
    "    metrics=['binary_accuracy'],\n",
    ")\n",
    "\n",
    "# Check your answer\n",
    "q_2.check()"
   ]
  },
  {
   "cell_type": "code",
   "execution_count": 5,
   "id": "6325984a",
   "metadata": {
    "execution": {
     "iopub.execute_input": "2025-01-15T17:33:17.960311Z",
     "iopub.status.busy": "2025-01-15T17:33:17.959990Z",
     "iopub.status.idle": "2025-01-15T17:33:17.964750Z",
     "shell.execute_reply": "2025-01-15T17:33:17.963472Z"
    },
    "lines_to_next_cell": 0,
    "papermill": {
     "duration": 0.012098,
     "end_time": "2025-01-15T17:33:17.966906",
     "exception": false,
     "start_time": "2025-01-15T17:33:17.954808",
     "status": "completed"
    },
    "tags": []
   },
   "outputs": [],
   "source": [
    "# Lines below will give you a hint or solution code\n",
    "#q_2.hint()\n",
    "#q_2.solution()"
   ]
  },
  {
   "cell_type": "markdown",
   "id": "6ce0f2ae",
   "metadata": {
    "papermill": {
     "duration": 0.003692,
     "end_time": "2025-01-15T17:33:17.974657",
     "exception": false,
     "start_time": "2025-01-15T17:33:17.970965",
     "status": "completed"
    },
    "tags": []
   },
   "source": [
    "Finally, run this cell to train the model and view the learning curves. It may run for around 60 to 70 epochs, which could take a minute or two."
   ]
  },
  {
   "cell_type": "code",
   "execution_count": 6,
   "id": "447caffe",
   "metadata": {
    "execution": {
     "iopub.execute_input": "2025-01-15T17:33:17.984059Z",
     "iopub.status.busy": "2025-01-15T17:33:17.983730Z",
     "iopub.status.idle": "2025-01-15T17:34:15.193806Z",
     "shell.execute_reply": "2025-01-15T17:34:15.192743Z"
    },
    "papermill": {
     "duration": 57.217645,
     "end_time": "2025-01-15T17:34:15.196209",
     "exception": false,
     "start_time": "2025-01-15T17:33:17.978564",
     "status": "completed"
    },
    "tags": []
   },
   "outputs": [
    {
     "name": "stdout",
     "output_type": "stream",
     "text": [
      "Epoch 1/200\n",
      "175/175 [==============================] - 4s 14ms/step - loss: 0.4788 - binary_accuracy: 0.7725 - val_loss: 0.4292 - val_binary_accuracy: 0.7992\n",
      "Epoch 2/200\n",
      "175/175 [==============================] - 2s 13ms/step - loss: 0.4222 - binary_accuracy: 0.8024 - val_loss: 0.4031 - val_binary_accuracy: 0.8144\n",
      "Epoch 3/200\n",
      "175/175 [==============================] - 3s 14ms/step - loss: 0.4098 - binary_accuracy: 0.8089 - val_loss: 0.3953 - val_binary_accuracy: 0.8162\n",
      "Epoch 4/200\n",
      "175/175 [==============================] - 2s 13ms/step - loss: 0.4011 - binary_accuracy: 0.8117 - val_loss: 0.3904 - val_binary_accuracy: 0.8187\n",
      "Epoch 5/200\n",
      "175/175 [==============================] - 2s 13ms/step - loss: 0.3968 - binary_accuracy: 0.8146 - val_loss: 0.3897 - val_binary_accuracy: 0.8185\n",
      "Epoch 6/200\n",
      "175/175 [==============================] - 2s 13ms/step - loss: 0.3934 - binary_accuracy: 0.8168 - val_loss: 0.3858 - val_binary_accuracy: 0.8196\n",
      "Epoch 7/200\n",
      "175/175 [==============================] - 2s 13ms/step - loss: 0.3896 - binary_accuracy: 0.8188 - val_loss: 0.3817 - val_binary_accuracy: 0.8260\n",
      "Epoch 8/200\n",
      "175/175 [==============================] - 2s 13ms/step - loss: 0.3862 - binary_accuracy: 0.8198 - val_loss: 0.3776 - val_binary_accuracy: 0.8260\n",
      "Epoch 9/200\n",
      "175/175 [==============================] - 2s 13ms/step - loss: 0.3823 - binary_accuracy: 0.8227 - val_loss: 0.3763 - val_binary_accuracy: 0.8274\n",
      "Epoch 10/200\n",
      "175/175 [==============================] - 2s 13ms/step - loss: 0.3799 - binary_accuracy: 0.8234 - val_loss: 0.3744 - val_binary_accuracy: 0.8279\n",
      "Epoch 11/200\n",
      "175/175 [==============================] - 2s 13ms/step - loss: 0.3772 - binary_accuracy: 0.8259 - val_loss: 0.3717 - val_binary_accuracy: 0.8295\n",
      "Epoch 12/200\n",
      "175/175 [==============================] - 2s 13ms/step - loss: 0.3751 - binary_accuracy: 0.8258 - val_loss: 0.3723 - val_binary_accuracy: 0.8303\n",
      "Epoch 13/200\n",
      "175/175 [==============================] - 2s 13ms/step - loss: 0.3721 - binary_accuracy: 0.8270 - val_loss: 0.3708 - val_binary_accuracy: 0.8292\n",
      "Epoch 14/200\n",
      "175/175 [==============================] - 2s 13ms/step - loss: 0.3705 - binary_accuracy: 0.8284 - val_loss: 0.3685 - val_binary_accuracy: 0.8310\n",
      "Epoch 15/200\n",
      "175/175 [==============================] - 2s 13ms/step - loss: 0.3693 - binary_accuracy: 0.8295 - val_loss: 0.3665 - val_binary_accuracy: 0.8326\n",
      "Epoch 16/200\n",
      "175/175 [==============================] - 2s 13ms/step - loss: 0.3674 - binary_accuracy: 0.8304 - val_loss: 0.3717 - val_binary_accuracy: 0.8286\n",
      "Epoch 17/200\n",
      "175/175 [==============================] - 3s 15ms/step - loss: 0.3656 - binary_accuracy: 0.8307 - val_loss: 0.3635 - val_binary_accuracy: 0.8319\n",
      "Epoch 18/200\n",
      "175/175 [==============================] - 2s 12ms/step - loss: 0.3638 - binary_accuracy: 0.8320 - val_loss: 0.3634 - val_binary_accuracy: 0.8330\n",
      "Epoch 19/200\n",
      "175/175 [==============================] - 2s 12ms/step - loss: 0.3630 - binary_accuracy: 0.8332 - val_loss: 0.3596 - val_binary_accuracy: 0.8354\n",
      "Epoch 20/200\n",
      "175/175 [==============================] - 2s 12ms/step - loss: 0.3615 - binary_accuracy: 0.8325 - val_loss: 0.3604 - val_binary_accuracy: 0.8339\n",
      "Epoch 21/200\n",
      "175/175 [==============================] - 2s 13ms/step - loss: 0.3589 - binary_accuracy: 0.8346 - val_loss: 0.3628 - val_binary_accuracy: 0.8316\n",
      "Epoch 22/200\n",
      "175/175 [==============================] - 2s 13ms/step - loss: 0.3576 - binary_accuracy: 0.8346 - val_loss: 0.3620 - val_binary_accuracy: 0.8334\n",
      "Epoch 23/200\n",
      "175/175 [==============================] - 2s 13ms/step - loss: 0.3556 - binary_accuracy: 0.8352 - val_loss: 0.3596 - val_binary_accuracy: 0.8356\n",
      "Epoch 24/200\n",
      "175/175 [==============================] - 2s 13ms/step - loss: 0.3551 - binary_accuracy: 0.8356 - val_loss: 0.3598 - val_binary_accuracy: 0.8327\n"
     ]
    },
    {
     "data": {
      "text/plain": [
       "<Axes: title={'center': 'Accuracy'}>"
      ]
     },
     "execution_count": 6,
     "metadata": {},
     "output_type": "execute_result"
    },
    {
     "data": {
      "image/png": "[encoded data removed]",
      "text/plain": [
       "<Figure size 640x480 with 1 Axes>"
      ]
     },
     "metadata": {},
     "output_type": "display_data"
    },
    {
     "data": {
      "image/png": "[encoded data removed]",
      "text/plain": [
       "<Figure size 640x480 with 1 Axes>"
      ]
     },
     "metadata": {},
     "output_type": "display_data"
    }
   ],
   "source": [
    "early_stopping = keras.callbacks.EarlyStopping(\n",
    "    patience=5,\n",
    "    min_delta=0.001,\n",
    "    restore_best_weights=True,\n",
    ")\n",
    "history = model.fit(\n",
    "    X_train, y_train,\n",
    "    validation_data=(X_valid, y_valid),\n",
    "    batch_size=512,\n",
    "    epochs=200,\n",
    "    callbacks=[early_stopping],\n",
    ")\n",
    "\n",
    "history_df = pd.DataFrame(history.history)\n",
    "history_df.loc[:, ['loss', 'val_loss']].plot(title=\"Cross-entropy\")\n",
    "history_df.loc[:, ['binary_accuracy', 'val_binary_accuracy']].plot(title=\"Accuracy\")"
   ]
  },
  {
   "cell_type": "markdown",
   "id": "8993e6fe",
   "metadata": {
    "papermill": {
     "duration": 0.05385,
     "end_time": "2025-01-15T17:34:15.303386",
     "exception": false,
     "start_time": "2025-01-15T17:34:15.249536",
     "status": "completed"
    },
    "tags": []
   },
   "source": [
    "# 3) Train and Evaluate #\n",
    "\n",
    "\n",
    "What do you think about the learning curves? Does it look like the model underfit or overfit? Was the cross-entropy loss a good stand-in for accuracy?\n",
    "\n",
    "**There was no underfittinmg or overfitting as the early stopping stopped it and the cross-entropy fell as the accuracy increased meaning good stand-in**"
   ]
  },
  {
   "cell_type": "code",
   "execution_count": 7,
   "id": "d77df98b",
   "metadata": {
    "execution": {
     "iopub.execute_input": "2025-01-15T17:34:15.410271Z",
     "iopub.status.busy": "2025-01-15T17:34:15.409283Z",
     "iopub.status.idle": "2025-01-15T17:34:15.417807Z",
     "shell.execute_reply": "2025-01-15T17:34:15.416689Z"
    },
    "papermill": {
     "duration": 0.064255,
     "end_time": "2025-01-15T17:34:15.419697",
     "exception": false,
     "start_time": "2025-01-15T17:34:15.355442",
     "status": "completed"
    },
    "tags": []
   },
   "outputs": [
    {
     "data": {
      "application/javascript": [
       "parent.postMessage({\"jupyterEvent\": \"custom.exercise_interaction\", \"data\": {\"outcomeType\": 1, \"valueTowardsCompletion\": 0.3333333333333333, \"interactionType\": 1, \"questionType\": 4, \"questionId\": \"3_Q3\", \"learnToolsVersion\": \"0.3.4\", \"failureMessage\": \"\", \"exceptionClass\": \"\", \"trace\": \"\"}}, \"*\")"
      ],
      "text/plain": [
       "<IPython.core.display.Javascript object>"
      ]
     },
     "metadata": {},
     "output_type": "display_data"
    },
    {
     "data": {
      "text/markdown": [
       "<span style=\"color:#33cc33\">Correct:</span> \n",
       "\n",
       "Though we can see the training loss continuing to fall, the early stopping callback prevented any overfitting. Moreover, the accuracy rose at the same rate as the cross-entropy fell, so it appears that minimizing cross-entropy was a good stand-in. All in all, it looks like this training was a success!"
      ],
      "text/plain": [
       "Correct: \n",
       "\n",
       "Though we can see the training loss continuing to fall, the early stopping callback prevented any overfitting. Moreover, the accuracy rose at the same rate as the cross-entropy fell, so it appears that minimizing cross-entropy was a good stand-in. All in all, it looks like this training was a success!"
      ]
     },
     "metadata": {},
     "output_type": "display_data"
    }
   ],
   "source": [
    "# View the solution (Run this cell to receive credit!)\n",
    "q_3.check()"
   ]
  },
  {
   "cell_type": "markdown",
   "id": "7f81a90e",
   "metadata": {
    "papermill": {
     "duration": 0.052189,
     "end_time": "2025-01-15T17:34:15.525065",
     "exception": false,
     "start_time": "2025-01-15T17:34:15.472876",
     "status": "completed"
    },
    "tags": []
   },
   "source": [
    "# Conclusion #\n",
    "\n",
    "Congratulations! You've completed Kaggle's *Introduction to Deep Learning* course!\n",
    "\n",
    "With your new skills you're ready to take on more advanced applications like computer vision and sentiment classification. What would you like to do next?\n",
    "\n",
    "Why not try one of our *Getting Started* competitions?\n",
    "\n",
    "- Classify images with TPUs in [**Petals to the Metal**](https://www.kaggle.com/c/tpu-getting-started)\n",
    "- Create art with GANs in [**I'm Something of a Painter Myself**](https://www.kaggle.com/c/gan-getting-started)\n",
    "- Classify Tweets in [**Real or Not? NLP with Disaster Tweets**](https://www.kaggle.com/c/nlp-getting-started)\n",
    "- Detect contradiction and entailment in [**Contradictory, My Dear Watson**](https://www.kaggle.com/c/contradictory-my-dear-watson)\n",
    "\n",
    "Until next time, Kagglers!"
   ]
  },
  {
   "cell_type": "markdown",
   "id": "ec6a1770",
   "metadata": {
    "papermill": {
     "duration": 0.052462,
     "end_time": "2025-01-15T17:34:15.693430",
     "exception": false,
     "start_time": "2025-01-15T17:34:15.640968",
     "status": "completed"
    },
    "tags": []
   },
   "source": [
    "---\n",
    "\n",
    "\n",
    "\n",
    "\n",
    "*Have questions or comments? Visit the [course discussion forum](https://www.kaggle.com/learn/intro-to-deep-learning/discussion) to chat with other learners.*"
   ]
  }
 ],
 "metadata": {
  "jupytext": {
   "cell_metadata_filter": "-all",
   "formats": "ipynb"
  },
  "kaggle": {
   "accelerator": "gpu",
   "dataSources": [
    {
     "datasetId": 829369,
     "sourceId": 1480608,
     "sourceType": "datasetVersion"
    }
   ],
   "dockerImageVersionId": 30648,
   "isGpuEnabled": true,
   "isInternetEnabled": false,
   "language": "python",
   "sourceType": "notebook"
  },
  "kernelspec": {
   "display_name": "Python 3",
   "language": "python",
   "name": "python3"
  },
  "language_info": {
   "codemirror_mode": {
    "name": "ipython",
    "version": 3
   },
   "file_extension": ".py",
   "mimetype": "text/x-python",
   "name": "python",
   "nbconvert_exporter": "python",
   "pygments_lexer": "ipython3",
   "version": "3.10.13"
  },
  "papermill": {
   "default_parameters": {},
   "duration": 84.663749,
   "end_time": "2025-01-15T17:34:17.472032",
   "environment_variables": {},
   "exception": null,
   "input_path": "__notebook__.ipynb",
   "output_path": "__notebook__.ipynb",
   "parameters": {},
   "start_time": "2025-01-15T17:32:52.808283",
   "version": "2.5.0"
  }
 },
 "nbformat": 4,
 "nbformat_minor": 5
}
