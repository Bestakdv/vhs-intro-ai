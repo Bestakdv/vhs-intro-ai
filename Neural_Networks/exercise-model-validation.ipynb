{
 "cells": [
  {
   "cell_type": "markdown",
   "id": "9b121be7",
   "metadata": {
    "papermill": {
     "duration": 0.008132,
     "end_time": "2024-10-22T17:37:34.326722",
     "exception": false,
     "start_time": "2024-10-22T17:37:34.318590",
     "status": "completed"
    },
    "tags": []
   },
   "source": [
    "**This notebook is an exercise in the [Introduction to Machine Learning](https://www.kaggle.com/learn/intro-to-machine-learning) course.  You can reference the tutorial at [this link](https://www.kaggle.com/dansbecker/model-validation).**\n",
    "\n",
    "---\n"
   ]
  },
  {
   "cell_type": "markdown",
   "id": "5dbdb5f3",
   "metadata": {
    "papermill": {
     "duration": 0.006449,
     "end_time": "2024-10-22T17:37:34.339963",
     "exception": false,
     "start_time": "2024-10-22T17:37:34.333514",
     "status": "completed"
    },
    "tags": []
   },
   "source": [
    "## Recap\n",
    "You've built a model. In this exercise you will test how good your model is.\n",
    "\n",
    "Run the cell below to set up your coding environment where the previous exercise left off."
   ]
  },
  {
   "cell_type": "code",
   "execution_count": 1,
   "id": "9120aae4",
   "metadata": {
    "execution": {
     "iopub.execute_input": "2024-10-22T17:37:34.355759Z",
     "iopub.status.busy": "2024-10-22T17:37:34.355091Z",
     "iopub.status.idle": "2024-10-22T17:37:37.130141Z",
     "shell.execute_reply": "2024-10-22T17:37:37.128441Z"
    },
    "papermill": {
     "duration": 2.786349,
     "end_time": "2024-10-22T17:37:37.132877",
     "exception": false,
     "start_time": "2024-10-22T17:37:34.346528",
     "status": "completed"
    },
    "tags": []
   },
   "outputs": [
    {
     "name": "stdout",
     "output_type": "stream",
     "text": [
      "First in-sample predictions: [208500. 181500. 223500. 140000. 250000.]\n",
      "Actual target values for those homes: [208500, 181500, 223500, 140000, 250000]\n",
      "Setup Complete\n"
     ]
    }
   ],
   "source": [
    "# Code you have previously used to load data\n",
    "import pandas as pd\n",
    "from sklearn.tree import DecisionTreeRegressor\n",
    "\n",
    "# Path of the file to read\n",
    "iowa_file_path = '../input/home-data-for-ml-course/train.csv'\n",
    "\n",
    "home_data = pd.read_csv(iowa_file_path)\n",
    "y = home_data.SalePrice\n",
    "feature_columns = ['LotArea', 'YearBuilt', '1stFlrSF', '2ndFlrSF', 'FullBath', 'BedroomAbvGr', 'TotRmsAbvGrd']\n",
    "X = home_data[feature_columns]\n",
    "\n",
    "# Specify Model\n",
    "iowa_model = DecisionTreeRegressor()\n",
    "# Fit Model\n",
    "iowa_model.fit(X, y)\n",
    "\n",
    "print(\"First in-sample predictions:\", iowa_model.predict(X.head()))\n",
    "print(\"Actual target values for those homes:\", y.head().tolist())\n",
    "\n",
    "# Set up code checking\n",
    "from learntools.core import binder\n",
    "binder.bind(globals())\n",
    "from learntools.machine_learning.ex4 import *\n",
    "print(\"Setup Complete\")"
   ]
  },
  {
   "cell_type": "markdown",
   "id": "b7a43f53",
   "metadata": {
    "papermill": {
     "duration": 0.005946,
     "end_time": "2024-10-22T17:37:37.145195",
     "exception": false,
     "start_time": "2024-10-22T17:37:37.139249",
     "status": "completed"
    },
    "tags": []
   },
   "source": [
    "# Exercises\n",
    "\n",
    "## Step 1: Split Your Data\n",
    "Use the `train_test_split` function to split up your data.\n",
    "\n",
    "Give it the argument `random_state=1` so the `check` functions know what to expect when verifying your code.\n",
    "\n",
    "Recall, your features are loaded in the DataFrame **X** and your target is loaded in **y**.\n"
   ]
  },
  {
   "cell_type": "code",
   "execution_count": 2,
   "id": "a885fd15",
   "metadata": {
    "execution": {
     "iopub.execute_input": "2024-10-22T17:37:37.160012Z",
     "iopub.status.busy": "2024-10-22T17:37:37.158885Z",
     "iopub.status.idle": "2024-10-22T17:37:37.180721Z",
     "shell.execute_reply": "2024-10-22T17:37:37.179557Z"
    },
    "papermill": {
     "duration": 0.032173,
     "end_time": "2024-10-22T17:37:37.183350",
     "exception": false,
     "start_time": "2024-10-22T17:37:37.151177",
     "status": "completed"
    },
    "tags": []
   },
   "outputs": [
    {
     "data": {
      "application/javascript": [
       "parent.postMessage({\"jupyterEvent\": \"custom.exercise_interaction\", \"data\": {\"outcomeType\": 1, \"valueTowardsCompletion\": 0.25, \"interactionType\": 1, \"questionType\": 2, \"questionId\": \"1_SplitData\", \"learnToolsVersion\": \"0.3.4\", \"failureMessage\": \"\", \"exceptionClass\": \"\", \"trace\": \"\"}}, \"*\")"
      ],
      "text/plain": [
       "<IPython.core.display.Javascript object>"
      ]
     },
     "metadata": {},
     "output_type": "display_data"
    },
    {
     "data": {
      "text/markdown": [
       "<span style=\"color:#33cc33\">Correct</span>"
      ],
      "text/plain": [
       "Correct"
      ]
     },
     "metadata": {},
     "output_type": "display_data"
    }
   ],
   "source": [
    "# Import the train_test_split function and uncomment\n",
    "from sklearn.model_selection import train_test_split\n",
    "\n",
    "# fill in and uncomment\n",
    "train_X, val_X, train_y, val_y = train_test_split(X, y, random_state=1)\n",
    "\n",
    "# Check your answer\n",
    "step_1.check()"
   ]
  },
  {
   "cell_type": "code",
   "execution_count": 3,
   "id": "d69cf10f",
   "metadata": {
    "execution": {
     "iopub.execute_input": "2024-10-22T17:37:37.198515Z",
     "iopub.status.busy": "2024-10-22T17:37:37.198038Z",
     "iopub.status.idle": "2024-10-22T17:37:37.203591Z",
     "shell.execute_reply": "2024-10-22T17:37:37.202118Z"
    },
    "papermill": {
     "duration": 0.016384,
     "end_time": "2024-10-22T17:37:37.206203",
     "exception": false,
     "start_time": "2024-10-22T17:37:37.189819",
     "status": "completed"
    },
    "tags": []
   },
   "outputs": [],
   "source": [
    "# The lines below will show you a hint or the solution.\n",
    "# step_1.hint() \n",
    "# step_1.solution()\n"
   ]
  },
  {
   "cell_type": "markdown",
   "id": "63f350cf",
   "metadata": {
    "papermill": {
     "duration": 0.006229,
     "end_time": "2024-10-22T17:37:37.219199",
     "exception": false,
     "start_time": "2024-10-22T17:37:37.212970",
     "status": "completed"
    },
    "tags": []
   },
   "source": [
    "## Step 2: Specify and Fit the Model\n",
    "\n",
    "Create a `DecisionTreeRegressor` model and fit it to the relevant data.\n",
    "Set `random_state` to 1 again when creating the model."
   ]
  },
  {
   "cell_type": "code",
   "execution_count": 4,
   "id": "674d274b",
   "metadata": {
    "execution": {
     "iopub.execute_input": "2024-10-22T17:37:37.234829Z",
     "iopub.status.busy": "2024-10-22T17:37:37.234375Z",
     "iopub.status.idle": "2024-10-22T17:37:37.268574Z",
     "shell.execute_reply": "2024-10-22T17:37:37.267255Z"
    },
    "papermill": {
     "duration": 0.045917,
     "end_time": "2024-10-22T17:37:37.271435",
     "exception": false,
     "start_time": "2024-10-22T17:37:37.225518",
     "status": "completed"
    },
    "tags": []
   },
   "outputs": [
    {
     "name": "stdout",
     "output_type": "stream",
     "text": [
      "[186500. 184000. 130000.  92000. 164500. 220000. 335000. 144152. 215000.\n",
      " 262000.]\n",
      "[186500. 184000. 130000.  92000. 164500. 220000. 335000. 144152. 215000.\n",
      " 262000.]\n"
     ]
    },
    {
     "data": {
      "application/javascript": [
       "parent.postMessage({\"jupyterEvent\": \"custom.exercise_interaction\", \"data\": {\"outcomeType\": 1, \"valueTowardsCompletion\": 0.25, \"interactionType\": 1, \"questionType\": 2, \"questionId\": \"2_FitModelWithTrain\", \"learnToolsVersion\": \"0.3.4\", \"failureMessage\": \"\", \"exceptionClass\": \"\", \"trace\": \"\"}}, \"*\")"
      ],
      "text/plain": [
       "<IPython.core.display.Javascript object>"
      ]
     },
     "metadata": {},
     "output_type": "display_data"
    },
    {
     "data": {
      "text/markdown": [
       "<span style=\"color:#33cc33\">Correct</span>"
      ],
      "text/plain": [
       "Correct"
      ]
     },
     "metadata": {},
     "output_type": "display_data"
    }
   ],
   "source": [
    "# You imported DecisionTreeRegressor in your last exercise\n",
    "# and that code has been copied to the setup code above. So, no need to\n",
    "# import it again\n",
    "\n",
    "# Specify the model\n",
    "iowa_model = DecisionTreeRegressor(random_state=1)\n",
    "\n",
    "# Fit iowa_model with the training data.\n",
    "iowa_model.fit(train_X, train_y)\n",
    "\n",
    "# Check your answer\n",
    "step_2.check()"
   ]
  },
  {
   "cell_type": "code",
   "execution_count": 5,
   "id": "5f2000d3",
   "metadata": {
    "execution": {
     "iopub.execute_input": "2024-10-22T17:37:37.288157Z",
     "iopub.status.busy": "2024-10-22T17:37:37.287736Z",
     "iopub.status.idle": "2024-10-22T17:37:37.292867Z",
     "shell.execute_reply": "2024-10-22T17:37:37.291517Z"
    },
    "papermill": {
     "duration": 0.016461,
     "end_time": "2024-10-22T17:37:37.295488",
     "exception": false,
     "start_time": "2024-10-22T17:37:37.279027",
     "status": "completed"
    },
    "tags": []
   },
   "outputs": [],
   "source": [
    "# step_2.hint()\n",
    "# step_2.solution()"
   ]
  },
  {
   "cell_type": "markdown",
   "id": "1603f7dd",
   "metadata": {
    "papermill": {
     "duration": 0.006651,
     "end_time": "2024-10-22T17:37:37.309515",
     "exception": false,
     "start_time": "2024-10-22T17:37:37.302864",
     "status": "completed"
    },
    "tags": []
   },
   "source": [
    "## Step 3: Make Predictions with Validation data\n"
   ]
  },
  {
   "cell_type": "code",
   "execution_count": 6,
   "id": "af453488",
   "metadata": {
    "execution": {
     "iopub.execute_input": "2024-10-22T17:37:37.325539Z",
     "iopub.status.busy": "2024-10-22T17:37:37.325118Z",
     "iopub.status.idle": "2024-10-22T17:37:37.340260Z",
     "shell.execute_reply": "2024-10-22T17:37:37.339020Z"
    },
    "papermill": {
     "duration": 0.026483,
     "end_time": "2024-10-22T17:37:37.342929",
     "exception": false,
     "start_time": "2024-10-22T17:37:37.316446",
     "status": "completed"
    },
    "tags": []
   },
   "outputs": [
    {
     "data": {
      "application/javascript": [
       "parent.postMessage({\"jupyterEvent\": \"custom.exercise_interaction\", \"data\": {\"outcomeType\": 1, \"valueTowardsCompletion\": 0.25, \"interactionType\": 1, \"questionType\": 2, \"questionId\": \"3_ValPreds\", \"learnToolsVersion\": \"0.3.4\", \"failureMessage\": \"\", \"exceptionClass\": \"\", \"trace\": \"\"}}, \"*\")"
      ],
      "text/plain": [
       "<IPython.core.display.Javascript object>"
      ]
     },
     "metadata": {},
     "output_type": "display_data"
    },
    {
     "data": {
      "text/markdown": [
       "<span style=\"color:#33cc33\">Correct</span>"
      ],
      "text/plain": [
       "Correct"
      ]
     },
     "metadata": {},
     "output_type": "display_data"
    }
   ],
   "source": [
    "# Predict with all validation observations\n",
    "val_predictions = iowa_model.predict(val_X)\n",
    "\n",
    "# Check your answer\n",
    "step_3.check()"
   ]
  },
  {
   "cell_type": "code",
   "execution_count": 7,
   "id": "7846ff06",
   "metadata": {
    "execution": {
     "iopub.execute_input": "2024-10-22T17:37:37.361126Z",
     "iopub.status.busy": "2024-10-22T17:37:37.359560Z",
     "iopub.status.idle": "2024-10-22T17:37:37.365869Z",
     "shell.execute_reply": "2024-10-22T17:37:37.364511Z"
    },
    "papermill": {
     "duration": 0.018131,
     "end_time": "2024-10-22T17:37:37.368473",
     "exception": false,
     "start_time": "2024-10-22T17:37:37.350342",
     "status": "completed"
    },
    "tags": []
   },
   "outputs": [],
   "source": [
    "# step_3.hint()\n",
    "# step_3.solution()"
   ]
  },
  {
   "cell_type": "markdown",
   "id": "a3c63ae7",
   "metadata": {
    "papermill": {
     "duration": 0.007277,
     "end_time": "2024-10-22T17:37:37.383363",
     "exception": false,
     "start_time": "2024-10-22T17:37:37.376086",
     "status": "completed"
    },
    "tags": []
   },
   "source": [
    "Inspect your predictions and actual values from validation data."
   ]
  },
  {
   "cell_type": "code",
   "execution_count": 8,
   "id": "4219fa36",
   "metadata": {
    "execution": {
     "iopub.execute_input": "2024-10-22T17:37:37.400244Z",
     "iopub.status.busy": "2024-10-22T17:37:37.399827Z",
     "iopub.status.idle": "2024-10-22T17:37:37.405628Z",
     "shell.execute_reply": "2024-10-22T17:37:37.404320Z"
    },
    "papermill": {
     "duration": 0.017473,
     "end_time": "2024-10-22T17:37:37.408298",
     "exception": false,
     "start_time": "2024-10-22T17:37:37.390825",
     "status": "completed"
    },
    "tags": []
   },
   "outputs": [],
   "source": [
    "# print the top few validation predictions\n",
    "#print()\n",
    "# print the top few actual prices from validation data\n",
    "#print()"
   ]
  },
  {
   "cell_type": "markdown",
   "id": "1c6fc919",
   "metadata": {
    "papermill": {
     "duration": 0.007512,
     "end_time": "2024-10-22T17:37:37.423147",
     "exception": false,
     "start_time": "2024-10-22T17:37:37.415635",
     "status": "completed"
    },
    "tags": []
   },
   "source": [
    "What do you notice that is different from what you saw with in-sample predictions (which are printed after the top code cell in this page).\n",
    "\n",
    "Do you remember why validation predictions differ from in-sample (or training) predictions? This is an important idea from the last lesson.\n",
    "\n",
    "## Step 4: Calculate the Mean Absolute Error in Validation Data\n"
   ]
  },
  {
   "cell_type": "code",
   "execution_count": 9,
   "id": "a55519d3",
   "metadata": {
    "execution": {
     "iopub.execute_input": "2024-10-22T17:37:37.440373Z",
     "iopub.status.busy": "2024-10-22T17:37:37.439836Z",
     "iopub.status.idle": "2024-10-22T17:37:37.455352Z",
     "shell.execute_reply": "2024-10-22T17:37:37.454037Z"
    },
    "papermill": {
     "duration": 0.027544,
     "end_time": "2024-10-22T17:37:37.458146",
     "exception": false,
     "start_time": "2024-10-22T17:37:37.430602",
     "status": "completed"
    },
    "tags": []
   },
   "outputs": [
    {
     "name": "stdout",
     "output_type": "stream",
     "text": [
      "29652.931506849316\n"
     ]
    },
    {
     "data": {
      "application/javascript": [
       "parent.postMessage({\"jupyterEvent\": \"custom.exercise_interaction\", \"data\": {\"outcomeType\": 1, \"valueTowardsCompletion\": 0.25, \"interactionType\": 1, \"questionType\": 1, \"questionId\": \"4_MAE\", \"learnToolsVersion\": \"0.3.4\", \"failureMessage\": \"\", \"exceptionClass\": \"\", \"trace\": \"\"}}, \"*\")"
      ],
      "text/plain": [
       "<IPython.core.display.Javascript object>"
      ]
     },
     "metadata": {},
     "output_type": "display_data"
    },
    {
     "data": {
      "text/markdown": [
       "<span style=\"color:#33cc33\">Correct</span>"
      ],
      "text/plain": [
       "Correct"
      ]
     },
     "metadata": {},
     "output_type": "display_data"
    }
   ],
   "source": [
    "from sklearn.metrics import mean_absolute_error\n",
    "val_mae = mean_absolute_error(val_y, val_predictions)\n",
    "\n",
    "# uncomment following line to see the validation_mae\n",
    "print(val_mae)\n",
    "\n",
    "# Check your answer\n",
    "step_4.check()"
   ]
  },
  {
   "cell_type": "code",
   "execution_count": 10,
   "id": "a79c2ff8",
   "metadata": {
    "execution": {
     "iopub.execute_input": "2024-10-22T17:37:37.476735Z",
     "iopub.status.busy": "2024-10-22T17:37:37.475731Z",
     "iopub.status.idle": "2024-10-22T17:37:37.481244Z",
     "shell.execute_reply": "2024-10-22T17:37:37.479943Z"
    },
    "papermill": {
     "duration": 0.018045,
     "end_time": "2024-10-22T17:37:37.484198",
     "exception": false,
     "start_time": "2024-10-22T17:37:37.466153",
     "status": "completed"
    },
    "tags": []
   },
   "outputs": [],
   "source": [
    "# step_4.hint()\n",
    "# step_4.solution()"
   ]
  },
  {
   "cell_type": "markdown",
   "id": "41b52ee0",
   "metadata": {
    "papermill": {
     "duration": 0.007992,
     "end_time": "2024-10-22T17:37:37.500531",
     "exception": false,
     "start_time": "2024-10-22T17:37:37.492539",
     "status": "completed"
    },
    "tags": []
   },
   "source": [
    "Is that MAE good?  There isn't a general rule for what values are good that applies across applications. But you'll see how to use (and improve) this number in the next step.\n",
    "\n",
    "# Keep Going\n",
    "\n",
    "You are ready for **[Underfitting and Overfitting](https://www.kaggle.com/dansbecker/underfitting-and-overfitting).**\n"
   ]
  },
  {
   "cell_type": "markdown",
   "id": "8edd00ba",
   "metadata": {
    "papermill": {
     "duration": 0.007789,
     "end_time": "2024-10-22T17:37:37.516628",
     "exception": false,
     "start_time": "2024-10-22T17:37:37.508839",
     "status": "completed"
    },
    "tags": []
   },
   "source": [
    "---\n",
    "\n",
    "\n",
    "\n",
    "\n",
    "*Have questions or comments? Visit the [course discussion forum](https://www.kaggle.com/learn/intro-to-machine-learning/discussion) to chat with other learners.*"
   ]
  }
 ],
 "metadata": {
  "kaggle": {
   "accelerator": "none",
   "dataSources": [
    {
     "databundleVersionId": 111096,
     "sourceId": 10211,
     "sourceType": "competition"
    },
    {
     "datasetId": 11167,
     "sourceId": 15520,
     "sourceType": "datasetVersion"
    },
    {
     "datasetId": 2709,
     "sourceId": 38454,
     "sourceType": "datasetVersion"
    }
   ],
   "isGpuEnabled": false,
   "isInternetEnabled": false,
   "language": "python",
   "sourceType": "notebook"
  },
  "kernelspec": {
   "display_name": "Python 3",
   "language": "python",
   "name": "python3"
  },
  "language_info": {
   "codemirror_mode": {
    "name": "ipython",
    "version": 3
   },
   "file_extension": ".py",
   "mimetype": "text/x-python",
   "name": "python",
   "nbconvert_exporter": "python",
   "pygments_lexer": "ipython3",
   "version": "3.10.14"
  },
  "papermill": {
   "default_parameters": {},
   "duration": 7.174479,
   "end_time": "2024-10-22T17:37:38.248886",
   "environment_variables": {},
   "exception": null,
   "input_path": "__notebook__.ipynb",
   "output_path": "__notebook__.ipynb",
   "parameters": {},
   "start_time": "2024-10-22T17:37:31.074407",
   "version": "2.6.0"
  }
 },
 "nbformat": 4,
 "nbformat_minor": 5
}
