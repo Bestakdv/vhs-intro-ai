{
  "nbformat": 4,
  "nbformat_minor": 0,
  "metadata": {
    "colab": {
      "provenance": [],
      "include_colab_link": true
    },
    "kernelspec": {
      "name": "python3",
      "display_name": "Python 3"
    },
    "language_info": {
      "name": "python"
    }
  },
  "cells": [
    {
      "cell_type": "markdown",
      "metadata": {
        "id": "view-in-github",
        "colab_type": "text"
      },
      "source": [
        "<a href=\"https://colab.research.google.com/github/Bestakdv/vhs-intro-ai/blob/main/Titanic_data_exploration.ipynb\" target=\"_parent\"><img src=\"https://colab.research.google.com/assets/colab-badge.svg\" alt=\"Open In Colab\"/></a>"
      ]
    },
    {
      "cell_type": "markdown",
      "source": [
        "In this project, you will explore the famous Titanic dataset to understand how data can provide insights into the survival of passengers. You will use the Pandas library in Python to analyze and visualize the data.\n",
        "\n",
        "*Note: Points for each section are given in [].*\n"
      ],
      "metadata": {
        "id": "BAJv98fLBs9g"
      }
    },
    {
      "cell_type": "code",
      "execution_count": 116,
      "metadata": {
        "id": "7aq_Nz8KBhzG"
      },
      "outputs": [],
      "source": [
        "# Import libraries [6]\n",
        "# numpy\n",
        "# pandas\n",
        "# matplotlib\n",
        "import numpy as np\n",
        "import pandas as pd\n",
        "import matplotlib.pyplot as plt\n",
        "from google.colab import drive"
      ]
    },
    {
      "cell_type": "markdown",
      "source": [
        "# Get Data\n",
        "Upload `train.csv` to a Google folder named `vhs-ai-intro`. Load this file into a dataframe named `df`. [6]\n",
        "\n",
        "\n",
        "\n"
      ],
      "metadata": {
        "id": "cjlrnsugCqpb"
      }
    },
    {
      "cell_type": "code",
      "source": [
        "# access file and load into data frame\n",
        "drive.mount('/content/drive')\n",
        "#gets filepath of the csv file and stores it in variable\n",
        "filepath = '/content/drive/MyDrive/train.csv'\n",
        "#stores the read csv file into variable\n",
        "df = pd.read_csv(filepath)"
      ],
      "metadata": {
        "id": "u3TjICzkDJeF",
        "colab": {
          "base_uri": "https://localhost:8080/"
        },
        "outputId": "539668a1-2975-44bb-a075-3a1dd511de3a"
      },
      "execution_count": 117,
      "outputs": [
        {
          "output_type": "stream",
          "name": "stdout",
          "text": [
            "Drive already mounted at /content/drive; to attempt to forcibly remount, call drive.mount(\"/content/drive\", force_remount=True).\n"
          ]
        }
      ]
    },
    {
      "cell_type": "markdown",
      "source": [
        "# Explore Data"
      ],
      "metadata": {
        "id": "pfLEjVZyg3Bf"
      }
    },
    {
      "cell_type": "code",
      "source": [
        "df.info()"
      ],
      "metadata": {
        "id": "bDMlPgPSDkPZ",
        "colab": {
          "base_uri": "https://localhost:8080/"
        },
        "outputId": "c315c90d-1e6c-420e-d3e2-e25768d0dc0a"
      },
      "execution_count": 118,
      "outputs": [
        {
          "output_type": "stream",
          "name": "stdout",
          "text": [
            "<class 'pandas.core.frame.DataFrame'>\n",
            "RangeIndex: 891 entries, 0 to 890\n",
            "Data columns (total 12 columns):\n",
            " #   Column       Non-Null Count  Dtype  \n",
            "---  ------       --------------  -----  \n",
            " 0   PassengerId  891 non-null    int64  \n",
            " 1   Survived     891 non-null    int64  \n",
            " 2   Pclass       891 non-null    int64  \n",
            " 3   Name         891 non-null    object \n",
            " 4   Sex          891 non-null    object \n",
            " 5   Age          714 non-null    float64\n",
            " 6   SibSp        891 non-null    int64  \n",
            " 7   Parch        891 non-null    int64  \n",
            " 8   Ticket       891 non-null    object \n",
            " 9   Fare         891 non-null    float64\n",
            " 10  Cabin        204 non-null    object \n",
            " 11  Embarked     889 non-null    object \n",
            "dtypes: float64(2), int64(5), object(5)\n",
            "memory usage: 83.7+ KB\n"
          ]
        }
      ]
    },
    {
      "cell_type": "markdown",
      "source": [
        "Look at the output of `df.info()` above and answer the following: [8]\n",
        "\n",
        "1. How many rows and columns does `df` have?\n",
        "Df has 891 rows and 12 columns\n",
        "2. Identify the columns that have integer datatype.\n",
        "1st (#0), 2nd (#1), 3rd (#2), 7th (#6), and 8th(#7) columns\n",
        "3. Identify the columns containing `null` (empty) values and calculate the proportion of values that are `null`.\n",
        "column\n",
        "The 6th column (#5), 11th column (#10), and 12th column (#11) have null values and the proportion of values that are null columns is 1/4\n",
        "\n",
        "\n",
        "\n",
        "\n"
      ],
      "metadata": {
        "id": "ZDOUN2ZYDoHT"
      }
    },
    {
      "cell_type": "markdown",
      "source": [
        "# Data Cleaning"
      ],
      "metadata": {
        "id": "JLKLhp-Ig-_M"
      }
    },
    {
      "cell_type": "code",
      "source": [
        "df = df.drop(['PassengerId', 'Name', 'Ticket'], axis=1)\n",
        "df.info()"
      ],
      "metadata": {
        "id": "JVtYpdQyE5sE",
        "colab": {
          "base_uri": "https://localhost:8080/"
        },
        "outputId": "f6c5f96a-5661-4bef-aa25-5f187b174067"
      },
      "execution_count": 119,
      "outputs": [
        {
          "output_type": "stream",
          "name": "stdout",
          "text": [
            "<class 'pandas.core.frame.DataFrame'>\n",
            "RangeIndex: 891 entries, 0 to 890\n",
            "Data columns (total 9 columns):\n",
            " #   Column    Non-Null Count  Dtype  \n",
            "---  ------    --------------  -----  \n",
            " 0   Survived  891 non-null    int64  \n",
            " 1   Pclass    891 non-null    int64  \n",
            " 2   Sex       891 non-null    object \n",
            " 3   Age       714 non-null    float64\n",
            " 4   SibSp     891 non-null    int64  \n",
            " 5   Parch     891 non-null    int64  \n",
            " 6   Fare      891 non-null    float64\n",
            " 7   Cabin     204 non-null    object \n",
            " 8   Embarked  889 non-null    object \n",
            "dtypes: float64(2), int64(4), object(3)\n",
            "memory usage: 62.8+ KB\n"
          ]
        }
      ]
    },
    {
      "cell_type": "markdown",
      "source": [
        "Explain what the above line of code is doing. You can use `df.info()` to check the changes in `df`. [2]\n",
        "\n",
        "[ANSWER HERE]\n",
        "The line of code changes the df by removing the PassengerId, Name and Ticket columns"
      ],
      "metadata": {
        "id": "OeqszSMdFRBR"
      }
    },
    {
      "cell_type": "code",
      "source": [
        "df['Age'].fillna(df['Age'].median(), inplace=True)"
      ],
      "metadata": {
        "id": "29koWCYRhFNR"
      },
      "execution_count": 120,
      "outputs": []
    },
    {
      "cell_type": "markdown",
      "source": [
        "Using the `fillna()` function, we can fill the missing values in the `Age` column with the median value of `Age`.\n",
        "\n",
        "What does the `inplace` parameter specify in the `fillna()` function? [2]\n",
        "The inplace parameter specifies if you want to modify the DataFrame directly or not."
      ],
      "metadata": {
        "id": "6MAlKpYhhaZm"
      }
    },
    {
      "cell_type": "markdown",
      "source": [
        "# Data Analysis\n",
        "\n",
        "Let's do some counting. Using `groupby` and `size()`, or otherwise:\n",
        "\n",
        "1. Count the number of male and female passengers. (*Hint: Use `Sex` column*) [2]\n",
        "2. What percentage of passengers survived? (*Hint: Use `Survived` column*) [2]\n"
      ],
      "metadata": {
        "id": "dJ5y7Kb3HAOv"
      }
    },
    {
      "cell_type": "code",
      "source": [
        "# Number of male & female passengers\n",
        "passengers = df.groupby('Sex').size()\n",
        "print(passengers)"
      ],
      "metadata": {
        "id": "YxjB9tc3FerD",
        "colab": {
          "base_uri": "https://localhost:8080/"
        },
        "outputId": "021d0862-df0a-48b1-c3a1-07de93b357b4"
      },
      "execution_count": 121,
      "outputs": [
        {
          "output_type": "stream",
          "name": "stdout",
          "text": [
            "Sex\n",
            "female    314\n",
            "male      577\n",
            "dtype: int64\n"
          ]
        }
      ]
    },
    {
      "cell_type": "code",
      "source": [
        "# Percentage of passengers that survived\n",
        "survivalCount = df.loc[:, ['Survived']].groupby('Survived').size()\n",
        "survivedPassengers = (survivalCount.loc[1] / len(df['Survived'])) * 100\n",
        "\n",
        "\n",
        "print(survivedPassengers)"
      ],
      "metadata": {
        "id": "eRG8KIgvI9QB",
        "colab": {
          "base_uri": "https://localhost:8080/"
        },
        "outputId": "5aa70bb4-c1e4-4053-f405-b929a5e72d14"
      },
      "execution_count": 126,
      "outputs": [
        {
          "output_type": "stream",
          "name": "stdout",
          "text": [
            "38.38383838383838\n"
          ]
        }
      ]
    },
    {
      "cell_type": "markdown",
      "source": [
        "We want to see if gender played a role in the survival rates. Let us visualise the survival rates. We will combine the 2 columns `Survived` and `Sex` to answer this and use `Matplotlib` to plot the counts."
      ],
      "metadata": {
        "id": "7EuNv0GiJ9eb"
      }
    },
    {
      "cell_type": "code",
      "source": [
        "# Group the data by 'Survived' and 'Sex' and get the counts\n",
        "survival_gender_counts = df.groupby(['Survived', 'Sex']).size().unstack()\n",
        "\n",
        "# Plot the grouped data\n",
        "survival_gender_counts.plot(kind='bar')\n",
        "\n",
        "# Add title and labels\n",
        "plt.title('Survival by Gender')\n",
        "plt.xlabel('Survived')\n",
        "plt.ylabel('Count')\n",
        "\n",
        "# Show the plot\n",
        "plt.show()\n",
        "print(type(survival_gender_counts))"
      ],
      "metadata": {
        "id": "pgN3CTy0KPNN"
      },
      "execution_count": null,
      "outputs": []
    },
    {
      "cell_type": "markdown",
      "source": [
        "Let us pay attention to the code.\n",
        "\n",
        "\n",
        "1.   `survival_gender_counts` holds the counts of number of survivors that are male and female. What is the type of this variable? How many rows and columns does this variable have? [2]\n",
        "\n",
        "[ANSWER HERE] The type of the variable is a DataFrame and it has 2 rows and 2 columns\n",
        "2.   In the `survival_gender_counts.plot(kind='bar')` line, what does the `kind='bar'` parameter specify? How would the plot change if you used `kind='barh'` instead? [4]\n",
        "\n",
        "[ANSWER HERE] kind=bar parameter specifies the type of graph, in this case you are specifying it to be a bar graph. If you used kind=barh instead then it would make a horizontal bar plot"
      ],
      "metadata": {
        "id": "Z1OJMVLoXz9n"
      }
    },
    {
      "cell_type": "markdown",
      "source": [
        "We can create the same plot with another library `Seaborn` that is built on top of `Matplotlib`."
      ],
      "metadata": {
        "id": "6M11XkMyXWfb"
      }
    },
    {
      "cell_type": "code",
      "source": [
        "import seaborn as sns\n",
        "sns.countplot(x='Survived', hue='Sex', data=df)\n",
        "\n",
        "plt.title('Survival by Gender')\n",
        "plt.show()"
      ],
      "metadata": {
        "id": "_an9Z1dmXTB1"
      },
      "execution_count": null,
      "outputs": []
    },
    {
      "cell_type": "markdown",
      "source": [
        "We used the function `countplot()` in `seaborn` to generate the bar plot showing the counts we need.\n",
        "\n",
        "Explain what each of the parameters for `countplot()` specify. [6]\n",
        "\n",
        "[ANSWER HERE]\n",
        "The first paramater gets the input data for X axis, the 2nd parameter visualizes the data of different categories, and the 3rd parameter get's the dataset for plotting"
      ],
      "metadata": {
        "id": "9FixlUWMabog"
      }
    },
    {
      "cell_type": "markdown",
      "source": [
        "By looking at the plot, do you think gender and survival were related? Explain why or why not.    [3]\n",
        "\n",
        "[ANSWER HERE]\n",
        "Based on the plot I think gender and survival were related as mostly males died and approxamitly double amount of females survived than men. Also men died approximatly 4 times than women did."
      ],
      "metadata": {
        "id": "Vme2szr1UvgA"
      }
    },
    {
      "cell_type": "markdown",
      "source": [
        "In the Titanic dataset, `Pclass` refers to the passenger class, which indicates the socioeconomic status (SES) of the passengers. There are three classes:\n",
        "\n",
        "* 1 = First class (Upper class)\n",
        "* 2 = Second class (Middle class)\n",
        "* 3 = Third class (Lower class)\n",
        "\n",
        "Using `seaborn` library, create a count plot (similar to the one above) to show the relationship between survivors and passenger class."
      ],
      "metadata": {
        "id": "g6Y5ZMJbd_1j"
      }
    },
    {
      "cell_type": "code",
      "source": [
        "# Plot Survival by Passenger Class [6]\n",
        "sns.countplot(x='Survived', hue='Pclass', data=df)\n",
        "\n",
        "plt.title('Survival by Passenger Class')\n",
        "plt.show()"
      ],
      "metadata": {
        "id": "smYqLLqOeijb"
      },
      "execution_count": null,
      "outputs": []
    },
    {
      "cell_type": "markdown",
      "source": [
        "By looking at the plot, do you think passenger class and survival were related? Explain why or why not. [3]\n",
        "\n",
        "[ANSWER HERE]\n",
        "I think the passenger class and survival were only slightly related as most of the people survived were in 1st class, however there was not that big of a difference between the classes."
      ],
      "metadata": {
        "id": "lZJLL4p6fy-R"
      }
    }
  ]
}