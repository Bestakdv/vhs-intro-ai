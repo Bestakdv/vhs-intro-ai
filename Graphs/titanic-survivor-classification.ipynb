{
 "cells": [
  {
   "cell_type": "code",
   "execution_count": 1,
   "id": "0fe3d249",
   "metadata": {
    "_cell_guid": "b1076dfc-b9ad-4769-8c92-a6c4dae69d19",
    "_uuid": "8f2839f25d086af736a60e9eeb907d3b93b6e0e5",
    "execution": {
     "iopub.execute_input": "2024-11-11T18:31:45.386846Z",
     "iopub.status.busy": "2024-11-11T18:31:45.386372Z",
     "iopub.status.idle": "2024-11-11T18:31:46.341502Z",
     "shell.execute_reply": "2024-11-11T18:31:46.340146Z"
    },
    "papermill": {
     "duration": 0.968043,
     "end_time": "2024-11-11T18:31:46.344517",
     "exception": false,
     "start_time": "2024-11-11T18:31:45.376474",
     "status": "completed"
    },
    "tags": []
   },
   "outputs": [
    {
     "name": "stdout",
     "output_type": "stream",
     "text": [
      "/kaggle/input/titanic/train.csv\n",
      "/kaggle/input/titanic/test.csv\n",
      "/kaggle/input/titanic/gender_submission.csv\n"
     ]
    }
   ],
   "source": [
    "## This Python 3 environment comes with many helpful analytics libraries installed\n",
    "# It is defined by the kaggle/python Docker image: https://github.com/kaggle/docker-python\n",
    "# For example, here's several helpful packages to load\n",
    "\n",
    "import numpy as np # linear algebra\n",
    "import pandas as pd # data processing, CSV file I/O (e.g. pd.read_csv)\n",
    "\n",
    "# Input data files are available in the read-only \"../input/\" directory\n",
    "# For example, running this (by clicking run or pressing Shift+Enter) will list all files under the input directory\n",
    "\n",
    "import os\n",
    "for dirname, _, filenames in os.walk('/kaggle/input'):\n",
    "    for filename in filenames:\n",
    "        print(os.path.join(dirname, filename))\n",
    "\n",
    "# You can write up to 20GB to the current directory (/kaggle/working/) that gets preserved as output when you create a version using \"Save & Run All\" \n",
    "# You can also write temporary files to /kaggle/temp/, but they won't be saved outside of the current session"
   ]
  },
  {
   "cell_type": "markdown",
   "id": "159aff87",
   "metadata": {
    "papermill": {
     "duration": 0.007345,
     "end_time": "2024-11-11T18:31:46.360191",
     "exception": false,
     "start_time": "2024-11-11T18:31:46.352846",
     "status": "completed"
    },
    "tags": []
   },
   "source": [
    "### Load Data"
   ]
  },
  {
   "cell_type": "code",
   "execution_count": 2,
   "id": "4cf1d5b0",
   "metadata": {
    "execution": {
     "iopub.execute_input": "2024-11-11T18:31:46.377468Z",
     "iopub.status.busy": "2024-11-11T18:31:46.376913Z",
     "iopub.status.idle": "2024-11-11T18:31:46.417776Z",
     "shell.execute_reply": "2024-11-11T18:31:46.416467Z"
    },
    "papermill": {
     "duration": 0.052725,
     "end_time": "2024-11-11T18:31:46.420591",
     "exception": false,
     "start_time": "2024-11-11T18:31:46.367866",
     "status": "completed"
    },
    "tags": []
   },
   "outputs": [
    {
     "data": {
      "text/plain": [
       "Index(['Survived', 'Pclass', 'Name', 'Sex', 'Age', 'SibSp', 'Parch', 'Ticket',\n",
       "       'Fare', 'Cabin', 'Embarked'],\n",
       "      dtype='object')"
      ]
     },
     "execution_count": 2,
     "metadata": {},
     "output_type": "execute_result"
    }
   ],
   "source": [
    "titanic_file_path = '../input/titanic/train.csv'\n",
    "survivor_data = pd.read_csv(titanic_file_path, index_col='PassengerId')\n",
    "survivor_data.columns"
   ]
  },
  {
   "cell_type": "code",
   "execution_count": 3,
   "id": "0c2da0a7",
   "metadata": {
    "execution": {
     "iopub.execute_input": "2024-11-11T18:31:46.438595Z",
     "iopub.status.busy": "2024-11-11T18:31:46.437636Z",
     "iopub.status.idle": "2024-11-11T18:31:46.444917Z",
     "shell.execute_reply": "2024-11-11T18:31:46.443692Z"
    },
    "papermill": {
     "duration": 0.019157,
     "end_time": "2024-11-11T18:31:46.447657",
     "exception": false,
     "start_time": "2024-11-11T18:31:46.428500",
     "status": "completed"
    },
    "tags": []
   },
   "outputs": [
    {
     "data": {
      "text/plain": [
       "(891, 11)"
      ]
     },
     "execution_count": 3,
     "metadata": {},
     "output_type": "execute_result"
    }
   ],
   "source": [
    "# Number of rows and columns \n",
    "survivor_data.shape"
   ]
  },
  {
   "cell_type": "code",
   "execution_count": 4,
   "id": "d8a59dce",
   "metadata": {
    "execution": {
     "iopub.execute_input": "2024-11-11T18:31:46.465627Z",
     "iopub.status.busy": "2024-11-11T18:31:46.465175Z",
     "iopub.status.idle": "2024-11-11T18:31:46.490944Z",
     "shell.execute_reply": "2024-11-11T18:31:46.489605Z"
    },
    "papermill": {
     "duration": 0.038077,
     "end_time": "2024-11-11T18:31:46.493874",
     "exception": false,
     "start_time": "2024-11-11T18:31:46.455797",
     "status": "completed"
    },
    "tags": []
   },
   "outputs": [
    {
     "data": {
      "text/html": [
       "<div>\n",
       "<style scoped>\n",
       "    .dataframe tbody tr th:only-of-type {\n",
       "        vertical-align: middle;\n",
       "    }\n",
       "\n",
       "    .dataframe tbody tr th {\n",
       "        vertical-align: top;\n",
       "    }\n",
       "\n",
       "    .dataframe thead th {\n",
       "        text-align: right;\n",
       "    }\n",
       "</style>\n",
       "<table border=\"1\" class=\"dataframe\">\n",
       "  <thead>\n",
       "    <tr style=\"text-align: right;\">\n",
       "      <th></th>\n",
       "      <th>Survived</th>\n",
       "      <th>Pclass</th>\n",
       "      <th>Name</th>\n",
       "      <th>Sex</th>\n",
       "      <th>Age</th>\n",
       "      <th>SibSp</th>\n",
       "      <th>Parch</th>\n",
       "      <th>Ticket</th>\n",
       "      <th>Fare</th>\n",
       "      <th>Cabin</th>\n",
       "      <th>Embarked</th>\n",
       "    </tr>\n",
       "    <tr>\n",
       "      <th>PassengerId</th>\n",
       "      <th></th>\n",
       "      <th></th>\n",
       "      <th></th>\n",
       "      <th></th>\n",
       "      <th></th>\n",
       "      <th></th>\n",
       "      <th></th>\n",
       "      <th></th>\n",
       "      <th></th>\n",
       "      <th></th>\n",
       "      <th></th>\n",
       "    </tr>\n",
       "  </thead>\n",
       "  <tbody>\n",
       "    <tr>\n",
       "      <th>1</th>\n",
       "      <td>0</td>\n",
       "      <td>3</td>\n",
       "      <td>Braund, Mr. Owen Harris</td>\n",
       "      <td>male</td>\n",
       "      <td>22.0</td>\n",
       "      <td>1</td>\n",
       "      <td>0</td>\n",
       "      <td>A/5 21171</td>\n",
       "      <td>7.2500</td>\n",
       "      <td>NaN</td>\n",
       "      <td>S</td>\n",
       "    </tr>\n",
       "    <tr>\n",
       "      <th>2</th>\n",
       "      <td>1</td>\n",
       "      <td>1</td>\n",
       "      <td>Cumings, Mrs. John Bradley (Florence Briggs Th...</td>\n",
       "      <td>female</td>\n",
       "      <td>38.0</td>\n",
       "      <td>1</td>\n",
       "      <td>0</td>\n",
       "      <td>PC 17599</td>\n",
       "      <td>71.2833</td>\n",
       "      <td>C85</td>\n",
       "      <td>C</td>\n",
       "    </tr>\n",
       "    <tr>\n",
       "      <th>3</th>\n",
       "      <td>1</td>\n",
       "      <td>3</td>\n",
       "      <td>Heikkinen, Miss. Laina</td>\n",
       "      <td>female</td>\n",
       "      <td>26.0</td>\n",
       "      <td>0</td>\n",
       "      <td>0</td>\n",
       "      <td>STON/O2. 3101282</td>\n",
       "      <td>7.9250</td>\n",
       "      <td>NaN</td>\n",
       "      <td>S</td>\n",
       "    </tr>\n",
       "    <tr>\n",
       "      <th>4</th>\n",
       "      <td>1</td>\n",
       "      <td>1</td>\n",
       "      <td>Futrelle, Mrs. Jacques Heath (Lily May Peel)</td>\n",
       "      <td>female</td>\n",
       "      <td>35.0</td>\n",
       "      <td>1</td>\n",
       "      <td>0</td>\n",
       "      <td>113803</td>\n",
       "      <td>53.1000</td>\n",
       "      <td>C123</td>\n",
       "      <td>S</td>\n",
       "    </tr>\n",
       "    <tr>\n",
       "      <th>5</th>\n",
       "      <td>0</td>\n",
       "      <td>3</td>\n",
       "      <td>Allen, Mr. William Henry</td>\n",
       "      <td>male</td>\n",
       "      <td>35.0</td>\n",
       "      <td>0</td>\n",
       "      <td>0</td>\n",
       "      <td>373450</td>\n",
       "      <td>8.0500</td>\n",
       "      <td>NaN</td>\n",
       "      <td>S</td>\n",
       "    </tr>\n",
       "  </tbody>\n",
       "</table>\n",
       "</div>"
      ],
      "text/plain": [
       "             Survived  Pclass  \\\n",
       "PassengerId                     \n",
       "1                   0       3   \n",
       "2                   1       1   \n",
       "3                   1       3   \n",
       "4                   1       1   \n",
       "5                   0       3   \n",
       "\n",
       "                                                          Name     Sex   Age  \\\n",
       "PassengerId                                                                    \n",
       "1                                      Braund, Mr. Owen Harris    male  22.0   \n",
       "2            Cumings, Mrs. John Bradley (Florence Briggs Th...  female  38.0   \n",
       "3                                       Heikkinen, Miss. Laina  female  26.0   \n",
       "4                 Futrelle, Mrs. Jacques Heath (Lily May Peel)  female  35.0   \n",
       "5                                     Allen, Mr. William Henry    male  35.0   \n",
       "\n",
       "             SibSp  Parch            Ticket     Fare Cabin Embarked  \n",
       "PassengerId                                                          \n",
       "1                1      0         A/5 21171   7.2500   NaN        S  \n",
       "2                1      0          PC 17599  71.2833   C85        C  \n",
       "3                0      0  STON/O2. 3101282   7.9250   NaN        S  \n",
       "4                1      0            113803  53.1000  C123        S  \n",
       "5                0      0            373450   8.0500   NaN        S  "
      ]
     },
     "execution_count": 4,
     "metadata": {},
     "output_type": "execute_result"
    }
   ],
   "source": [
    "survivor_data.head()\n"
   ]
  },
  {
   "cell_type": "code",
   "execution_count": 5,
   "id": "285f8fdb",
   "metadata": {
    "execution": {
     "iopub.execute_input": "2024-11-11T18:31:46.513414Z",
     "iopub.status.busy": "2024-11-11T18:31:46.512984Z",
     "iopub.status.idle": "2024-11-11T18:31:46.522413Z",
     "shell.execute_reply": "2024-11-11T18:31:46.521277Z"
    },
    "papermill": {
     "duration": 0.022738,
     "end_time": "2024-11-11T18:31:46.524935",
     "exception": false,
     "start_time": "2024-11-11T18:31:46.502197",
     "status": "completed"
    },
    "tags": []
   },
   "outputs": [
    {
     "data": {
      "text/plain": [
       "PassengerId\n",
       "1      0\n",
       "2      1\n",
       "3      1\n",
       "4      1\n",
       "5      0\n",
       "      ..\n",
       "887    0\n",
       "888    1\n",
       "889    0\n",
       "890    1\n",
       "891    0\n",
       "Name: Survived, Length: 891, dtype: int64"
      ]
     },
     "execution_count": 5,
     "metadata": {},
     "output_type": "execute_result"
    }
   ],
   "source": [
    "y = survivor_data.Survived\n",
    "y"
   ]
  },
  {
   "cell_type": "markdown",
   "id": "c2d7bc57",
   "metadata": {
    "papermill": {
     "duration": 0.008301,
     "end_time": "2024-11-11T18:31:46.541720",
     "exception": false,
     "start_time": "2024-11-11T18:31:46.533419",
     "status": "completed"
    },
    "tags": []
   },
   "source": [
    "### Pre-processing data"
   ]
  },
  {
   "cell_type": "code",
   "execution_count": 6,
   "id": "b24a3220",
   "metadata": {
    "execution": {
     "iopub.execute_input": "2024-11-11T18:31:46.560523Z",
     "iopub.status.busy": "2024-11-11T18:31:46.560072Z",
     "iopub.status.idle": "2024-11-11T18:31:46.570033Z",
     "shell.execute_reply": "2024-11-11T18:31:46.568731Z"
    },
    "papermill": {
     "duration": 0.022453,
     "end_time": "2024-11-11T18:31:46.572642",
     "exception": false,
     "start_time": "2024-11-11T18:31:46.550189",
     "status": "completed"
    },
    "tags": []
   },
   "outputs": [],
   "source": [
    "survivor_data.drop('Name', axis=1, inplace=True)\n",
    "survivor_data.drop('Ticket', axis=1, inplace=True)"
   ]
  },
  {
   "cell_type": "code",
   "execution_count": 7,
   "id": "5f49cdbd",
   "metadata": {
    "execution": {
     "iopub.execute_input": "2024-11-11T18:31:46.591514Z",
     "iopub.status.busy": "2024-11-11T18:31:46.591047Z",
     "iopub.status.idle": "2024-11-11T18:31:46.599141Z",
     "shell.execute_reply": "2024-11-11T18:31:46.598046Z"
    },
    "papermill": {
     "duration": 0.020263,
     "end_time": "2024-11-11T18:31:46.601497",
     "exception": false,
     "start_time": "2024-11-11T18:31:46.581234",
     "status": "completed"
    },
    "tags": []
   },
   "outputs": [
    {
     "data": {
      "text/plain": [
       "Index(['Survived', 'Pclass', 'Sex', 'Age', 'SibSp', 'Parch', 'Fare', 'Cabin',\n",
       "       'Embarked'],\n",
       "      dtype='object')"
      ]
     },
     "execution_count": 7,
     "metadata": {},
     "output_type": "execute_result"
    }
   ],
   "source": [
    "survivor_data.columns"
   ]
  },
  {
   "cell_type": "markdown",
   "id": "a63aca27",
   "metadata": {
    "papermill": {
     "duration": 0.008159,
     "end_time": "2024-11-11T18:31:46.618156",
     "exception": false,
     "start_time": "2024-11-11T18:31:46.609997",
     "status": "completed"
    },
    "tags": []
   },
   "source": [
    "### Handling Missing Data & Categorical Variables"
   ]
  },
  {
   "cell_type": "code",
   "execution_count": 8,
   "id": "f9381f75",
   "metadata": {
    "execution": {
     "iopub.execute_input": "2024-11-11T18:31:46.637027Z",
     "iopub.status.busy": "2024-11-11T18:31:46.636575Z",
     "iopub.status.idle": "2024-11-11T18:31:46.647804Z",
     "shell.execute_reply": "2024-11-11T18:31:46.646318Z"
    },
    "papermill": {
     "duration": 0.023771,
     "end_time": "2024-11-11T18:31:46.650573",
     "exception": false,
     "start_time": "2024-11-11T18:31:46.626802",
     "status": "completed"
    },
    "tags": []
   },
   "outputs": [
    {
     "name": "stdout",
     "output_type": "stream",
     "text": [
      "(891, 9)\n",
      "Survived      0\n",
      "Pclass        0\n",
      "Sex           0\n",
      "Age         177\n",
      "SibSp         0\n",
      "Parch         0\n",
      "Fare          0\n",
      "Cabin       687\n",
      "Embarked      2\n",
      "dtype: int64\n",
      "Survived     0.000000\n",
      "Pclass       0.000000\n",
      "Sex          0.000000\n",
      "Age         19.865320\n",
      "SibSp        0.000000\n",
      "Parch        0.000000\n",
      "Fare         0.000000\n",
      "Cabin       77.104377\n",
      "Embarked     0.224467\n",
      "dtype: float64\n"
     ]
    }
   ],
   "source": [
    "# Shape of training data (num_rows, num_columns)\n",
    "print(survivor_data.shape)\n",
    "\n",
    "# Number of missing values in each column of training data\n",
    "missing_val_count_by_column = (survivor_data.isnull().sum())\n",
    "print(missing_val_count_by_column)\n",
    "print(100 * missing_val_count_by_column/survivor_data.shape[0])"
   ]
  },
  {
   "cell_type": "code",
   "execution_count": 9,
   "id": "948d1433",
   "metadata": {
    "execution": {
     "iopub.execute_input": "2024-11-11T18:31:46.670158Z",
     "iopub.status.busy": "2024-11-11T18:31:46.669734Z",
     "iopub.status.idle": "2024-11-11T18:31:46.676668Z",
     "shell.execute_reply": "2024-11-11T18:31:46.675238Z"
    },
    "papermill": {
     "duration": 0.019618,
     "end_time": "2024-11-11T18:31:46.679338",
     "exception": false,
     "start_time": "2024-11-11T18:31:46.659720",
     "status": "completed"
    },
    "tags": []
   },
   "outputs": [],
   "source": [
    "# drop entire `Cabin` column as its above 20% missing data\n",
    "survivor_data.drop('Cabin', axis=1, inplace=True)"
   ]
  },
  {
   "cell_type": "code",
   "execution_count": 10,
   "id": "5a7aa4fe",
   "metadata": {
    "execution": {
     "iopub.execute_input": "2024-11-11T18:31:46.698922Z",
     "iopub.status.busy": "2024-11-11T18:31:46.698449Z",
     "iopub.status.idle": "2024-11-11T18:31:46.708357Z",
     "shell.execute_reply": "2024-11-11T18:31:46.706940Z"
    },
    "papermill": {
     "duration": 0.023138,
     "end_time": "2024-11-11T18:31:46.711204",
     "exception": false,
     "start_time": "2024-11-11T18:31:46.688066",
     "status": "completed"
    },
    "tags": []
   },
   "outputs": [],
   "source": [
    "#only missing 2 datapoints to dropna will get rid of both those rows without too much effect\n",
    "survivor_data.dropna(subset=['Embarked'], inplace=True)"
   ]
  },
  {
   "cell_type": "code",
   "execution_count": 11,
   "id": "fd391445",
   "metadata": {
    "execution": {
     "iopub.execute_input": "2024-11-11T18:31:46.730421Z",
     "iopub.status.busy": "2024-11-11T18:31:46.729991Z",
     "iopub.status.idle": "2024-11-11T18:31:46.737412Z",
     "shell.execute_reply": "2024-11-11T18:31:46.736305Z"
    },
    "papermill": {
     "duration": 0.020023,
     "end_time": "2024-11-11T18:31:46.740001",
     "exception": false,
     "start_time": "2024-11-11T18:31:46.719978",
     "status": "completed"
    },
    "tags": []
   },
   "outputs": [
    {
     "data": {
      "text/plain": [
       "(889, 8)"
      ]
     },
     "execution_count": 11,
     "metadata": {},
     "output_type": "execute_result"
    }
   ],
   "source": [
    "survivor_data.shape"
   ]
  },
  {
   "cell_type": "code",
   "execution_count": 12,
   "id": "41628bb4",
   "metadata": {
    "execution": {
     "iopub.execute_input": "2024-11-11T18:31:46.759793Z",
     "iopub.status.busy": "2024-11-11T18:31:46.759312Z",
     "iopub.status.idle": "2024-11-11T18:31:46.766714Z",
     "shell.execute_reply": "2024-11-11T18:31:46.765367Z"
    },
    "papermill": {
     "duration": 0.020981,
     "end_time": "2024-11-11T18:31:46.769940",
     "exception": false,
     "start_time": "2024-11-11T18:31:46.748959",
     "status": "completed"
    },
    "tags": []
   },
   "outputs": [
    {
     "name": "stdout",
     "output_type": "stream",
     "text": [
      "Categorical variables:\n",
      "['Sex', 'Embarked']\n"
     ]
    }
   ],
   "source": [
    "# Get list of categorical variables to try to get rid of them\n",
    "s = (survivor_data.dtypes == 'object')\n",
    "object_cols = list(s[s].index)\n",
    "\n",
    "print(\"Categorical variables:\")\n",
    "print(object_cols)"
   ]
  },
  {
   "cell_type": "code",
   "execution_count": 13,
   "id": "f36dcd64",
   "metadata": {
    "execution": {
     "iopub.execute_input": "2024-11-11T18:31:46.789834Z",
     "iopub.status.busy": "2024-11-11T18:31:46.789260Z",
     "iopub.status.idle": "2024-11-11T18:31:46.799271Z",
     "shell.execute_reply": "2024-11-11T18:31:46.797986Z"
    },
    "papermill": {
     "duration": 0.02265,
     "end_time": "2024-11-11T18:31:46.801597",
     "exception": false,
     "start_time": "2024-11-11T18:31:46.778947",
     "status": "completed"
    },
    "tags": []
   },
   "outputs": [
    {
     "data": {
      "text/plain": [
       "array(['male', 'female'], dtype=object)"
      ]
     },
     "execution_count": 13,
     "metadata": {},
     "output_type": "execute_result"
    }
   ],
   "source": [
    "survivor_data.Sex.unique()"
   ]
  },
  {
   "cell_type": "code",
   "execution_count": 14,
   "id": "eb7f7a59",
   "metadata": {
    "execution": {
     "iopub.execute_input": "2024-11-11T18:31:46.821609Z",
     "iopub.status.busy": "2024-11-11T18:31:46.821120Z",
     "iopub.status.idle": "2024-11-11T18:31:48.242017Z",
     "shell.execute_reply": "2024-11-11T18:31:48.240800Z"
    },
    "papermill": {
     "duration": 1.434312,
     "end_time": "2024-11-11T18:31:48.244934",
     "exception": false,
     "start_time": "2024-11-11T18:31:46.810622",
     "status": "completed"
    },
    "tags": []
   },
   "outputs": [],
   "source": [
    "from sklearn.preprocessing import OrdinalEncoder\n",
    "\n",
    "# Make copy to avoid changing original data \n",
    "label_survivor_data = survivor_data.copy()\n",
    "\n",
    "# Apply ordinal encoder to each column with categorical data\n",
    "ordinal_encoder = OrdinalEncoder()\n",
    "label_survivor_data[object_cols] = ordinal_encoder.fit_transform(survivor_data[object_cols])"
   ]
  },
  {
   "cell_type": "code",
   "execution_count": 15,
   "id": "e1a7bd76",
   "metadata": {
    "execution": {
     "iopub.execute_input": "2024-11-11T18:31:48.265368Z",
     "iopub.status.busy": "2024-11-11T18:31:48.264752Z",
     "iopub.status.idle": "2024-11-11T18:31:48.282547Z",
     "shell.execute_reply": "2024-11-11T18:31:48.281293Z"
    },
    "papermill": {
     "duration": 0.030874,
     "end_time": "2024-11-11T18:31:48.285026",
     "exception": false,
     "start_time": "2024-11-11T18:31:48.254152",
     "status": "completed"
    },
    "tags": []
   },
   "outputs": [
    {
     "data": {
      "text/html": [
       "<div>\n",
       "<style scoped>\n",
       "    .dataframe tbody tr th:only-of-type {\n",
       "        vertical-align: middle;\n",
       "    }\n",
       "\n",
       "    .dataframe tbody tr th {\n",
       "        vertical-align: top;\n",
       "    }\n",
       "\n",
       "    .dataframe thead th {\n",
       "        text-align: right;\n",
       "    }\n",
       "</style>\n",
       "<table border=\"1\" class=\"dataframe\">\n",
       "  <thead>\n",
       "    <tr style=\"text-align: right;\">\n",
       "      <th></th>\n",
       "      <th>Survived</th>\n",
       "      <th>Pclass</th>\n",
       "      <th>Sex</th>\n",
       "      <th>Age</th>\n",
       "      <th>SibSp</th>\n",
       "      <th>Parch</th>\n",
       "      <th>Fare</th>\n",
       "      <th>Embarked</th>\n",
       "    </tr>\n",
       "    <tr>\n",
       "      <th>PassengerId</th>\n",
       "      <th></th>\n",
       "      <th></th>\n",
       "      <th></th>\n",
       "      <th></th>\n",
       "      <th></th>\n",
       "      <th></th>\n",
       "      <th></th>\n",
       "      <th></th>\n",
       "    </tr>\n",
       "  </thead>\n",
       "  <tbody>\n",
       "    <tr>\n",
       "      <th>1</th>\n",
       "      <td>0</td>\n",
       "      <td>3</td>\n",
       "      <td>1.0</td>\n",
       "      <td>22.0</td>\n",
       "      <td>1</td>\n",
       "      <td>0</td>\n",
       "      <td>7.2500</td>\n",
       "      <td>2.0</td>\n",
       "    </tr>\n",
       "    <tr>\n",
       "      <th>2</th>\n",
       "      <td>1</td>\n",
       "      <td>1</td>\n",
       "      <td>0.0</td>\n",
       "      <td>38.0</td>\n",
       "      <td>1</td>\n",
       "      <td>0</td>\n",
       "      <td>71.2833</td>\n",
       "      <td>0.0</td>\n",
       "    </tr>\n",
       "    <tr>\n",
       "      <th>3</th>\n",
       "      <td>1</td>\n",
       "      <td>3</td>\n",
       "      <td>0.0</td>\n",
       "      <td>26.0</td>\n",
       "      <td>0</td>\n",
       "      <td>0</td>\n",
       "      <td>7.9250</td>\n",
       "      <td>2.0</td>\n",
       "    </tr>\n",
       "    <tr>\n",
       "      <th>4</th>\n",
       "      <td>1</td>\n",
       "      <td>1</td>\n",
       "      <td>0.0</td>\n",
       "      <td>35.0</td>\n",
       "      <td>1</td>\n",
       "      <td>0</td>\n",
       "      <td>53.1000</td>\n",
       "      <td>2.0</td>\n",
       "    </tr>\n",
       "    <tr>\n",
       "      <th>5</th>\n",
       "      <td>0</td>\n",
       "      <td>3</td>\n",
       "      <td>1.0</td>\n",
       "      <td>35.0</td>\n",
       "      <td>0</td>\n",
       "      <td>0</td>\n",
       "      <td>8.0500</td>\n",
       "      <td>2.0</td>\n",
       "    </tr>\n",
       "  </tbody>\n",
       "</table>\n",
       "</div>"
      ],
      "text/plain": [
       "             Survived  Pclass  Sex   Age  SibSp  Parch     Fare  Embarked\n",
       "PassengerId                                                              \n",
       "1                   0       3  1.0  22.0      1      0   7.2500       2.0\n",
       "2                   1       1  0.0  38.0      1      0  71.2833       0.0\n",
       "3                   1       3  0.0  26.0      0      0   7.9250       2.0\n",
       "4                   1       1  0.0  35.0      1      0  53.1000       2.0\n",
       "5                   0       3  1.0  35.0      0      0   8.0500       2.0"
      ]
     },
     "execution_count": 15,
     "metadata": {},
     "output_type": "execute_result"
    }
   ],
   "source": [
    "label_survivor_data.head()"
   ]
  },
  {
   "cell_type": "code",
   "execution_count": 16,
   "id": "6ec320f3",
   "metadata": {
    "execution": {
     "iopub.execute_input": "2024-11-11T18:31:48.305749Z",
     "iopub.status.busy": "2024-11-11T18:31:48.305196Z",
     "iopub.status.idle": "2024-11-11T18:31:48.311388Z",
     "shell.execute_reply": "2024-11-11T18:31:48.310238Z"
    },
    "papermill": {
     "duration": 0.020607,
     "end_time": "2024-11-11T18:31:48.314993",
     "exception": false,
     "start_time": "2024-11-11T18:31:48.294386",
     "status": "completed"
    },
    "tags": []
   },
   "outputs": [
    {
     "name": "stdout",
     "output_type": "stream",
     "text": [
      "Category to Label Mapping:\n",
      "[array(['female', 'male'], dtype=object), array(['C', 'Q', 'S'], dtype=object)]\n"
     ]
    }
   ],
   "source": [
    "print(\"Category to Label Mapping:\")\n",
    "print(ordinal_encoder.categories_)"
   ]
  },
  {
   "cell_type": "code",
   "execution_count": 17,
   "id": "e265c5d0",
   "metadata": {
    "execution": {
     "iopub.execute_input": "2024-11-11T18:31:48.336179Z",
     "iopub.status.busy": "2024-11-11T18:31:48.335697Z",
     "iopub.status.idle": "2024-11-11T18:31:48.731742Z",
     "shell.execute_reply": "2024-11-11T18:31:48.730629Z"
    },
    "papermill": {
     "duration": 0.41016,
     "end_time": "2024-11-11T18:31:48.734781",
     "exception": false,
     "start_time": "2024-11-11T18:31:48.324621",
     "status": "completed"
    },
    "tags": []
   },
   "outputs": [],
   "source": [
    "from sklearn.impute import SimpleImputer\n",
    "\n",
    "# Fill in the lines below: imputation\n",
    "my_imputer = SimpleImputer() # Your code here\n",
    "imputed_survivor_data = pd.DataFrame(my_imputer.fit_transform(label_survivor_data))\n",
    "\n",
    "# Fill in the lines below: imputation removed column names; put them back\n",
    "imputed_survivor_data.columns = label_survivor_data.columns"
   ]
  },
  {
   "cell_type": "code",
   "execution_count": 18,
   "id": "daba0cef",
   "metadata": {
    "execution": {
     "iopub.execute_input": "2024-11-11T18:31:48.755750Z",
     "iopub.status.busy": "2024-11-11T18:31:48.755265Z",
     "iopub.status.idle": "2024-11-11T18:31:48.763942Z",
     "shell.execute_reply": "2024-11-11T18:31:48.762722Z"
    },
    "papermill": {
     "duration": 0.022103,
     "end_time": "2024-11-11T18:31:48.766438",
     "exception": false,
     "start_time": "2024-11-11T18:31:48.744335",
     "status": "completed"
    },
    "tags": []
   },
   "outputs": [
    {
     "data": {
      "text/plain": [
       "0"
      ]
     },
     "execution_count": 18,
     "metadata": {},
     "output_type": "execute_result"
    }
   ],
   "source": [
    "imputed_survivor_data.Age.isnull().sum()"
   ]
  },
  {
   "cell_type": "code",
   "execution_count": null,
   "id": "d76a13a6",
   "metadata": {
    "papermill": {
     "duration": 0.009164,
     "end_time": "2024-11-11T18:31:48.785415",
     "exception": false,
     "start_time": "2024-11-11T18:31:48.776251",
     "status": "completed"
    },
    "tags": []
   },
   "outputs": [],
   "source": []
  }
 ],
 "metadata": {
  "kaggle": {
   "accelerator": "none",
   "dataSources": [
    {
     "databundleVersionId": 26502,
     "sourceId": 3136,
     "sourceType": "competition"
    }
   ],
   "dockerImageVersionId": 30786,
   "isGpuEnabled": false,
   "isInternetEnabled": false,
   "language": "python",
   "sourceType": "notebook"
  },
  "kernelspec": {
   "display_name": "Python 3",
   "language": "python",
   "name": "python3"
  },
  "language_info": {
   "codemirror_mode": {
    "name": "ipython",
    "version": 3
   },
   "file_extension": ".py",
   "mimetype": "text/x-python",
   "name": "python",
   "nbconvert_exporter": "python",
   "pygments_lexer": "ipython3",
   "version": "3.10.14"
  },
  "papermill": {
   "default_parameters": {},
   "duration": 7.16203,
   "end_time": "2024-11-11T18:31:49.417337",
   "environment_variables": {},
   "exception": null,
   "input_path": "__notebook__.ipynb",
   "output_path": "__notebook__.ipynb",
   "parameters": {},
   "start_time": "2024-11-11T18:31:42.255307",
   "version": "2.6.0"
  }
 },
 "nbformat": 4,
 "nbformat_minor": 5
}
