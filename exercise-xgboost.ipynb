{
 "cells": [
  {
   "cell_type": "markdown",
   "id": "fe44618b",
   "metadata": {
    "papermill": {
     "duration": 0.005836,
     "end_time": "2024-11-07T18:28:34.999700",
     "exception": false,
     "start_time": "2024-11-07T18:28:34.993864",
     "status": "completed"
    },
    "tags": []
   },
   "source": [
    "**This notebook is an exercise in the [Intermediate Machine Learning](https://www.kaggle.com/learn/intermediate-machine-learning) course.  You can reference the tutorial at [this link](https://www.kaggle.com/alexisbcook/xgboost).**\n",
    "\n",
    "---\n"
   ]
  },
  {
   "cell_type": "markdown",
   "id": "3fced5f7",
   "metadata": {
    "papermill": {
     "duration": 0.004987,
     "end_time": "2024-11-07T18:28:35.010106",
     "exception": false,
     "start_time": "2024-11-07T18:28:35.005119",
     "status": "completed"
    },
    "tags": []
   },
   "source": [
    "In this exercise, you will use your new knowledge to train a model with **gradient boosting**.\n",
    "\n",
    "# Setup\n",
    "\n",
    "The questions below will give you feedback on your work. Run the following cell to set up the feedback system."
   ]
  },
  {
   "cell_type": "code",
   "execution_count": 1,
   "id": "91195f19",
   "metadata": {
    "execution": {
     "iopub.execute_input": "2024-11-07T18:28:35.022779Z",
     "iopub.status.busy": "2024-11-07T18:28:35.021864Z",
     "iopub.status.idle": "2024-11-07T18:28:38.534324Z",
     "shell.execute_reply": "2024-11-07T18:28:38.532766Z"
    },
    "papermill": {
     "duration": 3.521859,
     "end_time": "2024-11-07T18:28:38.537083",
     "exception": false,
     "start_time": "2024-11-07T18:28:35.015224",
     "status": "completed"
    },
    "tags": []
   },
   "outputs": [
    {
     "name": "stdout",
     "output_type": "stream",
     "text": [
      "Setup Complete\n"
     ]
    }
   ],
   "source": [
    "# Set up code checking\n",
    "import os\n",
    "if not os.path.exists(\"../input/train.csv\"):\n",
    "    os.symlink(\"../input/home-data-for-ml-course/train.csv\", \"../input/train.csv\")  \n",
    "    os.symlink(\"../input/home-data-for-ml-course/test.csv\", \"../input/test.csv\") \n",
    "from learntools.core import binder\n",
    "binder.bind(globals())\n",
    "from learntools.ml_intermediate.ex6 import *\n",
    "print(\"Setup Complete\")"
   ]
  },
  {
   "cell_type": "markdown",
   "id": "3fad8d75",
   "metadata": {
    "papermill": {
     "duration": 0.005473,
     "end_time": "2024-11-07T18:28:38.548560",
     "exception": false,
     "start_time": "2024-11-07T18:28:38.543087",
     "status": "completed"
    },
    "tags": []
   },
   "source": [
    "You will work with the [Housing Prices Competition for Kaggle Learn Users](https://www.kaggle.com/c/home-data-for-ml-course) dataset from the previous exercise. \n",
    "\n",
    "![Ames Housing dataset image](https://storage.googleapis.com/kaggle-media/learn/images/lTJVG4e.png)\n",
    "\n",
    "Run the next code cell without changes to load the training and validation sets in `X_train`, `X_valid`, `y_train`, and `y_valid`.  The test set is loaded in `X_test`."
   ]
  },
  {
   "cell_type": "code",
   "execution_count": 2,
   "id": "fe644863",
   "metadata": {
    "execution": {
     "iopub.execute_input": "2024-11-07T18:28:38.561692Z",
     "iopub.status.busy": "2024-11-07T18:28:38.561267Z",
     "iopub.status.idle": "2024-11-07T18:28:38.741214Z",
     "shell.execute_reply": "2024-11-07T18:28:38.739532Z"
    },
    "papermill": {
     "duration": 0.189644,
     "end_time": "2024-11-07T18:28:38.744031",
     "exception": false,
     "start_time": "2024-11-07T18:28:38.554387",
     "status": "completed"
    },
    "tags": []
   },
   "outputs": [],
   "source": [
    "import pandas as pd\n",
    "from sklearn.model_selection import train_test_split\n",
    "\n",
    "# Read the data\n",
    "X = pd.read_csv('../input/train.csv', index_col='Id')\n",
    "X_test_full = pd.read_csv('../input/test.csv', index_col='Id')\n",
    "\n",
    "# Remove rows with missing target, separate target from predictors\n",
    "X.dropna(axis=0, subset=['SalePrice'], inplace=True)\n",
    "y = X.SalePrice              \n",
    "X.drop(['SalePrice'], axis=1, inplace=True)\n",
    "\n",
    "# Break off validation set from training data\n",
    "X_train_full, X_valid_full, y_train, y_valid = train_test_split(X, y, train_size=0.8, test_size=0.2,\n",
    "                                                                random_state=0)\n",
    "\n",
    "# \"Cardinality\" means the number of unique values in a column\n",
    "# Select categorical columns with relatively low cardinality (convenient but arbitrary)\n",
    "low_cardinality_cols = [cname for cname in X_train_full.columns if X_train_full[cname].nunique() < 10 and \n",
    "                        X_train_full[cname].dtype == \"object\"]\n",
    "\n",
    "# Select numeric columns\n",
    "numeric_cols = [cname for cname in X_train_full.columns if X_train_full[cname].dtype in ['int64', 'float64']]\n",
    "\n",
    "# Keep selected columns only\n",
    "my_cols = low_cardinality_cols + numeric_cols\n",
    "X_train = X_train_full[my_cols].copy()\n",
    "X_valid = X_valid_full[my_cols].copy()\n",
    "X_test = X_test_full[my_cols].copy()\n",
    "\n",
    "# One-hot encode the data (to shorten the code, we use pandas)\n",
    "X_train = pd.get_dummies(X_train)\n",
    "X_valid = pd.get_dummies(X_valid)\n",
    "X_test = pd.get_dummies(X_test)\n",
    "X_train, X_valid = X_train.align(X_valid, join='left', axis=1)\n",
    "X_train, X_test = X_train.align(X_test, join='left', axis=1)"
   ]
  },
  {
   "cell_type": "markdown",
   "id": "323a919f",
   "metadata": {
    "papermill": {
     "duration": 0.004915,
     "end_time": "2024-11-07T18:28:38.754412",
     "exception": false,
     "start_time": "2024-11-07T18:28:38.749497",
     "status": "completed"
    },
    "tags": []
   },
   "source": [
    "# Step 1: Build model\n",
    "\n",
    "### Part A\n",
    "\n",
    "In this step, you'll build and train your first model with gradient boosting.\n",
    "\n",
    "- Begin by setting `my_model_1` to an XGBoost model.  Use the [XGBRegressor](https://xgboost.readthedocs.io/en/latest/python/python_api.html#xgboost.XGBRegressor) class, and set the random seed to 0 (`random_state=0`).  **Leave all other parameters as default.**\n",
    "- Then, fit the model to the training data in `X_train` and `y_train`."
   ]
  },
  {
   "cell_type": "code",
   "execution_count": 3,
   "id": "89f8c569",
   "metadata": {
    "execution": {
     "iopub.execute_input": "2024-11-07T18:28:38.767043Z",
     "iopub.status.busy": "2024-11-07T18:28:38.766584Z",
     "iopub.status.idle": "2024-11-07T18:28:39.260117Z",
     "shell.execute_reply": "2024-11-07T18:28:39.258814Z"
    },
    "papermill": {
     "duration": 0.502965,
     "end_time": "2024-11-07T18:28:39.262530",
     "exception": false,
     "start_time": "2024-11-07T18:28:38.759565",
     "status": "completed"
    },
    "tags": []
   },
   "outputs": [
    {
     "data": {
      "application/javascript": [
       "parent.postMessage({\"jupyterEvent\": \"custom.exercise_interaction\", \"data\": {\"outcomeType\": 1, \"valueTowardsCompletion\": 0.5, \"interactionType\": 1, \"questionType\": 2, \"questionId\": \"1.1_Model1A\", \"learnToolsVersion\": \"0.3.4\", \"failureMessage\": \"\", \"exceptionClass\": \"\", \"trace\": \"\"}}, \"*\")"
      ],
      "text/plain": [
       "<IPython.core.display.Javascript object>"
      ]
     },
     "metadata": {},
     "output_type": "display_data"
    },
    {
     "data": {
      "text/markdown": [
       "<span style=\"color:#33cc33\">Correct</span>"
      ],
      "text/plain": [
       "Correct"
      ]
     },
     "metadata": {},
     "output_type": "display_data"
    }
   ],
   "source": [
    "from xgboost import XGBRegressor\n",
    "\n",
    "# Define the model\n",
    "my_model_1 = XGBRegressor(random_state=0) # Your code here\n",
    "\n",
    "# Fit the model\n",
    "my_model_1.fit(X_train,y_train) # Your code here\n",
    "\n",
    "# Check your answer\n",
    "step_1.a.check()"
   ]
  },
  {
   "cell_type": "code",
   "execution_count": 4,
   "id": "7bcd8ba4",
   "metadata": {
    "execution": {
     "iopub.execute_input": "2024-11-07T18:28:39.277200Z",
     "iopub.status.busy": "2024-11-07T18:28:39.276734Z",
     "iopub.status.idle": "2024-11-07T18:28:39.281724Z",
     "shell.execute_reply": "2024-11-07T18:28:39.280646Z"
    },
    "papermill": {
     "duration": 0.014917,
     "end_time": "2024-11-07T18:28:39.284185",
     "exception": false,
     "start_time": "2024-11-07T18:28:39.269268",
     "status": "completed"
    },
    "tags": []
   },
   "outputs": [],
   "source": [
    "# Lines below will give you a hint or solution code\n",
    "#step_1.a.hint()\n",
    "#step_1.a.solution()"
   ]
  },
  {
   "cell_type": "markdown",
   "id": "c97de6d8",
   "metadata": {
    "papermill": {
     "duration": 0.00545,
     "end_time": "2024-11-07T18:28:39.295740",
     "exception": false,
     "start_time": "2024-11-07T18:28:39.290290",
     "status": "completed"
    },
    "tags": []
   },
   "source": [
    "### Part B\n",
    "\n",
    "Set `predictions_1` to the model's predictions for the validation data.  Recall that the validation features are stored in `X_valid`."
   ]
  },
  {
   "cell_type": "code",
   "execution_count": 5,
   "id": "5ae2e847",
   "metadata": {
    "execution": {
     "iopub.execute_input": "2024-11-07T18:28:39.308602Z",
     "iopub.status.busy": "2024-11-07T18:28:39.308179Z",
     "iopub.status.idle": "2024-11-07T18:28:39.355137Z",
     "shell.execute_reply": "2024-11-07T18:28:39.353828Z"
    },
    "papermill": {
     "duration": 0.056883,
     "end_time": "2024-11-07T18:28:39.358178",
     "exception": false,
     "start_time": "2024-11-07T18:28:39.301295",
     "status": "completed"
    },
    "tags": []
   },
   "outputs": [
    {
     "data": {
      "application/javascript": [
       "parent.postMessage({\"jupyterEvent\": \"custom.exercise_interaction\", \"data\": {\"outcomeType\": 1, \"valueTowardsCompletion\": 0.5, \"interactionType\": 1, \"questionType\": 2, \"questionId\": \"1.2_Model1B\", \"learnToolsVersion\": \"0.3.4\", \"failureMessage\": \"\", \"exceptionClass\": \"\", \"trace\": \"\"}}, \"*\")"
      ],
      "text/plain": [
       "<IPython.core.display.Javascript object>"
      ]
     },
     "metadata": {},
     "output_type": "display_data"
    },
    {
     "data": {
      "text/markdown": [
       "<span style=\"color:#33cc33\">Correct</span>"
      ],
      "text/plain": [
       "Correct"
      ]
     },
     "metadata": {},
     "output_type": "display_data"
    }
   ],
   "source": [
    "from sklearn.metrics import mean_absolute_error\n",
    "\n",
    "# Get predictions\n",
    "predictions_1 = my_model_1.predict(X_valid) # Your code here\n",
    "\n",
    "# Check your answer\n",
    "step_1.b.check()"
   ]
  },
  {
   "cell_type": "code",
   "execution_count": 6,
   "id": "aba82f6a",
   "metadata": {
    "execution": {
     "iopub.execute_input": "2024-11-07T18:28:39.372498Z",
     "iopub.status.busy": "2024-11-07T18:28:39.372046Z",
     "iopub.status.idle": "2024-11-07T18:28:39.377110Z",
     "shell.execute_reply": "2024-11-07T18:28:39.375843Z"
    },
    "papermill": {
     "duration": 0.015069,
     "end_time": "2024-11-07T18:28:39.379454",
     "exception": false,
     "start_time": "2024-11-07T18:28:39.364385",
     "status": "completed"
    },
    "tags": []
   },
   "outputs": [],
   "source": [
    "# Lines below will give you a hint or solution code\n",
    "#step_1.b.hint()\n",
    "#step_1.b.solution()"
   ]
  },
  {
   "cell_type": "markdown",
   "id": "45820b81",
   "metadata": {
    "papermill": {
     "duration": 0.005496,
     "end_time": "2024-11-07T18:28:39.390757",
     "exception": false,
     "start_time": "2024-11-07T18:28:39.385261",
     "status": "completed"
    },
    "tags": []
   },
   "source": [
    "### Part C\n",
    "\n",
    "Finally, use the `mean_absolute_error()` function to calculate the mean absolute error (MAE) corresponding to the predictions for the validation set.  Recall that the labels for the validation data are stored in `y_valid`."
   ]
  },
  {
   "cell_type": "code",
   "execution_count": 7,
   "id": "dddecbfd",
   "metadata": {
    "execution": {
     "iopub.execute_input": "2024-11-07T18:28:39.404068Z",
     "iopub.status.busy": "2024-11-07T18:28:39.403573Z",
     "iopub.status.idle": "2024-11-07T18:28:39.416032Z",
     "shell.execute_reply": "2024-11-07T18:28:39.414746Z"
    },
    "papermill": {
     "duration": 0.02214,
     "end_time": "2024-11-07T18:28:39.418694",
     "exception": false,
     "start_time": "2024-11-07T18:28:39.396554",
     "status": "completed"
    },
    "tags": []
   },
   "outputs": [
    {
     "name": "stdout",
     "output_type": "stream",
     "text": [
      "Mean Absolute Error: 18161.82412510702\n"
     ]
    },
    {
     "data": {
      "application/javascript": [
       "parent.postMessage({\"jupyterEvent\": \"custom.exercise_interaction\", \"data\": {\"outcomeType\": 1, \"valueTowardsCompletion\": 0.5, \"interactionType\": 1, \"questionType\": 2, \"questionId\": \"1.3_Model1C\", \"learnToolsVersion\": \"0.3.4\", \"failureMessage\": \"\", \"exceptionClass\": \"\", \"trace\": \"\"}}, \"*\")"
      ],
      "text/plain": [
       "<IPython.core.display.Javascript object>"
      ]
     },
     "metadata": {},
     "output_type": "display_data"
    },
    {
     "data": {
      "text/markdown": [
       "<span style=\"color:#33cc33\">Correct</span>"
      ],
      "text/plain": [
       "Correct"
      ]
     },
     "metadata": {},
     "output_type": "display_data"
    }
   ],
   "source": [
    "# Calculate MAE\n",
    "mae_1 = mean_absolute_error(predictions_1, y_valid) # Your code here\n",
    "\n",
    "# Uncomment to print MAE\n",
    "print(\"Mean Absolute Error:\" , mae_1)\n",
    "\n",
    "# Check your answer\n",
    "step_1.c.check()"
   ]
  },
  {
   "cell_type": "code",
   "execution_count": 8,
   "id": "463a5382",
   "metadata": {
    "execution": {
     "iopub.execute_input": "2024-11-07T18:28:39.432865Z",
     "iopub.status.busy": "2024-11-07T18:28:39.432413Z",
     "iopub.status.idle": "2024-11-07T18:28:39.438339Z",
     "shell.execute_reply": "2024-11-07T18:28:39.436669Z"
    },
    "papermill": {
     "duration": 0.015876,
     "end_time": "2024-11-07T18:28:39.440737",
     "exception": false,
     "start_time": "2024-11-07T18:28:39.424861",
     "status": "completed"
    },
    "tags": []
   },
   "outputs": [],
   "source": [
    "# Lines below will give you a hint or solution code\n",
    "#step_1.c.hint()\n",
    "#step_1.c.solution()"
   ]
  },
  {
   "cell_type": "markdown",
   "id": "a08c3ba4",
   "metadata": {
    "papermill": {
     "duration": 0.005915,
     "end_time": "2024-11-07T18:28:39.453313",
     "exception": false,
     "start_time": "2024-11-07T18:28:39.447398",
     "status": "completed"
    },
    "tags": []
   },
   "source": [
    "# Step 2: Improve the model\n",
    "\n",
    "Now that you've trained a default model as baseline, it's time to tinker with the parameters, to see if you can get better performance!\n",
    "- Begin by setting `my_model_2` to an XGBoost model, using the [XGBRegressor](https://xgboost.readthedocs.io/en/latest/python/python_api.html#xgboost.XGBRegressor) class.  Use what you learned in the previous tutorial to figure out how to change the default parameters (like `n_estimators` and `learning_rate`) to get better results.\n",
    "- Then, fit the model to the training data in `X_train` and `y_train`.\n",
    "- Set `predictions_2` to the model's predictions for the validation data.  Recall that the validation features are stored in `X_valid`.\n",
    "- Finally, use the `mean_absolute_error()` function to calculate the mean absolute error (MAE) corresponding to the predictions on the validation set.  Recall that the labels for the validation data are stored in `y_valid`.\n",
    "\n",
    "In order for this step to be marked correct, your model in `my_model_2` must attain lower MAE than the model in `my_model_1`. "
   ]
  },
  {
   "cell_type": "code",
   "execution_count": 9,
   "id": "da6206fb",
   "metadata": {
    "execution": {
     "iopub.execute_input": "2024-11-07T18:28:39.468079Z",
     "iopub.status.busy": "2024-11-07T18:28:39.467598Z",
     "iopub.status.idle": "2024-11-07T18:28:45.571957Z",
     "shell.execute_reply": "2024-11-07T18:28:45.571042Z"
    },
    "papermill": {
     "duration": 6.114677,
     "end_time": "2024-11-07T18:28:45.574333",
     "exception": false,
     "start_time": "2024-11-07T18:28:39.459656",
     "status": "completed"
    },
    "tags": []
   },
   "outputs": [
    {
     "name": "stdout",
     "output_type": "stream",
     "text": [
      "Mean Absolute Error: 17224.27947078339\n"
     ]
    },
    {
     "data": {
      "application/javascript": [
       "parent.postMessage({\"jupyterEvent\": \"custom.exercise_interaction\", \"data\": {\"outcomeType\": 1, \"valueTowardsCompletion\": 0.5, \"interactionType\": 1, \"questionType\": 2, \"questionId\": \"2_Model2\", \"learnToolsVersion\": \"0.3.4\", \"failureMessage\": \"\", \"exceptionClass\": \"\", \"trace\": \"\"}}, \"*\")"
      ],
      "text/plain": [
       "<IPython.core.display.Javascript object>"
      ]
     },
     "metadata": {},
     "output_type": "display_data"
    },
    {
     "data": {
      "text/markdown": [
       "<span style=\"color:#33cc33\">Correct</span>"
      ],
      "text/plain": [
       "Correct"
      ]
     },
     "metadata": {},
     "output_type": "display_data"
    }
   ],
   "source": [
    "# Define the model\n",
    " # Your code here\n",
    "my_model_2 = XGBRegressor(n_estimators=1000, learning_rate=0.05, n_jobs=4)\n",
    "\n",
    "\n",
    "# Fit the model\n",
    "# Your code here\n",
    "my_model_2.fit(X_train, y_train, \n",
    "             eval_set=[(X_valid, y_valid)],\n",
    "             verbose=False)\n",
    "\n",
    "# Get predictions\n",
    "# Your code here\n",
    "predictions_2 = my_model_2.predict(X_valid) \n",
    "\n",
    "# Calculate MAE\n",
    "# Your code here\n",
    "mae_2 = mean_absolute_error(predictions_2, y_valid)\n",
    "\n",
    "# Uncomment to print MAE\n",
    "print(\"Mean Absolute Error:\" , mae_2)\n",
    "\n",
    "# Check your answer\n",
    "step_2.check()"
   ]
  },
  {
   "cell_type": "code",
   "execution_count": 10,
   "id": "9bf5efc5",
   "metadata": {
    "execution": {
     "iopub.execute_input": "2024-11-07T18:28:45.589353Z",
     "iopub.status.busy": "2024-11-07T18:28:45.588926Z",
     "iopub.status.idle": "2024-11-07T18:28:45.594947Z",
     "shell.execute_reply": "2024-11-07T18:28:45.593451Z"
    },
    "papermill": {
     "duration": 0.016556,
     "end_time": "2024-11-07T18:28:45.597546",
     "exception": false,
     "start_time": "2024-11-07T18:28:45.580990",
     "status": "completed"
    },
    "tags": []
   },
   "outputs": [],
   "source": [
    "# Lines below will give you a hint or solution code\n",
    "#step_2.hint()\n",
    "#step_2.solution()"
   ]
  },
  {
   "cell_type": "markdown",
   "id": "28005e25",
   "metadata": {
    "papermill": {
     "duration": 0.006678,
     "end_time": "2024-11-07T18:28:45.611057",
     "exception": false,
     "start_time": "2024-11-07T18:28:45.604379",
     "status": "completed"
    },
    "tags": []
   },
   "source": [
    "# Step 3: Break the model\n",
    "\n",
    "In this step, you will create a model that performs worse than the original model in Step 1.  This will help you to develop your intuition for how to set parameters.  You might even find that you accidentally get better performance, which is ultimately a nice problem to have and a valuable learning experience!\n",
    "- Begin by setting `my_model_3` to an XGBoost model, using the [XGBRegressor](https://xgboost.readthedocs.io/en/latest/python/python_api.html#xgboost.XGBRegressor) class.  Use what you learned in the previous tutorial to figure out how to change the default parameters (like `n_estimators` and `learning_rate`) to design a model to get high MAE.\n",
    "- Then, fit the model to the training data in `X_train` and `y_train`.\n",
    "- Set `predictions_3` to the model's predictions for the validation data.  Recall that the validation features are stored in `X_valid`.\n",
    "- Finally, use the `mean_absolute_error()` function to calculate the mean absolute error (MAE) corresponding to the predictions on the validation set.  Recall that the labels for the validation data are stored in `y_valid`.\n",
    "\n",
    "In order for this step to be marked correct, your model in `my_model_3` must attain higher MAE than the model in `my_model_1`. "
   ]
  },
  {
   "cell_type": "code",
   "execution_count": 11,
   "id": "4b411556",
   "metadata": {
    "execution": {
     "iopub.execute_input": "2024-11-07T18:28:45.626002Z",
     "iopub.status.busy": "2024-11-07T18:28:45.625555Z",
     "iopub.status.idle": "2024-11-07T18:28:45.789927Z",
     "shell.execute_reply": "2024-11-07T18:28:45.788647Z"
    },
    "papermill": {
     "duration": 0.175153,
     "end_time": "2024-11-07T18:28:45.792902",
     "exception": false,
     "start_time": "2024-11-07T18:28:45.617749",
     "status": "completed"
    },
    "tags": []
   },
   "outputs": [
    {
     "name": "stdout",
     "output_type": "stream",
     "text": [
      "Mean Absolute Error: 54604.38415025685\n"
     ]
    },
    {
     "name": "stderr",
     "output_type": "stream",
     "text": [
      "/opt/conda/lib/python3.10/site-packages/xgboost/sklearn.py:889: UserWarning: `early_stopping_rounds` in `fit` method is deprecated for better compatibility with scikit-learn, use `early_stopping_rounds` in constructor or`set_params` instead.\n",
      "  warnings.warn(\n"
     ]
    },
    {
     "data": {
      "application/javascript": [
       "parent.postMessage({\"jupyterEvent\": \"custom.exercise_interaction\", \"data\": {\"outcomeType\": 1, \"valueTowardsCompletion\": 0.5, \"interactionType\": 1, \"questionType\": 2, \"questionId\": \"3_Model3\", \"learnToolsVersion\": \"0.3.4\", \"failureMessage\": \"\", \"exceptionClass\": \"\", \"trace\": \"\"}}, \"*\")"
      ],
      "text/plain": [
       "<IPython.core.display.Javascript object>"
      ]
     },
     "metadata": {},
     "output_type": "display_data"
    },
    {
     "data": {
      "text/markdown": [
       "<span style=\"color:#33cc33\">Correct</span>"
      ],
      "text/plain": [
       "Correct"
      ]
     },
     "metadata": {},
     "output_type": "display_data"
    }
   ],
   "source": [
    "# Define the model\n",
    "my_model_3 =  XGBRegressor(n_estimators=1, learning_rate=0.05, n_jobs=4)\n",
    "\n",
    "# Fit the model\n",
    "# Your code here\n",
    "my_model_3.fit(X_train, y_train, \n",
    "             early_stopping_rounds=5,  \n",
    "             eval_set=[(X_valid, y_valid)],\n",
    "             verbose=False)\n",
    "\n",
    "# Get predictions\n",
    "predictions_3 = my_model_3.predict(X_valid)\n",
    "\n",
    "# Calculate MAE\n",
    "mae_3 = mean_absolute_error(predictions_3, y_valid)\n",
    "\n",
    "# Uncomment to print MAE\n",
    "print(\"Mean Absolute Error:\" , mae_3)\n",
    "\n",
    "# Check your answer\n",
    "step_3.check()"
   ]
  },
  {
   "cell_type": "code",
   "execution_count": 12,
   "id": "47d1cc0c",
   "metadata": {
    "execution": {
     "iopub.execute_input": "2024-11-07T18:28:45.808780Z",
     "iopub.status.busy": "2024-11-07T18:28:45.808325Z",
     "iopub.status.idle": "2024-11-07T18:28:45.813226Z",
     "shell.execute_reply": "2024-11-07T18:28:45.811967Z"
    },
    "papermill": {
     "duration": 0.015845,
     "end_time": "2024-11-07T18:28:45.815519",
     "exception": false,
     "start_time": "2024-11-07T18:28:45.799674",
     "status": "completed"
    },
    "tags": []
   },
   "outputs": [],
   "source": [
    "# Lines below will give you a hint or solution code\n",
    "#step_3.hint()\n",
    "#step_3.solution()"
   ]
  },
  {
   "cell_type": "markdown",
   "id": "368dfaed",
   "metadata": {
    "papermill": {
     "duration": 0.006543,
     "end_time": "2024-11-07T18:28:45.829413",
     "exception": false,
     "start_time": "2024-11-07T18:28:45.822870",
     "status": "completed"
    },
    "tags": []
   },
   "source": [
    "# Keep going\n",
    "\n",
    "Continue to learn about **[data leakage](https://www.kaggle.com/alexisbcook/data-leakage)**.  This is an important issue for a data scientist to understand, and it has the potential to ruin your models in subtle and dangerous ways!"
   ]
  },
  {
   "cell_type": "markdown",
   "id": "5bc41c3d",
   "metadata": {
    "papermill": {
     "duration": 0.006535,
     "end_time": "2024-11-07T18:28:45.842686",
     "exception": false,
     "start_time": "2024-11-07T18:28:45.836151",
     "status": "completed"
    },
    "tags": []
   },
   "source": [
    "---\n",
    "\n",
    "\n",
    "\n",
    "\n",
    "*Have questions or comments? Visit the [course discussion forum](https://www.kaggle.com/learn/intermediate-machine-learning/discussion) to chat with other learners.*"
   ]
  }
 ],
 "metadata": {
  "kaggle": {
   "accelerator": "none",
   "dataSources": [
    {
     "databundleVersionId": 111096,
     "sourceId": 10211,
     "sourceType": "competition"
    }
   ],
   "isGpuEnabled": false,
   "isInternetEnabled": false,
   "language": "python",
   "sourceType": "notebook"
  },
  "kernelspec": {
   "display_name": "Python 3",
   "language": "python",
   "name": "python3"
  },
  "language_info": {
   "codemirror_mode": {
    "name": "ipython",
    "version": 3
   },
   "file_extension": ".py",
   "mimetype": "text/x-python",
   "name": "python",
   "nbconvert_exporter": "python",
   "pygments_lexer": "ipython3",
   "version": "3.10.14"
  },
  "papermill": {
   "default_parameters": {},
   "duration": 14.658741,
   "end_time": "2024-11-07T18:28:46.472343",
   "environment_variables": {},
   "exception": null,
   "input_path": "__notebook__.ipynb",
   "output_path": "__notebook__.ipynb",
   "parameters": {},
   "start_time": "2024-11-07T18:28:31.813602",
   "version": "2.6.0"
  }
 },
 "nbformat": 4,
 "nbformat_minor": 5
}
