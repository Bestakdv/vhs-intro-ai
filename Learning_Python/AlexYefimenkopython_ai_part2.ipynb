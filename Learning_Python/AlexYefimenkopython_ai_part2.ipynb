{
  "nbformat": 4,
  "nbformat_minor": 0,
  "metadata": {
    "colab": {
      "provenance": [],
      "authorship_tag": "ABX9TyMdJBcDh14MHZZksTc3Ot3u",
      "include_colab_link": true
    },
    "kernelspec": {
      "name": "python3",
      "display_name": "Python 3"
    },
    "language_info": {
      "name": "python"
    }
  },
  "cells": [
    {
      "cell_type": "markdown",
      "metadata": {
        "id": "view-in-github",
        "colab_type": "text"
      },
      "source": [
        "<a href=\"https://colab.research.google.com/github/Bestakdv/vhs-intro-ai/blob/main/AlexYefimenkopython_ai_part2.ipynb\" target=\"_parent\"><img src=\"https://colab.research.google.com/assets/colab-badge.svg\" alt=\"Open In Colab\"/></a>"
      ]
    },
    {
      "cell_type": "markdown",
      "source": [
        "We will learn:\n",
        "*   Numpy\n",
        "*   matplotlib\n",
        "*   pandas\n",
        "\n",
        "\n",
        "\n"
      ],
      "metadata": {
        "id": "2F48Aq6WFuYo"
      }
    },
    {
      "cell_type": "markdown",
      "source": [
        "# Numpy\n",
        "\n",
        "What is numpy? And what is it used for? How is it different from using a python list?\n",
        "\n",
        "Numpy is a python library and it is used for multi-dimensional array's and matrices. It is different from a python list as numpy array's have fixed sizes, same data types, and they are more efficient"
      ],
      "metadata": {
        "id": "RG3Zk3ZPSapb"
      }
    },
    {
      "cell_type": "code",
      "source": [
        "# Importing Numpy Library\n",
        "import numpy as np"
      ],
      "metadata": {
        "id": "dnRd4rA8ScHF"
      },
      "execution_count": 44,
      "outputs": []
    },
    {
      "cell_type": "markdown",
      "source": [
        "# Arrays\n",
        "\n",
        "What is a numpy array and how is it different from a python list?\n",
        "\n",
        "A numpy array is multi-dimensional and used for storing large data or mathmetical calculations.It is different from a python list as numpy array's have fixed sizes, same data types, and they are more efficient"
      ],
      "metadata": {
        "id": "TYQ8fyivT3z7"
      }
    },
    {
      "cell_type": "code",
      "source": [
        "# Creating numpy array of rank/dimension 1 from a python [1,2,3]\n",
        "pl = [1,2,3]\n",
        "a=np.array(pl)\n",
        "print(pl)\n",
        "print(a)\n",
        "\n",
        "#print type\n",
        "print(type(pl))\n",
        "print(type(a))\n",
        "\n",
        "#print shape\n",
        "print(a.shape)"
      ],
      "metadata": {
        "colab": {
          "base_uri": "https://localhost:8080/"
        },
        "id": "ktYfTogzUTkh",
        "outputId": "9c599884-3095-4f85-be9d-b6242d885e1f"
      },
      "execution_count": 45,
      "outputs": [
        {
          "output_type": "stream",
          "name": "stdout",
          "text": [
            "[1, 2, 3]\n",
            "[1 2 3]\n",
            "<class 'list'>\n",
            "<class 'numpy.ndarray'>\n",
            "(3,)\n"
          ]
        }
      ]
    },
    {
      "cell_type": "code",
      "source": [
        "# Create and print 3D numpy array [[[1,2,3], [4,5,6]], [[7,8,9], [10,11,12]]]\n",
        "a=np.array([[[1,7], [2,8], [3,9]], [[4,10], [5,11], [6,12]]])\n",
        "\n",
        "print(a)\n",
        "print(a.shape)"
      ],
      "metadata": {
        "colab": {
          "base_uri": "https://localhost:8080/"
        },
        "id": "adVgt6DxVfzA",
        "outputId": "a647607e-d295-4405-d0f8-2475d4707543"
      },
      "execution_count": 46,
      "outputs": [
        {
          "output_type": "stream",
          "name": "stdout",
          "text": [
            "[[[ 1  7]\n",
            "  [ 2  8]\n",
            "  [ 3  9]]\n",
            "\n",
            " [[ 4 10]\n",
            "  [ 5 11]\n",
            "  [ 6 12]]]\n",
            "(2, 3, 2)\n"
          ]
        }
      ]
    },
    {
      "cell_type": "code",
      "source": [
        "# Create a rank 2 array with 2 rows and 3 columns\n",
        "\n",
        "a=np.zeros((2,3))\n",
        "print(a)"
      ],
      "metadata": {
        "colab": {
          "base_uri": "https://localhost:8080/"
        },
        "id": "iAEAbdKvZA2K",
        "outputId": "27a7ffde-1744-41f9-9ae9-b5719f0504fd"
      },
      "execution_count": 47,
      "outputs": [
        {
          "output_type": "stream",
          "name": "stdout",
          "text": [
            "[[0. 0. 0.]\n",
            " [0. 0. 0.]]\n"
          ]
        }
      ]
    },
    {
      "cell_type": "code",
      "source": [
        "# Identify matrix of size 3\n",
        "id = np.eye(3)\n",
        "print(id)"
      ],
      "metadata": {
        "colab": {
          "base_uri": "https://localhost:8080/"
        },
        "id": "jLP8BtbgZXK6",
        "outputId": "ecd8ae93-4768-4956-a368-3204098ef9e5"
      },
      "execution_count": 48,
      "outputs": [
        {
          "output_type": "stream",
          "name": "stdout",
          "text": [
            "[[1. 0. 0.]\n",
            " [0. 1. 0.]\n",
            " [0. 0. 1.]]\n"
          ]
        }
      ]
    },
    {
      "cell_type": "code",
      "source": [
        "# Create an array of all 0's w dimensions (2,3,2)\n",
        "a = np.zeros((2,3,2))\n",
        "print(a)"
      ],
      "metadata": {
        "colab": {
          "base_uri": "https://localhost:8080/"
        },
        "id": "Nlgomi0ZXTn6",
        "outputId": "948a6a7e-500d-483b-c6e3-a16693405e24"
      },
      "execution_count": 49,
      "outputs": [
        {
          "output_type": "stream",
          "name": "stdout",
          "text": [
            "[[[0. 0.]\n",
            "  [0. 0.]\n",
            "  [0. 0.]]\n",
            "\n",
            " [[0. 0.]\n",
            "  [0. 0.]\n",
            "  [0. 0.]]]\n"
          ]
        }
      ]
    },
    {
      "cell_type": "code",
      "source": [
        "# Create a random array of dimensions (2,3)\n",
        "\n",
        "r= np.random.random((2,3))\n",
        "print(r)"
      ],
      "metadata": {
        "colab": {
          "base_uri": "https://localhost:8080/"
        },
        "id": "C88L-oovXYKd",
        "outputId": "7012c46f-ff6e-4591-f65f-53f9c8103fdd"
      },
      "execution_count": 50,
      "outputs": [
        {
          "output_type": "stream",
          "name": "stdout",
          "text": [
            "[[0.8484494  0.26691688 0.89362207]\n",
            " [0.44946463 0.16427333 0.61645327]]\n"
          ]
        }
      ]
    },
    {
      "cell_type": "markdown",
      "source": [
        "# Array Indexing"
      ],
      "metadata": {
        "id": "Rt2-F1uXqATA"
      }
    },
    {
      "cell_type": "code",
      "source": [
        "# Create 2D array x [1,2,3], [4,5,6]\n",
        "# print 2\n",
        "x=np.array([[1,2,3], [4,5,6]])\n",
        "print(x[0,1])"
      ],
      "metadata": {
        "colab": {
          "base_uri": "https://localhost:8080/"
        },
        "id": "XyyowSd9qINs",
        "outputId": "5093db85-168f-49e3-8945-008821738b66"
      },
      "execution_count": 51,
      "outputs": [
        {
          "output_type": "stream",
          "name": "stdout",
          "text": [
            "2\n"
          ]
        }
      ]
    },
    {
      "cell_type": "code",
      "source": [
        "# Access sub matrix [2,3,5,6]\n",
        "\n",
        "# With slicing\n",
        "x[:, 1:]"
      ],
      "metadata": {
        "colab": {
          "base_uri": "https://localhost:8080/"
        },
        "id": "0K_KDoDlqhQr",
        "outputId": "9bd3b1b4-9de3-4d03-fe0d-0d4265875ebb"
      },
      "execution_count": 52,
      "outputs": [
        {
          "output_type": "execute_result",
          "data": {
            "text/plain": [
              "array([[2, 3],\n",
              "       [5, 6]])"
            ]
          },
          "metadata": {},
          "execution_count": 52
        }
      ]
    },
    {
      "cell_type": "code",
      "source": [
        "# reshape [1 2 3 4 5 6]\n",
        "print(x.reshape(6))\n",
        "print(x.reshape(3,2))"
      ],
      "metadata": {
        "colab": {
          "base_uri": "https://localhost:8080/"
        },
        "id": "YLNSlNtHry9R",
        "outputId": "65384580-7011-4a5c-cf9b-6457380ebd88"
      },
      "execution_count": 53,
      "outputs": [
        {
          "output_type": "stream",
          "name": "stdout",
          "text": [
            "[1 2 3 4 5 6]\n",
            "[[1 2]\n",
            " [3 4]\n",
            " [5 6]]\n"
          ]
        }
      ]
    },
    {
      "cell_type": "code",
      "source": [
        "# slicing\n",
        "y=x[:,1:]\n",
        "print(y, y.shape)"
      ],
      "metadata": {
        "colab": {
          "base_uri": "https://localhost:8080/"
        },
        "id": "UwGiH0zNsRNs",
        "outputId": "f71f04ff-5ab4-495c-b516-401c13ab55e5"
      },
      "execution_count": 54,
      "outputs": [
        {
          "output_type": "stream",
          "name": "stdout",
          "text": [
            "[[2 3]\n",
            " [5 6]] (2, 2)\n"
          ]
        }
      ]
    },
    {
      "cell_type": "code",
      "source": [
        "# slicing doesn't create copy so you are changing coordinate\n",
        "y[0,0] = 10\n",
        "print(y)\n",
        "print(x)"
      ],
      "metadata": {
        "colab": {
          "base_uri": "https://localhost:8080/"
        },
        "id": "lu5KqffTsim3",
        "outputId": "40d69d74-c1e7-4aef-93da-5bedbde1a04d"
      },
      "execution_count": 55,
      "outputs": [
        {
          "output_type": "stream",
          "name": "stdout",
          "text": [
            "[[10  3]\n",
            " [ 5  6]]\n",
            "[[ 1 10  3]\n",
            " [ 4  5  6]]\n"
          ]
        }
      ]
    },
    {
      "cell_type": "markdown",
      "source": [
        "## Integer array indexing"
      ],
      "metadata": {
        "id": "q4fIEtWf4d14"
      }
    },
    {
      "cell_type": "code",
      "source": [
        "a = np.array([1,2,3,4,5])\n",
        "\n",
        "# access 3 and 5\n",
        "indices = [2,4]\n",
        "a[indices]"
      ],
      "metadata": {
        "colab": {
          "base_uri": "https://localhost:8080/"
        },
        "id": "i_HSWhva4cjP",
        "outputId": "35bc97d7-6c64-4f60-ff8f-f14b1f44f736"
      },
      "execution_count": 56,
      "outputs": [
        {
          "output_type": "execute_result",
          "data": {
            "text/plain": [
              "array([3, 5])"
            ]
          },
          "metadata": {},
          "execution_count": 56
        }
      ]
    },
    {
      "cell_type": "code",
      "source": [
        "# 2D array\n",
        "x=np.array([[1,2,3], [4,5,6]])\n",
        "\n",
        "# print 2 and 6\n",
        "# 2 -> [0,1]\n",
        "# 6 -> [1,2]\n",
        "# 3 -> [0,2]\n",
        "\n",
        "row_indices = [0,1,0]\n",
        "column_indices=[1,2,2]\n",
        "x[row_indices, column_indices]"
      ],
      "metadata": {
        "colab": {
          "base_uri": "https://localhost:8080/"
        },
        "id": "CKBvloeO5Ji0",
        "outputId": "e155db4d-99b9-4930-e5d4-d8187e1b101a"
      },
      "execution_count": 57,
      "outputs": [
        {
          "output_type": "execute_result",
          "data": {
            "text/plain": [
              "array([2, 6, 3])"
            ]
          },
          "metadata": {},
          "execution_count": 57
        }
      ]
    },
    {
      "cell_type": "code",
      "source": [
        "# data type of array elements\n",
        "type(x)\n",
        "\n",
        "print(x.dtype)"
      ],
      "metadata": {
        "colab": {
          "base_uri": "https://localhost:8080/"
        },
        "id": "AXQ3lOIe5Qru",
        "outputId": "54764932-696f-4b47-d73f-28dc760855f1"
      },
      "execution_count": 58,
      "outputs": [
        {
          "output_type": "stream",
          "name": "stdout",
          "text": [
            "int64\n"
          ]
        }
      ]
    },
    {
      "cell_type": "markdown",
      "source": [
        "## Boolean array indexing"
      ],
      "metadata": {
        "id": "x8_uVHEa6TVM"
      }
    },
    {
      "cell_type": "code",
      "source": [
        "x = np.array([[1,2,3], [4,5,6]])\n",
        "\n",
        "bool_indices = (x%2 ==0)\n",
        "print(bool_indices)"
      ],
      "metadata": {
        "colab": {
          "base_uri": "https://localhost:8080/"
        },
        "id": "z-EE4G776WuV",
        "outputId": "e4afc991-4bde-4f97-e2cc-f63d3ccded0c"
      },
      "execution_count": 59,
      "outputs": [
        {
          "output_type": "stream",
          "name": "stdout",
          "text": [
            "[[False  True False]\n",
            " [ True False  True]]\n"
          ]
        }
      ]
    },
    {
      "cell_type": "code",
      "source": [
        "x[bool_indices]"
      ],
      "metadata": {
        "colab": {
          "base_uri": "https://localhost:8080/"
        },
        "id": "s_1h_xkd7MK6",
        "outputId": "4c5fbba9-e1d6-496c-c169-6f43a940bff4"
      },
      "execution_count": 60,
      "outputs": [
        {
          "output_type": "execute_result",
          "data": {
            "text/plain": [
              "array([2, 4, 6])"
            ]
          },
          "metadata": {},
          "execution_count": 60
        }
      ]
    },
    {
      "cell_type": "code",
      "source": [
        "x[x%2==0]"
      ],
      "metadata": {
        "colab": {
          "base_uri": "https://localhost:8080/"
        },
        "id": "MWReAVtj70nT",
        "outputId": "00a95992-f54a-4c03-9906-41139f59f353"
      },
      "execution_count": 61,
      "outputs": [
        {
          "output_type": "execute_result",
          "data": {
            "text/plain": [
              "array([2, 4, 6])"
            ]
          },
          "metadata": {},
          "execution_count": 61
        }
      ]
    },
    {
      "cell_type": "markdown",
      "source": [
        "## Data type"
      ],
      "metadata": {
        "id": "E2s6RlWE72sW"
      }
    },
    {
      "cell_type": "code",
      "source": [
        "x=np.array([1.0, 2.5], dtype=np.int64)\n",
        "x.dtype"
      ],
      "metadata": {
        "colab": {
          "base_uri": "https://localhost:8080/"
        },
        "id": "NEpqH01c74pY",
        "outputId": "81fc0227-8b6c-4fed-a6bc-90a8b34af86e"
      },
      "execution_count": 62,
      "outputs": [
        {
          "output_type": "execute_result",
          "data": {
            "text/plain": [
              "dtype('int64')"
            ]
          },
          "metadata": {},
          "execution_count": 62
        }
      ]
    },
    {
      "cell_type": "code",
      "source": [
        "print(x)"
      ],
      "metadata": {
        "colab": {
          "base_uri": "https://localhost:8080/"
        },
        "id": "w00H0vgx8QLI",
        "outputId": "ae6b422a-4265-4714-b281-1cfe2a048b92"
      },
      "execution_count": 63,
      "outputs": [
        {
          "output_type": "stream",
          "name": "stdout",
          "text": [
            "[1 2]\n"
          ]
        }
      ]
    },
    {
      "cell_type": "markdown",
      "source": [
        "## Array Math"
      ],
      "metadata": {
        "id": "pgw7-xfO8TXZ"
      }
    },
    {
      "cell_type": "code",
      "source": [
        "x = np.array([[1,2], [3,4]], dtype=np.float64)\n",
        "y = np.array([[5,6], [7,8]], dtype=np.float64)\n",
        "print(x)\n",
        "print(y)"
      ],
      "metadata": {
        "colab": {
          "base_uri": "https://localhost:8080/"
        },
        "id": "K3WjXfo28VG4",
        "outputId": "1a3809af-aaca-4a9b-dff3-b5978ec33323"
      },
      "execution_count": 64,
      "outputs": [
        {
          "output_type": "stream",
          "name": "stdout",
          "text": [
            "[[1. 2.]\n",
            " [3. 4.]]\n",
            "[[5. 6.]\n",
            " [7. 8.]]\n"
          ]
        }
      ]
    },
    {
      "cell_type": "code",
      "source": [
        "print(x+y) # elementwise\n",
        "\n",
        "#subtract\n",
        "print(x-y)\n",
        "#multiply\n",
        "print(x*y)\n",
        "#divide\n",
        "print(x/y)"
      ],
      "metadata": {
        "colab": {
          "base_uri": "https://localhost:8080/"
        },
        "id": "eLXO7Fw08sK7",
        "outputId": "e4cc5f56-21ac-4ca2-83cd-0baa7dbe27b9"
      },
      "execution_count": 65,
      "outputs": [
        {
          "output_type": "stream",
          "name": "stdout",
          "text": [
            "[[ 6.  8.]\n",
            " [10. 12.]]\n",
            "[[-4. -4.]\n",
            " [-4. -4.]]\n",
            "[[ 5. 12.]\n",
            " [21. 32.]]\n",
            "[[0.2        0.33333333]\n",
            " [0.42857143 0.5       ]]\n"
          ]
        }
      ]
    },
    {
      "cell_type": "code",
      "source": [
        "# elementwise functions\n",
        "np.sqrt(x)"
      ],
      "metadata": {
        "colab": {
          "base_uri": "https://localhost:8080/"
        },
        "id": "IGd1GcjH8tNZ",
        "outputId": "ac5b9a67-0bd6-4fe2-929a-c322491d54ad"
      },
      "execution_count": 66,
      "outputs": [
        {
          "output_type": "execute_result",
          "data": {
            "text/plain": [
              "array([[1.        , 1.41421356],\n",
              "       [1.73205081, 2.        ]])"
            ]
          },
          "metadata": {},
          "execution_count": 66
        }
      ]
    },
    {
      "cell_type": "code",
      "source": [
        "# dot product (just multiply beneath and add it all up)\n",
        "v=np.array([1,2])\n",
        "w=np.array([3,4])\n",
        "\n",
        "print(np.dot(v,w))\n",
        "print(v.dot(w))\n",
        "print(v @ w)\n",
        "print(w @ v)"
      ],
      "metadata": {
        "colab": {
          "base_uri": "https://localhost:8080/"
        },
        "id": "7S0FS8Rt92_r",
        "outputId": "1453901b-e66c-412f-dd11-679467041661"
      },
      "execution_count": 67,
      "outputs": [
        {
          "output_type": "stream",
          "name": "stdout",
          "text": [
            "11\n",
            "11\n",
            "11\n",
            "11\n"
          ]
        }
      ]
    },
    {
      "cell_type": "code",
      "source": [
        "x = np.array([[1,2,3], [4,5,6]])\n",
        "print(np.sum(x, axis=0))\n",
        "print(np.sum(x, axis=1))"
      ],
      "metadata": {
        "colab": {
          "base_uri": "https://localhost:8080/"
        },
        "id": "ApE51M9p-rpX",
        "outputId": "30742e8a-ba15-4e0e-fa0c-26a27d6aa517"
      },
      "execution_count": 68,
      "outputs": [
        {
          "output_type": "stream",
          "name": "stdout",
          "text": [
            "[5 7 9]\n",
            "[ 6 15]\n"
          ]
        }
      ]
    },
    {
      "cell_type": "markdown",
      "source": [
        "## Broadcasting"
      ],
      "metadata": {
        "id": "AdqH1DxJ_ZO8"
      }
    },
    {
      "cell_type": "code",
      "source": [
        "x = np.array([[1,2,3], [4,5,6], [7,8,9], [10,11,12]])\n",
        "v = np.array([1,0,1])"
      ],
      "metadata": {
        "id": "Mw3lPH1-_bMd"
      },
      "execution_count": 69,
      "outputs": []
    },
    {
      "cell_type": "code",
      "source": [
        "print(x)\n",
        "print(x+v)"
      ],
      "metadata": {
        "colab": {
          "base_uri": "https://localhost:8080/"
        },
        "id": "HP0OLTil_2lz",
        "outputId": "71c7dd32-08c6-43d1-b407-3fe73ffa05a6"
      },
      "execution_count": 70,
      "outputs": [
        {
          "output_type": "stream",
          "name": "stdout",
          "text": [
            "[[ 1  2  3]\n",
            " [ 4  5  6]\n",
            " [ 7  8  9]\n",
            " [10 11 12]]\n",
            "[[ 2  2  4]\n",
            " [ 5  5  7]\n",
            " [ 8  8 10]\n",
            " [11 11 13]]\n"
          ]
        }
      ]
    },
    {
      "cell_type": "markdown",
      "source": [
        "Use matplotlibrary to plot a sine function"
      ],
      "metadata": {
        "id": "Z6fgIoUQAPmY"
      }
    },
    {
      "cell_type": "code",
      "source": [
        "import matplotlib.pyplot as plt\n",
        "x = np.arange(0, 2*np.pi, 0.1)\n",
        "y = np.sin(x)\n",
        "y2 = np.cos(x)\n",
        "# Plotting Sine Graph\n",
        "plt.subplot(1,2,1) #(row, column, index)\n",
        "plt.plot(x, y, color='cyan')\n",
        "\n",
        "# Plotting Cosine Graph\n",
        "plt.subplot(1,2,2) #(row, column, index)\n",
        "plt.plot(x, y2, color='red')\n",
        "plt.show()"
      ],
      "metadata": {
        "colab": {
          "base_uri": "https://localhost:8080/",
          "height": 430
        },
        "id": "M_luK4ZuASoz",
        "outputId": "22372cf5-1cf7-45e6-9121-b00d126bde4c"
      },
      "execution_count": 71,
      "outputs": [
        {
          "output_type": "display_data",
          "data": {
            "text/plain": [
              "<Figure size 640x480 with 2 Axes>"
            ],
            "image/png": "[encoded data removed]"
          },
          "metadata": {}
        }
      ]
    },
    {
      "cell_type": "markdown",
      "source": [
        "## Assignment 1"
      ],
      "metadata": {
        "id": "ddtMsa1FNbIu"
      }
    },
    {
      "cell_type": "code",
      "source": [
        "# Grades for 5 students in 3 subjects\n",
        "grades = np.array([\n",
        "[85, 90, 78], # Student 1\n",
        "[92, 88, 84], # Student 2\n",
        "[76, 85, 91], # Student 3\n",
        "[88, 77, 95], # Student 4\n",
        "[94, 89, 82] # Student 5\n",
        "])\n",
        "\n",
        "\"\"\"Task 1 Calculate Statistics\n",
        "1. Compute and print the average grade for each student.\n",
        "2. Compute and print the average grade for each subject.\n",
        "3. Calculate and print the overall average grade across all students and subjects.\n",
        "\"\"\"\n",
        "\n",
        "averageStudent = np.mean(grades,axis=1) #Average grade for each student\n",
        "averageSubject = np.mean(grades,axis=0) #Average grade for each subject\n",
        "averageTotal = np.mean(grades) #Average grade across all students and subjects\n",
        "\n",
        "print(averageStudent) #1\n",
        "print(averageSubject) #2\n",
        "print(averageTotal) #3\n",
        "\n",
        "# Task 2 Apply Broadcasting\n",
        "\"\"\"\n",
        "Adjust Grades with a Bonus Using Broadcasting:\n",
        "Suppose each student gets extra points for every subject as a bonus:[2, 4, 7]\n",
        "Use broadcasting to add this bonus to each grade and explain how it is used.\n",
        "\"\"\"\n",
        "#Creating array of bonus\n",
        "bonus = np.array([2,4,7])\n",
        "#Broadcasting allows the 1D bonus array to be added to each row of 2D grades array\n",
        "bonusGrades = grades + bonus\n",
        "#Outputting the new grades\n",
        "print(\"The adjusted grades are: \", bonusGrades)\n",
        "\n",
        "## Task 3: Plot data\n",
        "\"\"\"\n",
        "Create a bar plot of average grades vs students, using Matplotlib\n",
        "label the axes and give a title.\n",
        "\"\"\"\n",
        "#Creating list of student names\n",
        "students = [\"Vasu\", \"Audi\", \"Alex\", \"Preston\", \"Youssef\"]\n",
        "#Creating bar graph with blue color\n",
        "plt.bar(students,averageStudent, color=\"blue\")\n",
        "#Creating bar graph title\n",
        "plt.title('Average Grades for Students')\n",
        "#Creating bar graph x-axis title\n",
        "plt.xlabel('Students')\n",
        "#Creating bar graph y-axis title\n",
        "plt.ylabel('Grades')\n",
        "#Outputting the bar graph\n",
        "plt.show()"
      ],
      "metadata": {
        "colab": {
          "base_uri": "https://localhost:8080/",
          "height": 615
        },
        "id": "WEB0duHlNcxb",
        "outputId": "62057aa8-de74-453f-c489-368495510cba"
      },
      "execution_count": 72,
      "outputs": [
        {
          "output_type": "stream",
          "name": "stdout",
          "text": [
            "[84.33333333 88.         84.         86.66666667 88.33333333]\n",
            "[87.  85.8 86. ]\n",
            "86.26666666666667\n",
            "The adjusted grades are:  [[ 87  94  85]\n",
            " [ 94  92  91]\n",
            " [ 78  89  98]\n",
            " [ 90  81 102]\n",
            " [ 96  93  89]]\n"
          ]
        },
        {
          "output_type": "display_data",
          "data": {
            "text/plain": [
              "<Figure size 640x480 with 1 Axes>"
            ],
            "image/png": "[encoded data removed]"
          },
          "metadata": {}
        }
      ]
    },
    {
      "cell_type": "markdown",
      "source": [
        "## Assignment 2"
      ],
      "metadata": {
        "id": "ZTfX3URzNdG0"
      }
    },
    {
      "cell_type": "code",
      "source": [
        "import pandas as pd\n",
        "from google.colab import drive\n",
        "\n",
        "drive.mount('/content/drive')\n",
        "#gets filepath of the csv file and stores it in variable\n",
        "filepath = '/content/drive/MyDrive/students_sat.csv'\n",
        "#stores the read csv file into variable\n",
        "df = pd.read_csv(filepath) #1\n",
        "\n",
        "#outputs first 5 rows\n",
        "print(df.head()) #2.1\n",
        "#outputs a summary and statistical information\n",
        "print(df.info())#2.2\n",
        "print(df.describe())\n",
        "#Print name and SAT Scores only\n",
        "print(df[[\"Name\", \"SAT_Score\"]]) #3.1\n",
        "#Filters to only show people in Houston\n",
        "print(df[df['City'] == \"Houston\"]) #3.2\n",
        "#Adds new column set to false\n",
        "df['Graduated'] = False #4.1\n",
        "#Sets the new column to true if SAT score of 1400\n",
        "df.loc[df['SAT_Score'] == 1400, 'Graduated'] = True\n",
        "print(df) #4.2\n",
        "#Sorts by age\n",
        "df_sortedAge = df.sort_values(by='Age', ascending=False) #5.1\n",
        "#Groups by city and calculates average age for each city\n",
        "averageAge = df.groupby('City')['Age'].mean()#5.2\n",
        "print(averageAge)\n",
        "\n",
        "#Adds new row with missing data\n",
        "#6.1\n",
        "df.loc[13] = {\n",
        "    'ID': 13,\n",
        "    'Name': 'Chris Lee',\n",
        "    'Age': None,\n",
        "    'City': 'Los Angeles',\n",
        "    'SAT_Score': None,\n",
        "    'Gender': 'Male',\n",
        "    'Graduated': False\n",
        "}\n",
        "\n",
        "#6.2\n",
        "#replaces the missing values of age with 20\n",
        "df['Age'].fillna(20, inplace=True)\n",
        "#replaces the missing Sat Scores with 1200\n",
        "df['SAT_Score'].fillna(1200, inplace=True)\n",
        "print(df)\n",
        "\n",
        "#7\n",
        "#saves the modified data into new CSV file\n",
        "df.to_csv('students_modified.csv')\n"
      ],
      "metadata": {
        "id": "CEgHKZL1Ne4O",
        "colab": {
          "base_uri": "https://localhost:8080/"
        },
        "outputId": "be804dbe-804b-44d0-bf5a-0f655bdb7cec"
      },
      "execution_count": 73,
      "outputs": [
        {
          "output_type": "stream",
          "name": "stdout",
          "text": [
            "Drive already mounted at /content/drive; to attempt to forcibly remount, call drive.mount(\"/content/drive\", force_remount=True).\n",
            "   ID           Name  Age         City  SAT_Score  Gender\n",
            "0   1     John Smith   21     New York       1450    Male\n",
            "1   2  Ana Rodriguez   22  Los Angeles       1200  Female\n",
            "2   3    Emily Davis   20      Chicago       1500  Female\n",
            "3   4  Michael Brown   23     New York       1100    Male\n",
            "4   5    Emma Wilson   21  Los Angeles       1480  Female\n",
            "<class 'pandas.core.frame.DataFrame'>\n",
            "RangeIndex: 12 entries, 0 to 11\n",
            "Data columns (total 6 columns):\n",
            " #   Column     Non-Null Count  Dtype \n",
            "---  ------     --------------  ----- \n",
            " 0   ID         12 non-null     int64 \n",
            " 1   Name       12 non-null     object\n",
            " 2   Age        12 non-null     int64 \n",
            " 3   City       12 non-null     object\n",
            " 4   SAT_Score  12 non-null     int64 \n",
            " 5   Gender     12 non-null     object\n",
            "dtypes: int64(3), object(3)\n",
            "memory usage: 704.0+ bytes\n",
            "None\n",
            "              ID   Age    SAT_Score\n",
            "count  12.000000  12.0    12.000000\n",
            "mean    6.500000  21.5  1365.000000\n",
            "std     3.605551   1.0   149.696663\n",
            "min     1.000000  20.0  1100.000000\n",
            "25%     3.750000  21.0  1275.000000\n",
            "50%     6.500000  21.5  1390.000000\n",
            "75%     9.250000  22.0  1485.000000\n",
            "max    12.000000  23.0  1550.000000\n",
            "               Name  SAT_Score\n",
            "0        John Smith       1450\n",
            "1     Ana Rodriguez       1200\n",
            "2       Emily Davis       1500\n",
            "3     Michael Brown       1100\n",
            "4       Emma Wilson       1480\n",
            "5            Li Wei       1350\n",
            "6   Sophia Martinez       1300\n",
            "7    Hiroshi Tanaka       1520\n",
            "8     Carlos Garcia       1150\n",
            "9          Yumi Kim       1380\n",
            "10      Arjun Patel       1400\n",
            "11      Neha Sharma       1550\n",
            "   ID           Name  Age     City  SAT_Score Gender\n",
            "8   9  Carlos Garcia   23  Houston       1150   Male\n",
            "    ID             Name  Age           City  SAT_Score  Gender  Graduated\n",
            "0    1       John Smith   21       New York       1450    Male      False\n",
            "1    2    Ana Rodriguez   22    Los Angeles       1200  Female      False\n",
            "2    3      Emily Davis   20        Chicago       1500  Female      False\n",
            "3    4    Michael Brown   23       New York       1100    Male      False\n",
            "4    5      Emma Wilson   21    Los Angeles       1480  Female      False\n",
            "5    6           Li Wei   22        Chicago       1350    Male      False\n",
            "6    7  Sophia Martinez   20       New York       1300  Female      False\n",
            "7    8   Hiroshi Tanaka   21  San Francisco       1520    Male      False\n",
            "8    9    Carlos Garcia   23        Houston       1150    Male      False\n",
            "9   10         Yumi Kim   22        Chicago       1380  Female      False\n",
            "10  11      Arjun Patel   21         Austin       1400    Male       True\n",
            "11  12      Neha Sharma   22       New York       1550  Female      False\n",
            "City\n",
            "Austin           21.000000\n",
            "Chicago          21.333333\n",
            "Houston          23.000000\n",
            "Los Angeles      21.500000\n",
            "New York         21.500000\n",
            "San Francisco    21.000000\n",
            "Name: Age, dtype: float64\n",
            "    ID             Name  Age           City  SAT_Score  Gender  Graduated\n",
            "0    1       John Smith   21       New York       1450    Male      False\n",
            "1    2    Ana Rodriguez   22    Los Angeles       1200  Female      False\n",
            "2    3      Emily Davis   20        Chicago       1500  Female      False\n",
            "3    4    Michael Brown   23       New York       1100    Male      False\n",
            "4    5      Emma Wilson   21    Los Angeles       1480  Female      False\n",
            "5    6           Li Wei   22        Chicago       1350    Male      False\n",
            "6    7  Sophia Martinez   20       New York       1300  Female      False\n",
            "7    8   Hiroshi Tanaka   21  San Francisco       1520    Male      False\n",
            "8    9    Carlos Garcia   23        Houston       1150    Male      False\n",
            "9   10         Yumi Kim   22        Chicago       1380  Female      False\n",
            "10  11      Arjun Patel   21         Austin       1400    Male       True\n",
            "11  12      Neha Sharma   22       New York       1550  Female      False\n",
            "13  13        Chris Lee   20    Los Angeles       1200    Male      False\n"
          ]
        }
      ]
    }
  ]
}
