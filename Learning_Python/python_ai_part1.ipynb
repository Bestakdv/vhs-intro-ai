{
  "nbformat": 4,
  "nbformat_minor": 0,
  "metadata": {
    "colab": {
      "provenance": [],
      "toc_visible": true,
      "include_colab_link": true
    },
    "kernelspec": {
      "name": "python3",
      "display_name": "Python 3"
    },
    "language_info": {
      "name": "python"
    }
  },
  "cells": [
    {
      "cell_type": "markdown",
      "metadata": {
        "id": "view-in-github",
        "colab_type": "text"
      },
      "source": [
        "<a href=\"https://colab.research.google.com/github/Bestakdv/vhs-intro-ai/blob/main/python_ai_part1.ipynb\" target=\"_parent\"><img src=\"https://colab.research.google.com/assets/colab-badge.svg\" alt=\"Open In Colab\"/></a>"
      ]
    },
    {
      "cell_type": "markdown",
      "source": [
        "In this tutorial, we will cover Basic Python in this Google Colab environment.\n",
        "\n",
        "\n",
        "\n",
        "1.   Basic data types (Containers, Lists, Dictionaries)\n",
        "2.   Functions\n",
        "3.   Classes\n",
        "\n",
        "\n",
        "\n",
        "\n",
        "\n"
      ],
      "metadata": {
        "id": "2az3t672znAH"
      }
    },
    {
      "cell_type": "markdown",
      "source": [
        "# A Brief Note on Python Versions\n",
        "As of Janurary 1, 2020, Python has officially dropped support for python2. We'll be using Python 3.7 for this iteration of the course. You can check your Python version at the command line by running `python --version`. In Colab, we can enforce the Python version by clicking `Runtime -> Change Runtime Type` and selecting `python3`. Note that as of April 2020, Colab uses Python 3.6.9 which should run everything without any errors."
      ],
      "metadata": {
        "id": "DD2ORk0O0bdi"
      }
    },
    {
      "cell_type": "code",
      "source": [
        "# Check python version\n",
        "\n",
        "!python --version"
      ],
      "metadata": {
        "id": "j9YZ0Lly0oEk",
        "colab": {
          "base_uri": "https://localhost:8080/"
        },
        "outputId": "73213f9e-1212-4ec7-828a-840f98e15ebd"
      },
      "execution_count": null,
      "outputs": [
        {
          "output_type": "stream",
          "name": "stdout",
          "text": [
            "Python 3.10.12\n"
          ]
        }
      ]
    },
    {
      "cell_type": "markdown",
      "source": [
        "* Python is a high-level, *dynamically typed* multiparadigm programming language.\n",
        "* Python code is often said to be *almost like pseudocode*, since it allows you to express very powerful ideas in very few lines of code while being very readable.\n",
        "\n",
        "As an example, here is an implementation of the classic quicksort algorithm in Python:"
      ],
      "metadata": {
        "id": "OLDJ_vc_2Uot"
      }
    },
    {
      "cell_type": "markdown",
      "source": [
        "**What do we mean by dynamically typed programming language?**\n",
        "\n",
        "[TYPE YOUR ANSWER HERE]\n",
        "variable assigned at runtime\n",
        "\n"
      ],
      "metadata": {
        "id": "mMuoNTFB2mKW"
      }
    },
    {
      "cell_type": "code",
      "source": [
        "def quicksort(arr):\n",
        "    if len(arr) <= 1:\n",
        "        return arr\n",
        "    pivot = arr[len(arr) // 2]\n",
        "    left = [x for x in arr if x < pivot]\n",
        "    middle = [x for x in arr if x == pivot]\n",
        "    right = [x for x in arr if x > pivot]\n",
        "    return quicksort(left) + middle + quicksort(right)\n",
        "\n",
        "print(quicksort([3,6,8,10,1,2,1]))"
      ],
      "metadata": {
        "colab": {
          "base_uri": "https://localhost:8080/"
        },
        "id": "l9jydL0226x3",
        "outputId": "d0e0011e-2cbf-4726-8009-6d6bc31bc135"
      },
      "execution_count": null,
      "outputs": [
        {
          "output_type": "stream",
          "name": "stdout",
          "text": [
            "[1, 1, 2, 3, 6, 8, 10]\n"
          ]
        }
      ]
    },
    {
      "cell_type": "markdown",
      "source": [
        "# Basic Data Types"
      ],
      "metadata": {
        "id": "4hPpHf2I3Utu"
      }
    },
    {
      "cell_type": "markdown",
      "source": [
        "## Numbers"
      ],
      "metadata": {
        "id": "q7mS-EHb3Xtp"
      }
    },
    {
      "cell_type": "markdown",
      "source": [
        "Integers and floats work as you would expect from other languages like Java:"
      ],
      "metadata": {
        "id": "Ue72mETr3jvL"
      }
    },
    {
      "cell_type": "code",
      "source": [
        "# create a variable x, initialize it to 10\n",
        "# print x and its data type\n",
        "x=10\n",
        "print(x)\n",
        "print(type(x))"
      ],
      "metadata": {
        "colab": {
          "base_uri": "https://localhost:8080/"
        },
        "id": "ClYtUXGy3aPL",
        "outputId": "c541ff17-b6f1-4c11-befb-b5147d629fe1"
      },
      "execution_count": null,
      "outputs": [
        {
          "output_type": "stream",
          "name": "stdout",
          "text": [
            "10\n",
            "<class 'int'>\n"
          ]
        }
      ]
    },
    {
      "cell_type": "code",
      "source": [
        "# Addition - add 1 to x and print\n",
        "x=10\n",
        "x = x+1\n",
        "print(x)\n",
        "\n",
        "# Subtraction - subtract 1 from x and print\n",
        "x = x-1\n",
        "print(x)\n",
        "\n",
        "# Multiplication - multiply x by 2 and print\n",
        "x = x*2\n",
        "print(x)\n",
        "\n",
        "# Exponentiation - print the result of x to the power of 2\n",
        "x=pow(x,2)\n",
        "#or also can be x**2\n",
        "print(x)"
      ],
      "metadata": {
        "id": "daQrgt4R38ub",
        "colab": {
          "base_uri": "https://localhost:8080/"
        },
        "outputId": "5675618d-9bcb-4671-df6a-186b5a9d5b97"
      },
      "execution_count": null,
      "outputs": [
        {
          "output_type": "stream",
          "name": "stdout",
          "text": [
            "11\n",
            "10\n",
            "20\n",
            "400\n"
          ]
        }
      ]
    },
    {
      "cell_type": "code",
      "source": [
        "# Increment x by 2, save it to itself and print\n",
        "\n",
        "x=10\n",
        "x+=2\n",
        "print(x)\n",
        "# Decrement x by 2, save it to itself and print\n",
        "\n",
        "x-=2\n",
        "print(x)\n",
        "# Multiply x by 2, save it to itself and print\n",
        "\n",
        "x *=2\n",
        "print(x)\n",
        "# Divide x by 2, save it to itself and print\n",
        "\n",
        "x/=2\n",
        "print(x)"
      ],
      "metadata": {
        "id": "yvZQyNiV4Yhv",
        "colab": {
          "base_uri": "https://localhost:8080/"
        },
        "outputId": "31891867-0b0b-4848-cc92-20d37c81b5be"
      },
      "execution_count": null,
      "outputs": [
        {
          "output_type": "stream",
          "name": "stdout",
          "text": [
            "12\n",
            "10\n",
            "20\n",
            "10.0\n"
          ]
        }
      ]
    },
    {
      "cell_type": "code",
      "source": [
        "# Working with floats\n",
        "y = 2.5\n",
        "\n",
        "# print type of y\n",
        "\n",
        "print(type(y))\n",
        "\n",
        "\n",
        "print(y, y + 1, y * 2, y ** 2)"
      ],
      "metadata": {
        "id": "F3l9h42g466v",
        "colab": {
          "base_uri": "https://localhost:8080/"
        },
        "outputId": "2576e0ce-b0d4-42b9-a4bc-0c763bc61a67"
      },
      "execution_count": null,
      "outputs": [
        {
          "output_type": "stream",
          "name": "stdout",
          "text": [
            "<class 'float'>\n",
            "2.5 3.5 5.0 6.25\n"
          ]
        }
      ]
    },
    {
      "cell_type": "markdown",
      "source": [
        "Note that unlike many languages, Python does not have unary increment (x++) or decrement (x--) operators."
      ],
      "metadata": {
        "id": "qfLsxinN5G0v"
      }
    },
    {
      "cell_type": "markdown",
      "source": [
        "## Booleans"
      ],
      "metadata": {
        "id": "ESiMO9JD5N2N"
      }
    },
    {
      "cell_type": "markdown",
      "source": [
        "Python implements all of the usual operators for Boolean logic, but uses English words rather than symbols (&&, ||, etc.):"
      ],
      "metadata": {
        "id": "gQfECIeD5by6"
      }
    },
    {
      "cell_type": "code",
      "source": [
        "t, f = True, False\n",
        "\n",
        "# print type of t and f\n",
        "print(type(t), type(f))"
      ],
      "metadata": {
        "id": "RODV_UsP5GVv",
        "colab": {
          "base_uri": "https://localhost:8080/"
        },
        "outputId": "ada82c9a-b115-42c6-8cc6-df6c5f96479d"
      },
      "execution_count": null,
      "outputs": [
        {
          "output_type": "stream",
          "name": "stdout",
          "text": [
            "<class 'bool'> <class 'bool'>\n"
          ]
        }
      ]
    },
    {
      "cell_type": "code",
      "source": [
        "# Logical AND\n",
        "print(t and f)\n",
        "# Logical OR\n",
        "print(t or f)\n",
        "# Logical NOT\n",
        "print(not t)\n",
        "# Logical XOR\n",
        "print(t != f)"
      ],
      "metadata": {
        "id": "ZrBnT12t5JR_",
        "colab": {
          "base_uri": "https://localhost:8080/"
        },
        "outputId": "8309f520-c1ef-4de5-f527-c7f8a58bcff4"
      },
      "execution_count": null,
      "outputs": [
        {
          "output_type": "stream",
          "name": "stdout",
          "text": [
            "False\n",
            "True\n",
            "False\n",
            "True\n"
          ]
        }
      ]
    },
    {
      "cell_type": "markdown",
      "source": [
        "## Strings"
      ],
      "metadata": {
        "id": "8qD7Uf3K6UQ-"
      }
    },
    {
      "cell_type": "code",
      "source": [
        "hello = 'hello'   # String literals can use single quotes\n",
        "world = \"world\"   # or double quotes; it does not matter\n",
        "\n",
        "# print hello and its length\n",
        "\n",
        "print(hello, len(hello))"
      ],
      "metadata": {
        "id": "HdBSUeYt6BVg",
        "colab": {
          "base_uri": "https://localhost:8080/"
        },
        "outputId": "ca550853-08b5-486a-df03-d630d1abc8db"
      },
      "execution_count": null,
      "outputs": [
        {
          "output_type": "stream",
          "name": "stdout",
          "text": [
            "hello 5\n"
          ]
        }
      ]
    },
    {
      "cell_type": "code",
      "source": [
        "hw12 = '{} {} {}'.format(hello, world, 12)  # string formatting\n",
        "print(hw12)"
      ],
      "metadata": {
        "colab": {
          "base_uri": "https://localhost:8080/"
        },
        "id": "sZ3ubOPu6PUR",
        "outputId": "8ce5bb0a-82e7-4e92-9bb5-bc106307c61f"
      },
      "execution_count": null,
      "outputs": [
        {
          "output_type": "stream",
          "name": "stdout",
          "text": [
            "hello world 12\n"
          ]
        }
      ]
    },
    {
      "cell_type": "markdown",
      "source": [
        "String objects have a bunch of useful methods; for example:"
      ],
      "metadata": {
        "id": "ynxnxFiD6c3-"
      }
    },
    {
      "cell_type": "code",
      "source": [
        "s = \"hello\"\n",
        "# Capitalize a string\n",
        "print(s.capitalize())\n",
        "# Convert a string to uppercase; prints \"HELLO\"\n",
        "\n",
        "print(s.upper())\n",
        "\n",
        "# Right-justify a string, padding with spaces\n",
        "print(s.rjust(7))\n",
        "\n",
        "# Center a string, padding with spaces\n",
        "print(s.center(7))\n",
        "\n",
        "# Replace all instances of one substring with another\n",
        "print(s.replace(\"l\",\"a\"))\n",
        "\n",
        "# Strip leading and trailing whitespace\n",
        "print(s.strip())"
      ],
      "metadata": {
        "id": "RHHTVH8B6e1S",
        "colab": {
          "base_uri": "https://localhost:8080/"
        },
        "outputId": "60a65d5c-bd7b-4471-8c3d-60d644a7486d"
      },
      "execution_count": null,
      "outputs": [
        {
          "output_type": "stream",
          "name": "stdout",
          "text": [
            "Hello\n",
            "HELLO\n",
            "  hello\n",
            " hello \n",
            "heaao\n",
            "hello\n"
          ]
        }
      ]
    },
    {
      "cell_type": "markdown",
      "source": [
        "# Containers"
      ],
      "metadata": {
        "id": "HhSLReQ869M_"
      }
    },
    {
      "cell_type": "markdown",
      "source": [
        "## Lists"
      ],
      "metadata": {
        "id": "H9t7Sgv27Jkr"
      }
    },
    {
      "cell_type": "markdown",
      "source": [
        "A list is the Python equivalent of an array, but is resizeable and can contain elements of different types:"
      ],
      "metadata": {
        "id": "Ns64Dnhx7Pzo"
      }
    },
    {
      "cell_type": "code",
      "source": [
        "xs = [3, 1, 2]   # Create a list\n",
        "\n",
        "# print the list\n",
        "print(xs)\n",
        "\n",
        "# print the length of the list\n",
        "print(len(xs))\n",
        "\n",
        "# print the second element in the list\n",
        "print(xs[1])\n",
        "\n",
        "# Negative indices count from the end of the list; print the element \"2\"\n",
        "print(xs[2])\n",
        "\n",
        "# Lists can contain elements of different types\n",
        "print(type(xs), type(xs[1]))"
      ],
      "metadata": {
        "id": "zsWBt4Pj68r8",
        "colab": {
          "base_uri": "https://localhost:8080/"
        },
        "outputId": "163ff425-dc79-49c8-f4f5-d17a40574afc"
      },
      "execution_count": null,
      "outputs": [
        {
          "output_type": "stream",
          "name": "stdout",
          "text": [
            "[3, 1, 2]\n",
            "3\n",
            "1\n",
            "2\n",
            "<class 'list'> <class 'int'>\n"
          ]
        }
      ]
    },
    {
      "cell_type": "code",
      "source": [
        "# Lists can contain elements of different types\n",
        "\n",
        "# Set element at index 2 of the list to a string 'foo'\n",
        "xs[2] = \"foo\"\n",
        "\n",
        "print(xs)"
      ],
      "metadata": {
        "id": "8MCLQ3yVAqQV",
        "colab": {
          "base_uri": "https://localhost:8080/"
        },
        "outputId": "56ce365d-2390-48aa-efba-35f198ab5a56"
      },
      "execution_count": null,
      "outputs": [
        {
          "output_type": "stream",
          "name": "stdout",
          "text": [
            "[3, 1, 'foo']\n"
          ]
        }
      ]
    },
    {
      "cell_type": "code",
      "source": [
        "# Add a new element - string 'bar' - to the end of the list\n",
        "\n",
        "xs.append(\"bar\")\n",
        "\n",
        "print(xs)"
      ],
      "metadata": {
        "id": "iRlNjDFUBGoe",
        "colab": {
          "base_uri": "https://localhost:8080/"
        },
        "outputId": "dfbc3889-5e8d-49da-8c09-29262f79e95e"
      },
      "execution_count": null,
      "outputs": [
        {
          "output_type": "stream",
          "name": "stdout",
          "text": [
            "[3, 1, 'foo', 'bar']\n"
          ]
        }
      ]
    },
    {
      "cell_type": "code",
      "source": [
        "# Remove and return the last element of the list\n",
        "\n",
        "x=xs.pop()\n",
        "\n",
        "print(x, xs)"
      ],
      "metadata": {
        "id": "d_0TAsPtBS4k",
        "colab": {
          "base_uri": "https://localhost:8080/"
        },
        "outputId": "c05a82b0-b5b4-4d74-d74b-ee3605dc1794"
      },
      "execution_count": null,
      "outputs": [
        {
          "output_type": "stream",
          "name": "stdout",
          "text": [
            "bar [3, 1, 'foo']\n"
          ]
        }
      ]
    },
    {
      "cell_type": "markdown",
      "source": [
        "## Slicing"
      ],
      "metadata": {
        "id": "hKiz7YBIaVnB"
      }
    },
    {
      "cell_type": "markdown",
      "source": [
        "In addition to accessing list elements one at a time, Python provides concise syntax to access sublists; this is known as slicing:"
      ],
      "metadata": {
        "id": "XLeepwNgageS"
      }
    },
    {
      "cell_type": "code",
      "source": [
        "# range is a built-in function that creates a list of integers\n",
        "nums = list(range(5))\n",
        "print(nums)"
      ],
      "metadata": {
        "colab": {
          "base_uri": "https://localhost:8080/"
        },
        "id": "zafM-YCBaaOm",
        "outputId": "b1e803de-5678-462e-8296-d7cfa45588a5"
      },
      "execution_count": null,
      "outputs": [
        {
          "output_type": "stream",
          "name": "stdout",
          "text": [
            "[0, 1, 2, 3, 4]\n"
          ]
        }
      ]
    },
    {
      "cell_type": "code",
      "source": [
        "# Get a slice from index 2 to 4 (exclusive); prints \"[2, 3]\"\n",
        "print(nums[2:4])\n"
      ],
      "metadata": {
        "id": "BaJg4qvEaynt",
        "colab": {
          "base_uri": "https://localhost:8080/"
        },
        "outputId": "ef697849-22d4-489f-faf7-cca21a7333ee"
      },
      "execution_count": null,
      "outputs": [
        {
          "output_type": "stream",
          "name": "stdout",
          "text": [
            "[2, 3]\n"
          ]
        }
      ]
    },
    {
      "cell_type": "code",
      "source": [
        "# Get a slice from index 2 to the end; prints \"[2, 3, 4]\"\n",
        "print(nums[2:])\n"
      ],
      "metadata": {
        "id": "jExwiX0Wa4mm",
        "colab": {
          "base_uri": "https://localhost:8080/"
        },
        "outputId": "abaa0fb4-e132-4418-8ffe-8e72fa5f0d28"
      },
      "execution_count": null,
      "outputs": [
        {
          "output_type": "stream",
          "name": "stdout",
          "text": [
            "[2, 3, 4]\n"
          ]
        }
      ]
    },
    {
      "cell_type": "code",
      "source": [
        "# Get a slice from the start to index 2 (exclusive); prints \"[0, 1]\"\n",
        "\n",
        "print(nums[:2])"
      ],
      "metadata": {
        "id": "g0Vd7B0sbFWr",
        "colab": {
          "base_uri": "https://localhost:8080/"
        },
        "outputId": "6cab41d9-0d28-4f58-f6b2-314a70b3929d"
      },
      "execution_count": null,
      "outputs": [
        {
          "output_type": "stream",
          "name": "stdout",
          "text": [
            "[0, 1]\n"
          ]
        }
      ]
    },
    {
      "cell_type": "code",
      "source": [
        "# Get a slice of the whole list; prints [\"0, 1, 2, 3, 4]\"\n",
        "\n",
        "print(nums[:])"
      ],
      "metadata": {
        "id": "IvPLmeNrbXeC",
        "colab": {
          "base_uri": "https://localhost:8080/"
        },
        "outputId": "f6b3cca8-90c8-429f-daee-10ccb369e1c1"
      },
      "execution_count": null,
      "outputs": [
        {
          "output_type": "stream",
          "name": "stdout",
          "text": [
            "[0, 1, 2, 3, 4]\n"
          ]
        }
      ]
    },
    {
      "cell_type": "code",
      "source": [
        "# Slice indices can be negative; prints [\"0, 1, 2, 3]\"\n",
        "\n",
        "print(nums[:-1])"
      ],
      "metadata": {
        "id": "NgKFY5T0bZuV",
        "colab": {
          "base_uri": "https://localhost:8080/"
        },
        "outputId": "611b9c90-da6a-40cd-a585-4302ff3fdb6b"
      },
      "execution_count": null,
      "outputs": [
        {
          "output_type": "stream",
          "name": "stdout",
          "text": [
            "[0, 1, 2, 3]\n"
          ]
        }
      ]
    },
    {
      "cell_type": "code",
      "source": [
        "nums[2:4] = [8, 9] # Assign a new sublist to a slice\n",
        "print(nums)         # Prints \"[0, 1, 8, 9, 4]\""
      ],
      "metadata": {
        "colab": {
          "base_uri": "https://localhost:8080/"
        },
        "id": "I-PZQ9aWbiBC",
        "outputId": "3cef960f-ec05-4d0b-8ecc-f4cc51132f23"
      },
      "execution_count": null,
      "outputs": [
        {
          "output_type": "stream",
          "name": "stdout",
          "text": [
            "[0, 1, 8, 9, 4]\n"
          ]
        }
      ]
    },
    {
      "cell_type": "markdown",
      "source": [
        "## Loops"
      ],
      "metadata": {
        "id": "tXPQ0rqHbpMs"
      }
    },
    {
      "cell_type": "markdown",
      "source": [
        "You can loop over the elements of a list like this:"
      ],
      "metadata": {
        "id": "oyn0_jUybxHd"
      }
    },
    {
      "cell_type": "code",
      "source": [
        "animals = ['cat', 'dog', 'monkey']\n",
        "for animal in animals:\n",
        "    print(animal)"
      ],
      "metadata": {
        "colab": {
          "base_uri": "https://localhost:8080/"
        },
        "id": "BnOHl3Q-bsVu",
        "outputId": "74aff226-7432-4351-86f6-19bf21a6b467"
      },
      "execution_count": null,
      "outputs": [
        {
          "output_type": "stream",
          "name": "stdout",
          "text": [
            "cat\n",
            "dog\n",
            "monkey\n"
          ]
        }
      ]
    },
    {
      "cell_type": "markdown",
      "source": [
        "If you want access to the index of each element within the body of a loop, use the built-in `enumerate` function:"
      ],
      "metadata": {
        "id": "ufzAK2jwcxNh"
      }
    },
    {
      "cell_type": "code",
      "source": [
        "animals = ['cat', 'dog', 'monkey']\n",
        "for idx, animal in enumerate(animals):\n",
        "    # print a numbered list of the animals\n",
        "    print(idx,animal)"
      ],
      "metadata": {
        "id": "IGalXl52csd3",
        "colab": {
          "base_uri": "https://localhost:8080/"
        },
        "outputId": "fce5b3b7-80e5-4b04-c28d-5bf251e084a1"
      },
      "execution_count": null,
      "outputs": [
        {
          "output_type": "stream",
          "name": "stdout",
          "text": [
            "0 cat\n",
            "1 dog\n",
            "2 monkey\n"
          ]
        }
      ]
    },
    {
      "cell_type": "markdown",
      "source": [
        "## List comprehensions"
      ],
      "metadata": {
        "id": "YPVtnoINc-az"
      }
    },
    {
      "cell_type": "markdown",
      "source": [
        "When programming, frequently we want to transform one type of data into another. As a simple example, consider the following code that computes square numbers:"
      ],
      "metadata": {
        "id": "oEFaZjKtdK6S"
      }
    },
    {
      "cell_type": "code",
      "source": [
        "nums = [0, 1, 2, 3, 4]\n",
        "squares = []\n",
        "for x in nums:\n",
        "    squares.append(x ** 2)\n",
        "print(squares)"
      ],
      "metadata": {
        "colab": {
          "base_uri": "https://localhost:8080/"
        },
        "id": "SLtVOHEHdCea",
        "outputId": "b766811e-eba3-4316-f7c0-400ded73a7d7"
      },
      "execution_count": null,
      "outputs": [
        {
          "output_type": "stream",
          "name": "stdout",
          "text": [
            "[0, 1, 4, 9, 16]\n"
          ]
        }
      ]
    },
    {
      "cell_type": "markdown",
      "source": [
        "You can make this code simpler using a list comprehension:"
      ],
      "metadata": {
        "id": "q4lOgDYbdTXK"
      }
    },
    {
      "cell_type": "code",
      "source": [
        "nums = [0, 1, 2, 3, 4]\n",
        "squares = [x**2 for x in nums]\n",
        "\n",
        "print(squares)"
      ],
      "metadata": {
        "id": "ZWRbVvFSdSf-",
        "colab": {
          "base_uri": "https://localhost:8080/"
        },
        "outputId": "f8e770d8-8aec-4920-ab45-f7bbe531946e"
      },
      "execution_count": null,
      "outputs": [
        {
          "output_type": "stream",
          "name": "stdout",
          "text": [
            "[0, 1, 4, 9, 16]\n"
          ]
        }
      ]
    },
    {
      "cell_type": "markdown",
      "source": [
        "List comprehensions can also contain conditions:"
      ],
      "metadata": {
        "id": "H1v0jVFfdhKP"
      }
    },
    {
      "cell_type": "code",
      "source": [
        "nums = [0, 1, 2, 3, 4]\n",
        "even_squares = [x**2 for x in nums if x%2 == 0]\n",
        "\n",
        "print(even_squares)"
      ],
      "metadata": {
        "id": "qQxvWJ-Ydh1N",
        "colab": {
          "base_uri": "https://localhost:8080/"
        },
        "outputId": "1b1ac496-bb36-4d8f-a0db-92dd9b624532"
      },
      "execution_count": null,
      "outputs": [
        {
          "output_type": "stream",
          "name": "stdout",
          "text": [
            "[0, 4, 16]\n"
          ]
        }
      ]
    },
    {
      "cell_type": "markdown",
      "source": [
        "## Dictionary"
      ],
      "metadata": {
        "id": "ZCErNLhtdqgK"
      }
    },
    {
      "cell_type": "markdown",
      "source": [
        "A dictionary stores (key, value) pairs, similar to a `Map` in Java or an object in Javascript. You can use it like this:"
      ],
      "metadata": {
        "id": "loOOT2GwdwDX"
      }
    },
    {
      "cell_type": "code",
      "source": [
        "d = {'cat': 'cute', 'dog': 'furry'}  # Create a new dictionary with some data\n",
        "\n",
        "# Get an entry from a dictionary; prints \"cute\"\n",
        "print(d['cat'])\n",
        "\n",
        "# Check if a dictionary has a given key; prints \"True\"\n",
        "if d.get('cat') is not None:\n",
        "  print(True)\n",
        "else:\n",
        "  print(False)\n",
        "\n"
      ],
      "metadata": {
        "id": "cfdWLNEedsaA",
        "colab": {
          "base_uri": "https://localhost:8080/"
        },
        "outputId": "8b755d88-20ec-479c-bd6d-0ec29880e6f1"
      },
      "execution_count": null,
      "outputs": [
        {
          "output_type": "stream",
          "name": "stdout",
          "text": [
            "cute\n",
            "True\n"
          ]
        }
      ]
    },
    {
      "cell_type": "code",
      "source": [
        "d['fish'] = 'wet'    # Set an entry in a dictionary\n",
        "print(d['fish'])      # Prints \"wet\""
      ],
      "metadata": {
        "id": "N3VLhaoheFqb",
        "colab": {
          "base_uri": "https://localhost:8080/"
        },
        "outputId": "28d878e6-e28d-4bd8-a845-de5548d8adec"
      },
      "execution_count": null,
      "outputs": [
        {
          "output_type": "stream",
          "name": "stdout",
          "text": [
            "wet\n"
          ]
        }
      ]
    },
    {
      "cell_type": "code",
      "source": [
        "#print(d['monkey'])  # KeyError: 'monkey' not a key of d"
      ],
      "metadata": {
        "id": "kKgObCXMeKz0"
      },
      "execution_count": null,
      "outputs": []
    },
    {
      "cell_type": "code",
      "source": [
        "print(d.get('monkey', 'N/A'))  # Get an element with a default; prints \"N/A\"\n",
        "print(d.get('fish', 'N/A'))    # Get an element with a default; prints \"wet\""
      ],
      "metadata": {
        "id": "x7RyxMjseSEr",
        "colab": {
          "base_uri": "https://localhost:8080/"
        },
        "outputId": "da9c7d88-7f8b-4d1c-f2f2-b7729bd421b4"
      },
      "execution_count": null,
      "outputs": [
        {
          "output_type": "stream",
          "name": "stdout",
          "text": [
            "N/A\n",
            "wet\n"
          ]
        }
      ]
    },
    {
      "cell_type": "code",
      "source": [
        "del d['fish']        # Remove an element from a dictionary\n",
        "print(d.get('fish', 'N/A')) # \"fish\" is no longer a key; prints \"N/A\""
      ],
      "metadata": {
        "id": "mRkAVvyVeZls",
        "colab": {
          "base_uri": "https://localhost:8080/"
        },
        "outputId": "410702c3-5d06-491e-a3d4-3c4f8966e106"
      },
      "execution_count": null,
      "outputs": [
        {
          "output_type": "stream",
          "name": "stdout",
          "text": [
            "N/A\n"
          ]
        }
      ]
    },
    {
      "cell_type": "markdown",
      "source": [
        "It is easy to iterate over the keys in a dictionary:"
      ],
      "metadata": {
        "id": "y3LEjxZEefKt"
      }
    },
    {
      "cell_type": "code",
      "source": [
        "d = {'person': 2, 'cat': 4, 'spider': 8}\n",
        "for animal, legs in d.items():\n",
        "    print('A {} has {} legs'.format(animal, legs))"
      ],
      "metadata": {
        "id": "KubrxQT6ef1b",
        "colab": {
          "base_uri": "https://localhost:8080/"
        },
        "outputId": "39d6165c-ffff-470c-e7e5-2d1ecbf4e2d6"
      },
      "execution_count": null,
      "outputs": [
        {
          "output_type": "stream",
          "name": "stdout",
          "text": [
            "A person has 2 legs\n",
            "A cat has 4 legs\n",
            "A spider has 8 legs\n"
          ]
        }
      ]
    },
    {
      "cell_type": "markdown",
      "source": [
        "Dictionary comprehensions: These are similar to list comprehensions, but allow you to easily construct dictionaries. For example:"
      ],
      "metadata": {
        "id": "pJ__ZELBetbt"
      }
    },
    {
      "cell_type": "code",
      "source": [
        "nums = [0, 1, 2, 3, 4]\n",
        "even_num_to_square = {x: x ** 2 for x in nums if x % 2 == 0}\n",
        "print(even_num_to_square)"
      ],
      "metadata": {
        "id": "10ay_uO4enhE",
        "colab": {
          "base_uri": "https://localhost:8080/"
        },
        "outputId": "d23872d3-8947-4803-8767-2de9339496dd"
      },
      "execution_count": null,
      "outputs": [
        {
          "output_type": "stream",
          "name": "stdout",
          "text": [
            "{0: 0, 2: 4, 4: 16}\n"
          ]
        }
      ]
    },
    {
      "cell_type": "code",
      "source": [
        "# Print odd numbers squares using dictionary comprehensions\n",
        "\n",
        "d = {x: x**2 for x in nums if x%2==1}\n",
        "print(d)"
      ],
      "metadata": {
        "id": "TttJElPxe30k",
        "colab": {
          "base_uri": "https://localhost:8080/"
        },
        "outputId": "52dcf09b-8a37-4c43-ba06-2f9dcfbf02a0"
      },
      "execution_count": null,
      "outputs": [
        {
          "output_type": "stream",
          "name": "stdout",
          "text": [
            "{1: 1, 3: 9}\n"
          ]
        }
      ]
    },
    {
      "cell_type": "markdown",
      "source": [
        "# Functions\n",
        "\n",
        "Python functions are defined using the `def` keyword. For example:"
      ],
      "metadata": {
        "id": "C0JBMGiJgHF5"
      }
    },
    {
      "cell_type": "code",
      "source": [
        "nums = [-1, 0, 1]\n",
        "\n",
        "# Function to check the sign of the number\n",
        "\n",
        "def sign(x):\n",
        "  if x < 0:\n",
        "    print(x , \" is negative\")\n",
        "  else:\n",
        "    print(x, \" is positive\")\n",
        "\n",
        "for x in nums:\n",
        "    sign(x)"
      ],
      "metadata": {
        "id": "y5AYrQQDfM0o",
        "colab": {
          "base_uri": "https://localhost:8080/"
        },
        "outputId": "5468ec83-f628-4c2d-faf6-4f5898ea3178"
      },
      "execution_count": null,
      "outputs": [
        {
          "output_type": "stream",
          "name": "stdout",
          "text": [
            "-1  is negative\n",
            "0  is positive\n",
            "1  is positive\n"
          ]
        }
      ]
    },
    {
      "cell_type": "markdown",
      "source": [
        "We will often define functions to take optional keyword arguments, like this:"
      ],
      "metadata": {
        "id": "d1xk5kJHgn5o"
      }
    },
    {
      "cell_type": "code",
      "source": [
        "def hello(name, loud=False):\n",
        "    if loud:\n",
        "        print('HELLO, {}'.format(name.upper()))\n",
        "    else:\n",
        "        print('Hello, {}!'.format(name))\n",
        "\n",
        "hello('Bob')\n",
        "hello('Fred', loud=True)\n",
        "\n",
        "if __name__ == \"__main__\":\n",
        "    main()"
      ],
      "metadata": {
        "id": "e-0ccFnYghBC",
        "colab": {
          "base_uri": "https://localhost:8080/"
        },
        "outputId": "90d311c1-7fb1-4f51-da4f-bc8dd559471b"
      },
      "execution_count": null,
      "outputs": [
        {
          "output_type": "stream",
          "name": "stdout",
          "text": [
            "Hello, Bob!\n",
            "HELLO, FRED\n",
            "This is the main function.\n",
            "Hello, Bob!\n",
            "HELLO, FRED\n"
          ]
        }
      ]
    },
    {
      "cell_type": "markdown",
      "source": [
        "`main()` function\n",
        "\n",
        "`def main():`\n",
        "\n",
        "This defines the `main` function where the primary logic of your program will reside. You can include any code or function calls here.\n",
        "\n",
        "`if __name__ == \"__main__\":`\n",
        "\n",
        "This conditional statement checks if the script is being run directly (not imported as a module).\n",
        "`__name__` is a special variable that Python sets to `\"__main__\"` when the script is run directly. If the script is imported into another script, `__name__` will be set to the script's filename instead.\n",
        "If the script is being run directly, the `main()` function is called."
      ],
      "metadata": {
        "id": "4bRqXES1iKEJ"
      }
    },
    {
      "cell_type": "code",
      "source": [
        "def main():\n",
        "\n",
        "    print(\"This is the main function.\")\n",
        "\n",
        "    # Main code goes here\n",
        "    hello('Bob')\n",
        "    hello('Fred', loud=True)\n",
        "\n",
        "if __name__ == \"__main__\":\n",
        "    main()"
      ],
      "metadata": {
        "id": "rKtuuxYniKe_",
        "colab": {
          "base_uri": "https://localhost:8080/"
        },
        "outputId": "bd71c918-5378-4edb-cdea-50d397a4d02a"
      },
      "execution_count": null,
      "outputs": [
        {
          "output_type": "stream",
          "name": "stdout",
          "text": [
            "This is the main function.\n",
            "Hello, Bob!\n",
            "HELLO, FRED\n"
          ]
        }
      ]
    },
    {
      "cell_type": "markdown",
      "source": [
        "# Classes\n",
        "\n",
        "The syntax for defining classes in Python is straightforward:"
      ],
      "metadata": {
        "id": "fvNgMSv3gyWX"
      }
    },
    {
      "cell_type": "code",
      "source": [
        "class Greeter:\n",
        "\n",
        "    # Constructor\n",
        "    def __init__(self, name):\n",
        "        self.name = name  # Create an instance variable\n",
        "\n",
        "    # Instance method\n",
        "    def greet(self, loud=False):\n",
        "        if loud:\n",
        "          print('HELLO, {}'.format(self.name.upper()))\n",
        "        else:\n",
        "          print('Hello, {}!'.format(self.name))\n",
        "\n",
        "g = Greeter('Fred')  # Construct an instance of the Greeter class\n",
        "g.greet()            # Call an instance method; prints \"Hello, Fred\"\n",
        "g.greet(loud=True)   # Call an instance method; prints \"HELLO, FRED!\""
      ],
      "metadata": {
        "id": "Lz3fNOprg2u2",
        "colab": {
          "base_uri": "https://localhost:8080/"
        },
        "outputId": "4f4b6207-b8e1-4483-90c3-007209f30aa7"
      },
      "execution_count": null,
      "outputs": [
        {
          "output_type": "stream",
          "name": "stdout",
          "text": [
            "Hello, Fred!\n",
            "HELLO, FRED\n"
          ]
        }
      ]
    },
    {
      "cell_type": "markdown",
      "source": [
        "# Student Tracker Assignment:\n",
        "\n",
        "Create a simple program that allows a user to track and display student grades. This assignment focuses on the use of lists, dictionaries, and basic class structure."
      ],
      "metadata": {
        "id": "nXHauqhZhMTk"
      }
    },
    {
      "cell_type": "markdown",
      "source": [
        "Define a Student Class:\n",
        "\n",
        "The class should have the following attributes:\n",
        "\n",
        "\n",
        "*   `name` (string): The student's name.\n",
        "*   `grades` (dictionary): A dictionary where the keys are subjects and the values are grades.\n",
        "\n",
        "The class should have methods to:\n",
        "* Add or update a grade for a subject.\n",
        "* Display the student's information, including their grades."
      ],
      "metadata": {
        "id": "bJJBnqCnjZ3K"
      }
    },
    {
      "cell_type": "code",
      "source": [
        "class Student:\n",
        "  #Constructor\n",
        "  def __init__(self, name, grades):\n",
        "    #Creating instance variables\n",
        "    self.name=name\n",
        "    self.grades=grades\n",
        "\n",
        "  #Instance methods\n",
        "  def gradeChange(self, subject, grades):\n",
        "      self.grades[subject] = grades\n",
        "\n",
        "  def studentInfo(self):\n",
        "    print(\"The students name is:\" , self.name , \"and grades are:\" , self.grades)\n",
        "\n",
        "\n",
        "#Testing\n",
        "g = Student(\"Alex\", {'science':85, 'math':91})\n",
        "g.studentInfo()\n",
        "g.gradeChange(\"science\",80)\n",
        "g.studentInfo()\n",
        "g.gradeChange(\"math\",100)\n",
        "g.studentInfo()\n",
        "\n"
      ],
      "metadata": {
        "id": "iBgPkd5ChBhd",
        "colab": {
          "base_uri": "https://localhost:8080/"
        },
        "outputId": "3716c2e9-c52b-4528-9b37-4c0aa2b98407"
      },
      "execution_count": null,
      "outputs": [
        {
          "output_type": "stream",
          "name": "stdout",
          "text": [
            "The students name is: Alex and grades are: {'science': 85, 'math': 91}\n",
            "The students name is: Alex and grades are: {'science': 80, 'math': 91}\n",
            "The students name is: Alex and grades are: {'science': 80, 'math': 100}\n"
          ]
        }
      ]
    },
    {
      "cell_type": "markdown",
      "source": [
        "Create a Function to Manage Students:\n",
        "\n",
        "This function will:\n",
        "1. Create a list of Student objects.\n",
        "2. Add grades for each student.\n",
        "3. Display all students' information.\n"
      ],
      "metadata": {
        "id": "_D8J7bPsj8I7"
      }
    },
    {
      "cell_type": "code",
      "source": [
        "def manage_students():\n",
        "  # Create a list of students\n",
        "  students = [\n",
        "      Student(\"Alex\", {'science': 98, 'math': 100}),\n",
        "      Student(\"Preston\", {'history': 82, 'math': 91}),\n",
        "      Student(\"Vasu\", {'compsci': 85, 'math': 93}),\n",
        "  ]\n",
        "\n",
        "  # Adding grades for students\n",
        "  students[0].gradeChange('science',100)\n",
        "  students[1].gradeChange('math',99)\n",
        "  students[2].gradeChange('science',95)\n",
        "\n",
        "  #loop for each student\n",
        "  for x in students:\n",
        "    x.studentInfo()\n",
        "\n",
        "#Lets it run through main\n",
        "if __name__ == \"__main__\":\n",
        "    manage_students()"
      ],
      "metadata": {
        "id": "agarttRckEIm",
        "colab": {
          "base_uri": "https://localhost:8080/"
        },
        "outputId": "0d969a5b-0eb0-4c44-c91c-8944e14baec0"
      },
      "execution_count": null,
      "outputs": [
        {
          "output_type": "stream",
          "name": "stdout",
          "text": [
            "The students name is: Alex and grades are: {'science': 100, 'math': 100}\n",
            "The students name is: Preston and grades are: {'history': 82, 'math': 99}\n",
            "The students name is: Vasu and grades are: {'compsci': 85, 'math': 93, 'science': 95}\n"
          ]
        }
      ]
    },
    {
      "cell_type": "markdown",
      "source": [
        "Implement the Main Program:\n",
        "\n",
        "Call the `manage_students` function to run the program."
      ],
      "metadata": {
        "id": "pVb4VsChkPEn"
      }
    },
    {
      "cell_type": "code",
      "source": [
        "if __name__ == \"__main__\":\n",
        "    manage_students()"
      ],
      "metadata": {
        "id": "8BirUnrPkUlN",
        "colab": {
          "base_uri": "https://localhost:8080/"
        },
        "outputId": "a0c5ea21-4a2a-4e42-d487-af16f22dbff4"
      },
      "execution_count": null,
      "outputs": [
        {
          "output_type": "stream",
          "name": "stdout",
          "text": [
            "The students name is: Alex and grades are: {'science': 100, 'math': 100}\n",
            "The students name is: Preston and grades are: {'history': 82, 'math': 99}\n",
            "The students name is: Vasu and grades are: {'compsci': 85, 'math': 93, 'science': 95}\n"
          ]
        }
      ]
    }
  ]
}
